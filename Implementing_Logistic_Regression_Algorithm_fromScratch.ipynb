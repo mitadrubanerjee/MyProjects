{
  "nbformat": 4,
  "nbformat_minor": 0,
  "metadata": {
    "colab": {
      "name": "Implementing_Logistic_Regression_Algorithm_fromScratch.ipynb",
      "provenance": [],
      "collapsed_sections": [],
      "include_colab_link": true
    },
    "kernelspec": {
      "name": "python3",
      "display_name": "Python 3"
    },
    "language_info": {
      "name": "python"
    }
  },
  "cells": [
    {
      "cell_type": "markdown",
      "metadata": {
        "id": "view-in-github",
        "colab_type": "text"
      },
      "source": [
        "<a href=\"https://colab.research.google.com/github/mitadrubanerjee/MyProjects/blob/main/Implementing_Logistic_Regression_Algorithm_fromScratch.ipynb\" target=\"_parent\"><img src=\"https://colab.research.google.com/assets/colab-badge.svg\" alt=\"Open In Colab\"/></a>"
      ]
    },
    {
      "cell_type": "markdown",
      "metadata": {
        "id": "tOC3mcIPJjSb"
      },
      "source": [
        "**Implementing a Logistic Regression Classifier to predict Wildfires**\n",
        "\n",
        "In the code below I have implemented a Logistic Regression Algorithm from scrath. I have used the Logistic Regression from sklearn, as a benchmark against my algorithm . \n",
        "I have used the Wildfires data set , to predict the outcomes. \n",
        "\n",
        "I have developed using Google Collab, so to run it, the data set has to be loaded into the Collab workspace. \n",
        "\n",
        "The steps followed have been listed below:\n",
        "\n",
        "1)Loading the necesssary packages. \n",
        "\n",
        "2)Loading the data set.\n",
        "\n",
        "3)Cleaning the data , converting to arrays to make it fit for the algorithm.\n",
        "\n",
        "4)Defining the individual functions. \n",
        "\n",
        "5)Calling the predict function to run through the Logistic Regression functions.\n",
        "\n",
        "6)Running confusion matrix and accuracy chekcs to test the accuracy of the algo. \n",
        "\n",
        "7)Running the pre-defined Logistic Regression from sklearn to compare against the algoritrthm."
      ]
    },
    {
      "cell_type": "code",
      "metadata": {
        "id": "meXdYgOvzfJi"
      },
      "source": [
        "#Loading the necessary libraries required to run the algorithm:\n",
        "\n",
        "#Loading pandas to read the csv file and manipulate the data.\n",
        "import pandas as pd\n",
        "#Loading numpy to convert the pandas data into arrays. \n",
        "import numpy as np\n",
        "#Loading sklearn to import the Logistic Regression function to benchmark against the created algorithm.\n",
        "from sklearn import linear_model\n",
        "#Loading matplotlib to plot the cost function and logistic regression. \n",
        "import matplotlib.pyplot as plt\n",
        "#Loading seaborn to plot the heatmap of the Logistic Predictor\n",
        "import seaborn as sns\n"
      ],
      "execution_count": null,
      "outputs": []
    },
    {
      "cell_type": "code",
      "metadata": {
        "colab": {
          "base_uri": "https://localhost:8080/",
          "height": 357
        },
        "id": "JyV_xkkBJh3W",
        "outputId": "d176524b-b826-41a6-cc5e-f0b299333452"
      },
      "source": [
        "#Loading Wildfire Data Set; and saving it in the pandas data frame, 'wildfire'. \n",
        "wildfire = pd.read_csv(\"Wild_Fire_DataSet.csv\")\n",
        "#Checking if the pandas data frame has been loaded properly. \n",
        "wildfire.head(10)"
      ],
      "execution_count": null,
      "outputs": [
        {
          "output_type": "execute_result",
          "data": {
            "text/html": [
              "<div>\n",
              "<style scoped>\n",
              "    .dataframe tbody tr th:only-of-type {\n",
              "        vertical-align: middle;\n",
              "    }\n",
              "\n",
              "    .dataframe tbody tr th {\n",
              "        vertical-align: top;\n",
              "    }\n",
              "\n",
              "    .dataframe thead th {\n",
              "        text-align: right;\n",
              "    }\n",
              "</style>\n",
              "<table border=\"1\" class=\"dataframe\">\n",
              "  <thead>\n",
              "    <tr style=\"text-align: right;\">\n",
              "      <th></th>\n",
              "      <th>yes</th>\n",
              "      <th>year</th>\n",
              "      <th>temp</th>\n",
              "      <th>humidity</th>\n",
              "      <th>rainfall</th>\n",
              "      <th>drought_code</th>\n",
              "      <th>buildup_index</th>\n",
              "      <th>day</th>\n",
              "      <th>month</th>\n",
              "      <th>wind_speed</th>\n",
              "    </tr>\n",
              "  </thead>\n",
              "  <tbody>\n",
              "    <tr>\n",
              "      <th>0</th>\n",
              "      <td>no</td>\n",
              "      <td>2015</td>\n",
              "      <td>28</td>\n",
              "      <td>59</td>\n",
              "      <td>0.0</td>\n",
              "      <td>8.06</td>\n",
              "      <td>3.47</td>\n",
              "      <td>1</td>\n",
              "      <td>6</td>\n",
              "      <td>19</td>\n",
              "    </tr>\n",
              "    <tr>\n",
              "      <th>1</th>\n",
              "      <td>no</td>\n",
              "      <td>2010</td>\n",
              "      <td>30</td>\n",
              "      <td>61</td>\n",
              "      <td>1.3</td>\n",
              "      <td>8.17</td>\n",
              "      <td>4.03</td>\n",
              "      <td>2</td>\n",
              "      <td>6</td>\n",
              "      <td>13</td>\n",
              "    </tr>\n",
              "    <tr>\n",
              "      <th>2</th>\n",
              "      <td>no</td>\n",
              "      <td>2009</td>\n",
              "      <td>26</td>\n",
              "      <td>83</td>\n",
              "      <td>13.1</td>\n",
              "      <td>8.08</td>\n",
              "      <td>3.59</td>\n",
              "      <td>3</td>\n",
              "      <td>6</td>\n",
              "      <td>22</td>\n",
              "    </tr>\n",
              "    <tr>\n",
              "      <th>3</th>\n",
              "      <td>no</td>\n",
              "      <td>2017</td>\n",
              "      <td>25</td>\n",
              "      <td>87</td>\n",
              "      <td>2.5</td>\n",
              "      <td>7.18</td>\n",
              "      <td>2.42</td>\n",
              "      <td>4</td>\n",
              "      <td>6</td>\n",
              "      <td>15</td>\n",
              "    </tr>\n",
              "    <tr>\n",
              "      <th>4</th>\n",
              "      <td>no</td>\n",
              "      <td>2014</td>\n",
              "      <td>28</td>\n",
              "      <td>77</td>\n",
              "      <td>0.0</td>\n",
              "      <td>14.98</td>\n",
              "      <td>4.63</td>\n",
              "      <td>5</td>\n",
              "      <td>6</td>\n",
              "      <td>18</td>\n",
              "    </tr>\n",
              "    <tr>\n",
              "      <th>5</th>\n",
              "      <td>yes</td>\n",
              "      <td>2008</td>\n",
              "      <td>30</td>\n",
              "      <td>67</td>\n",
              "      <td>0.0</td>\n",
              "      <td>22.71</td>\n",
              "      <td>7.97</td>\n",
              "      <td>6</td>\n",
              "      <td>6</td>\n",
              "      <td>14</td>\n",
              "    </tr>\n",
              "    <tr>\n",
              "      <th>6</th>\n",
              "      <td>yes</td>\n",
              "      <td>2013</td>\n",
              "      <td>32</td>\n",
              "      <td>52</td>\n",
              "      <td>0.0</td>\n",
              "      <td>30.98</td>\n",
              "      <td>11.86</td>\n",
              "      <td>7</td>\n",
              "      <td>6</td>\n",
              "      <td>14</td>\n",
              "    </tr>\n",
              "    <tr>\n",
              "      <th>7</th>\n",
              "      <td>yes</td>\n",
              "      <td>2009</td>\n",
              "      <td>29</td>\n",
              "      <td>72</td>\n",
              "      <td>0.0</td>\n",
              "      <td>38.66</td>\n",
              "      <td>14.31</td>\n",
              "      <td>8</td>\n",
              "      <td>6</td>\n",
              "      <td>17</td>\n",
              "    </tr>\n",
              "    <tr>\n",
              "      <th>8</th>\n",
              "      <td>no</td>\n",
              "      <td>2014</td>\n",
              "      <td>26</td>\n",
              "      <td>89</td>\n",
              "      <td>0.2</td>\n",
              "      <td>39.62</td>\n",
              "      <td>10.76</td>\n",
              "      <td>9</td>\n",
              "      <td>6</td>\n",
              "      <td>15</td>\n",
              "    </tr>\n",
              "    <tr>\n",
              "      <th>9</th>\n",
              "      <td>no</td>\n",
              "      <td>2007</td>\n",
              "      <td>28</td>\n",
              "      <td>77</td>\n",
              "      <td>0.0</td>\n",
              "      <td>46.44</td>\n",
              "      <td>13.14</td>\n",
              "      <td>10</td>\n",
              "      <td>6</td>\n",
              "      <td>13</td>\n",
              "    </tr>\n",
              "  </tbody>\n",
              "</table>\n",
              "</div>"
            ],
            "text/plain": [
              "   yes  year  temp  humidity  ...  buildup_index  day  month  wind_speed\n",
              "0   no  2015    28        59  ...           3.47    1      6          19\n",
              "1   no  2010    30        61  ...           4.03    2      6          13\n",
              "2   no  2009    26        83  ...           3.59    3      6          22\n",
              "3   no  2017    25        87  ...           2.42    4      6          15\n",
              "4   no  2014    28        77  ...           4.63    5      6          18\n",
              "5  yes  2008    30        67  ...           7.97    6      6          14\n",
              "6  yes  2013    32        52  ...          11.86    7      6          14\n",
              "7  yes  2009    29        72  ...          14.31    8      6          17\n",
              "8   no  2014    26        89  ...          10.76    9      6          15\n",
              "9   no  2007    28        77  ...          13.14   10      6          13\n",
              "\n",
              "[10 rows x 10 columns]"
            ]
          },
          "metadata": {},
          "execution_count": 2
        }
      ]
    },
    {
      "cell_type": "code",
      "metadata": {
        "colab": {
          "base_uri": "https://localhost:8080/",
          "height": 357
        },
        "id": "1WR8RetFJcrZ",
        "outputId": "85b4120a-72b9-4f7d-b951-fa61f34391fc"
      },
      "source": [
        "#As we can see from the loaded data, the column,'yes' has data in terms of 'yes' and 'no'; \n",
        "#so its necessary to convert that into 1 & 0.\n",
        "#The provided data has the first column named as 'yes', so I have maintained that throughout the code.\n",
        "#Converting the 'yes','no' to 1 and 0; by using a lambda function over the entire column of the data set. \n",
        "wildfire['yes'] = wildfire['yes'].map(lambda x: 1 if x == 'yes' else 0) \n",
        "#Checking the top 10 values of the updated data set. \n",
        "wildfire.head(10)"
      ],
      "execution_count": null,
      "outputs": [
        {
          "output_type": "execute_result",
          "data": {
            "text/html": [
              "<div>\n",
              "<style scoped>\n",
              "    .dataframe tbody tr th:only-of-type {\n",
              "        vertical-align: middle;\n",
              "    }\n",
              "\n",
              "    .dataframe tbody tr th {\n",
              "        vertical-align: top;\n",
              "    }\n",
              "\n",
              "    .dataframe thead th {\n",
              "        text-align: right;\n",
              "    }\n",
              "</style>\n",
              "<table border=\"1\" class=\"dataframe\">\n",
              "  <thead>\n",
              "    <tr style=\"text-align: right;\">\n",
              "      <th></th>\n",
              "      <th>yes</th>\n",
              "      <th>year</th>\n",
              "      <th>temp</th>\n",
              "      <th>humidity</th>\n",
              "      <th>rainfall</th>\n",
              "      <th>drought_code</th>\n",
              "      <th>buildup_index</th>\n",
              "      <th>day</th>\n",
              "      <th>month</th>\n",
              "      <th>wind_speed</th>\n",
              "    </tr>\n",
              "  </thead>\n",
              "  <tbody>\n",
              "    <tr>\n",
              "      <th>0</th>\n",
              "      <td>0</td>\n",
              "      <td>2015</td>\n",
              "      <td>28</td>\n",
              "      <td>59</td>\n",
              "      <td>0.0</td>\n",
              "      <td>8.06</td>\n",
              "      <td>3.47</td>\n",
              "      <td>1</td>\n",
              "      <td>6</td>\n",
              "      <td>19</td>\n",
              "    </tr>\n",
              "    <tr>\n",
              "      <th>1</th>\n",
              "      <td>0</td>\n",
              "      <td>2010</td>\n",
              "      <td>30</td>\n",
              "      <td>61</td>\n",
              "      <td>1.3</td>\n",
              "      <td>8.17</td>\n",
              "      <td>4.03</td>\n",
              "      <td>2</td>\n",
              "      <td>6</td>\n",
              "      <td>13</td>\n",
              "    </tr>\n",
              "    <tr>\n",
              "      <th>2</th>\n",
              "      <td>0</td>\n",
              "      <td>2009</td>\n",
              "      <td>26</td>\n",
              "      <td>83</td>\n",
              "      <td>13.1</td>\n",
              "      <td>8.08</td>\n",
              "      <td>3.59</td>\n",
              "      <td>3</td>\n",
              "      <td>6</td>\n",
              "      <td>22</td>\n",
              "    </tr>\n",
              "    <tr>\n",
              "      <th>3</th>\n",
              "      <td>0</td>\n",
              "      <td>2017</td>\n",
              "      <td>25</td>\n",
              "      <td>87</td>\n",
              "      <td>2.5</td>\n",
              "      <td>7.18</td>\n",
              "      <td>2.42</td>\n",
              "      <td>4</td>\n",
              "      <td>6</td>\n",
              "      <td>15</td>\n",
              "    </tr>\n",
              "    <tr>\n",
              "      <th>4</th>\n",
              "      <td>0</td>\n",
              "      <td>2014</td>\n",
              "      <td>28</td>\n",
              "      <td>77</td>\n",
              "      <td>0.0</td>\n",
              "      <td>14.98</td>\n",
              "      <td>4.63</td>\n",
              "      <td>5</td>\n",
              "      <td>6</td>\n",
              "      <td>18</td>\n",
              "    </tr>\n",
              "    <tr>\n",
              "      <th>5</th>\n",
              "      <td>1</td>\n",
              "      <td>2008</td>\n",
              "      <td>30</td>\n",
              "      <td>67</td>\n",
              "      <td>0.0</td>\n",
              "      <td>22.71</td>\n",
              "      <td>7.97</td>\n",
              "      <td>6</td>\n",
              "      <td>6</td>\n",
              "      <td>14</td>\n",
              "    </tr>\n",
              "    <tr>\n",
              "      <th>6</th>\n",
              "      <td>1</td>\n",
              "      <td>2013</td>\n",
              "      <td>32</td>\n",
              "      <td>52</td>\n",
              "      <td>0.0</td>\n",
              "      <td>30.98</td>\n",
              "      <td>11.86</td>\n",
              "      <td>7</td>\n",
              "      <td>6</td>\n",
              "      <td>14</td>\n",
              "    </tr>\n",
              "    <tr>\n",
              "      <th>7</th>\n",
              "      <td>1</td>\n",
              "      <td>2009</td>\n",
              "      <td>29</td>\n",
              "      <td>72</td>\n",
              "      <td>0.0</td>\n",
              "      <td>38.66</td>\n",
              "      <td>14.31</td>\n",
              "      <td>8</td>\n",
              "      <td>6</td>\n",
              "      <td>17</td>\n",
              "    </tr>\n",
              "    <tr>\n",
              "      <th>8</th>\n",
              "      <td>0</td>\n",
              "      <td>2014</td>\n",
              "      <td>26</td>\n",
              "      <td>89</td>\n",
              "      <td>0.2</td>\n",
              "      <td>39.62</td>\n",
              "      <td>10.76</td>\n",
              "      <td>9</td>\n",
              "      <td>6</td>\n",
              "      <td>15</td>\n",
              "    </tr>\n",
              "    <tr>\n",
              "      <th>9</th>\n",
              "      <td>0</td>\n",
              "      <td>2007</td>\n",
              "      <td>28</td>\n",
              "      <td>77</td>\n",
              "      <td>0.0</td>\n",
              "      <td>46.44</td>\n",
              "      <td>13.14</td>\n",
              "      <td>10</td>\n",
              "      <td>6</td>\n",
              "      <td>13</td>\n",
              "    </tr>\n",
              "  </tbody>\n",
              "</table>\n",
              "</div>"
            ],
            "text/plain": [
              "   yes  year  temp  humidity  ...  buildup_index  day  month  wind_speed\n",
              "0    0  2015    28        59  ...           3.47    1      6          19\n",
              "1    0  2010    30        61  ...           4.03    2      6          13\n",
              "2    0  2009    26        83  ...           3.59    3      6          22\n",
              "3    0  2017    25        87  ...           2.42    4      6          15\n",
              "4    0  2014    28        77  ...           4.63    5      6          18\n",
              "5    1  2008    30        67  ...           7.97    6      6          14\n",
              "6    1  2013    32        52  ...          11.86    7      6          14\n",
              "7    1  2009    29        72  ...          14.31    8      6          17\n",
              "8    0  2014    26        89  ...          10.76    9      6          15\n",
              "9    0  2007    28        77  ...          13.14   10      6          13\n",
              "\n",
              "[10 rows x 10 columns]"
            ]
          },
          "metadata": {},
          "execution_count": 3
        }
      ]
    },
    {
      "cell_type": "code",
      "metadata": {
        "colab": {
          "base_uri": "https://localhost:8080/"
        },
        "id": "YPOXsLkdKApa",
        "outputId": "380f95bf-bd35-4d40-f0ce-408d11d8ff7a"
      },
      "source": [
        "#Isolating the dependent(target variables) and independent variabales (independent_features) from the data set. \n",
        "\n",
        "#In the below code I have isolated the target variable('yes/no') from the features to be used for prediction. \n",
        "#I will be storing the features used to make predictions in the X\n",
        "independent_feature = ['year', 'temp', 'humidity', 'drought_code', 'buildup_index', 'day', 'month', 'wind_speed']\n",
        "X = wildfire[independent_feature]\n",
        "#The isolated data (X), will be used as the features to be used for predicting. \n",
        "X\n",
        "#Isolating the target values and storing them in y. The data in y, will be used as the lables in the prediction algo. \n",
        "y = wildfire['yes']\n",
        "\n",
        "#Printing to check if the data has been partitioned corrctly or not:\n",
        "print(X)\n",
        "print(y)"
      ],
      "execution_count": null,
      "outputs": [
        {
          "output_type": "stream",
          "name": "stdout",
          "text": [
            "     year  temp  humidity  drought_code  buildup_index  day  month  wind_speed\n",
            "0    2015    28        59          8.06           3.47    1      6          19\n",
            "1    2010    30        61          8.17           4.03    2      6          13\n",
            "2    2009    26        83          8.08           3.59    3      6          22\n",
            "3    2017    25        87          7.18           2.42    4      6          15\n",
            "4    2014    28        77         14.98           4.63    5      6          18\n",
            "..    ...   ...       ...           ...            ...  ...    ...         ...\n",
            "199  2017    31        67         45.15          17.89   26      9          15\n",
            "200  2017    29        89          8.74           6.52   27      9          15\n",
            "201  2009    27        88          8.87           3.71   28      9          30\n",
            "202  2016    25        56         15.54           6.10   29      9          20\n",
            "203  2012    24        62         16.72           5.75   30      9          17\n",
            "\n",
            "[204 rows x 8 columns]\n",
            "0      0\n",
            "1      0\n",
            "2      0\n",
            "3      0\n",
            "4      0\n",
            "      ..\n",
            "199    1\n",
            "200    0\n",
            "201    0\n",
            "202    0\n",
            "203    0\n",
            "Name: yes, Length: 204, dtype: int64\n"
          ]
        }
      ]
    },
    {
      "cell_type": "code",
      "metadata": {
        "colab": {
          "base_uri": "https://localhost:8080/"
        },
        "id": "YljC1LMvJc_S",
        "outputId": "4ae0ce65-f2de-4ba5-a6d3-dd6f9ce44f08"
      },
      "source": [
        "#Checking the shapes of the data set and fixing the shapes:\n",
        "print(\"Shape of X:\",X.shape)\n",
        "print(\"Shape of Y:\",y.shape)\n",
        "#Reshaping the target attribute:\n",
        "#y=y.values.reshape(y.shape[0],1)\n",
        "#Reprinting the shapes of data sets:\n",
        "print(\"Shape of X:\",X.shape)\n",
        "print(\"Shape of Y:\",y.shape)"
      ],
      "execution_count": null,
      "outputs": [
        {
          "output_type": "stream",
          "name": "stdout",
          "text": [
            "Shape of X: (204, 8)\n",
            "Shape of Y: (204,)\n",
            "Shape of X: (204, 8)\n",
            "Shape of Y: (204,)\n"
          ]
        }
      ]
    },
    {
      "cell_type": "code",
      "metadata": {
        "colab": {
          "base_uri": "https://localhost:8080/"
        },
        "id": "CoCqCu2NKXWr",
        "outputId": "cd9a8745-7b58-45d8-e34b-b04f84b9690c"
      },
      "source": [
        "#splitting X and y into training and testing sets. \n",
        "#The data in X,y will be split using the train_test_split method of the sklearn.model_selection package. \n",
        "\n",
        "#As per the request in the assignment, I have split the data in train:test = 0.67:0.33 ratio. \n",
        "#In the below code I have selected the test_size as 0.33, for that reason. \n",
        "\n",
        "#!pip install sklearn\n",
        "from sklearn.model_selection import train_test_split\n",
        "X_train,X_test,Y_train,Y_test=train_test_split(X,y,test_size=0.33,random_state=0,shuffle=True,stratify=None)\n",
        "\n",
        "print(X_train)\n",
        "print(Y_train)\n",
        "print(X_test)\n",
        "print(Y_test)"
      ],
      "execution_count": null,
      "outputs": [
        {
          "output_type": "stream",
          "name": "stdout",
          "text": [
            "     year  temp  humidity  drought_code  buildup_index  day  month  wind_speed\n",
            "164  2008    36        53        128.08          46.25   22      8          16\n",
            "51   2017    33        64         94.81          27.97   14      8          16\n",
            "185  2016    31        70         25.72           9.58   12      9          14\n",
            "190  2008    35        43         64.07          27.11   17      9          12\n",
            "92   2017    30        64         15.38           6.24   24      9          19\n",
            "..    ...   ...       ...           ...            ...  ...    ...         ...\n",
            "67   2013    35        70        181.14          37.76   30      8          19\n",
            "192  2009    29        43         86.71          28.93   19      9          10\n",
            "117  2015    33        68          9.12           5.09   19      6          16\n",
            "47   2011    36        54         67.91          22.61   10      8          14\n",
            "172  2013    35        47        159.81          36.57   30      8          17\n",
            "\n",
            "[136 rows x 8 columns]\n",
            "164    1\n",
            "51     1\n",
            "185    1\n",
            "190    1\n",
            "92     0\n",
            "      ..\n",
            "67     0\n",
            "192    1\n",
            "117    0\n",
            "47     1\n",
            "172    1\n",
            "Name: yes, Length: 136, dtype: int64\n",
            "     year  temp  humidity  drought_code  buildup_index  day  month  wind_speed\n",
            "18   2015    30        56         16.90           5.94   19      6          16\n",
            "45   2016    28        77         25.90           8.83   16      7          23\n",
            "33   2015    33        78         19.46           6.40    4      7          18\n",
            "37   2007    33        69         50.56          15.43    8      7          20\n",
            "109  2009    32        44         30.63          18.89   11      6          23\n",
            "..    ...   ...       ...           ...            ...  ...    ...         ...\n",
            "83   2013    24        80          7.70           1.58   15      9          15\n",
            "19   2008    29        80         27.73           5.38   20      6          16\n",
            "154  2016    38        21         41.58          18.85   12      8          17\n",
            "107  2016    27        61         15.14           8.55    9      6          19\n",
            "54   2010    36        52        101.16          23.44   17      8          20\n",
            "\n",
            "[68 rows x 8 columns]\n",
            "18     0\n",
            "45     0\n",
            "33     0\n",
            "37     1\n",
            "109    1\n",
            "      ..\n",
            "83     0\n",
            "19     0\n",
            "154    1\n",
            "107    0\n",
            "54     1\n",
            "Name: yes, Length: 68, dtype: int64\n"
          ]
        }
      ]
    },
    {
      "cell_type": "markdown",
      "metadata": {
        "id": "_FmH2fXbPwjv"
      },
      "source": [
        "**The code upto this point has:**\n",
        "\n",
        "1)Loaded the data.\n",
        "\n",
        "2)Isolated the training and tests sets.\n",
        "\n",
        "3)The data as of now is: X_train, X_test, y_train, y_test "
      ]
    },
    {
      "cell_type": "markdown",
      "metadata": {
        "id": "SXo5G73p6EKV"
      },
      "source": [
        "**Logistic Regression**\n",
        "\n",
        "Linear Regression provides a model for relationship between magnitude of a target variable against the change in the predictor variable. The goal of Linear Regression is to find the equation that best describes (y) in terms of the attributes (x). Traditionally the equation can be represented as, y=mx+c; where c=intercept, x=input, m=slope of the line (regression co-efficient). At c=0 (no intercept), the equation can be re-written as y=mx.  Thus, the goal of regression is to find a hypothesis that best describes the relation between predictor variables and its associated weights. The Linear Regression equation can be rewritten in terms of the hypothesis. Hypothesis (h) can be represented as a function of the (theta) values and the individual input. \n",
        "The Hypothesis can be represented as:  h=θ.X ; The equation represents the θ, which is the weight associated with the attribute. The objective is to find the θ value for which the mean squared error between the predicted values and the actual target values is the least. If any attribute has an associated weight of 0 (θ=0), in that case that particular attribute has no impact on the hypothesis.\n",
        "\n",
        "The hypothesis might not always predict the target values exactly, the difference between the two is calculated using the Root Mean Square error. This difference is represented using the Cost Function. The final goal is to reduce the cost function so that the difference bewteen the actual and predicted values is as low as possible. We use the gradient descent function to calculate the least possible value of the cost function. The Linear Regression algorithm predicts a specific quantity, but by using a soft threshold (50%) we can convert the equatioon into a Logistic Regression Classfier. Logitic Regression can predict values when convert the target values in terms of 0/1. In the provided data set; the occurences of fire has been represented as either ‘yes’ or ‘no’. I will be converting this value into 0 (for no) and 1 (for yes).  The Logistic Regression Classifier uses a sigmoid function, (it cosolidates the data between intervals of 0 and 1), to formulate a hypothesis. The hypothesis essentially fits the data and gives the probability of occurences between 0 and 1.\n",
        "The steps to be followed to formulate a Logistic Regression Classifier in Python:\n",
        "•\tConvert all the target values to 0/1. \n",
        "\n",
        "•\tFormulate the hypothesis using a sigmoid function which returns values between 0 and 1.\n",
        "\n",
        "•\tCreate a function to calculate the cost at each step, to understand the difference between the actual and predicted values. \n",
        "\n",
        "•\tI will be using the Gradient Descent function to update the theta values with respect to the randomly initialized values. The theta values will be updated at each iteration.\n",
        "\n",
        "•\tI will create the function logistic_model, to call each of the functions declared above and return the cost, predicted results, hypothesis and accuracy. \n"
      ]
    },
    {
      "cell_type": "markdown",
      "metadata": {
        "id": "AbpVVynL6anW"
      },
      "source": [
        "The following code will now be diverged into 3 parts:\n",
        "\n",
        "A) User-Defined Logistic Regression Algorithm with its accuracy calculator.\n",
        "\n",
        "B) Logistic Regression called from sklearn as a benchmark to the User-Defined Algorithm.\n",
        "\n",
        "C)Comapring the ROC_AUC score of the User Defined Logistic Regression algorithm against the Reference Logistic Regression algorithm."
      ]
    },
    {
      "cell_type": "code",
      "metadata": {
        "id": "x5aDS01Rz12q"
      },
      "source": [
        "#A)1)\n",
        "#Below is the code for User Defined Logistic Regression Function:\n",
        "\n",
        "#The below code is divided into 4 functions: \n",
        "\n",
        "#1)hypothesis-To calculate the hypothesis.\n",
        "#2)cost-To calculte the cost function of the hypothesis. \n",
        "#3)gradient descent-To calculate the minimum value of the cost function, using the gradient descent function. \n",
        "#4)logistic_model-To formulate the logistic regression algorithm. \n",
        "\n",
        "\n",
        "#The function 'hypothesis', determines the hyposthesis over the data set. \n",
        "\n",
        "#This function finds out the relation-> hypothesis = (theta)*(X); \n",
        "# X->Input value; hypothesis->Predicted outcome; theta-> weight associated with the variable (X)\n",
        "#The theta value has been initialized to a value close to 0, to avoid getting a 0 value from start. \n",
        "\n",
        "def hypothesis(X, theta):\n",
        "    #Calcultaing the dot product of the theta and the Input feature values. \n",
        "    z = np.dot(theta, X.T)\n",
        "    #The below code is used to return the sigmoid function to predict the results. \n",
        "    #The 0.0001 value has been deducted to avoid the scenario, where (log 1 might become zero in the cost function)\n",
        "    return 1/(1+np.exp(-(z))) - 0.0001\n",
        "\n",
        "#This function calculates the cost function of the hypothesis. \n",
        "#The function makes a call to the 'hypothesis' function and calculates its cost on the returned value. \n",
        "\n",
        "def cost_function(X, y, theta):\n",
        "    y1 = hypothesis(X, theta)\n",
        "    #The below code returns the cost function (J) to the calling function. \n",
        "    return -(1/len(X)) * np.sum(y*np.log(y1) + (1-y)*np.log(1-y1))\n",
        "\n",
        "#This function calculates the gradient descent of the cost function.\n",
        "#The function returns the cost and the updated theta values. \n",
        "def gradient_descent(X, y, theta, alpha, epochs):\n",
        "    m =len(X)\n",
        "    J = [cost_function(X, y, theta)] \n",
        "    #For loop to update the theta values. \n",
        "    for i in range(0, epochs):\n",
        "        h = hypothesis(X, theta)\n",
        "        for i in range(0, len(X.columns)):\n",
        "            theta[i] -= (alpha/m) * np.sum((h-y)*X.iloc[:, i])\n",
        "        J.append(cost_function(X, y, theta))\n",
        "    return J, theta\n",
        "\n",
        "#This function fits the data in the logistic regression model. \n",
        "\n",
        "def logistic_model(X, y, theta, alpha, epochs):\n",
        "    #The below code calls the gradient descent function.\n",
        "    L, th = gradient_descent(X, y, theta, alpha, epochs) \n",
        "    #The below code calls the hypothesis function to formulate the hypothesis. \n",
        "    h = hypothesis(X, theta)\n",
        "    for i in range(len(h)):\n",
        "        h[i]=1 if h[i]>=0.5 else 0\n",
        "    y = list(y)\n",
        "    #Calculating the accuracy of the classifier\n",
        "    accuracy = np.sum([y[i] == h[i] for i in range(len(y))])/len(y)\n",
        "    #Returning the cost, accuracy, hypothesis and predicted values. \n",
        "    return L, accuracy, h, y"
      ],
      "execution_count": null,
      "outputs": []
    },
    {
      "cell_type": "code",
      "metadata": {
        "id": "PBwCtrmS1QsL"
      },
      "source": [
        "#A)2)\n",
        "#Training the logistic regression model using the training data sets(X_train, Y_train):\n",
        "#Initializing the theta values to a value close to 0. \n",
        "#theta = [0.00005]*len(X.columns)\n",
        "theta = 0.00005\n",
        "#Storing the values being returned by the logistic_model function \n",
        "#Setting the learning rate at=0.00001; iterations at 30000, as its the best setting to get the optimum results. \n",
        "cost_logit, accuracy_logit, hyp, result= logistic_model(X_train, Y_train, theta, 0.00001, 30000)"
      ],
      "execution_count": null,
      "outputs": []
    },
    {
      "cell_type": "code",
      "metadata": {
        "colab": {
          "base_uri": "https://localhost:8080/"
        },
        "id": "Fb9iPCau3tHw",
        "outputId": "b43c23f4-a05a-4a76-fa79-4995e6fb2cd2"
      },
      "source": [
        "#A)3)\n",
        "#Testing the logistic regression model, using the test data set(X_test, Y_test)\n",
        "theta = [0.0005]*len(X.columns)\n",
        "#Calling the logistic regression model and storing the returned values. \n",
        "cost_logit, accuracy_logit, hyp, result= logistic_model(X_test, Y_test, theta, 0.0001, 30000)\n",
        "#Printing the accuracy of the classifier. \n",
        "Accuracy_Score_Logit=accuracy_score(Y_test, result)\n",
        "print(\"The accuracy of the Logistic Regression Classifier is\",(Accuracy_Score_Logit*100))"
      ],
      "execution_count": null,
      "outputs": [
        {
          "output_type": "stream",
          "name": "stderr",
          "text": [
            "/usr/local/lib/python3.7/dist-packages/ipykernel_launcher.py:31: RuntimeWarning: invalid value encountered in log\n"
          ]
        },
        {
          "output_type": "stream",
          "name": "stdout",
          "text": [
            "The accuracy of the Logistic Regression Classifier is 100.0\n"
          ]
        }
      ]
    },
    {
      "cell_type": "code",
      "metadata": {
        "colab": {
          "base_uri": "https://localhost:8080/",
          "height": 282
        },
        "id": "Cfi1qJ_Zz224",
        "outputId": "3215d62c-0bcd-421f-c250-a7974c1b28d2"
      },
      "source": [
        "#A)4)Plotting the cost of the algorithm\n",
        "plt.plot(cost_logit)"
      ],
      "execution_count": null,
      "outputs": [
        {
          "output_type": "execute_result",
          "data": {
            "text/plain": [
              "[<matplotlib.lines.Line2D at 0x7feb2ebee290>]"
            ]
          },
          "metadata": {},
          "execution_count": 11
        },
        {
          "output_type": "display_data",
          "data": {
            "image/png": "[encoded data removed]",
            "text/plain": [
              "<Figure size 432x288 with 1 Axes>"
            ]
          },
          "metadata": {
            "needs_background": "light"
          }
        }
      ]
    },
    {
      "cell_type": "code",
      "metadata": {
        "colab": {
          "base_uri": "https://localhost:8080/",
          "height": 282
        },
        "id": "e8Zggs274pw-",
        "outputId": "587aa8cc-ae83-443d-93ef-65951a90831a"
      },
      "source": [
        "#A)5)Plotting the predicted values against the test values\n",
        "plt.plot(Y_test,result)"
      ],
      "execution_count": null,
      "outputs": [
        {
          "output_type": "execute_result",
          "data": {
            "text/plain": [
              "[<matplotlib.lines.Line2D at 0x7f1abe3de750>]"
            ]
          },
          "metadata": {},
          "execution_count": 10
        },
        {
          "output_type": "display_data",
          "data": {
            "image/png": "[encoded data removed]",
            "text/plain": [
              "<Figure size 432x288 with 1 Axes>"
            ]
          },
          "metadata": {
            "needs_background": "light"
          }
        }
      ]
    },
    {
      "cell_type": "code",
      "metadata": {
        "colab": {
          "base_uri": "https://localhost:8080/"
        },
        "id": "PSw-0I3vXmm7",
        "outputId": "21f2c678-33d0-45a2-ca45-351619d0c20b"
      },
      "source": [
        "#A)6)\n",
        "#Printing the confusion matrix and classification report to evaluate the user defined classifier:\n",
        "#Importing the confusion matrix and classification report from sklearn.metrics to evaluate the results. \n",
        "from sklearn.metrics import confusion_matrix\n",
        "from sklearn.metrics import classification_report\n",
        "#Printing the results of the evaluating the classfier.\n",
        "cm_user=confusion_matrix(result,Y_test)\n",
        "print(confusion_matrix(result,Y_test))\n",
        "print(classification_report(result,Y_test))"
      ],
      "execution_count": null,
      "outputs": [
        {
          "output_type": "stream",
          "name": "stdout",
          "text": [
            "[[30  0]\n",
            " [ 0 38]]\n",
            "              precision    recall  f1-score   support\n",
            "\n",
            "           0       1.00      1.00      1.00        30\n",
            "           1       1.00      1.00      1.00        38\n",
            "\n",
            "    accuracy                           1.00        68\n",
            "   macro avg       1.00      1.00      1.00        68\n",
            "weighted avg       1.00      1.00      1.00        68\n",
            "\n"
          ]
        }
      ]
    },
    {
      "cell_type": "code",
      "metadata": {
        "colab": {
          "base_uri": "https://localhost:8080/",
          "height": 526
        },
        "id": "T54sWl28Etir",
        "outputId": "e6c2084f-137d-49a4-c7de-ec42bd458ebd"
      },
      "source": [
        "#A)7)\n",
        "#The below code is to create a heat map of the confusion matrix of the obtained results, detailing the (Actual/Predicted Scores)\n",
        "#I have used seaborn to plot the matrix. \n",
        "plt.figure(figsize=(9,9))\n",
        "sns.heatmap(cm_user, annot=True, fmt=\".3f\", linewidths=.5, square = True, cmap = 'Blues_r');\n",
        "plt.ylabel('Actual label');\n",
        "plt.xlabel('Predicted label');\n",
        "all_sample_title = 'User Deined Algorithm Accuracy Score: {0}'.format(Accuracy_Score_Logit*100)\n",
        "plt.title(all_sample_title, size = 15);"
      ],
      "execution_count": null,
      "outputs": [
        {
          "output_type": "display_data",
          "data": {
            "image/png": "[encoded data removed]",
            "text/plain": [
              "<Figure size 648x648 with 2 Axes>"
            ]
          },
          "metadata": {
            "needs_background": "light"
          }
        }
      ]
    },
    {
      "cell_type": "markdown",
      "metadata": {
        "id": "PX_HvsKZbIux"
      },
      "source": [
        "In the below code, I have imported LogisticRegression from sklearn, to benchmark against the user defined LogisticRegression Classifier algorithm. "
      ]
    },
    {
      "cell_type": "code",
      "metadata": {
        "colab": {
          "base_uri": "https://localhost:8080/"
        },
        "id": "NgG6jYI0AzNW",
        "outputId": "6fb87ab8-7751-483a-b080-ca7bba2d984c"
      },
      "source": [
        "#B)1) \n",
        "\n",
        "#Below is the code for the reference implementation of Logistic Regression Classifier as imported from  sklearn. \n",
        "#Importing the LogisticRegression from sklearn\n",
        "from sklearn.linear_model import LogisticRegression\n",
        "#Importing accuracy_score from sklearn to identify the accuracy of the Logistic Regression Model. \n",
        "import sklearn.metrics as metrics\n",
        "from sklearn.metrics import accuracy_score\n",
        "from sklearn.metrics import confusion_matrix\n",
        "logisticRegr = LogisticRegression()\n",
        "#Fitting the Regression model with the training values. \n",
        "logisticRegr.fit(X_train, Y_train)\n",
        "#Predicting the outcome using the test data. \n",
        "logit_pred = logisticRegr.predict(X_test)\n",
        "score = logisticRegr.score(X_test, Y_test)\n",
        "Accuracy_Score_Logistic=accuracy_score(Y_test, logit_pred)\n",
        "print(\"The accuracy percentage of the Classifier is:\",Accuracy_Score_Logistic*100,\"%\")\n",
        "#Evaluating the classifier using the confusion matrix\n",
        "cm = metrics.confusion_matrix(Y_test, logit_pred)\n",
        "#The predicted outcome is stored in 'logit_pred', the score of accuracy is stored in'Accuracy_Score_Logistic';\n",
        "#Confusion matrix is stored in'cm'. "
      ],
      "execution_count": null,
      "outputs": [
        {
          "output_type": "stream",
          "name": "stdout",
          "text": [
            "The accuracy percentage of the Classifier is: 83.82352941176471 %\n"
          ]
        },
        {
          "output_type": "stream",
          "name": "stderr",
          "text": [
            "/usr/local/lib/python3.7/dist-packages/sklearn/linear_model/_logistic.py:940: ConvergenceWarning: lbfgs failed to converge (status=1):\n",
            "STOP: TOTAL NO. of ITERATIONS REACHED LIMIT.\n",
            "\n",
            "Increase the number of iterations (max_iter) or scale the data as shown in:\n",
            "    https://scikit-learn.org/stable/modules/preprocessing.html\n",
            "Please also refer to the documentation for alternative solver options:\n",
            "    https://scikit-learn.org/stable/modules/linear_model.html#logistic-regression\n",
            "  extra_warning_msg=_LOGISTIC_SOLVER_CONVERGENCE_MSG)\n"
          ]
        }
      ]
    },
    {
      "cell_type": "markdown",
      "metadata": {
        "id": "fjxrarD4bfkf"
      },
      "source": [
        "Plotting the confusion matrix and creating a heat map, to visualize it using the seaborn. "
      ]
    },
    {
      "cell_type": "code",
      "metadata": {
        "colab": {
          "base_uri": "https://localhost:8080/",
          "height": 524
        },
        "id": "_PZhgQpACZYP",
        "outputId": "09d2d0d5-1267-4eb7-dfbe-442994065619"
      },
      "source": [
        "#B)2)\n",
        "#The below code is to create a heat map of the confusion matrix of the obtained results, detailing the (Actual/Predicted Scores)\n",
        "#I have used seaborn to plot the matrix. \n",
        "plt.figure(figsize=(9,9))\n",
        "sns.heatmap(cm, annot=True, fmt=\".3f\", linewidths=.5, square = True, cmap = 'Blues_r');\n",
        "plt.ylabel('Actual label');\n",
        "plt.xlabel('Predicted label');\n",
        "all_sample_title = 'Scikit Learn Algorithm Accuracy Score: {0}'.format(Accuracy_Score_Logistic*100)\n",
        "plt.title(all_sample_title, size = 15);"
      ],
      "execution_count": null,
      "outputs": [
        {
          "output_type": "display_data",
          "data": {
            "image/png": "[encoded data removed]",
            "text/plain": [
              "<Figure size 648x648 with 2 Axes>"
            ]
          },
          "metadata": {
            "needs_background": "light"
          }
        }
      ]
    },
    {
      "cell_type": "code",
      "metadata": {
        "colab": {
          "base_uri": "https://localhost:8080/"
        },
        "id": "9tzIPoUZcOfM",
        "outputId": "b1cfd2b6-8c64-4aaf-96d1-65994d247042"
      },
      "source": [
        "#C) \n",
        "#Comparing the user defined and benchmarking classifier using ROC curves:\n",
        "#Importing the roc_auc_score method from sklearn.metrics. \n",
        "from sklearn.metrics import roc_curve, roc_auc_score\n",
        "#ROC_AUC score of the user defined Logistic Regression Classifier:\n",
        "r_auc_result=roc_auc_score(Y_test,result)\n",
        "#ROC_AUC score of the benchmarking(reference) Logistic Regression Classifier:\n",
        "r_auc_logit=roc_auc_score(Y_test,logit_pred)\n",
        "\n",
        "print(\"The ROC_AUC score of the User Defined Logistic Regression Classifier is:\", r_auc_result)\n",
        "print(\"The ROC_AUC score of the Reference Logistic Regression (Benchmarking) Classifier is:\",r_auc_logit)\n"
      ],
      "execution_count": null,
      "outputs": [
        {
          "output_type": "stream",
          "name": "stdout",
          "text": [
            "The ROC_AUC score of the User Defined Logistic Regression Classifier is: 1.0\n",
            "The ROC_AUC score of the Reference Logistic Regression (Benchmarking) Classifier is: 0.8447368421052632\n"
          ]
        }
      ]
    },
    {
      "cell_type": "markdown",
      "metadata": {
        "id": "1rykhKEp5zzN"
      },
      "source": [
        "I started developing the classifier with a learning rate of 0.01, theta value of 0 and with iterations of 20,000. I tried to tune the classifier further, achieving the best possible results with the following specifications: learning rate(alpha)=0.0001, iterations=30000 and a theta value of {[0.00005]*len(X.columns)}, but not 0. I realized that if I added a very low learning rate and increased the number of iterations, it increased the computational time, but vastly increased the accuracy of the algorithm. These changes to the parameters increased the accuracy of the algorithm significantly, taking it from 72% to 100%. This proves a direct relationship between the learning rate and the accuracy of the algorithm. "
      ]
    }
  ]
}