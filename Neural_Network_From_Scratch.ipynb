{
  "cells": [
    {
      "cell_type": "markdown",
      "metadata": {
        "id": "6yLSXOFX6OtK"
      },
      "source": [
        "# Neural Network From Scratch\n",
        "\n",
        "### Developing a Neural Network from scratch only with numpy and without using any pre-defined packages\n",
        "\n",
        "In the notebook, I have developed a Neural Network model from scratch. I have not used any pre-defined package to develop it.\n",
        "\n",
        "In the following Notebook, I have implemented a Logistic Regression Model, tested it on 2 data sets, developed a shallow Neural Network (with 1 hidden layer) and implemented further improvements on the aforementioned Neural Network. \n",
        "\n",
        "I have tested the network on 3 datasets:\n",
        "\n",
        "1)Linearly seperable data. \n",
        "\n",
        "2)Non-Linearly seperable data. \n",
        "\n",
        "3)CIFAR-10 Image Dataset. \n",
        "\n",
        "I have divided the notebook into multiple parts according to the question provided. \n",
        "\n",
        "### Part I:\n",
        "Implementing a Logistic Regression Model.\n",
        "\n",
        "### Part II:\n",
        "Testing the Logistic Regression Model using the data sets provided.\n",
        "\n",
        "### Part III:\n",
        "Building the Shallow Neural Network Model.\n",
        "\n",
        "### Part IV: \n",
        "Testing the Shallow Neural Network using the image data set.\n",
        "\n",
        "### Part V:\n",
        "Implementing the Neural Network advancements. \n",
        "\n",
        "In the below line of codes I have implemented the Logistic Regression Model with a Neural Network perspective. \n",
        "\n"
      ]
    },
    {
      "cell_type": "markdown",
      "metadata": {
        "id": "3hGo-2XF7gLl"
      },
      "source": [
        "# Part I\n",
        "## Implement Logistic Regression\n",
        "\n",
        "\n",
        "I have implemented the Logistic Regression Model using a Neural Network mindset, by developing forward propagation, back propagation and gradient descent functions.I have added the snippets of text in between the code to explain my thinking and approach. \n",
        "\n",
        "Note on Notations used:\n",
        "\n",
        "I have folowed the standard Stanford notation through out the code. \n",
        "\n",
        "J: Cost; w: Weights; b: biases; z: Summation of the product of weight and input and bias; A: The result of the activation function\n",
        "\n",
        "dw:  I have used the notation dw and db as it dw represents: dJ/dw and dJ/db. In case of Python notations I have used dw to represent dJ/dw, db to represent dJ/db.\n"
      ]
    },
    {
      "cell_type": "markdown",
      "metadata": {
        "id": "DNoZHbP3S4Vn"
      },
      "source": [
        "# Logistic Regression with a Neural Network Mindset:\n",
        "\n",
        "The Logistic Regression can be considered to a single neuron in the larger Neural Network. Multiple such neurons can be stacked together to create a Neural Network.\n",
        "\n",
        "The Logistic Regression Model can be broadly defined into 3 principal phases:\n",
        "\n",
        "## 1)Forward Propagation: \n",
        "\n",
        "In this phase the input values are put through the summation step, which is then put through the activation fucntion. This can be represented as: \n",
        "#### A=f(z); \n",
        "A is the result of the activation fucntion; f=activation function; \n",
        "#### z= (w*X+b).In the formula\n",
        "\n",
        "\n",
        "## 2)Backward Propagation: \n",
        "\n",
        "In this phase the cost over all the training cases are computd. \n",
        "The cost is the loss computed over all the training cases.\n",
        "\n",
        "The loss for each of the training cases can be computed using the below formula:\n",
        "\n",
        "#### L(A,y) = -y(log(A))-(1-y)log(1-A)\n",
        "\n",
        "A = value obtained from the activation fucntion; \n",
        "y = actual label values. \n",
        "\n",
        "The objective at each of the training steps is to minimize the loss. \n",
        "\n",
        "Thus,\n",
        "at y=1, L(A,y) = -log(A);\n",
        "at y=0, L(A,y) = -log(1-A);\n",
        "\n",
        "Cost = The loss over all the training cases; this can be determined using the below formula:\n",
        "\n",
        "#### J = -1./n* np.sum(Y*np.log(A) + (1-Y)*np.log(1-A)) \n",
        "\n",
        "J = Cost being computed; n = size of the training cases; A = result of the activation function; Y = actual output label. \n",
        "\n",
        "## 3)Updating the weights, biases\n",
        "\n",
        "Once the cost has been computed, our objective is to find its minima. This can be computed using the gradient descent algorithm. \n",
        "The gradient descent can be calculated using the below formula:\n",
        "\n",
        "#### dw = dJ/dw = (1/n)*sum(X*(A-Y))\n",
        "\n",
        "#### db = dJ/db = (1/n)*sum(A-Y)\n",
        "\n",
        "The values of dw, db represent steps towards the minimum value of the cost. \n",
        "\n",
        "Once these values have been computed, they have to be adjusted to the initially computed weights and biases, so we update the weights and biases using the below formula:\n",
        "\n",
        "#### weights = weights - (learning rate * dw)\n",
        "\n",
        "#### bias = bias -(learning rate * db)"
      ]
    },
    {
      "cell_type": "markdown",
      "metadata": {
        "id": "EKLVIPNPS4Vp"
      },
      "source": [
        "## Logistic Regression Flow of Code:\n",
        "\n",
        "I have described below the flow of the code, as I have implemented it. \n",
        "\n",
        "#### 1) Importing of packages\n",
        "#### 2)Developing the sigmoid activation function\n",
        "#### 3)Function for Initialization of parameters (weights and biases)\n",
        "#### 4)Function for Propagation (forward and backward)\n",
        "#### 5)Function to Update Parameters\n",
        "#### 6)Function to Predict the outputs\n",
        "#### 7)Function to combine all the other functions into the Logistic Regression Model\n",
        "#### 8)Reading of the DataSets\n",
        "#### 9)Testing the Data Sets (Blobs300, Circles600)\n",
        "#### 10)Plotting the change in cost"
      ]
    },
    {
      "cell_type": "code",
      "execution_count": null,
      "metadata": {
        "id": "bLq0uYZB5bIW"
      },
      "outputs": [],
      "source": [
        "#Importing Packages\n",
        "\n",
        "#In this section I have imported all the necessary packages:\n",
        "#I have used numpy to handle multi-dimensional arrays\n",
        "import numpy as np\n",
        "#I ahve used pandas to load the data sets as daat frame\n",
        "import pandas as pd\n",
        "import copy\n",
        "#I have used the matplotlib, to plot both the data set and the change in costs\n",
        "import matplotlib.pyplot as plt\n",
        "#I have used the train_test_split to split the data \n",
        "from sklearn.model_selection import train_test_split\n",
        "#I have imported the LogisticRegression from sklearn as a benchmarking model\n",
        "from sklearn.linear_model import LogisticRegression"
      ]
    },
    {
      "cell_type": "markdown",
      "metadata": {
        "id": "ITox7LZx78LE"
      },
      "source": [
        "In the below code I have developed the individual functions which will add up to the final model design. "
      ]
    },
    {
      "cell_type": "code",
      "execution_count": null,
      "metadata": {
        "id": "nvkxH8yN8P_f"
      },
      "outputs": [],
      "source": [
        "#Developing the sigmoid function:\n",
        "def sigmoid(z):\n",
        "  #The variable s will hold the sigmoid value of the passed data\n",
        "  s = 1/(1 + np.exp(-z))\n",
        "  return s"
      ]
    },
    {
      "cell_type": "code",
      "execution_count": null,
      "metadata": {
        "id": "4wgrQCtk8g2d"
      },
      "outputs": [],
      "source": [
        "#Initializing weight and biases:\n",
        "#In this section I have initialized the weights\n",
        "\n",
        "#def initialize_with_zeros(dimension):\n",
        "def initialize_weights(dimension):\n",
        "  #I have represented the weight vector as 'w' and the bias as 'b'\n",
        "\n",
        "  w = np.zeros((dimension, 1))  #The weight has been initialized as a vector\n",
        "  b = 0   #The bias has been initialized as a scalar quantity\n",
        "  \n",
        "  #I am returning the variables to the calling function\n",
        "  return w, b"
      ]
    },
    {
      "cell_type": "code",
      "execution_count": null,
      "metadata": {
        "id": "mtG6b7LoFs_k"
      },
      "outputs": [],
      "source": [
        "def get_cost(A, Y):\n",
        "  m = Y.shape[1] # number of examples\n",
        "  J = (- 1 / m) * np.sum(Y * np.log(A) + (1 - Y) * (np.log(1 - A)))\n",
        "  J = np.squeeze(J) \n",
        "  return J"
      ]
    },
    {
      "cell_type": "code",
      "execution_count": null,
      "metadata": {
        "id": "ln6YCedvH2Uz"
      },
      "outputs": [],
      "source": [
        "#In the below function I have defined the propagation fucntion\n",
        "\n",
        "def propagation(w, b, X, Y):\n",
        "    #Identifying the size and saving it in the variable 'n'\n",
        "    n = X.shape[1]\n",
        "\n",
        "    #Passing the data into the previously defined sigmoid function and saving the value in A\n",
        "    A = sigmoid(np.dot(w.T, X) + b)\n",
        "\n",
        "    #The below code finds the loss averaged over the size resulting into the cost, J. \n",
        "    J = -1./n* np.sum(Y*np.log(A) + (1-Y)*np.log(1-A)) \n",
        "\n",
        "    #The below code finds the gradient of weight and bias and stores it in the variable dw, db. \n",
        "    #I have used the notation dw and db as it dw represents: dJ/dw and dJ/db. \n",
        "    #In case of Python notations I have used dw to represent dJ/dw, db to represent dJ/db.                          \n",
        "    dw = 1./n*np.dot(X, (A-Y).T)\n",
        "    db = 1./n*np.sum(A-Y)\n",
        "\n",
        "    #The np.squeeze function removes the axes of length 1\n",
        "    cost = np.squeeze(np.array(J))\n",
        "    gradients = {\"dw\": dw, \"db\": db}\n",
        "             \n",
        "    #I have faced dimension issues while returning multiple varaibles from a single funtion, \n",
        "    #that is why I have used a dictionary to pass the values between functions. \n",
        "\n",
        "    return gradients, cost"
      ]
    },
    {
      "cell_type": "code",
      "execution_count": null,
      "metadata": {
        "id": "uG_rFojS-kNS"
      },
      "outputs": [],
      "source": [
        "#Parameter Update:\n",
        "#In the below function I am updating the values of w,b according to teh gradients \n",
        "def update(w, b, X, Y, num_iterations=100, learning_rate=0.009, print_cost=False):\n",
        "  \n",
        "  #Initializing the cost list\n",
        "  cost_list = []\n",
        "\n",
        "  #The function 'deepcopy' keeps a copy of object is copied in other object. \n",
        "  #Thus any change made to the copy will not be reflected on the original object.\n",
        "  w = copy.deepcopy(w)\n",
        "  b = copy.deepcopy(b)\n",
        "\n",
        "  #Running the for loop, to iterate over each of the individual gradients and costs\n",
        "  for i in range(num_iterations):\n",
        "    #Calling the function and storing its responses in the variables gradients, \n",
        "    #cost. Isolating the variables from the dictionary. \n",
        "    gradients, cost = propagation(w, b, X, Y)\n",
        "    dw = gradients[\"dw\"]\n",
        "    db = gradients[\"db\"]\n",
        "\n",
        "    #Updating the weights, biases according to the formula: \n",
        "    #weight = weight - (learning rate * weight_gardients)\n",
        "    w = w - learning_rate * dw\n",
        "    b = b - learning_rate * db\n",
        "\n",
        "    #Running the if, else condition to update the cost_list and print the \n",
        "    #cost to monitor the change in cost\n",
        "    if i % 100 == 0:\n",
        "      cost_list.append(cost)\n",
        "      if print_cost:\n",
        "        print (\"Cost after iteration %i: %f\" %(i, cost))\n",
        "\n",
        "  #Updating the parameter dictionary. \n",
        "  parameters = {\"w\": w, \"b\": b}\n",
        "\n",
        "  #Updating the gradients dictionary.               \n",
        "  gradients = {\"dw\": dw,\"db\": db}\n",
        "\n",
        "  #Returnign the parameters, gradients and cost_list         \n",
        "  return parameters, gradients, cost_list"
      ]
    },
    {
      "cell_type": "code",
      "execution_count": null,
      "metadata": {
        "id": "VuinrgSh-kJ4"
      },
      "outputs": [],
      "source": [
        "#Predict Function:\n",
        "#The below defined function is used to predict the values. \n",
        "\n",
        "#In the below fucntion the y_hat values are precited \n",
        "def predict(w, b, X):\n",
        "  #Initializing the size of the input data to be used for predicting values. \n",
        "  size = X.shape[1]\n",
        "\n",
        "  #Y_hat will hold the values being predicted\n",
        "  Y_hat = np.zeros((1, size))\n",
        "\n",
        "  #Reshaping the weights according to the input data used for prediction purposes. \n",
        "  w = w.reshape(X.shape[0], 1)\n",
        "\n",
        "  #Calling the sigmoid function and storing the resultant values in teh variable 's'\n",
        "  s = sigmoid(np.dot(w.T, X) + b)\n",
        "\n",
        "  #Running the for loop below to change the raw values being \n",
        "  #returned to 0/1 alternatives. \n",
        "  for i in range(s.shape[1]):\n",
        "    if s[0, i] > 0.5 :\n",
        "      Y_hat[0,i] = 1\n",
        "    else:\n",
        "      Y_hat[0,i] = 0\n",
        "\n",
        "  #Returning the predicted values\n",
        "  return Y_hat"
      ]
    },
    {
      "cell_type": "code",
      "execution_count": null,
      "metadata": {
        "id": "1zhvRqfzAiqn"
      },
      "outputs": [],
      "source": [
        "#Logistic Model:\n",
        "#In the below code I have combined the code snippets defined above into \n",
        "#a single Logistic Model. \n",
        "\n",
        "def logistic_model(data_set,X_train, Y_train, X_test, Y_test, iterations=2000, \n",
        "                   learning_rate=0.5, print_cost=False):\n",
        "  #w, b = initialize_with_zeros(X_train.shape[0])\n",
        "  #Initializing the weights, biases by calling the 'initialize_weights' function.\n",
        "  #I am passing the shape of the X_training dataset\n",
        "  w, b = initialize_weights(X_train.shape[0])\n",
        "\n",
        "  #In the below code I have called the update function to get the \n",
        "  #updated parameter, gradients and cost values\n",
        "  parameters, gradients, cost_list = update(w, b, X_train, Y_train, \n",
        "                                            iterations, learning_rate, print_cost = print_cost)\n",
        "\n",
        "  w = parameters[\"w\"]\n",
        "  b = parameters[\"b\"]\n",
        "\n",
        "  \n",
        "  #In the below code, I have called the 'predict' function and stored the \n",
        "  #results in the Y_pred_train and Y_pred_test\n",
        "  Y_pred_train = predict(w, b, X_train)\n",
        "  Y_pred_test = predict(w, b, X_test)\n",
        "\n",
        "  print(\"Printing the Training/Testing Accuracies of the following DataSet: \",data_set)\n",
        "        \n",
        "  if print_cost:\n",
        "    print(\"Accuracy of the Training DataSet: {} %\".format\n",
        "          (100 - np.mean(np.abs(Y_pred_train - Y_train)) * 100))\n",
        "    print(\"Accuracy of the Testing DataSet: {} %\".format\n",
        "          (100 - np.mean(np.abs(Y_pred_test - Y_test)) * 100))\n",
        "\n",
        "  result_set = {\"cost_list\": cost_list,\n",
        "       \"Y_pred_train\": Y_pred_train,\n",
        "       \"Y_pred_test\": Y_pred_test,\n",
        "       \"w\" : w,\n",
        "       \"b\" : b,\n",
        "       \"learning_rate\" : learning_rate,\n",
        "       \"iterations\": iterations}\n",
        "\n",
        "  #Returning the result set to the calling function\n",
        "  return result_set    "
      ]
    },
    {
      "cell_type": "markdown",
      "metadata": {
        "id": "UVW8VJ63c0Cg"
      },
      "source": [
        "# Part II\n",
        "## Easy Tasks\n",
        "\n",
        "Testing the Logistic Regression Model on the blobs300 and circles600 data set. \n",
        "\n",
        "I have used the code provided by Michael Madden to load and visualize the datasets."
      ]
    },
    {
      "cell_type": "code",
      "execution_count": null,
      "metadata": {
        "colab": {
          "base_uri": "https://localhost:8080/",
          "height": 300
        },
        "id": "WR5JyGAzJI-f",
        "outputId": "4ef30dff-0442-418d-ad69-e2ec67c72c27"
      },
      "outputs": [
        {
          "name": "stdout",
          "output_type": "stream",
          "text": [
            "Shape of X: (300, 4)\n",
            "Shape of Y: (300,)\n"
          ]
        },
        {
          "data": {
            "image/png": "[encoded data removed]",
            "text/plain": [
              "<Figure size 432x288 with 1 Axes>"
            ]
          },
          "metadata": {
            "needs_background": "light"
          },
          "output_type": "display_data"
        }
      ],
      "source": [
        "#Data Set:\n",
        "#Loading and visualizing the blobs300 dataset\n",
        "#Using section of code provided by Michael Madden\n",
        "\n",
        "#Using pandas to load the dataset as a dataframe\n",
        "df = pd.read_csv(\"blobs300.csv\")\n",
        "\n",
        "#Extracting the 'Class' values and storing it in y. \n",
        "y = df['Class'].values\n",
        "\n",
        "# The x values are all other columns\n",
        "del df['Class']   # drop the 'Class' column from the dataframe\n",
        "X = df.values     # convert the remaining columns to a numpy array\n",
        "\n",
        "# plot X[0] vs X[1] and colour points according to the class, y\n",
        "plt.scatter(X[:,0], X[:,1], c=y)  \n",
        "\n",
        "print(\"Shape of X:\",X.shape)\n",
        "print(\"Shape of Y:\",y.shape)\n",
        "\n",
        "#Splitting data into train and test sets\n",
        "X_train_blobs, X_test_blobs, Y_train_blobs, Y_test_blobs = train_test_split(X, y, \n",
        "                                                test_size=0.3, random_state=42)"
      ]
    },
    {
      "cell_type": "code",
      "execution_count": null,
      "metadata": {
        "colab": {
          "base_uri": "https://localhost:8080/"
        },
        "id": "0FvnX0mCbDxk",
        "outputId": "61092734-5144-46be-9f59-6581380f09d3"
      },
      "outputs": [
        {
          "name": "stdout",
          "output_type": "stream",
          "text": [
            "Cost after iteration 0: 0.693147\n",
            "Cost after iteration 100: 0.480744\n",
            "Cost after iteration 200: 0.390635\n",
            "Cost after iteration 300: 0.331346\n",
            "Cost after iteration 400: 0.288966\n",
            "Cost after iteration 500: 0.257317\n",
            "Cost after iteration 600: 0.232859\n",
            "Cost after iteration 700: 0.213412\n",
            "Cost after iteration 800: 0.197582\n",
            "Cost after iteration 900: 0.184438\n",
            "Cost after iteration 1000: 0.173342\n",
            "Cost after iteration 1100: 0.163840\n",
            "Cost after iteration 1200: 0.155606\n",
            "Cost after iteration 1300: 0.148394\n",
            "Cost after iteration 1400: 0.142019\n",
            "Cost after iteration 1500: 0.136339\n",
            "Cost after iteration 1600: 0.131242\n",
            "Cost after iteration 1700: 0.126639\n",
            "Cost after iteration 1800: 0.122459\n",
            "Cost after iteration 1900: 0.118643\n",
            "Printing the Training/Testing Accuracies of the following DataSet:  Blobs300\n",
            "Accuracy of the Training DataSet: 99.04761904761905 %\n",
            "Accuracy of the Testing DataSet: 100.0 %\n"
          ]
        }
      ],
      "source": [
        "#Running the Logistic Model and testing the accuracy of blobs300 data set:\n",
        "#The data set is almost fully linearly seperable as detailed by the \n",
        "#results of the model\n",
        "data_set = \"Blobs300\"\n",
        "iterations=2000\n",
        "X_train_flatten_blobs = X_train_blobs.reshape(X_train_blobs.shape[0], -1).T \n",
        "Y_train_flatten_blobs = Y_train_blobs.reshape(Y_train_blobs.shape[0], -1).T \n",
        "X_test_flatten_blobs = X_test_blobs.reshape(X_test_blobs.shape[0], -1).T \n",
        "Y_test_flatten_blobs = Y_test_blobs.reshape(X_test_blobs.shape[0], -1).T \n",
        "\n",
        "logistic_regression_model = logistic_model(data_set,X_train_flatten_blobs,Y_train_flatten_blobs,\n",
        "                                           X_test_flatten_blobs,Y_test_flatten_blobs,iterations=2000,learning_rate=0.005,print_cost=True)"
      ]
    },
    {
      "cell_type": "code",
      "execution_count": null,
      "metadata": {
        "colab": {
          "base_uri": "https://localhost:8080/",
          "height": 295
        },
        "id": "xx1EtJxdHojt",
        "outputId": "d05d2264-8c85-49d3-f04f-f688e8ecdb9d"
      },
      "outputs": [
        {
          "data": {
            "image/png": "[encoded data removed]",
            "text/plain": [
              "<Figure size 432x288 with 1 Axes>"
            ]
          },
          "metadata": {
            "needs_background": "light"
          },
          "output_type": "display_data"
        }
      ],
      "source": [
        "#Plotting the change in cost\n",
        "\n",
        "cost = logistic_regression_model[\"cost_list\"]\n",
        "plt.plot(cost)\n",
        "plt.ylabel('cost')\n",
        "plt.xlabel('Iterations')\n",
        "plt.title(\"Plotting the change in costs\")\n",
        "plt.show()"
      ]
    },
    {
      "cell_type": "code",
      "execution_count": null,
      "metadata": {
        "colab": {
          "base_uri": "https://localhost:8080/",
          "height": 300
        },
        "id": "U8qvH26Tag5x",
        "outputId": "c56ad004-729b-417d-c667-1dc4165b8863"
      },
      "outputs": [
        {
          "name": "stdout",
          "output_type": "stream",
          "text": [
            "Shape of X: (600, 2)\n",
            "Shape of Y: (600,)\n"
          ]
        },
        {
          "data": {
            "image/png": "[encoded data removed]",
            "text/plain": [
              "<Figure size 432x288 with 1 Axes>"
            ]
          },
          "metadata": {
            "needs_background": "light"
          },
          "output_type": "display_data"
        }
      ],
      "source": [
        "#Data Set:\n",
        "#Loading and visualizing the circles 600 data set\n",
        "#Loading the partially linearly seperable data set (circles600)\n",
        "#Using pandas to read the CSV file as a dataframe\n",
        "\n",
        "#Using section of code provided by Michael Madden\n",
        "df = pd.read_csv(\"circles600.csv\")\n",
        "\n",
        "#Extracting the 'Class' values and storing it in y. \n",
        "y = df['Class'].values\n",
        "\n",
        "# The x values are all other columns\n",
        "del df['Class']   # drop the 'Class' column from the dataframe\n",
        "X = df.values     # convert the remaining columns to a numpy array\n",
        "\n",
        "# plot X[0] vs X[1] and colour points according to the class, y\n",
        "plt.scatter(X[:,0], X[:,1], c=y)  \n",
        "\n",
        "print(\"Shape of X:\",X.shape)\n",
        "print(\"Shape of Y:\",y.shape)\n",
        "\n",
        "#Data Split:\n",
        "\n",
        "#X_train, X_test, Y_train, Y_test = train_test_split(X, yt, test_size=0.33, random_state=42)\n",
        "X_train_circles, X_test_circles, Y_train_circles, Y_test_circles = train_test_split(X, y,\n",
        "                                                test_size=0.3, random_state=42)\n"
      ]
    },
    {
      "cell_type": "code",
      "execution_count": null,
      "metadata": {
        "colab": {
          "base_uri": "https://localhost:8080/"
        },
        "id": "LPM82iXUbQ9J",
        "outputId": "5f1d830c-1bed-48c8-fdee-bbbc248d8451"
      },
      "outputs": [
        {
          "name": "stdout",
          "output_type": "stream",
          "text": [
            "Cost after iteration 0: 0.693147\n",
            "Cost after iteration 100: 0.692900\n",
            "Cost after iteration 200: 0.692674\n",
            "Cost after iteration 300: 0.692466\n",
            "Cost after iteration 400: 0.692274\n",
            "Cost after iteration 500: 0.692096\n",
            "Cost after iteration 600: 0.691932\n",
            "Cost after iteration 700: 0.691780\n",
            "Cost after iteration 800: 0.691638\n",
            "Cost after iteration 900: 0.691507\n",
            "Cost after iteration 1000: 0.691384\n",
            "Cost after iteration 1100: 0.691270\n",
            "Cost after iteration 1200: 0.691163\n",
            "Cost after iteration 1300: 0.691064\n",
            "Cost after iteration 1400: 0.690972\n",
            "Cost after iteration 1500: 0.690885\n",
            "Cost after iteration 1600: 0.690804\n",
            "Cost after iteration 1700: 0.690729\n",
            "Cost after iteration 1800: 0.690658\n",
            "Cost after iteration 1900: 0.690592\n",
            "Printing the Training/Testing Accuracies of the following DataSet:  Circles600\n",
            "Accuracy of the Training DataSet: 68.33333333333334 %\n",
            "Accuracy of the Testing DataSet: 58.88888888888889 %\n"
          ]
        }
      ],
      "source": [
        "#Running the Logistic Model and testing the accuracy of circles600 data set:\n",
        "#The data is clearly not linearly seperable\n",
        "\n",
        "data_set = \"Circles600\"\n",
        "X_train_flatten_circles = X_train_circles.reshape(X_train_circles.shape[0], -1).T \n",
        "Y_train_flatten_circles = Y_train_circles.reshape(Y_train_circles.shape[0], -1).T \n",
        "X_test_flatten_circles = X_test_circles.reshape(X_test_circles.shape[0], -1).T \n",
        "Y_test_flatten_circles = Y_test_circles.reshape(X_test_circles.shape[0], -1).T \n",
        "\n",
        "logistic_regression_model = logistic_model(data_set, X_train_flatten_circles, \n",
        "Y_train_flatten_circles, X_test_flatten_circles, Y_test_flatten_circles, \n",
        "iterations=2000, learning_rate=0.005, print_cost=True)"
      ]
    },
    {
      "cell_type": "code",
      "execution_count": null,
      "metadata": {
        "colab": {
          "base_uri": "https://localhost:8080/",
          "height": 295
        },
        "id": "sk5pwGclIQB2",
        "outputId": "d33e7df1-c36f-47a2-c0a3-338e24f796ff"
      },
      "outputs": [
        {
          "data": {
            "image/png": "[encoded data removed]",
            "text/plain": [
              "<Figure size 432x288 with 1 Axes>"
            ]
          },
          "metadata": {
            "needs_background": "light"
          },
          "output_type": "display_data"
        }
      ],
      "source": [
        "#Plotting the change in cost\n",
        "\n",
        "cost = logistic_regression_model[\"cost_list\"]\n",
        "plt.plot(cost)\n",
        "plt.ylabel('cost')\n",
        "plt.xlabel('Iterations')\n",
        "plt.title(\"Plotting the change in costs\")\n",
        "\n",
        "plt.show()"
      ]
    },
    {
      "cell_type": "markdown",
      "metadata": {
        "id": "cDnfnP7im4AD"
      },
      "source": [
        "## Note on the testing accuracy of the provided datasets using Logistic Regression\n",
        "\n",
        "Blobs300: From the testing data above it is clear that as the blobs300 data set is fully linearly seperable, thus the Logistic Regression Algorithm is able to handle it and performs quite well on the Testing data set. The training accuracy on the dataset is nearly 100%, whereas the testing accuracy is close to 99%. \n",
        "\n",
        "Circles600: This dataset is not fully linearly seperable, thus the Logistic Regression Algorithm is not able to perform very well on the provided dataset. The training accuracy on the dataset is nearly 66%, wwhereas the testing accuracy is around 58%. \n",
        "\n",
        "In the below lines of code I have imported the Logistic Regression from sklearn to test the accuracy of the data set. "
      ]
    },
    {
      "cell_type": "code",
      "execution_count": null,
      "metadata": {
        "colab": {
          "base_uri": "https://localhost:8080/"
        },
        "id": "7tffkkIDCxr7",
        "outputId": "1af6a325-4ff9-4e0c-f49e-e22bce5f1a0d"
      },
      "outputs": [
        {
          "name": "stdout",
          "output_type": "stream",
          "text": [
            "The accuracy score of the Circles dataset on the benchmarking algorithm is below:\n"
          ]
        },
        {
          "data": {
            "text/plain": [
              "53.888888888888886"
            ]
          },
          "execution_count": 15,
          "metadata": {},
          "output_type": "execute_result"
        }
      ],
      "source": [
        "#Implementing a Logistic Regression from sklearn to test the accuracy on the circles600 dataset\n",
        "#Fitting the data in the Logiatic Regression Algorithm \n",
        "clf = LogisticRegression(random_state=0).fit(X_train_circles, Y_train_circles)\n",
        "y_pred = clf.predict(X_test_circles)\n",
        "\n",
        "from sklearn.metrics import accuracy_score\n",
        "accuracy_score(Y_test_circles, y_pred)\n",
        "print(\"The accuracy score of the Circles dataset on the benchmarking algorithm is below:\")\n",
        "(accuracy_score(Y_test_circles, y_pred, normalize=False)/len(Y_test_circles))*100\n",
        "\n",
        "#The accuracy score of the logistic regression is quite low, \n",
        "#which confirms the fact that the data is not linearly \n",
        "#seperable so it is giving low accuracy scores. "
      ]
    },
    {
      "cell_type": "markdown",
      "metadata": {
        "id": "lZ8WVreTS4V1"
      },
      "source": [
        "The results from the Logistic Regression Alggorithm of sklearn also confirms the assumption that the accuracy of the Cirlces600 data set is not very good as its not a linearly seperable data. "
      ]
    },
    {
      "cell_type": "markdown",
      "metadata": {
        "id": "cr9q3rGfdB3Q"
      },
      "source": [
        "# Part III\n",
        "## Implement and Test a Shallow Neural Network\n",
        "\n",
        "Implementing and Testing a Shallow Neural Network \n",
        "\n",
        "In this part I have defined a Neural Network with only 1 hidden layer. \n",
        "\n",
        "## Neural Network\n",
        "\n",
        "### Neural Network Structure:\n",
        "\n",
        "#### 1)Forward Propagation: \n",
        "\n",
        "I have detailed the fomulas followed below: (I am not able to type the formulas as defined in the lectures, thus I have only listed the formulas that have been implemented).\n",
        "\n",
        "#### z1 = np.dot(W1, X) + b1\n",
        "#### A1 = sigmoid(z1)\n",
        "#### z2 = np.dot(W2, A1) + b2\n",
        "#### A2 = sigmoid(z2)\n",
        "\n",
        "#### 2)Back Propagation: \n",
        "\n",
        "In this phase the cost over all the training cases are computed. \n",
        "The cost is the loss computed over all the training cases.\n",
        "##### The idea is to find the weights, biases that minimize the cumulative cost over the training cases. \n",
        "\n",
        "The loss for each of the training cases can be computed using the below formula:\n",
        "\n",
        "#### L(A2,y) = -ylog(A2)-(1-y)log(1-A2)\n",
        "\n",
        "A = value obtained from the activation fucntion; \n",
        "y = actual label values. \n",
        "\n",
        "The objective at each of the training steps is to minimize the loss. \n",
        "\n",
        "Thus,\n",
        "at y=1, L(A2,y) = -log(A2);\n",
        "at y=0, L(A2,y) = -log(1-A2);\n",
        "\n",
        "Cost = The loss over all the training cases; this can be determined using the below formula:\n",
        "\n",
        "#### J = (1/m)*L(A2,y)\n",
        "\n",
        "J = Cost being computed; m = size of the training cases; A2 = result of the activation function; Y = actual output label.\n",
        "\n",
        "#### dz2= A2 - Y \n",
        "#### dz1 = np.multiply(np.dot(np.transpose(W2), dz2), 1 - np.power(A1, 2))\n",
        "\n",
        "     \n",
        "#### dW2 = (1 / m) * np.dot(dz2, np.transpose(A1))\n",
        "#### db2 = (1 / m) * np.sum(dz2, axis=1, keepdims=True)\n",
        "                     \n",
        "#### dW1 = (1 / m) * np.dot(dz1, np.transpose(X))\n",
        "#### db1 = (1 / m) * np.sum(dz1, axis=1, keepdims=True)\n",
        "\n",
        "\n",
        "#### 3)Parameter Update/Optimization: \n",
        "\n",
        "The parameters have to be updated to optmize the algorithm. This can be acheived by using the below formulas:\n",
        "#### W1 = W1 - learning_rate * dW1\n",
        "#### b1 = b1 - learning_rate * db1\n",
        "#### W2 = W2 - learning_rate * dW2\n",
        "#### b2 = b2 - learning_rate * db2\n",
        "\n",
        "In the below lines of code I have defined a shallow Neural Network. I have reused parts of the code, functions,  as defined in Part I. \n",
        "\n",
        "## I have implemented the Shallow Neural Network in the below functions: "
      ]
    },
    {
      "cell_type": "code",
      "execution_count": null,
      "metadata": {
        "id": "x1wqwJGvdLUi"
      },
      "outputs": [],
      "source": [
        "#Initializing Parameters for the Neural Network:\n",
        "#In the below code I have defined the function to initialize the parameters \n",
        "#for the Neural Network. \n",
        "\n",
        "#I am passing the sizes of X, Y and the size of the hidden layer \n",
        "#in the below fucntion\n",
        "\n",
        "def NN_parameter_initialization(n_x, n_h, n_y):\n",
        "    #np.random.seed(1)\n",
        "    #Initializing the weights and biases \n",
        "    W1 = np.random.randn(n_h, n_x) * 0.001\n",
        "    b1 = np.zeros(shape=(n_h, 1))\n",
        "    W2 = np.random.randn(n_y, n_h) * 0.001\n",
        "    b2 = np.zeros(shape=(n_y, 1))\n",
        "    \n",
        "    #I am storing the necessary weights and biases in the dictionary params\n",
        "    params = {\"W1\": W1, \"b1\": b1, \"W2\": W2, \"b2\": b2}\n",
        "                  \n",
        "    return params"
      ]
    },
    {
      "cell_type": "code",
      "execution_count": null,
      "metadata": {
        "id": "31kOuxnvGqwk"
      },
      "outputs": [],
      "source": [
        "def NN_forward_propagation(X, parameters): \n",
        "    #I am isolating the weights and biases from the parameters. \n",
        "    W1 = parameters['W1']\n",
        "    b1 = parameters['b1']\n",
        "    W2 = parameters['W2']\n",
        "    b2 = parameters['b2']\n",
        "    \n",
        "    #The variable 'm' holds the shape of X\n",
        "    m = X.shape[1]\n",
        "    \n",
        "    #Calculating z1, the value before putting it in the activation fucntion.\n",
        "    z1 = np.dot(W1, X) + b1\n",
        "\n",
        "    #Calculating A1, which is the value obtained after putting z1 into the \n",
        "    #sigmoid activation function. \n",
        "    A1 = sigmoid(z1)\n",
        "\n",
        "    #Calculating z2, the value before putting it in the activation fucntion.\n",
        "    z2 = np.dot(W2, A1) + b2\n",
        "\n",
        "    #Calculating A2, which is the value obtained after putting z2 into the \n",
        "    #sigmoid activation function.\n",
        "    A2 = sigmoid(z2)\n",
        "    \n",
        "    #Storing the values of A1, A2 (values after putting z1, z2 in the \n",
        "    #activation functions) in the dictionary 'forward_propagation'. \n",
        "    forward_propagation = {\"A1\": A1,\"A2\": A2}\n",
        "    \n",
        "    #Returning the forward_propagation dictionary\n",
        "    return forward_propagation"
      ]
    },
    {
      "cell_type": "code",
      "execution_count": null,
      "metadata": {
        "id": "nrq19wxrGuCk"
      },
      "outputs": [],
      "source": [
        "def NN_back_propagation(parameters, forward_propagation, X, Y):\n",
        "   \n",
        "    #The variable 'm' holds the shape of X\n",
        "    m = X.shape[1]\n",
        "    \n",
        "    #I am isolating the W1, W2 from the 'parameters' dictionary. \n",
        "    W1 = parameters['W1']\n",
        "    W2 = parameters['W2']\n",
        "    #I am isolating the A1, A2 values from the 'forward_propagation' dictionary. \n",
        "    A1 = forward_propagation['A1']\n",
        "    A2 = forward_propagation['A2']\n",
        "    \n",
        "    #Backpropagation step:\n",
        "    #In the below steps I have calculated the gradients\n",
        "\n",
        "    dz2= A2 - Y \n",
        "    dz1 = np.multiply(np.dot(np.transpose(W2), dz2), 1 - np.power(A1, 2))\n",
        "\n",
        "    #Calculating the gradients of the weights and biases. \n",
        "    dW2 = (1 / m) * np.dot(dz2, np.transpose(A1))\n",
        "    db2 = (1 / m) * np.sum(dz2, axis=1, keepdims=True)\n",
        "                     \n",
        "    dW1 = (1 / m) * np.dot(dz1, np.transpose(X))\n",
        "    db1 = (1 / m) * np.sum(dz1, axis=1, keepdims=True)\n",
        "    \n",
        "    #Storing the gradients in teh dictionary. \n",
        "    gradients = {\"dW1\": dW1, \"db1\": db1, \"dW2\": dW2, \"db2\": db2}\n",
        "                 \n",
        "    #Returning the gradients as obtained from the Backpropagation step. \n",
        "    return gradients"
      ]
    },
    {
      "cell_type": "code",
      "execution_count": null,
      "metadata": {
        "id": "gtdNRuVJGxwU"
      },
      "outputs": [],
      "source": [
        "#Parameter update:\n",
        "#In the below function I have updated the parameters. \n",
        "#The function takes in the existing dictionaries of parameters \n",
        "#and gradients and the learning rate. \n",
        "\n",
        "#The fucntion then updates the existing weights and biases. \n",
        "\n",
        "def NN_Param_Update(parameters, gradients, learning_rate=0.001):\n",
        "    \n",
        "    #Isolating the weights and biases from the dictionary parameters. \n",
        "    W1 = parameters['W1']\n",
        "    b1 = parameters['b1']\n",
        "    W2 = parameters['W2']\n",
        "    b2 = parameters['b2']\n",
        "    \n",
        "    ##Isolating the weights and biases from the gradients parameters.\n",
        "    dW1 = gradients['dW1']\n",
        "    db1 = gradients['db1']\n",
        "    dW2 = gradients['dW2']\n",
        "    db2 = gradients['db2']\n",
        "    \n",
        "    #In the below step the update of the weights have been implemented. \n",
        "    #The weights and biases have been updated in the below code \n",
        "    #folloing the below formula:\n",
        "    #updated_weight = weight - (learning_rate*gardient_weight)\n",
        "\n",
        "    W1 = W1 - learning_rate * dW1\n",
        "    b1 = b1 - learning_rate * db1\n",
        "    W2 = W2 - learning_rate * dW2\n",
        "    b2 = b2 - learning_rate * db2\n",
        "    \n",
        "    #Updating the parameter dictionary with the updated values of the \n",
        "    #weights and biases. \n",
        "    parameters = {\"W1\": W1, \"b1\": b1, \"W2\": W2, \"b2\": b2}\n",
        "\n",
        "    #Returning the updated parameters to the calling function. \n",
        "    return parameters"
      ]
    },
    {
      "cell_type": "code",
      "execution_count": null,
      "metadata": {
        "id": "-XEoHLcnG9Iv"
      },
      "outputs": [],
      "source": [
        "#Prediction Function:\n",
        "#In the below function I have taken the parameters and the X values\n",
        "\n",
        "def NN_prediction(X,parameters):\n",
        "    \n",
        "    #The size of X has been stored in the variable m\n",
        "    m = X.shape[1]\n",
        "    #Initializing the Y_pred variable to hold the predicted values. \n",
        "    Y_pred = np.zeros((1,m))\n",
        "\n",
        "    #Calling the NN_forward_propagation function to get the values and \n",
        "    #isolating it from the dictionary. \n",
        "    \n",
        "    forward_prop_results = NN_forward_propagation(X, parameters)\n",
        "    A2 = forward_prop_results['A2']\n",
        "    \n",
        "    for i in range(A2.shape[1]):\n",
        "      #I am converting the predicted probabilities to actual predictions. \n",
        "      Y_pred[0, i] = 1 if A2[0, i] > 0.5 else 0\n",
        "      \n",
        "    #Returning the set of predicted values. \n",
        "    return Y_pred"
      ]
    },
    {
      "cell_type": "code",
      "execution_count": null,
      "metadata": {
        "id": "UhNftIw2G0kF"
      },
      "outputs": [],
      "source": [
        "#Neural Network Model\n",
        "#In the below function, I have combined all the functions defined above. \n",
        "\n",
        "def NN_Model(data_set, X_train, Y_train, X_test, Y_test,h, epochs=10000, \n",
        "             learning_rate = 0.1):\n",
        "\n",
        "    #Storing the shape of X in m. \n",
        "    m = X_train.shape[1]\n",
        "    #n_x holds the size of the input layer.\n",
        "    nx = X_train.shape[0]\n",
        "    #n_h holds the size of the hidden layer.\n",
        "    nh = h\n",
        "    #n_y holds the size of the output layer. \n",
        "    ny = Y_train.shape[0]\n",
        "    \n",
        "    #In the below code I have initialized the parameters\n",
        "    parameters = NN_parameter_initialization(nx, h, ny)\n",
        "    \n",
        "    #Isolating W1,b1,W2,b2 from parameters ditionary\n",
        "    W1 = parameters['W1']\n",
        "    b1 = parameters['b1']\n",
        "    W2 = parameters['W2']\n",
        "    b2 = parameters['b2']\n",
        "    \n",
        "    #The cost, will hold the list of the cost for each of the epochs. \n",
        "    cost = []\n",
        "    \n",
        "    #In the below code I have implemented the Stochastic Gradient Descent\n",
        "\n",
        "    #Running the for loop:\n",
        "    for i in range(0, epochs):\n",
        "        #I have iterated through each of the training examples for every epoch. \n",
        "        for j in range(0,m): \n",
        "            \n",
        "            #In the below step, I have selected the data_point (at random) \n",
        "            #from the tarining examples without replacement\n",
        "            data_point = np.random.choice(X_train.shape[1],size=1,replace=False)\n",
        "            \n",
        "            X_train_randn = X_train[:,data_point]\n",
        "            Y_train_randn = Y_train[:,data_point]\n",
        "    \n",
        "         \n",
        "            #I have gone through the steps of the NN in the bewlo lines of code:\n",
        "            #Forward Propagation Step:\n",
        "            forward_prop = NN_forward_propagation(X_train_randn, parameters)\n",
        "            A2 = forward_prop['A2']\n",
        " \n",
        "            #Backpropagation step:\n",
        "            gradients = NN_back_propagation(parameters, forward_prop, \n",
        "                                            X_train_randn, Y_train_randn)\n",
        " \n",
        "            #Parameter Update:\n",
        "            parameters = NN_Param_Update(parameters, gradients, learning_rate)\n",
        "        \n",
        "        \n",
        "        #I am getting the associated cost\n",
        "        J = get_cost(A2, Y_train)\n",
        "        cost.append(J)\n",
        "        #Printing the cost every 1000 iterations\n",
        "        if i % 100 == 0:\n",
        "            print (\"Cost after %i epoch: %f\" % (i, J))\n",
        "        \n",
        "        #Appending the cost to the cost_list\n",
        "        cost.append(J)\n",
        "       \n",
        "    #I am plotting the cost against the Iterations\n",
        "    plt.plot(cost)\n",
        "    plt.ylabel('cost')\n",
        "    plt.xlabel('Iterations(every thousand)')\n",
        "    plt.title(\"Plot of the change in cost\")\n",
        "    plt.show()\n",
        "         #  Predict test/train set examples\n",
        "    predictions_test = NN_prediction( X_test,parameters)\n",
        "    predictions_train = NN_prediction( X_train,parameters)\n",
        "\n",
        "    #Printing the Accuracy on Train/Test Sets:\n",
        "    print(\"Computing the accuracy of the Shallow Neural Network on the following DataSet:\", data_set)\n",
        "    print(\"Accuracy of the Training DataSet: {} %\"\n",
        "          .format(100 - np.mean(np.abs(predictions_train - Y_train)) * 100))\n",
        "    print(\"Accuracy of the Testing DataSet: {} %\"\n",
        "          .format(100 - np.mean(np.abs(predictions_test - Y_test)) * 100))\n",
        "    \n",
        "    \n",
        "    return parameters"
      ]
    },
    {
      "cell_type": "markdown",
      "metadata": {
        "id": "pZAMWyzoybUG"
      },
      "source": [
        "# Testing the Shallow Neural Network\n",
        "\n",
        "In the below sections of the code, I have tested the Neural Network on the blobs300\n",
        "and the circles600 data set. "
      ]
    },
    {
      "cell_type": "code",
      "execution_count": null,
      "metadata": {
        "colab": {
          "base_uri": "https://localhost:8080/",
          "height": 417
        },
        "id": "hqAsVMOtymWz",
        "outputId": "915dc21d-b773-4065-c8ed-7af379ad7398"
      },
      "outputs": [
        {
          "name": "stdout",
          "output_type": "stream",
          "text": [
            "Cost after 0 epoch: 0.693319\n",
            "Cost after 100 epoch: 3.441758\n",
            "Cost after 200 epoch: 11.802710\n",
            "Cost after 300 epoch: 5.524166\n",
            "Cost after 400 epoch: 13.546471\n"
          ]
        },
        {
          "data": {
            "image/png": "[encoded data removed]",
            "text/plain": [
              "<Figure size 432x288 with 1 Axes>"
            ]
          },
          "metadata": {
            "needs_background": "light"
          },
          "output_type": "display_data"
        },
        {
          "name": "stdout",
          "output_type": "stream",
          "text": [
            "Computing the accuracy of the Shallow Neural Network on the following DataSet: Blobs300\n",
            "Accuracy of the Training DataSet: 99.52380952380952 %\n",
            "Accuracy of the Testing DataSet: 98.88888888888889 %\n"
          ]
        }
      ],
      "source": [
        "#Testing on the blobs data set:\n",
        "#I am saving the returned data in the variable, 'Parameters_Blobs_Test'\n",
        "\n",
        "data_set = \"Blobs300\"\n",
        "Parameters_Blobs_Test = NN_Model(data_set, X_train_flatten_blobs, Y_train_flatten_blobs, X_test_flatten_blobs, \n",
        "                                 Y_test_flatten_blobs, h = 50, epochs=500, learning_rate = 0.005)"
      ]
    },
    {
      "cell_type": "markdown",
      "metadata": {
        "id": "mZTL_coNy_rY"
      },
      "source": [
        "## Test Results on the blobs300 dataset:\n",
        "\n",
        "From the results above it is clear that the Neural Network is able to handle the blobs300 data with an accuracy of 99% on the Test data and with an accuracy of 100% on the training data. "
      ]
    },
    {
      "cell_type": "code",
      "execution_count": null,
      "metadata": {
        "colab": {
          "base_uri": "https://localhost:8080/",
          "height": 417
        },
        "id": "dzkgNmn9G3bR",
        "outputId": "81691f7f-5cf9-4e90-e36e-5cd425a59ab4"
      },
      "outputs": [
        {
          "name": "stdout",
          "output_type": "stream",
          "text": [
            "Cost after 0 epoch: 0.693070\n",
            "Cost after 100 epoch: 0.700139\n",
            "Cost after 200 epoch: 0.705299\n",
            "Cost after 300 epoch: 0.703378\n",
            "Cost after 400 epoch: 0.725833\n"
          ]
        },
        {
          "data": {
            "image/png": "[encoded data removed]",
            "text/plain": [
              "<Figure size 432x288 with 1 Axes>"
            ]
          },
          "metadata": {
            "needs_background": "light"
          },
          "output_type": "display_data"
        },
        {
          "name": "stdout",
          "output_type": "stream",
          "text": [
            "Computing the accuracy of the Shallow Neural Network on the following DataSet: Circles600\n",
            "Accuracy of the Training DataSet: 79.52380952380952 %\n",
            "Accuracy of the Testing DataSet: 77.77777777777777 %\n"
          ]
        }
      ],
      "source": [
        "#Testing on the circles600 data set:\n",
        "#I have stored the returned parameters on the Parameters_Circle_Test\n",
        "\n",
        "data_set = \"Circles600\"\n",
        "Parameters_Circle_Test = NN_Model(data_set, X_train_flatten_circles, Y_train_flatten_circles, X_test_flatten_circles, \n",
        "                                  Y_test_flatten_circles, h = 50, epochs=500, learning_rate = 0.005)"
      ]
    },
    {
      "cell_type": "markdown",
      "metadata": {
        "id": "dYD7m8PZ0Cpo"
      },
      "source": [
        "## Test results on the circles600 dataset:\n",
        "\n",
        "From the results above we can observe that the Neural Network has been able to handle the circles data set, with a better accuracy. The Logistic Regression model was giving an accuracy score of 58%, whereas the Neural Network is giving an accuracy of 77 %. Neural Networks usually require a large amount of data to perform better. As this is quite a small data set a performance of 77% is quite decent. \n",
        "\n",
        "So the Neural Network is giving a better accuracy score while handling the circles data set compared to the Logistic Regression Algorithm. "
      ]
    },
    {
      "cell_type": "markdown",
      "metadata": {
        "id": "HqdToq5_4lsy"
      },
      "source": [
        "# Part IV:\n",
        "## Challenging Task\n",
        "\n",
        "In this task I have loaded the CIFAR10 data set using the code provided by Michael Madden. "
      ]
    },
    {
      "cell_type": "markdown",
      "metadata": {
        "id": "RNfJCzbcS4V8"
      },
      "source": [
        "# Load and View CIFAR-10 Data\n",
        "\n",
        "Michael Madden, Feb 2021.\n",
        "\n",
        "This is sample code to load data from the CIFAR-10 dataset, and view some images.\n",
        "The function unpickle() below is taken from the CIFAR website.\n",
        "\n",
        "Note that the CIFAR-10 images as displayed are quite fuzzy looking, because they are low res (32x32).\n",
        "\n",
        "Befor running this:\n",
        "* Download the CIFAR-10 dataset from https://www.cs.toronto.edu/~kriz/cifar.html \n",
        "* Unzip and extract the tar file to get individual files called data_batch_1, etc."
      ]
    },
    {
      "cell_type": "code",
      "execution_count": null,
      "metadata": {
        "id": "1i6DxYOHS4V8"
      },
      "outputs": [],
      "source": [
        "# This function taken from the CIFAR website\n",
        "\n",
        "def unpickle(file):\n",
        "    import pickle\n",
        "    with open(file, 'rb') as fo:\n",
        "        dict = pickle.load(fo, encoding='bytes')\n",
        "    return dict\n",
        "\n",
        "# Loaded in this way, each of the batch files contains a dictionary with the following elements:\n",
        "#   data -- a 10000x3072 numpy array of uint8s. Each row of the array stores a 32x32 colour image. \n",
        "#           The first 1024 entries contain the red channel values, the next 1024 the green, and the final 1024 the blue. \n",
        "#           The image is stored in row-major order, so that the first 32 entries of the array are the red channel values \n",
        "#           of the first row of the image.\n",
        "#   labels -- a list of 10000 numbers in the range 0-9. \n",
        "#             The number at index i indicates the label of the ith image in the array data.\n"
      ]
    },
    {
      "cell_type": "code",
      "execution_count": null,
      "metadata": {
        "id": "xeku6OYaS4V8"
      },
      "outputs": [],
      "source": [
        "def loadbatch(batchname):\n",
        "    folder = 'cifar-10-batches-py'\n",
        "    batch = unpickle(folder+\"/\"+batchname)\n",
        "    return batch"
      ]
    },
    {
      "cell_type": "code",
      "execution_count": null,
      "metadata": {
        "id": "xUiORzIFS4V9"
      },
      "outputs": [],
      "source": [
        "def loadlabelnames():\n",
        "    folder = 'cifar-10-batches-py'\n",
        "    meta = unpickle(folder+\"/\"+'batches.meta')\n",
        "    return meta[b'label_names']"
      ]
    },
    {
      "cell_type": "code",
      "execution_count": null,
      "metadata": {
        "id": "XkwgdxA1S4V9"
      },
      "outputs": [],
      "source": [
        "import matplotlib.pyplot as plt\n",
        "\n",
        "def visualise(data, index):\n",
        "    # MM Jan 2019: Given a CIFAR data nparray and the index of an image, display the image.\n",
        "    # Note that the images will be quite fuzzy looking, because they are low res (32x32).\n",
        "\n",
        "    picture = data[index]\n",
        "    # Initially, the data is a 1D array of 3072 pixels; reshape it to a 3D array of 3x32x32 pixels\n",
        "    # Note: after reshaping like this, you could select one colour channel or average them.\n",
        "    picture.shape = (3,32,32) \n",
        "    \n",
        "    # Plot.imshow requires the RGB to be the third dimension, not the first, so need to rearrange\n",
        "    picture = picture.transpose([1, 2, 0])\n",
        "    plt.imshow(picture)\n",
        "    plt.show()"
      ]
    },
    {
      "cell_type": "code",
      "execution_count": null,
      "metadata": {
        "id": "7njPCg6PS4V9",
        "outputId": "92221ff0-9e2e-4e1a-e95a-bc129252b50c"
      },
      "outputs": [
        {
          "name": "stdout",
          "output_type": "stream",
          "text": [
            "Number of items in the batch is 4\n",
            "All keys in the batch: dict_keys([b'batch_label', b'labels', b'data', b'filenames'])\n"
          ]
        }
      ],
      "source": [
        "batch1 = loadbatch('data_batch_1')\n",
        "print(\"Number of items in the batch is\", len(batch1))\n",
        "\n",
        "# Display all keys, so we can see the ones we want\n",
        "print('All keys in the batch:', batch1.keys())"
      ]
    },
    {
      "cell_type": "code",
      "execution_count": null,
      "metadata": {
        "id": "vVkBLGyXS4V-",
        "outputId": "d497a819-e039-4573-9494-6328f1c1e8f5"
      },
      "outputs": [
        {
          "name": "stdout",
          "output_type": "stream",
          "text": [
            "size of data in this batch: 10000 , size of labels: 10000\n",
            "<class 'numpy.ndarray'>\n",
            "(10000, 3072)\n"
          ]
        }
      ],
      "source": [
        "data = batch1[b'data']\n",
        "labels = batch1[b'labels']\n",
        "print (\"size of data in this batch:\", len(data), \", size of labels:\", len(labels))\n",
        "print (type(data))\n",
        "print(data.shape)\n",
        "\n",
        "names = loadlabelnames()"
      ]
    },
    {
      "cell_type": "code",
      "execution_count": null,
      "metadata": {
        "id": "etsrBv09S4V-"
      },
      "outputs": [],
      "source": [
        "# Display a few images from the batch\n",
        "for i in range (100,120):\n",
        "   visualise(data, i)\n",
        "   print(\"Image\", i,\": Class is \", names[labels[i]], \"class id=\", labels[i])"
      ]
    },
    {
      "cell_type": "code",
      "execution_count": null,
      "metadata": {
        "id": "e-5UW2EzS4V-"
      },
      "outputs": [],
      "source": [
        "red_channel = data[:,:1024]\n",
        "    \n",
        "labels = np.array([labels])\n",
        "labels = labels.T\n",
        "\n",
        "\n",
        "data_set = np.append(red_channel,labels,axis=1)\n",
        "automobile= data[data[:,-1] == 1]\n",
        "ship = data[data[:,-1] == 8]\n",
        "y = np.concatenate((automobile,ship),axis=0)\n",
        "\n",
        "Y = y[:,[-1]]\n",
        "Y[Y==8] = 0\n",
        "\n",
        "X = np.delete(y,-1,1)"
      ]
    },
    {
      "cell_type": "code",
      "execution_count": null,
      "metadata": {
        "id": "ipz2VTbeS4V_"
      },
      "outputs": [],
      "source": [
        "#Splitting the CIFAR dataset and storing the train and test data \n",
        "\n",
        "X_train_cifar, X_test_cifar, Y_train_cifar, Y_test_cifar = train_test_split(X, Y, \n",
        "                                               test_size=0.3, random_state=17)\n"
      ]
    },
    {
      "cell_type": "code",
      "execution_count": null,
      "metadata": {
        "id": "tqPhjGs7S4V_",
        "outputId": "2ccae845-17f8-431d-9f72-e22760499e7d"
      },
      "outputs": [
        {
          "name": "stdout",
          "output_type": "stream",
          "text": [
            "(3071, 37)\n",
            "(1, 37)\n",
            "(3071, 17)\n",
            "(1, 17)\n"
          ]
        }
      ],
      "source": [
        "#In the below step I am transposing the data to fit it into the input format:\n",
        "X_train_cifar = np.transpose(X_train_cifar)\n",
        "X_test_cifar = np.transpose(X_test_cifar)\n",
        "Y_train_cifar = np.transpose(Y_train_cifar)\n",
        "Y_test_cifar = np.transpose(Y_test_cifar)\n",
        "\n",
        "#In the below code I am normalizing the input data by dividing it by 255\n",
        "X_train_cifar = X_train_cifar/255\n",
        "X_test_cifar = X_test_cifar/255\n",
        "\n",
        "#I am printing the shape of the input data to understand if it could be fit into the model \n",
        "print(X_train_cifar.shape)\n",
        "print(Y_train_cifar.shape)\n",
        "print(X_test_cifar.shape)\n",
        "print(Y_test_cifar.shape)"
      ]
    },
    {
      "cell_type": "code",
      "execution_count": null,
      "metadata": {
        "id": "cjhyGbFhS4V_",
        "outputId": "5fe0a3ae-affc-418a-f44c-a9812b24625a"
      },
      "outputs": [
        {
          "name": "stdout",
          "output_type": "stream",
          "text": [
            "Cost after 0 epoch: 0.691916\n",
            "Cost after 100 epoch: 0.692551\n",
            "Cost after 200 epoch: 2.039445\n",
            "Cost after 300 epoch: 0.704991\n",
            "Cost after 400 epoch: 0.734724\n"
          ]
        },
        {
          "data": {
            "image/png": "[encoded data removed]",
            "text/plain": [
              "<Figure size 432x288 with 1 Axes>"
            ]
          },
          "metadata": {
            "needs_background": "light"
          },
          "output_type": "display_data"
        },
        {
          "name": "stdout",
          "output_type": "stream",
          "text": [
            "Computing the accuracy of the Shallow Neural Network on the following DataSet: CIFAR\n",
            "Accuracy of the Training DataSet: 78.37837837837839 %\n",
            "Accuracy of the Testing DataSet: 64.70588235294117 %\n"
          ]
        }
      ],
      "source": [
        "#In the below lines of code, I am testing the CIFAR Data Set in the Neural Network\n",
        "#I am storing the result set in the Parameters_CIFAR_Test and I am plotting the Change in Cost \n",
        "\n",
        "data_set = \"CIFAR\"\n",
        "Parameters_CIFAR_Test = NN_Model(data_set, X_train_cifar, Y_train_cifar,X_test_cifar,\n",
        "                          Y_test_cifar, h = 10, epochs=500, learning_rate = 0.005)"
      ]
    },
    {
      "cell_type": "markdown",
      "metadata": {
        "id": "mitswzH2S4WA"
      },
      "source": [
        "## Note on CIFAR Test Results\n",
        "\n",
        "I am testing on the classes: ship and automobile. \n",
        "\n",
        "From the above results we can see that the Accuracy of the Neural Network on the Training DataSet is around 73%, which is pretty good, but the accuracy on the Testing DataSet is only around 64%. The accuracy on the test set is not good enough, this might imporve by implementing features like adding more hidden layers to the existing Neural Network. "
      ]
    },
    {
      "cell_type": "markdown",
      "metadata": {
        "id": "oPc97DnNS4WA"
      },
      "source": [
        "# Part V:\n",
        "## Deep Learning Enhancements\n",
        "\n",
        "In the below section I have tried to implement the Deep Learning Enhancements to the existing Neural Network that I have developed. \n",
        "\n",
        "In the below lines of code I have added the following enhaanncements:\n",
        "\n",
        "1)Added an extra Hidden Layer to make the enhanced network as a deep network. \n",
        "\n",
        "2)Implemented the L2 Regularization to avoid overfitting of the data. The L2 regularization method introduces a penalty term on the cost function, depending on the model complexity. I have implemented it in the 'regularization_cost' function.\n",
        "\n",
        "I have defined each of the fucntions seperately and have combined them in a cumulative function(Model) at the end. "
      ]
    },
    {
      "cell_type": "code",
      "execution_count": null,
      "metadata": {
        "id": "DMgLk_dhS4WA"
      },
      "outputs": [],
      "source": [
        "#Function for Initialiing the parameters:\n",
        "def NN2_parameter_initialization(layers):\n",
        "  #Passing the list of layers to be used in the Neural Network.\n",
        "    params = {}\n",
        "    L = len(layers) \n",
        "    \n",
        "    for i in range(L-1):\n",
        "        # Update weight with weight Normalization\n",
        "        params[\"W\" + str(i+1)] = np.random.randn(layers[i+1], layers[i]) / np.sqrt(layers[i])\n",
        "        params[\"b\" + str(i+1)] = np.zeros((layers[i+1], 1));\n",
        "\n",
        "    return params"
      ]
    },
    {
      "cell_type": "code",
      "execution_count": null,
      "metadata": {
        "id": "ndo15JLNS4WB"
      },
      "outputs": [],
      "source": [
        "#Function to compute the Forward Propagation\n",
        "#This function takes in the values of X, parameters\n",
        "#The function returns the values of A1,A2,A3. \n",
        "\n",
        "def NN2_forward_propagation(X, params):\n",
        "\n",
        "    #Isolating the parameters from the returned dictionary. \n",
        "    W1 = params[\"W1\"]\n",
        "    b1 = params[\"b1\"]\n",
        "    W2 = params[\"W2\"]\n",
        "    b2 = params[\"b2\"]\n",
        "    W3 = params[\"W3\"]\n",
        "    b3 = params[\"b3\"]\n",
        "\n",
        "    #Layer: 1\n",
        "    #Computing the z1 value for Layer 1:\n",
        "    z1 = np.dot(W1, X) + b1\n",
        "    #Computing the A1 value for Layer 1:\n",
        "    A1 = sigmoid(z1)\n",
        "\n",
        "    #Layer: 2\n",
        "    #Computing the z2 value for Layer 2:\n",
        "    z2 = np.dot(W2, A1) + b2\n",
        "    #Computing the A2 value for Layer 2:\n",
        "    A2 = sigmoid(z2)\n",
        "\n",
        "    #Layer: 3\n",
        "    #Computing the z3 value for Layer 3:\n",
        "    z3 = np.dot(W3, A2) + b3\n",
        "    #Computing the A3 value for Layer 3:\n",
        "    A3 = sigmoid(z3)\n",
        "\n",
        "    #Storing the required values in the variable, forward_prop\n",
        "    forward_propagation = (W1, b1, A1 , W2, b2, A2 ,W3, b3, A3)\n",
        "\n",
        "    #Returning the forward_prop to the calling function\n",
        "    return forward_propagation"
      ]
    },
    {
      "cell_type": "code",
      "execution_count": null,
      "metadata": {
        "id": "JnYIAFMNS4WB"
      },
      "outputs": [],
      "source": [
        "#Function to compute the Regularization cost\n",
        "#The function takes in the A3, Y, forward_prop and lambda. \n",
        "#This function will add the penalty term to the computed cost\n",
        "\n",
        "def regularization_cost(A3, Y, forward_prop, lambd=0.1):\n",
        "    \n",
        "    \n",
        "    #The shape of the Y, has been stored in the variable 'm'\n",
        "    m = Y.shape[1]\n",
        "    \n",
        "    (W1, b1, A1 , W2, b2, A2 ,W3, b3, A3) = forward_prop\n",
        "    \n",
        "    #Calculating the cross-entropy\n",
        "    cross_entropy_cost = get_cost(A3, Y) \n",
        "    \n",
        "    #L2-component\n",
        "    L2_regularization_cost =lambd * (np.sum(np.square(W1))\n",
        "                                     + np.sum(np.square(W2)) \n",
        "                                     + np.sum(np.square(W3))) / (2 * m)\n",
        "    \n",
        "    #Post L2-regularisation cost\n",
        "    #I am updating the cost at this step\n",
        "    cost = cross_entropy_cost + L2_regularization_cost\n",
        "    \n",
        "    return cost"
      ]
    },
    {
      "cell_type": "code",
      "execution_count": null,
      "metadata": {
        "id": "MmwF9XUvS4WB"
      },
      "outputs": [],
      "source": [
        "#Function to compute the backpropagation steps.\n",
        "#The function will take in the data set, data returned by the forward propagation step and the lambda.\n",
        "#The function will return the gradients. \n",
        "\n",
        "def NN2_back_propagation(X, Y, forward_prop,lambd = 0.1):\n",
        "\n",
        "    (W1, b1, A1 , W2, b2, A2 ,W3, b3, A3) = forward_prop\n",
        "\n",
        "    #Saving the shape of X in 'm'. \n",
        "    m = X.shape[1]\n",
        "\n",
        "    #I am computing the backpropagation steps from the output to the input \n",
        "    \n",
        "    #Layer: 3\n",
        "    dZ3 = (A3 - Y) \n",
        "    dW3 = 1./m * np.dot(dZ3, A2.T) + (lambd * W3) / m\n",
        "    db3 = 1./m * np.sum(dZ3, axis=1, keepdims = True)\n",
        "\n",
        "    #Layer: 2\n",
        "    #Computing the gradients of Layer 2\n",
        "    dA2 = np.dot(W3.T, dZ3)\n",
        "\n",
        "    dZ2 =  np.multiply(np.dot(np.transpose(W3), dZ3), 1 - np.power(A2, 2))                   \n",
        "    dW2 = 1./m * np.dot(dZ2, A1.T) + (lambd * W2) / m\n",
        "    db2 = 1./m * np.sum(dZ2, axis=1, keepdims = True)\n",
        "\n",
        "    #Layer: 1\n",
        "    #Computing the gradients of Layer 1\n",
        "    dA1 = np.dot(W2.T, dZ2)\n",
        "\n",
        "    dZ1 =  np.multiply(np.dot(np.transpose(W2), dZ2), 1 - np.power(A1, 2))                  \n",
        "    dW1 = 1./m * np.dot(dZ1, X.T) + (lambd * W1) / m\n",
        "    db1 = 1./m * np.sum(dZ1, axis=1, keepdims = True)\n",
        "        \n",
        "\n",
        "    gradients = {\"dW3\": dW3, \"db3\": db3, \"dW2\": dW2, \"db2\": db2, \"dW1\": dW1, \"db1\": db1}\n",
        "                 \n",
        "    return gradients"
      ]
    },
    {
      "cell_type": "code",
      "execution_count": null,
      "metadata": {
        "id": "CCvGeVLYS4WC"
      },
      "outputs": [],
      "source": [
        "#Function to update parameters.\n",
        "#The function will take in the parameters, gradients and learning rate.\n",
        "#The function will return the updated parameters. \n",
        "#This function executes the following formula: \n",
        "#w = w - (learning rate)*dw\n",
        "#b = b - (learning rate)*db\n",
        "\n",
        "def NN2_update(params, gradients, learning_rate):\n",
        "\n",
        "    #Storing the number of Layers\n",
        "    L = len(params) // 2 \n",
        "\n",
        "    #Updating the parameters\n",
        "    for i in range(L):\n",
        "        params[\"W\" + str(i+1)] = params[\"W\" + str(i+1)] - learning_rate * gradients[\"dW\" + str(i+1)]\n",
        "        params[\"b\" + str(i+1)] = params[\"b\" + str(i+1)] - learning_rate * gradients[\"db\" + str(i+1)]\n",
        "\n",
        "    #Returning the updated parameters\n",
        "    return params"
      ]
    },
    {
      "cell_type": "code",
      "execution_count": null,
      "metadata": {
        "id": "MbNQoLDJS4WC"
      },
      "outputs": [],
      "source": [
        "#Function to predict the output.\n",
        "#The function will take in the X values, parameters.\n",
        "#The function will return the Y_pred values. \n",
        "\n",
        "def NN2_prediction(parameters, X):\n",
        "\n",
        "    m = X.shape[1]\n",
        "    Y_pred = np.zeros((1,m))\n",
        "\n",
        "    forward_prop = NN2_forward_propagation(X, parameters)\n",
        "    (W1, b1, A1 , W2, b2, A2 ,W3, b3, A3) = forward_prop\n",
        "    \n",
        "    for i in range(A3.shape[1]):\n",
        "        \n",
        "        # Convert probabilities A[0,i] to actual predictions p[0,i]\n",
        "        Y_pred[0, i] = 1 if A3[0, i] > 0.5 else 0\n",
        "      \n",
        "    return Y_pred"
      ]
    },
    {
      "cell_type": "code",
      "execution_count": null,
      "metadata": {
        "id": "CG53SLVIS4WC"
      },
      "outputs": [],
      "source": [
        "#Function to combine the functions into the final model \n",
        "\n",
        "def NN2_model(data_set, X_train, Y_train, X_test, Y_test, \n",
        "              learning_rate = 0.01,epochs = 20000, h1=10, h2=5,lambd = 0.1):\n",
        "    \n",
        "                    \n",
        "    #Initialized the gradients and cost_list\n",
        "    gradients = {}\n",
        "    cost_list = [] # to keep track of the loss\n",
        "\n",
        "    layers = [X_train.shape[0], h1, h2, 1]\n",
        "\n",
        "    #Initialize parameters dictionary.\n",
        "    parameters = NN2_parameter_initialization(layers)\n",
        "\n",
        "    #Running the loop over the epochs \n",
        "\n",
        "    for i in range(epochs):\n",
        "\n",
        "        #Calling the Forward propagation function,  \n",
        "        #storing the result in forward_prop\n",
        "        forward_prop = NN2_forward_propagation(X_train, parameters)\n",
        "        \n",
        "        (W1, b1, A1 , W2, b2, A2 ,W3, b3, A3) = forward_prop\n",
        "        \n",
        "        #Computing the regularization cost\n",
        "        cost = regularization_cost(A3, Y_train, forward_prop, lambd)\n",
        "\n",
        "        #Calling the Backpropagation fucntion\n",
        "        gradients = NN2_back_propagation(X_train, Y_train, forward_prop, lambd)\n",
        "\n",
        "        #Calling the function to Update parameters\n",
        "        parameters = NN2_update(parameters, gradients, learning_rate)\n",
        "\n",
        "        #I am prinitng the cost after each epoch. \n",
        "        if i % 100 == 0:\n",
        "            print(\"Cost after iteration {}: {}\".format(i, cost))\n",
        "            cost_list.append(cost)\n",
        "            \n",
        "    #Calling the prediction fucntion to predict values\n",
        "\n",
        "    Y_pred_train = NN2_prediction(parameters,X_train)\n",
        "    Y_pred_test = NN2_prediction(parameters,X_test)\n",
        "    \n",
        "\n",
        "    #Printing the accuracy on the dataset\n",
        "    print(\"Printing the Accuracy of the Enhanced Neural Network on the following DataSet:\",data_set)\n",
        "    print(\"Accuracy on the Training DataSet: {} %\"\n",
        "          .format(100 - np.mean(np.abs(Y_pred_train - Y_train)) * 100))\n",
        "    print(\"Accuracy on the Testing DataSet: {} %\"\n",
        "          .format(100 - np.mean(np.abs(Y_pred_test - Y_test)) * 100))\n",
        "\n",
        "    #I am plotting the cost below\n",
        "    plt.plot(cost_list)\n",
        "    plt.ylabel('cost')\n",
        "    plt.xlabel('Iterations')\n",
        "    plt.title(\"Plotting the change in cost at the Learning rate =\" + str(learning_rate))\n",
        "    plt.show()\n",
        "\n",
        "    #I am returning the parameters to the calling function\n",
        "    return parameters"
      ]
    },
    {
      "cell_type": "code",
      "execution_count": null,
      "metadata": {
        "id": "NlFscMTgS4WD",
        "outputId": "0c1278c3-fcc3-4729-d6f9-eeafc3b86acf"
      },
      "outputs": [
        {
          "name": "stdout",
          "output_type": "stream",
          "text": [
            "Cost after iteration 0: 0.85258480956798\n",
            "Cost after iteration 100: 0.6731027934372922\n",
            "Cost after iteration 200: 0.5938581706497067\n",
            "Cost after iteration 300: 0.501578041295472\n",
            "Cost after iteration 400: 0.41077891662045823\n",
            "Cost after iteration 500: 0.34002216769233046\n",
            "Cost after iteration 600: 0.2932458413791734\n",
            "Cost after iteration 700: 0.264155104565237\n",
            "Cost after iteration 800: 0.24609278427714643\n",
            "Cost after iteration 900: 0.23467239133298848\n",
            "Cost after iteration 1000: 0.2273202119863179\n",
            "Cost after iteration 1100: 0.22255888312071467\n",
            "Cost after iteration 1200: 0.2195448943873175\n",
            "Cost after iteration 1300: 0.21781797964213812\n",
            "Cost after iteration 1400: 0.2171606308850182\n",
            "Cost after iteration 1500: 0.2174905048188319\n",
            "Cost after iteration 1600: 0.21875870066999667\n",
            "Cost after iteration 1700: 0.22088206355778767\n",
            "Cost after iteration 1800: 0.22373426271824834\n",
            "Cost after iteration 1900: 0.22717236617436962\n",
            "Printing the Accuracy of the Enhanced Neural Network on the following DataSet: Blobs300\n",
            "Accuracy on the Training DataSet: 98.0952380952381 %\n",
            "Accuracy on the Testing DataSet: 100.0 %\n"
          ]
        },
        {
          "data": {
            "image/png": "[encoded data removed]",
            "text/plain": [
              "<Figure size 432x288 with 1 Axes>"
            ]
          },
          "metadata": {
            "needs_background": "light"
          },
          "output_type": "display_data"
        }
      ],
      "source": [
        "#Testing on the Blobs dataset:\n",
        "data_set = \"Blobs300\"\n",
        "\n",
        "Blobs_Test_Parameter = NN2_model(data_set, X_train_flatten_blobs, Y_train_flatten_blobs,X_test_flatten_blobs,Y_test_flatten_blobs, \n",
        "learning_rate = 0.01, epochs = 2000, h1=124,h2=64, lambd=0.1)"
      ]
    },
    {
      "cell_type": "code",
      "execution_count": null,
      "metadata": {
        "id": "5XdWqxzVS4WD",
        "outputId": "0072fe14-587e-428b-c93f-122570899ce4"
      },
      "outputs": [
        {
          "name": "stdout",
          "output_type": "stream",
          "text": [
            "Cost after iteration 0: 0.732427806793821\n",
            "Cost after iteration 100: 0.7159491528017818\n",
            "Cost after iteration 200: 0.7157135983690127\n",
            "Cost after iteration 300: 0.7154924917969171\n",
            "Cost after iteration 400: 0.7152845178246765\n",
            "Cost after iteration 500: 0.7150887760239233\n",
            "Cost after iteration 600: 0.7149044539029542\n",
            "Cost after iteration 700: 0.7147308114103524\n",
            "Cost after iteration 800: 0.7145671680709753\n",
            "Cost after iteration 900: 0.7144128919080543\n",
            "Cost after iteration 1000: 0.7142673898766579\n",
            "Cost after iteration 1100: 0.7141300995794293\n",
            "Cost after iteration 1200: 0.7140004820678152\n",
            "Cost after iteration 1300: 0.7138780155563768\n",
            "Cost after iteration 1400: 0.7137621898973344\n",
            "Cost after iteration 1500: 0.7136525016796214\n",
            "Cost after iteration 1600: 0.7135484498330624\n",
            "Cost after iteration 1700: 0.7134495316351501\n",
            "Cost after iteration 1800: 0.7133552390360568\n",
            "Cost after iteration 1900: 0.713265055237597\n",
            "Printing the Accuracy of the Enhanced Neural Network on the following DataSet: Circles600\n",
            "Accuracy on the Training DataSet: 69.76190476190476 %\n",
            "Accuracy on the Testing DataSet: 60.55555555555556 %\n"
          ]
        },
        {
          "data": {
            "image/png": "[encoded data removed]",
            "text/plain": [
              "<Figure size 432x288 with 1 Axes>"
            ]
          },
          "metadata": {
            "needs_background": "light"
          },
          "output_type": "display_data"
        }
      ],
      "source": [
        "#Testing on the circles dataset\n",
        "data_set = \"Circles600\"\n",
        "\n",
        "Circle_Test_Parameter = NN2_model(data_set, X_train_flatten_circles, \n",
        " Y_train_flatten_circles, X_test_flatten_circles,Y_test_flatten_circles, \n",
        " learning_rate = 0.01, epochs = 2000, h1=124,h2=64, lambd=0.1)"
      ]
    },
    {
      "cell_type": "code",
      "execution_count": null,
      "metadata": {
        "id": "FH6kxo4AS4WE",
        "outputId": "86a12258-59ae-4680-b226-cf2ed3fedfe7"
      },
      "outputs": [
        {
          "name": "stdout",
          "output_type": "stream",
          "text": [
            "Cost after iteration 0: 0.947961728909218\n",
            "Cost after iteration 100: 0.8895062944458361\n",
            "Cost after iteration 200: 0.8467048007031832\n",
            "Cost after iteration 300: 0.8111405042673483\n",
            "Cost after iteration 400: 0.7839992802526107\n",
            "Cost after iteration 500: 0.7694563220130941\n",
            "Cost after iteration 600: 0.7717123404907491\n",
            "Cost after iteration 700: 0.7916172838083926\n",
            "Cost after iteration 800: 0.8291600713584841\n",
            "Cost after iteration 900: 0.8836626931771057\n",
            "Cost after iteration 1000: 0.9528608824356082\n",
            "Cost after iteration 1100: 1.0319987702364606\n",
            "Cost after iteration 1200: 1.120308804742295\n",
            "Cost after iteration 1300: 1.2137291000255899\n",
            "Cost after iteration 1400: 1.3086815972686932\n",
            "Cost after iteration 1500: 1.4029121006767293\n",
            "Cost after iteration 1600: 1.4944550504666734\n",
            "Cost after iteration 1700: 1.5825134702121664\n",
            "Cost after iteration 1800: 1.6670233861594308\n",
            "Cost after iteration 1900: 1.7476735405484127\n",
            "Printing the Accuracy of the Enhanced Neural Network on the following DataSet: CIFAR\n",
            "Accuracy on the Training DataSet: 100.0 %\n",
            "Accuracy on the Testing DataSet: 76.47058823529412 %\n"
          ]
        },
        {
          "data": {
            "image/png": "[encoded data removed]",
            "text/plain": [
              "<Figure size 432x288 with 1 Axes>"
            ]
          },
          "metadata": {
            "needs_background": "light"
          },
          "output_type": "display_data"
        }
      ],
      "source": [
        "#Testing on the CIFAR Dataset:\n",
        "data_set = \"CIFAR\"\n",
        "\n",
        "CIFAR_Test_Parameter = NN2_model(data_set, X_train_cifar, Y_train_cifar, \n",
        "X_test_cifar, Y_test_cifar, \n",
        " learning_rate = 0.01, epochs = 2000, h1=124,h2=64, lambd=0.1)"
      ]
    },
    {
      "cell_type": "markdown",
      "metadata": {
        "id": "xRqi5pfqS4WE"
      },
      "source": [
        "# Testing of the enhanced Neural Network\n",
        "\n",
        "## Testing on CIFAR Data Set:\n",
        "\n",
        "From the testing results above it is clear that the accuracy of the Network has increased significantly on the CIFAR data set. The accuracy on the test set using the enhanced Neural Network is around 76%. This is an improvement when compared to the 64% accuracy as obtained on the Shallow Neural Network. \n",
        "\n",
        "The accuracy of the blobs300 is 100% on the testing set on both the Shallow Neural Network as well as the Enhanced Neural Network. The accuracy of the circles600 dataset has reduced in this case, whereas it is around 77% on the Shallow Neural Network. Thus the performance of the enhanced Neural Netwok has improved significantly on the CIFAR-10 data set whereas the performance has reduced for the Circles600 dataset. This can be because of the enhancements are expected to work better in cases involving large data sets, rather than smaller ones. \n",
        "\n",
        "I had experimented with quite a few settings of the learning rate and epochs. I found the setting of learning rate of 0.01 and epochs of 2000 to be the best fit for the given datasets. "
      ]
    },
    {
      "cell_type": "markdown",
      "metadata": {
        "id": "WDwUpOCLS4WE"
      },
      "source": [
        "# References:\n",
        "\n",
        "1) Deep Learning Lectures, by Michael Madden (CT5133), National University of Ireland, Galway. \n",
        "\n",
        "2)Neural Networks and Deep Learning, lectures by Andrew NG on Coursera\n",
        "\n",
        "3)Simon Haykin, Neural Networks and Learning Machines, 3rd Edition, Chapter 4: Multilayer Perceptrons\n",
        "\n",
        "4)Simon Haykin, Neural Networks and Learning Machines, 3rd Edition, Chapter 7: Regularization Theory\n",
        "\n",
        "5)Deep Learning Book by Goodfellow, Bengio & Courville\n",
        "\n",
        "6)Joel Grus, Data Science from Scratch, Chapter 18: Neural Networks\n",
        "\n",
        "7)Joel Grus, Data Science from Scratch, Chapter 19: Deep Learning\n",
        "\n",
        "8)Joel Grus, Data Science from Scratch, Chapter 8: Gradient Descent\n",
        "\n",
        "9)[How to Configure the Number of Layers and Nodes in a Neural Network: Machine Learning Mastery](https://machinelearningmastery.com/how-to-configure-the-number-of-layers-and-nodes-in-a-neural-network/)\n",
        "\n",
        "10)[Use Weight Regularization to Reduce Overfitting of Deep Learning Models: Machine Learning Mastery](https://machinelearningmastery.com/weight-regularization-to-reduce-overfitting-of-deep-learning-models/)"
      ]
    }
  ],
  "metadata": {
    "colab": {
      "collapsed_sections": [],
      "name": "Neural_Network_From_Scratch.ipynb",
      "provenance": []
    },
    "kernelspec": {
      "display_name": "Python 3",
      "language": "python",
      "name": "python3"
    },
    "language_info": {
      "codemirror_mode": {
        "name": "ipython",
        "version": 3
      },
      "file_extension": ".py",
      "mimetype": "text/x-python",
      "name": "python",
      "nbconvert_exporter": "python",
      "pygments_lexer": "ipython3",
      "version": "3.8.8"
    }
  },
  "nbformat": 4,
  "nbformat_minor": 0
}