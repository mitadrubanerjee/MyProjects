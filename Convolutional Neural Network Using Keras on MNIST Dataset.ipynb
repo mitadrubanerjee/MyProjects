{
 "cells": [
  {
   "cell_type": "markdown",
   "id": "5c3ce64c",
   "metadata": {},
   "source": [
    "# Image Prediction using Deep Learning on MNIST Dataset using Keras\n",
    "\n",
    "Convolutional neural networks are commonly used in computer vision applications such as image classification, object recognition, image segmentation, and many others. I have used Keras to implement the Image Classification task. I have used the COnv2D layer of the Keras library in a sequential model, to achieve the convolutional aspect of the netwrok. \n",
    "\n",
    "## Keras\n",
    "\n",
    "Keras adheres to best practices for reducing cognitive load by providing consistent and simple APIs, minimizing the number of user actions required for common use cases, and providing clear and actionable feedback in the event of user error.\n",
    "Keras is thus simple to learn and use. Keras is deeply integrated with low-level TensorFlow functionality, allowing you to create highly hackable workflows in which any piece of functionality can be customized.\n",
    "\n",
    "\n",
    "In the Notebook, I have used Keras to create a Convolutional Neural Network. I have divided the Notebook into the following parts:\n",
    "\n",
    "1)Loading the libraries and Tensorboard\n",
    "\n",
    "2)Loading the MNIST and MNIST Fashion Dataset and Exploratory Data Analysis \n",
    "\n",
    "3)Building the Model\n",
    "\n",
    "4)Compiling the Model\n",
    "\n",
    "5)Testing the Model\n",
    "\n",
    "6)Tensorboard Visualization of Model\n"
   ]
  },
  {
   "cell_type": "markdown",
   "id": "f6f588ab",
   "metadata": {},
   "source": [
    "## Section 1: Loading Libraries and Tensorboard"
   ]
  },
  {
   "cell_type": "code",
   "execution_count": 2,
   "id": "a4825036",
   "metadata": {},
   "outputs": [],
   "source": [
    "#Importing the metrics package of sklearn, numpy, matplotlib and tensorflow\n",
    "from sklearn.metrics import classification_report,confusion_matrix\n",
    "import numpy as np\n",
    "import matplotlib.pyplot as plt\n",
    "import datetime\n",
    "import tensorflow as tf\n",
    "from tensorflow.keras.utils import to_categorical\n",
    "\n",
    "\n",
    "#Importing the packages from keras\n",
    "from keras.models import Sequential\n",
    "from keras.layers import Dense, Conv2D, Flatten\n",
    "\n",
    "#Importing the MNIST dataset from keras\n",
    "from keras.datasets import mnist\n",
    "tf.keras.datasets.fashion_mnist.load_data()\n",
    "from keras.datasets import fashion_mnist"
   ]
  },
  {
   "cell_type": "code",
   "execution_count": 3,
   "id": "56c09dc1",
   "metadata": {},
   "outputs": [],
   "source": [
    "#Loading Tensorboard:\n",
    "\n",
    "# Load the TensorBoard notebook extension\n",
    "%load_ext tensorboard\n",
    "\n",
    "#Setting up the tensorboard log location and using it in callbacks\n",
    "log_dir = \"logs/fit/\" + datetime.datetime.now().strftime(\"%Y%m%d-%H%M%S\")\n",
    "tensorboard_callback = tf.keras.callbacks.TensorBoard(log_dir=log_dir, histogram_freq=1)"
   ]
  },
  {
   "cell_type": "markdown",
   "id": "19c60435",
   "metadata": {},
   "source": [
    "## Section 1: Loading the MNIST Dataset and Exploratory Data Analysis \n",
    "\n",
    "#### DataSet 1: Digit Data\n",
    "\n",
    "In the following section, I am loading the MNIST Digit Dataset. "
   ]
  },
  {
   "cell_type": "code",
   "execution_count": 4,
   "id": "997c7756",
   "metadata": {},
   "outputs": [],
   "source": [
    "#Downloading the MNIST data and splitting it into train and test set:\n",
    "\n",
    "(X_train_digit, y_train_digit), (X_test_digit, y_test_digit) = mnist.load_data()"
   ]
  },
  {
   "cell_type": "code",
   "execution_count": 5,
   "id": "6acd54f9",
   "metadata": {},
   "outputs": [
    {
     "data": {
      "text/plain": [
       "<matplotlib.image.AxesImage at 0x256d1a77b80>"
      ]
     },
     "execution_count": 5,
     "metadata": {},
     "output_type": "execute_result"
    },
    {
     "data": {
      "image/png": "[encoded data removed]",
      "text/plain": [
       "<Figure size 432x288 with 1 Axes>"
      ]
     },
     "metadata": {
      "needs_background": "light"
     },
     "output_type": "display_data"
    }
   ],
   "source": [
    "#plot the first image in the dataset\n",
    "plt.imshow(X_train_digit[0])"
   ]
  },
  {
   "cell_type": "markdown",
   "id": "fbd0bd15",
   "metadata": {},
   "source": [
    "I am checking the shape of the images, by printing the shape. This is necessary to understand how to build the model. "
   ]
  },
  {
   "cell_type": "markdown",
   "id": "5f13398e",
   "metadata": {},
   "source": [
    "#### DataSet 2: MNIST Fashion Dataset\n",
    "\n",
    "In the below section, I am loading the MNIST Fashion dataset. "
   ]
  },
  {
   "cell_type": "code",
   "execution_count": 6,
   "id": "b84864d0",
   "metadata": {},
   "outputs": [],
   "source": [
    "\n",
    "(x_train_fashion, y_train_fashion), (x_test_fashion, y_test_fashion) = fashion_mnist.load_data()\n",
    "assert x_train_fashion.shape == (60000, 28, 28)\n",
    "assert x_test_fashion.shape == (10000, 28, 28)\n",
    "assert y_train_fashion.shape == (60000,)\n",
    "assert y_test_fashion.shape == (10000,)"
   ]
  },
  {
   "cell_type": "code",
   "execution_count": 7,
   "id": "72a1c788",
   "metadata": {},
   "outputs": [
    {
     "data": {
      "text/plain": [
       "<matplotlib.image.AxesImage at 0x256d21d5d30>"
      ]
     },
     "execution_count": 7,
     "metadata": {},
     "output_type": "execute_result"
    },
    {
     "data": {
      "image/png": "[encoded data removed]",
      "text/plain": [
       "<Figure size 432x288 with 1 Axes>"
      ]
     },
     "metadata": {
      "needs_background": "light"
     },
     "output_type": "display_data"
    }
   ],
   "source": [
    "plt.imshow(x_train_fashion[0])"
   ]
  },
  {
   "cell_type": "code",
   "execution_count": 8,
   "id": "3400f45b",
   "metadata": {},
   "outputs": [
    {
     "data": {
      "text/plain": [
       "(28, 28)"
      ]
     },
     "execution_count": 8,
     "metadata": {},
     "output_type": "execute_result"
    }
   ],
   "source": [
    "#check image shape\n",
    "x_train_fashion[0].shape"
   ]
  },
  {
   "cell_type": "markdown",
   "id": "f58ce2ee",
   "metadata": {},
   "source": [
    "In the below section, I am reshaping the images. "
   ]
  },
  {
   "cell_type": "code",
   "execution_count": 11,
   "id": "ad6ecdf6",
   "metadata": {},
   "outputs": [],
   "source": [
    "#reshape data to fit model\n",
    "X_train = x_train_fashion.reshape(60000,28,28,1)\n",
    "X_test = x_test_fashion.reshape(10000,28,28,1)"
   ]
  },
  {
   "cell_type": "code",
   "execution_count": 12,
   "id": "17d58cec",
   "metadata": {},
   "outputs": [
    {
     "data": {
      "text/plain": [
       "array([0., 0., 0., 0., 0., 0., 0., 0., 0., 1.], dtype=float32)"
      ]
     },
     "execution_count": 12,
     "metadata": {},
     "output_type": "execute_result"
    }
   ],
   "source": [
    "\n",
    "#one-hot encode target column\n",
    "y_train = to_categorical(y_train_fashion)\n",
    "y_test = to_categorical(y_test_fashion)\n",
    "y_train[0]"
   ]
  },
  {
   "cell_type": "markdown",
   "id": "5d360d1a",
   "metadata": {},
   "source": [
    "## Section 3: Building the Model"
   ]
  },
  {
   "cell_type": "code",
   "execution_count": 13,
   "id": "ce60d1a0",
   "metadata": {},
   "outputs": [],
   "source": [
    "#Building Model\n",
    "model = Sequential()\n",
    "\n",
    "#Adding the layers of the model\n",
    "\n",
    "model.add(Conv2D(64, kernel_size=3, activation='relu', input_shape=(28,28,1)))\n",
    "model.add(Conv2D(32, kernel_size=3, activation='relu'))\n",
    "model.add(Flatten())\n",
    "model.add(Dense(10, activation='softmax'))"
   ]
  },
  {
   "cell_type": "markdown",
   "id": "73d2914c",
   "metadata": {},
   "source": [
    "## Section 4: Compiling the Model"
   ]
  },
  {
   "cell_type": "code",
   "execution_count": 14,
   "id": "fee103d2",
   "metadata": {},
   "outputs": [],
   "source": [
    "#compile model using accuracy to measure model performance\n",
    "model.compile(optimizer='adam', loss='categorical_crossentropy', metrics=['accuracy'])"
   ]
  },
  {
   "cell_type": "markdown",
   "id": "582d0ed2",
   "metadata": {},
   "source": [
    "## Section 5: Testing the Model"
   ]
  },
  {
   "cell_type": "code",
   "execution_count": 15,
   "id": "2fc4afe2",
   "metadata": {},
   "outputs": [
    {
     "name": "stdout",
     "output_type": "stream",
     "text": [
      "Epoch 1/3\n",
      "1875/1875 [==============================] - 72s 38ms/step - loss: 0.5617 - accuracy: 0.8351 - val_loss: 0.3902 - val_accuracy: 0.8561\n",
      "Epoch 2/3\n",
      "1875/1875 [==============================] - 72s 38ms/step - loss: 0.3341 - accuracy: 0.8792 - val_loss: 0.3722 - val_accuracy: 0.8685\n",
      "Epoch 3/3\n",
      "1875/1875 [==============================] - 70s 38ms/step - loss: 0.2853 - accuracy: 0.8971 - val_loss: 0.3605 - val_accuracy: 0.8681\n"
     ]
    }
   ],
   "source": [
    "#train the model\n",
    "history = model.fit(X_train, y_train, validation_data=(X_test, y_test), epochs=3, callbacks=[tensorboard_callback])"
   ]
  },
  {
   "cell_type": "code",
   "execution_count": 16,
   "id": "5393982f",
   "metadata": {},
   "outputs": [
    {
     "data": {
      "image/png": "[encoded data removed]",
      "text/plain": [
       "<Figure size 1080x1080 with 2 Axes>"
      ]
     },
     "metadata": {
      "needs_background": "light"
     },
     "output_type": "display_data"
    }
   ],
   "source": [
    "#I am plotting the training and validation accuracy of the model compiled above\n",
    "\n",
    "acc = history.history['accuracy']\n",
    "val_acc = history.history['val_accuracy']\n",
    "loss = history.history['loss']\n",
    "val_loss = history.history['val_loss']\n",
    "\n",
    "epochs_range = range(3)\n",
    "\n",
    "plt.figure(figsize=(15, 15))\n",
    "plt.subplot(2, 2, 1)\n",
    "plt.plot(epochs_range, acc, label='Training Accuracy')\n",
    "plt.plot(epochs_range, val_acc, label='Validation Accuracy')\n",
    "plt.legend(loc='lower right')\n",
    "plt.title('Training and Validation Accuracy')\n",
    "\n",
    "plt.subplot(2, 2, 2)\n",
    "plt.plot(epochs_range, loss, label='Training Loss')\n",
    "plt.plot(epochs_range, val_loss, label='Validation Loss')\n",
    "plt.legend(loc='upper right')\n",
    "plt.title('Training and Validation Loss')\n",
    "plt.show()"
   ]
  },
  {
   "cell_type": "code",
   "execution_count": 17,
   "id": "887669c4",
   "metadata": {},
   "outputs": [],
   "source": [
    "#Making the predictions on the customized model:\n",
    "#I am prinitng out the precision and accuracy on the test data. \n",
    "\n",
    "#predict first 4 images in the test set\n",
    "model.predict(X_test[:4])\n",
    "predictions_model = np.argmax(model.predict(X_test), axis=-1)"
   ]
  },
  {
   "cell_type": "markdown",
   "id": "ef531f8d",
   "metadata": {},
   "source": [
    "## Section 6: Tensorboard Visualization of Model"
   ]
  },
  {
   "cell_type": "code",
   "execution_count": 18,
   "id": "1c80a702",
   "metadata": {},
   "outputs": [
    {
     "data": {
      "text/html": [
       "\n",
       "      <iframe id=\"tensorboard-frame-178d6685ae272802\" width=\"100%\" height=\"800\" frameborder=\"0\">\n",
       "      </iframe>\n",
       "      <script>\n",
       "        (function() {\n",
       "          const frame = document.getElementById(\"tensorboard-frame-178d6685ae272802\");\n",
       "          const url = new URL(\"/\", window.location);\n",
       "          const port = 6006;\n",
       "          if (port) {\n",
       "            url.port = port;\n",
       "          }\n",
       "          frame.src = url;\n",
       "        })();\n",
       "      </script>\n",
       "    "
      ],
      "text/plain": [
       "<IPython.core.display.HTML object>"
      ]
     },
     "metadata": {},
     "output_type": "display_data"
    }
   ],
   "source": [
    "%tensorboard --logdir logs/fit"
   ]
  },
  {
   "cell_type": "markdown",
   "id": "c35f1a92",
   "metadata": {},
   "source": [
    "### Discussion of Results"
   ]
  },
  {
   "cell_type": "markdown",
   "id": "1051855f",
   "metadata": {},
   "source": [
    "In the Notebook, I have developed, trained and deployed a Convolutional Neural Network using Keras. The training and validation accuracy is quite high on both the training and validation set. The plot is also a testament ot how the training and validation loss has been declining over epochs whereas the accuracy has been increasing over epochs. "
   ]
  }
 ],
 "metadata": {
  "kernelspec": {
   "display_name": "Python 3",
   "language": "python",
   "name": "python3"
  },
  "language_info": {
   "codemirror_mode": {
    "name": "ipython",
    "version": 3
   },
   "file_extension": ".py",
   "mimetype": "text/x-python",
   "name": "python",
   "nbconvert_exporter": "python",
   "pygments_lexer": "ipython3",
   "version": "3.8.8"
  }
 },
 "nbformat": 4,
 "nbformat_minor": 5
}
