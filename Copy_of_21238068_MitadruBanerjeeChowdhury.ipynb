{
  "nbformat": 4,
  "nbformat_minor": 0,
  "metadata": {
    "colab": {
      "name": "Copy of 21238068_MitadruBanerjeeChowdhury.ipynb",
      "provenance": [],
      "collapsed_sections": [],
      "authorship_tag": "ABX9TyPpp+zowKAmQFZnFPZpuBJy",
      "include_colab_link": true
    },
    "kernelspec": {
      "name": "python3",
      "display_name": "Python 3"
    },
    "language_info": {
      "name": "python"
    }
  },
  "cells": [
    {
      "cell_type": "markdown",
      "metadata": {
        "id": "view-in-github",
        "colab_type": "text"
      },
      "source": [
        "<a href=\"https://colab.research.google.com/github/mitadrubanerjee/MyProjects/blob/main/Copy_of_21238068_MitadruBanerjeeChowdhury.ipynb\" target=\"_parent\"><img src=\"https://colab.research.google.com/assets/colab-badge.svg\" alt=\"Open In Colab\"/></a>"
      ]
    },
    {
      "cell_type": "markdown",
      "source": [
        "#Implementing Regression Algorithm to predict the housing prices\n",
        "\n",
        "##Problem Statement\n",
        "\n",
        "\n",
        "I will train two different regression models and prepare a short report. This report will describe the methodology followed, and analyse the performance of the models that were trained.\n",
        "\n",
        "\n",
        "1)Select an appropriate ML package to use for this regression task. Your report should briefly introduce your chosen package and your reasons for selecting it. [2 marks max.]\n",
        "\n",
        "2)Document any steps which you followed to prepare the data for input into the ML package [1 mark max.]\n",
        "\n",
        "3)In the ML package, select two different regression algorithms that you will apply to the dataset to learn two different regression models. Here are some possible choices, though other appropriate algorithms are fine too: linear regression, multi-layer perceptron, decision trees, k-nearest neighbours, support vector machines, etc. In your report, include a brief, clear description of both algorithms. Ensure that you acknowledge all of your sources of information. [2x2 = 4 marks max.]\n",
        "\n",
        "4)Describe the process you followed while developing each model. Be sure to include and justify final the values selected for all parameter settings, and describe the process you followed while searching through possible parameter settings. Describe each of the models, using graphics if appropriate. [2x3 = 6 marks max]\n",
        "\n",
        "5)Discuss how you divided the dataset into test/training sets and monitored for possible overfitting or underfitting. [3 marks max.]\n",
        "Evaluate the performance of the two regression models using appropriate metrics (e.g., RMSE, MAE, R, R2 etc.). \n",
        "\n",
        "6)Discuss whether the two models give very similar or significantly different results, and why. [4 marks max.]\n",
        "The dataset for this assignment in a file called \"galway_rentals.txt\". Columns are separated by tabs and rows are separated by newlines. Each row describes one individual instance in the dataset. The attributes are in columns in the following order: \n",
        "\n",
        "price_per_month, distance_eyre_square, distance_salthill , distance_nuig, distance_gmit, num_bedrooms, num_bathrooms, type, ber, balcony, floor, heating\n",
        "The goal of this regression task is to predict price_per_month based on the values of the other attributes.\n",
        "\n",
        "Your report should not exceed four A4 pages in total. Therefore, take care to ensure that it is succinct and informative, and not overly superficial. This is an individual assignment. As you are all postgraduate students, we will treat any plagiarism (from another student or other sources) very seriously.\n",
        "You must submit your report as a single PDF file in Blackboard, on or before the due date. Ensure your name, class and student ID are on it.Your assignment will be marked out of 20, with the breakdown shown above. If any aspect of your work is plagiarised or is otherwise dishonest, you will receive 0 for the full assignment."
      ],
      "metadata": {
        "id": "3xWjjAAMP8ZB"
      }
    },
    {
      "cell_type": "markdown",
      "source": [
        "\n",
        "\n",
        "In this notebook I have detailed the code and my approach that I have followed throughout the process. In the accompanying Report I have detailed my thought process and have provided a more desriptive answer to the questions as listed above.  \n",
        "\n",
        "I am working with the sklearn ML Package for this Assignment. \n",
        "I have divided the code in the following parts:\n",
        "\n",
        "Machine Learning Pipeline:\n",
        "\n",
        "1)Data Loading, Data Preparation and Exploratory Data Analysis\n",
        "\n",
        "2)Encoding of Categorical data \n",
        "\n",
        "3)Data Splitting\n",
        "\n",
        "4)Model 1\n",
        "\n",
        "5)Model 2\n",
        "\n",
        "6)Evaluation of Models\n",
        "\n",
        "\n"
      ],
      "metadata": {
        "id": "wo-DKlhiQbMi"
      }
    },
    {
      "cell_type": "code",
      "source": [
        "#Machine Learning Pipeline (1)\n",
        "\n",
        "#Loading Data Set\n",
        "#Loading the galway_rentals data set into Collab.\n",
        "\n",
        "#Importing the packages \n",
        "import pandas as pd\n",
        "import numpy as np\n",
        "import seaborn as seabornInstance \n",
        "import matplotlib.pyplot as plt  \n",
        "\n",
        "#Importing the necessary libraries from the sci-kit learn package\n",
        "from sklearn.preprocessing import OrdinalEncoder\n",
        "from sklearn.model_selection import train_test_split\n",
        "from sklearn.linear_model import LinearRegression\n",
        "from sklearn import metrics\n",
        "from sklearn.metrics import r2_score\n",
        "\n",
        "#The Galway_rentals data set (Excel) file must be uploaded before running the code, as its disconnected each time after the session. \n",
        "#Importing data set in Galway_Rentals, it is named 'Galway_Rentals', throughout the code. \n",
        "Galway_Rentals=pd.read_csv('galway_rentals.csv')\n",
        "#Displyaing the Galway_Rentals data set\n",
        "Galway_Rentals"
      ],
      "metadata": {
        "colab": {
          "base_uri": "https://localhost:8080/",
          "height": 487
        },
        "id": "Bnd7aOFiRLI7",
        "outputId": "b3840ea5-4434-439f-b626-103b97624fd3"
      },
      "execution_count": null,
      "outputs": [
        {
          "output_type": "execute_result",
          "data": {
            "text/html": [
              "\n",
              "  <div id=\"df-4680256f-2b35-4273-bfd6-41155210b3c6\">\n",
              "    <div class=\"colab-df-container\">\n",
              "      <div>\n",
              "<style scoped>\n",
              "    .dataframe tbody tr th:only-of-type {\n",
              "        vertical-align: middle;\n",
              "    }\n",
              "\n",
              "    .dataframe tbody tr th {\n",
              "        vertical-align: top;\n",
              "    }\n",
              "\n",
              "    .dataframe thead th {\n",
              "        text-align: right;\n",
              "    }\n",
              "</style>\n",
              "<table border=\"1\" class=\"dataframe\">\n",
              "  <thead>\n",
              "    <tr style=\"text-align: right;\">\n",
              "      <th></th>\n",
              "      <th>price_per_month</th>\n",
              "      <th>distance_eyre_square</th>\n",
              "      <th>distance_salthill</th>\n",
              "      <th>distance_nuig</th>\n",
              "      <th>distance_gmit</th>\n",
              "      <th>num_bedrooms</th>\n",
              "      <th>num_bathrooms</th>\n",
              "      <th>type</th>\n",
              "      <th>ber</th>\n",
              "      <th>balcony</th>\n",
              "      <th>floor</th>\n",
              "      <th>heating</th>\n",
              "    </tr>\n",
              "  </thead>\n",
              "  <tbody>\n",
              "    <tr>\n",
              "      <th>0</th>\n",
              "      <td>3700</td>\n",
              "      <td>1.112343</td>\n",
              "      <td>2.458528</td>\n",
              "      <td>0.663391</td>\n",
              "      <td>3.046377</td>\n",
              "      <td>5</td>\n",
              "      <td>3</td>\n",
              "      <td>house</td>\n",
              "      <td>exempt</td>\n",
              "      <td>no</td>\n",
              "      <td>ground</td>\n",
              "      <td>central</td>\n",
              "    </tr>\n",
              "    <tr>\n",
              "      <th>1</th>\n",
              "      <td>3640</td>\n",
              "      <td>1.045924</td>\n",
              "      <td>2.687242</td>\n",
              "      <td>1.013547</td>\n",
              "      <td>2.627561</td>\n",
              "      <td>6</td>\n",
              "      <td>3</td>\n",
              "      <td>house</td>\n",
              "      <td>b3</td>\n",
              "      <td>no</td>\n",
              "      <td>ground</td>\n",
              "      <td>central</td>\n",
              "    </tr>\n",
              "    <tr>\n",
              "      <th>2</th>\n",
              "      <td>2950</td>\n",
              "      <td>1.876834</td>\n",
              "      <td>2.365351</td>\n",
              "      <td>0.889952</td>\n",
              "      <td>4.098964</td>\n",
              "      <td>4</td>\n",
              "      <td>2</td>\n",
              "      <td>house</td>\n",
              "      <td>c1</td>\n",
              "      <td>no</td>\n",
              "      <td>ground</td>\n",
              "      <td>central</td>\n",
              "    </tr>\n",
              "    <tr>\n",
              "      <th>3</th>\n",
              "      <td>2825</td>\n",
              "      <td>1.739580</td>\n",
              "      <td>1.340990</td>\n",
              "      <td>0.973981</td>\n",
              "      <td>4.275886</td>\n",
              "      <td>3</td>\n",
              "      <td>2</td>\n",
              "      <td>apartment</td>\n",
              "      <td>d1</td>\n",
              "      <td>no</td>\n",
              "      <td>second</td>\n",
              "      <td>electric</td>\n",
              "    </tr>\n",
              "    <tr>\n",
              "      <th>4</th>\n",
              "      <td>2800</td>\n",
              "      <td>2.446769</td>\n",
              "      <td>1.037478</td>\n",
              "      <td>1.917976</td>\n",
              "      <td>4.984487</td>\n",
              "      <td>4</td>\n",
              "      <td>3</td>\n",
              "      <td>house</td>\n",
              "      <td>c1</td>\n",
              "      <td>no</td>\n",
              "      <td>ground</td>\n",
              "      <td>central</td>\n",
              "    </tr>\n",
              "    <tr>\n",
              "      <th>...</th>\n",
              "      <td>...</td>\n",
              "      <td>...</td>\n",
              "      <td>...</td>\n",
              "      <td>...</td>\n",
              "      <td>...</td>\n",
              "      <td>...</td>\n",
              "      <td>...</td>\n",
              "      <td>...</td>\n",
              "      <td>...</td>\n",
              "      <td>...</td>\n",
              "      <td>...</td>\n",
              "      <td>...</td>\n",
              "    </tr>\n",
              "    <tr>\n",
              "      <th>390</th>\n",
              "      <td>695</td>\n",
              "      <td>2.789293</td>\n",
              "      <td>4.596139</td>\n",
              "      <td>3.528945</td>\n",
              "      <td>0.546524</td>\n",
              "      <td>1</td>\n",
              "      <td>1</td>\n",
              "      <td>apartment</td>\n",
              "      <td>c2</td>\n",
              "      <td>no</td>\n",
              "      <td>first</td>\n",
              "      <td>central</td>\n",
              "    </tr>\n",
              "    <tr>\n",
              "      <th>391</th>\n",
              "      <td>650</td>\n",
              "      <td>2.864960</td>\n",
              "      <td>4.719189</td>\n",
              "      <td>3.516732</td>\n",
              "      <td>0.914503</td>\n",
              "      <td>1</td>\n",
              "      <td>1</td>\n",
              "      <td>studio</td>\n",
              "      <td>e1</td>\n",
              "      <td>no</td>\n",
              "      <td>ground</td>\n",
              "      <td>electric</td>\n",
              "    </tr>\n",
              "    <tr>\n",
              "      <th>392</th>\n",
              "      <td>620</td>\n",
              "      <td>0.007512</td>\n",
              "      <td>1.896556</td>\n",
              "      <td>1.000928</td>\n",
              "      <td>2.549793</td>\n",
              "      <td>3</td>\n",
              "      <td>2</td>\n",
              "      <td>house</td>\n",
              "      <td>b3</td>\n",
              "      <td>yes</td>\n",
              "      <td>ground</td>\n",
              "      <td>central</td>\n",
              "    </tr>\n",
              "    <tr>\n",
              "      <th>393</th>\n",
              "      <td>595</td>\n",
              "      <td>0.961158</td>\n",
              "      <td>1.314386</td>\n",
              "      <td>0.519844</td>\n",
              "      <td>3.508413</td>\n",
              "      <td>1</td>\n",
              "      <td>1</td>\n",
              "      <td>studio</td>\n",
              "      <td>exempt</td>\n",
              "      <td>no</td>\n",
              "      <td>ground</td>\n",
              "      <td>electric</td>\n",
              "    </tr>\n",
              "    <tr>\n",
              "      <th>394</th>\n",
              "      <td>580</td>\n",
              "      <td>1.910281</td>\n",
              "      <td>1.142448</td>\n",
              "      <td>1.247606</td>\n",
              "      <td>4.462983</td>\n",
              "      <td>1</td>\n",
              "      <td>1</td>\n",
              "      <td>studio</td>\n",
              "      <td>exempt</td>\n",
              "      <td>no</td>\n",
              "      <td>ground</td>\n",
              "      <td>central</td>\n",
              "    </tr>\n",
              "  </tbody>\n",
              "</table>\n",
              "<p>395 rows × 12 columns</p>\n",
              "</div>\n",
              "      <button class=\"colab-df-convert\" onclick=\"convertToInteractive('df-4680256f-2b35-4273-bfd6-41155210b3c6')\"\n",
              "              title=\"Convert this dataframe to an interactive table.\"\n",
              "              style=\"display:none;\">\n",
              "        \n",
              "  <svg xmlns=\"http://www.w3.org/2000/svg\" height=\"24px\"viewBox=\"0 0 24 24\"\n",
              "       width=\"24px\">\n",
              "    <path d=\"M0 0h24v24H0V0z\" fill=\"none\"/>\n",
              "    <path d=\"M18.56 5.44l.94 2.06.94-2.06 2.06-.94-2.06-.94-.94-2.06-.94 2.06-2.06.94zm-11 1L8.5 8.5l.94-2.06 2.06-.94-2.06-.94L8.5 2.5l-.94 2.06-2.06.94zm10 10l.94 2.06.94-2.06 2.06-.94-2.06-.94-.94-2.06-.94 2.06-2.06.94z\"/><path d=\"M17.41 7.96l-1.37-1.37c-.4-.4-.92-.59-1.43-.59-.52 0-1.04.2-1.43.59L10.3 9.45l-7.72 7.72c-.78.78-.78 2.05 0 2.83L4 21.41c.39.39.9.59 1.41.59.51 0 1.02-.2 1.41-.59l7.78-7.78 2.81-2.81c.8-.78.8-2.07 0-2.86zM5.41 20L4 18.59l7.72-7.72 1.47 1.35L5.41 20z\"/>\n",
              "  </svg>\n",
              "      </button>\n",
              "      \n",
              "  <style>\n",
              "    .colab-df-container {\n",
              "      display:flex;\n",
              "      flex-wrap:wrap;\n",
              "      gap: 12px;\n",
              "    }\n",
              "\n",
              "    .colab-df-convert {\n",
              "      background-color: #E8F0FE;\n",
              "      border: none;\n",
              "      border-radius: 50%;\n",
              "      cursor: pointer;\n",
              "      display: none;\n",
              "      fill: #1967D2;\n",
              "      height: 32px;\n",
              "      padding: 0 0 0 0;\n",
              "      width: 32px;\n",
              "    }\n",
              "\n",
              "    .colab-df-convert:hover {\n",
              "      background-color: #E2EBFA;\n",
              "      box-shadow: 0px 1px 2px rgba(60, 64, 67, 0.3), 0px 1px 3px 1px rgba(60, 64, 67, 0.15);\n",
              "      fill: #174EA6;\n",
              "    }\n",
              "\n",
              "    [theme=dark] .colab-df-convert {\n",
              "      background-color: #3B4455;\n",
              "      fill: #D2E3FC;\n",
              "    }\n",
              "\n",
              "    [theme=dark] .colab-df-convert:hover {\n",
              "      background-color: #434B5C;\n",
              "      box-shadow: 0px 1px 3px 1px rgba(0, 0, 0, 0.15);\n",
              "      filter: drop-shadow(0px 1px 2px rgba(0, 0, 0, 0.3));\n",
              "      fill: #FFFFFF;\n",
              "    }\n",
              "  </style>\n",
              "\n",
              "      <script>\n",
              "        const buttonEl =\n",
              "          document.querySelector('#df-4680256f-2b35-4273-bfd6-41155210b3c6 button.colab-df-convert');\n",
              "        buttonEl.style.display =\n",
              "          google.colab.kernel.accessAllowed ? 'block' : 'none';\n",
              "\n",
              "        async function convertToInteractive(key) {\n",
              "          const element = document.querySelector('#df-4680256f-2b35-4273-bfd6-41155210b3c6');\n",
              "          const dataTable =\n",
              "            await google.colab.kernel.invokeFunction('convertToInteractive',\n",
              "                                                     [key], {});\n",
              "          if (!dataTable) return;\n",
              "\n",
              "          const docLinkHtml = 'Like what you see? Visit the ' +\n",
              "            '<a target=\"_blank\" href=https://colab.research.google.com/notebooks/data_table.ipynb>data table notebook</a>'\n",
              "            + ' to learn more about interactive tables.';\n",
              "          element.innerHTML = '';\n",
              "          dataTable['output_type'] = 'display_data';\n",
              "          await google.colab.output.renderOutput(dataTable, element);\n",
              "          const docLink = document.createElement('div');\n",
              "          docLink.innerHTML = docLinkHtml;\n",
              "          element.appendChild(docLink);\n",
              "        }\n",
              "      </script>\n",
              "    </div>\n",
              "  </div>\n",
              "  "
            ],
            "text/plain": [
              "     price_per_month  distance_eyre_square  ...   floor   heating\n",
              "0               3700              1.112343  ...  ground   central\n",
              "1               3640              1.045924  ...  ground   central\n",
              "2               2950              1.876834  ...  ground   central\n",
              "3               2825              1.739580  ...  second  electric\n",
              "4               2800              2.446769  ...  ground   central\n",
              "..               ...                   ...  ...     ...       ...\n",
              "390              695              2.789293  ...   first   central\n",
              "391              650              2.864960  ...  ground  electric\n",
              "392              620              0.007512  ...  ground   central\n",
              "393              595              0.961158  ...  ground  electric\n",
              "394              580              1.910281  ...  ground   central\n",
              "\n",
              "[395 rows x 12 columns]"
            ]
          },
          "metadata": {},
          "execution_count": 1
        }
      ]
    },
    {
      "cell_type": "code",
      "source": [
        "#Understanding the dataset, by performing Exploratory Data Analysis\n",
        "#I will be exploring the data set first by using .describe(), to understnd the spread of the data. \n",
        "Galway_Rentals.describe()"
      ],
      "metadata": {
        "colab": {
          "base_uri": "https://localhost:8080/",
          "height": 300
        },
        "id": "hs7eoaGERwnH",
        "outputId": "34c2e037-4900-4ef9-e5d7-1c50a26ab313"
      },
      "execution_count": null,
      "outputs": [
        {
          "output_type": "execute_result",
          "data": {
            "text/html": [
              "\n",
              "  <div id=\"df-665a0a21-bdba-4bfe-a283-a6aee361b3be\">\n",
              "    <div class=\"colab-df-container\">\n",
              "      <div>\n",
              "<style scoped>\n",
              "    .dataframe tbody tr th:only-of-type {\n",
              "        vertical-align: middle;\n",
              "    }\n",
              "\n",
              "    .dataframe tbody tr th {\n",
              "        vertical-align: top;\n",
              "    }\n",
              "\n",
              "    .dataframe thead th {\n",
              "        text-align: right;\n",
              "    }\n",
              "</style>\n",
              "<table border=\"1\" class=\"dataframe\">\n",
              "  <thead>\n",
              "    <tr style=\"text-align: right;\">\n",
              "      <th></th>\n",
              "      <th>price_per_month</th>\n",
              "      <th>distance_eyre_square</th>\n",
              "      <th>distance_salthill</th>\n",
              "      <th>distance_nuig</th>\n",
              "      <th>distance_gmit</th>\n",
              "      <th>num_bedrooms</th>\n",
              "      <th>num_bathrooms</th>\n",
              "    </tr>\n",
              "  </thead>\n",
              "  <tbody>\n",
              "    <tr>\n",
              "      <th>count</th>\n",
              "      <td>395.000000</td>\n",
              "      <td>395.000000</td>\n",
              "      <td>395.000000</td>\n",
              "      <td>395.000000</td>\n",
              "      <td>395.000000</td>\n",
              "      <td>395.000000</td>\n",
              "      <td>395.000000</td>\n",
              "    </tr>\n",
              "    <tr>\n",
              "      <th>mean</th>\n",
              "      <td>1549.486076</td>\n",
              "      <td>2.273589</td>\n",
              "      <td>2.629011</td>\n",
              "      <td>2.301768</td>\n",
              "      <td>3.570564</td>\n",
              "      <td>2.498734</td>\n",
              "      <td>1.731646</td>\n",
              "    </tr>\n",
              "    <tr>\n",
              "      <th>std</th>\n",
              "      <td>466.993051</td>\n",
              "      <td>1.461875</td>\n",
              "      <td>1.653713</td>\n",
              "      <td>1.458814</td>\n",
              "      <td>1.860081</td>\n",
              "      <td>1.050440</td>\n",
              "      <td>0.718774</td>\n",
              "    </tr>\n",
              "    <tr>\n",
              "      <th>min</th>\n",
              "      <td>580.000000</td>\n",
              "      <td>0.007512</td>\n",
              "      <td>0.099173</td>\n",
              "      <td>0.311939</td>\n",
              "      <td>0.209452</td>\n",
              "      <td>1.000000</td>\n",
              "      <td>1.000000</td>\n",
              "    </tr>\n",
              "    <tr>\n",
              "      <th>25%</th>\n",
              "      <td>1250.000000</td>\n",
              "      <td>1.020116</td>\n",
              "      <td>1.350377</td>\n",
              "      <td>1.117011</td>\n",
              "      <td>2.237932</td>\n",
              "      <td>2.000000</td>\n",
              "      <td>1.000000</td>\n",
              "    </tr>\n",
              "    <tr>\n",
              "      <th>50%</th>\n",
              "      <td>1500.000000</td>\n",
              "      <td>2.091903</td>\n",
              "      <td>2.339826</td>\n",
              "      <td>1.765705</td>\n",
              "      <td>3.252499</td>\n",
              "      <td>2.000000</td>\n",
              "      <td>2.000000</td>\n",
              "    </tr>\n",
              "    <tr>\n",
              "      <th>75%</th>\n",
              "      <td>1800.000000</td>\n",
              "      <td>3.051256</td>\n",
              "      <td>3.580287</td>\n",
              "      <td>3.298584</td>\n",
              "      <td>4.729937</td>\n",
              "      <td>3.000000</td>\n",
              "      <td>2.000000</td>\n",
              "    </tr>\n",
              "    <tr>\n",
              "      <th>max</th>\n",
              "      <td>3700.000000</td>\n",
              "      <td>5.586384</td>\n",
              "      <td>7.005967</td>\n",
              "      <td>6.308555</td>\n",
              "      <td>8.135066</td>\n",
              "      <td>6.000000</td>\n",
              "      <td>3.000000</td>\n",
              "    </tr>\n",
              "  </tbody>\n",
              "</table>\n",
              "</div>\n",
              "      <button class=\"colab-df-convert\" onclick=\"convertToInteractive('df-665a0a21-bdba-4bfe-a283-a6aee361b3be')\"\n",
              "              title=\"Convert this dataframe to an interactive table.\"\n",
              "              style=\"display:none;\">\n",
              "        \n",
              "  <svg xmlns=\"http://www.w3.org/2000/svg\" height=\"24px\"viewBox=\"0 0 24 24\"\n",
              "       width=\"24px\">\n",
              "    <path d=\"M0 0h24v24H0V0z\" fill=\"none\"/>\n",
              "    <path d=\"M18.56 5.44l.94 2.06.94-2.06 2.06-.94-2.06-.94-.94-2.06-.94 2.06-2.06.94zm-11 1L8.5 8.5l.94-2.06 2.06-.94-2.06-.94L8.5 2.5l-.94 2.06-2.06.94zm10 10l.94 2.06.94-2.06 2.06-.94-2.06-.94-.94-2.06-.94 2.06-2.06.94z\"/><path d=\"M17.41 7.96l-1.37-1.37c-.4-.4-.92-.59-1.43-.59-.52 0-1.04.2-1.43.59L10.3 9.45l-7.72 7.72c-.78.78-.78 2.05 0 2.83L4 21.41c.39.39.9.59 1.41.59.51 0 1.02-.2 1.41-.59l7.78-7.78 2.81-2.81c.8-.78.8-2.07 0-2.86zM5.41 20L4 18.59l7.72-7.72 1.47 1.35L5.41 20z\"/>\n",
              "  </svg>\n",
              "      </button>\n",
              "      \n",
              "  <style>\n",
              "    .colab-df-container {\n",
              "      display:flex;\n",
              "      flex-wrap:wrap;\n",
              "      gap: 12px;\n",
              "    }\n",
              "\n",
              "    .colab-df-convert {\n",
              "      background-color: #E8F0FE;\n",
              "      border: none;\n",
              "      border-radius: 50%;\n",
              "      cursor: pointer;\n",
              "      display: none;\n",
              "      fill: #1967D2;\n",
              "      height: 32px;\n",
              "      padding: 0 0 0 0;\n",
              "      width: 32px;\n",
              "    }\n",
              "\n",
              "    .colab-df-convert:hover {\n",
              "      background-color: #E2EBFA;\n",
              "      box-shadow: 0px 1px 2px rgba(60, 64, 67, 0.3), 0px 1px 3px 1px rgba(60, 64, 67, 0.15);\n",
              "      fill: #174EA6;\n",
              "    }\n",
              "\n",
              "    [theme=dark] .colab-df-convert {\n",
              "      background-color: #3B4455;\n",
              "      fill: #D2E3FC;\n",
              "    }\n",
              "\n",
              "    [theme=dark] .colab-df-convert:hover {\n",
              "      background-color: #434B5C;\n",
              "      box-shadow: 0px 1px 3px 1px rgba(0, 0, 0, 0.15);\n",
              "      filter: drop-shadow(0px 1px 2px rgba(0, 0, 0, 0.3));\n",
              "      fill: #FFFFFF;\n",
              "    }\n",
              "  </style>\n",
              "\n",
              "      <script>\n",
              "        const buttonEl =\n",
              "          document.querySelector('#df-665a0a21-bdba-4bfe-a283-a6aee361b3be button.colab-df-convert');\n",
              "        buttonEl.style.display =\n",
              "          google.colab.kernel.accessAllowed ? 'block' : 'none';\n",
              "\n",
              "        async function convertToInteractive(key) {\n",
              "          const element = document.querySelector('#df-665a0a21-bdba-4bfe-a283-a6aee361b3be');\n",
              "          const dataTable =\n",
              "            await google.colab.kernel.invokeFunction('convertToInteractive',\n",
              "                                                     [key], {});\n",
              "          if (!dataTable) return;\n",
              "\n",
              "          const docLinkHtml = 'Like what you see? Visit the ' +\n",
              "            '<a target=\"_blank\" href=https://colab.research.google.com/notebooks/data_table.ipynb>data table notebook</a>'\n",
              "            + ' to learn more about interactive tables.';\n",
              "          element.innerHTML = '';\n",
              "          dataTable['output_type'] = 'display_data';\n",
              "          await google.colab.output.renderOutput(dataTable, element);\n",
              "          const docLink = document.createElement('div');\n",
              "          docLink.innerHTML = docLinkHtml;\n",
              "          element.appendChild(docLink);\n",
              "        }\n",
              "      </script>\n",
              "    </div>\n",
              "  </div>\n",
              "  "
            ],
            "text/plain": [
              "       price_per_month  distance_eyre_square  ...  num_bedrooms  num_bathrooms\n",
              "count       395.000000            395.000000  ...    395.000000     395.000000\n",
              "mean       1549.486076              2.273589  ...      2.498734       1.731646\n",
              "std         466.993051              1.461875  ...      1.050440       0.718774\n",
              "min         580.000000              0.007512  ...      1.000000       1.000000\n",
              "25%        1250.000000              1.020116  ...      2.000000       1.000000\n",
              "50%        1500.000000              2.091903  ...      2.000000       2.000000\n",
              "75%        1800.000000              3.051256  ...      3.000000       2.000000\n",
              "max        3700.000000              5.586384  ...      6.000000       3.000000\n",
              "\n",
              "[8 rows x 7 columns]"
            ]
          },
          "metadata": {},
          "execution_count": 2
        }
      ]
    },
    {
      "cell_type": "code",
      "source": [
        "#Exploring the data by using seaborn:\n",
        "#Understanding the distribution of the \n",
        "plt.figure(figsize=(15,10))\n",
        "plt.tight_layout()\n",
        "plt.ylabel('Density')\n",
        "plt.title(\"Distribution of the Prices per month of rentals\")\n",
        "seabornInstance.distplot(Galway_Rentals['price_per_month'])"
      ],
      "metadata": {
        "colab": {
          "base_uri": "https://localhost:8080/",
          "height": 694
        },
        "id": "uxHg9If5SZjA",
        "outputId": "399a4890-69da-4761-ca24-86162f8d6d17"
      },
      "execution_count": null,
      "outputs": [
        {
          "output_type": "stream",
          "name": "stderr",
          "text": [
            "/usr/local/lib/python3.7/dist-packages/seaborn/distributions.py:2619: FutureWarning: `distplot` is a deprecated function and will be removed in a future version. Please adapt your code to use either `displot` (a figure-level function with similar flexibility) or `histplot` (an axes-level function for histograms).\n",
            "  warnings.warn(msg, FutureWarning)\n"
          ]
        },
        {
          "output_type": "execute_result",
          "data": {
            "text/plain": [
              "<matplotlib.axes._subplots.AxesSubplot at 0x7f1152b0ef50>"
            ]
          },
          "metadata": {},
          "execution_count": 3
        },
        {
          "output_type": "display_data",
          "data": {
            "image/png": "[encoded data removed]",
            "text/plain": [
              "<Figure size 1080x720 with 1 Axes>"
            ]
          },
          "metadata": {
            "needs_background": "light"
          }
        }
      ]
    },
    {
      "cell_type": "code",
      "source": [
        "#Machine Learning Pipeline (2)\n",
        "#Understanding the types of data in the data set:\n",
        "Galway_Rentals.dtypes"
      ],
      "metadata": {
        "colab": {
          "base_uri": "https://localhost:8080/"
        },
        "id": "9jUyRWYYUbs6",
        "outputId": "b0d653b6-bc3b-436f-d011-2c33528f9a94"
      },
      "execution_count": null,
      "outputs": [
        {
          "output_type": "execute_result",
          "data": {
            "text/plain": [
              "price_per_month           int64\n",
              "distance_eyre_square    float64\n",
              "distance_salthill       float64\n",
              "distance_nuig           float64\n",
              "distance_gmit           float64\n",
              "num_bedrooms              int64\n",
              "num_bathrooms             int64\n",
              "type                     object\n",
              "ber                      object\n",
              "balcony                  object\n",
              "floor                    object\n",
              "heating                  object\n",
              "dtype: object"
            ]
          },
          "metadata": {},
          "execution_count": 4
        }
      ]
    },
    {
      "cell_type": "code",
      "source": [
        "#We can see that the data is clearly divided into two types: 1)Continous; 2)categorical\n",
        "#We have to identify the Categorical data first:\n",
        "from sklearn.compose import make_column_selector as selector\n",
        "categorical_columns_selector = selector(dtype_include=object)\n",
        "categorical_columns = categorical_columns_selector(Galway_Rentals)\n",
        "categorical_columns"
      ],
      "metadata": {
        "colab": {
          "base_uri": "https://localhost:8080/"
        },
        "id": "sUNExDTZUxbD",
        "outputId": "401ce84a-f119-44a0-eb2c-ecbb3630519a"
      },
      "execution_count": null,
      "outputs": [
        {
          "output_type": "execute_result",
          "data": {
            "text/plain": [
              "['type', 'ber', 'balcony', 'floor', 'heating']"
            ]
          },
          "metadata": {},
          "execution_count": 5
        }
      ]
    },
    {
      "cell_type": "code",
      "source": [
        "#To deal with the categorical data we will perform encoding of the data , so as to feed it into the ML Model\n",
        "#I will isolate the categorical data into a data frame to understand the behaviour of the data:\n",
        "data_categorical = Galway_Rentals[categorical_columns]\n",
        "data_categorical.head()"
      ],
      "metadata": {
        "colab": {
          "base_uri": "https://localhost:8080/",
          "height": 206
        },
        "id": "AtgzInNvWVpI",
        "outputId": "8d0f62c8-7742-42b9-e439-64e2a511a736"
      },
      "execution_count": null,
      "outputs": [
        {
          "output_type": "execute_result",
          "data": {
            "text/html": [
              "\n",
              "  <div id=\"df-94373f88-29c5-44db-9a10-8ffed30860ff\">\n",
              "    <div class=\"colab-df-container\">\n",
              "      <div>\n",
              "<style scoped>\n",
              "    .dataframe tbody tr th:only-of-type {\n",
              "        vertical-align: middle;\n",
              "    }\n",
              "\n",
              "    .dataframe tbody tr th {\n",
              "        vertical-align: top;\n",
              "    }\n",
              "\n",
              "    .dataframe thead th {\n",
              "        text-align: right;\n",
              "    }\n",
              "</style>\n",
              "<table border=\"1\" class=\"dataframe\">\n",
              "  <thead>\n",
              "    <tr style=\"text-align: right;\">\n",
              "      <th></th>\n",
              "      <th>type</th>\n",
              "      <th>ber</th>\n",
              "      <th>balcony</th>\n",
              "      <th>floor</th>\n",
              "      <th>heating</th>\n",
              "    </tr>\n",
              "  </thead>\n",
              "  <tbody>\n",
              "    <tr>\n",
              "      <th>0</th>\n",
              "      <td>house</td>\n",
              "      <td>exempt</td>\n",
              "      <td>no</td>\n",
              "      <td>ground</td>\n",
              "      <td>central</td>\n",
              "    </tr>\n",
              "    <tr>\n",
              "      <th>1</th>\n",
              "      <td>house</td>\n",
              "      <td>b3</td>\n",
              "      <td>no</td>\n",
              "      <td>ground</td>\n",
              "      <td>central</td>\n",
              "    </tr>\n",
              "    <tr>\n",
              "      <th>2</th>\n",
              "      <td>house</td>\n",
              "      <td>c1</td>\n",
              "      <td>no</td>\n",
              "      <td>ground</td>\n",
              "      <td>central</td>\n",
              "    </tr>\n",
              "    <tr>\n",
              "      <th>3</th>\n",
              "      <td>apartment</td>\n",
              "      <td>d1</td>\n",
              "      <td>no</td>\n",
              "      <td>second</td>\n",
              "      <td>electric</td>\n",
              "    </tr>\n",
              "    <tr>\n",
              "      <th>4</th>\n",
              "      <td>house</td>\n",
              "      <td>c1</td>\n",
              "      <td>no</td>\n",
              "      <td>ground</td>\n",
              "      <td>central</td>\n",
              "    </tr>\n",
              "  </tbody>\n",
              "</table>\n",
              "</div>\n",
              "      <button class=\"colab-df-convert\" onclick=\"convertToInteractive('df-94373f88-29c5-44db-9a10-8ffed30860ff')\"\n",
              "              title=\"Convert this dataframe to an interactive table.\"\n",
              "              style=\"display:none;\">\n",
              "        \n",
              "  <svg xmlns=\"http://www.w3.org/2000/svg\" height=\"24px\"viewBox=\"0 0 24 24\"\n",
              "       width=\"24px\">\n",
              "    <path d=\"M0 0h24v24H0V0z\" fill=\"none\"/>\n",
              "    <path d=\"M18.56 5.44l.94 2.06.94-2.06 2.06-.94-2.06-.94-.94-2.06-.94 2.06-2.06.94zm-11 1L8.5 8.5l.94-2.06 2.06-.94-2.06-.94L8.5 2.5l-.94 2.06-2.06.94zm10 10l.94 2.06.94-2.06 2.06-.94-2.06-.94-.94-2.06-.94 2.06-2.06.94z\"/><path d=\"M17.41 7.96l-1.37-1.37c-.4-.4-.92-.59-1.43-.59-.52 0-1.04.2-1.43.59L10.3 9.45l-7.72 7.72c-.78.78-.78 2.05 0 2.83L4 21.41c.39.39.9.59 1.41.59.51 0 1.02-.2 1.41-.59l7.78-7.78 2.81-2.81c.8-.78.8-2.07 0-2.86zM5.41 20L4 18.59l7.72-7.72 1.47 1.35L5.41 20z\"/>\n",
              "  </svg>\n",
              "      </button>\n",
              "      \n",
              "  <style>\n",
              "    .colab-df-container {\n",
              "      display:flex;\n",
              "      flex-wrap:wrap;\n",
              "      gap: 12px;\n",
              "    }\n",
              "\n",
              "    .colab-df-convert {\n",
              "      background-color: #E8F0FE;\n",
              "      border: none;\n",
              "      border-radius: 50%;\n",
              "      cursor: pointer;\n",
              "      display: none;\n",
              "      fill: #1967D2;\n",
              "      height: 32px;\n",
              "      padding: 0 0 0 0;\n",
              "      width: 32px;\n",
              "    }\n",
              "\n",
              "    .colab-df-convert:hover {\n",
              "      background-color: #E2EBFA;\n",
              "      box-shadow: 0px 1px 2px rgba(60, 64, 67, 0.3), 0px 1px 3px 1px rgba(60, 64, 67, 0.15);\n",
              "      fill: #174EA6;\n",
              "    }\n",
              "\n",
              "    [theme=dark] .colab-df-convert {\n",
              "      background-color: #3B4455;\n",
              "      fill: #D2E3FC;\n",
              "    }\n",
              "\n",
              "    [theme=dark] .colab-df-convert:hover {\n",
              "      background-color: #434B5C;\n",
              "      box-shadow: 0px 1px 3px 1px rgba(0, 0, 0, 0.15);\n",
              "      filter: drop-shadow(0px 1px 2px rgba(0, 0, 0, 0.3));\n",
              "      fill: #FFFFFF;\n",
              "    }\n",
              "  </style>\n",
              "\n",
              "      <script>\n",
              "        const buttonEl =\n",
              "          document.querySelector('#df-94373f88-29c5-44db-9a10-8ffed30860ff button.colab-df-convert');\n",
              "        buttonEl.style.display =\n",
              "          google.colab.kernel.accessAllowed ? 'block' : 'none';\n",
              "\n",
              "        async function convertToInteractive(key) {\n",
              "          const element = document.querySelector('#df-94373f88-29c5-44db-9a10-8ffed30860ff');\n",
              "          const dataTable =\n",
              "            await google.colab.kernel.invokeFunction('convertToInteractive',\n",
              "                                                     [key], {});\n",
              "          if (!dataTable) return;\n",
              "\n",
              "          const docLinkHtml = 'Like what you see? Visit the ' +\n",
              "            '<a target=\"_blank\" href=https://colab.research.google.com/notebooks/data_table.ipynb>data table notebook</a>'\n",
              "            + ' to learn more about interactive tables.';\n",
              "          element.innerHTML = '';\n",
              "          dataTable['output_type'] = 'display_data';\n",
              "          await google.colab.output.renderOutput(dataTable, element);\n",
              "          const docLink = document.createElement('div');\n",
              "          docLink.innerHTML = docLinkHtml;\n",
              "          element.appendChild(docLink);\n",
              "        }\n",
              "      </script>\n",
              "    </div>\n",
              "  </div>\n",
              "  "
            ],
            "text/plain": [
              "        type     ber balcony   floor   heating\n",
              "0      house  exempt      no  ground   central\n",
              "1      house      b3      no  ground   central\n",
              "2      house      c1      no  ground   central\n",
              "3  apartment      d1      no  second  electric\n",
              "4      house      c1      no  ground   central"
            ]
          },
          "metadata": {},
          "execution_count": 6
        }
      ]
    },
    {
      "cell_type": "code",
      "source": [
        "#Performing Ordinal Encoding on the categorical columns of the data sets. \n",
        "#I will be adding the encoded columns into the same Data Frame by creating new columns in the existing data frame. \n",
        "encoder = OrdinalEncoder()\n",
        "Galway_Rentals[\"type_encoded\"] = encoder.fit_transform(Galway_Rentals[[\"type\"]])\n",
        "Galway_Rentals[\"ber_enoded\"] = encoder.fit_transform(Galway_Rentals[[\"ber\"]])\n",
        "Galway_Rentals[\"balcony_encoded\"] = encoder.fit_transform(Galway_Rentals[[\"balcony\"]])\n",
        "Galway_Rentals[\"floor_encoded\"] = encoder.fit_transform(Galway_Rentals[[\"floor\"]])\n",
        "Galway_Rentals[\"heating_encoded\"] = encoder.fit_transform(Galway_Rentals[[\"heating\"]])"
      ],
      "metadata": {
        "id": "pP8siZjGYE1W"
      },
      "execution_count": null,
      "outputs": []
    },
    {
      "cell_type": "code",
      "source": [
        "#Printing the Data Frame to identify if the encoding has been done properly or not:\n",
        "Galway_Rentals\n",
        "#Printing the data types of the transformed Data Frame  \n",
        "print(Galway_Rentals.dtypes)\n",
        "#We can see that the categorical data has been encoded and has been added as new columns in the Data Frame "
      ],
      "metadata": {
        "colab": {
          "base_uri": "https://localhost:8080/"
        },
        "id": "09pgVQyfWkQE",
        "outputId": "efe1f21d-fcda-4a6b-e936-c90e2014edc9"
      },
      "execution_count": null,
      "outputs": [
        {
          "output_type": "stream",
          "name": "stdout",
          "text": [
            "price_per_month           int64\n",
            "distance_eyre_square    float64\n",
            "distance_salthill       float64\n",
            "distance_nuig           float64\n",
            "distance_gmit           float64\n",
            "num_bedrooms              int64\n",
            "num_bathrooms             int64\n",
            "type                     object\n",
            "ber                      object\n",
            "balcony                  object\n",
            "floor                    object\n",
            "heating                  object\n",
            "ber_enoded              float64\n",
            "type_encoded            float64\n",
            "balcony_encoded         float64\n",
            "floor_encoded           float64\n",
            "heating_encoded         float64\n",
            "dtype: object\n"
          ]
        }
      ]
    },
    {
      "cell_type": "code",
      "source": [
        "#Machine Learning Pipeline (3)\n",
        "\n",
        "#In this step we will be splitting the data into X and y, post which we will be splitting the data sets into training and testing sets. \n",
        "#The target variabek is 'price_per_month', that is why I will be isolating it into the variable 'y'. \n",
        "#The independent variables are the rest, which is why I will be isolating them into the variable 'X'\n",
        "#Dropping all the categorical values from the data set all while retainig the encoded variables. \n",
        "X=Galway_Rentals.drop(['price_per_month','type','ber','balcony','floor','heating'],axis=1)\n",
        "y=Galway_Rentals['price_per_month']\n",
        "\n",
        "#Now that we have divided the data set into X(Independent variables) and y (target variable), we will split it into train and test data sets. \n",
        "X_train, X_test, y_train, y_test = train_test_split(X, y, test_size=0.2, random_state=40, shuffle=True)\n",
        "\n",
        "#I am splitting the data at this point so it can be used in both the models, without having to work on the data anymore. "
      ],
      "metadata": {
        "id": "J63HL32NYpFJ"
      },
      "execution_count": null,
      "outputs": []
    },
    {
      "cell_type": "code",
      "source": [
        "#Machine Learning Pipeline (4)\n",
        "#In the below code, I will be constructing the 1st Model. \n",
        "#I have used the Linear Regression to create the 1st Regression Model. \n",
        "\n",
        "#I am creating an object of Linear Regression class in the below code:\n",
        "#I am naming the model, Linear_Regression_Model\n",
        "Linear_Regression_Model = LinearRegression()\n",
        "#I am fitting the training data into the Linear Regression Model \n",
        "Linear_Regression_Model.fit(X_train,y_train)"
      ],
      "metadata": {
        "colab": {
          "base_uri": "https://localhost:8080/"
        },
        "id": "_331wiPIZu-K",
        "outputId": "b52ba038-9b61-44a6-8401-c860edc09b57"
      },
      "execution_count": null,
      "outputs": [
        {
          "output_type": "execute_result",
          "data": {
            "text/plain": [
              "LinearRegression()"
            ]
          },
          "metadata": {},
          "execution_count": 156
        }
      ]
    },
    {
      "cell_type": "code",
      "source": [
        "#In the below code, I am predicitng the dependent variable(target), using the Linar Regression Model\n",
        "#Linear_Regression_Model\n",
        "y_pred_LR = Linear_Regression_Model.predict(X_test)"
      ],
      "metadata": {
        "id": "6DiuaZ-uFRVS"
      },
      "execution_count": null,
      "outputs": []
    },
    {
      "cell_type": "code",
      "source": [
        "#Evaluating the Linear_Regression_Model\n",
        "#I am carrying out a cursory evaluation of the Regression Model, to understand how it has behaved. \n",
        "\n",
        "print('Mean Absolute Error:', metrics.mean_absolute_error(y_test, y_pred_LR))  \n",
        "print('Mean Squared Error:', metrics.mean_squared_error(y_test, y_pred_LR))  \n",
        "print('Root Mean Squared Error:', np.sqrt(metrics.mean_squared_error(y_test, y_pred_LR)))\n",
        "\n",
        "print(r2_score(y_test, y_pred_LR))"
      ],
      "metadata": {
        "colab": {
          "base_uri": "https://localhost:8080/"
        },
        "id": "7qCAuJlDOdng",
        "outputId": "dd78229a-e0e2-4106-881c-fc154c88ddb5"
      },
      "execution_count": null,
      "outputs": [
        {
          "output_type": "stream",
          "name": "stdout",
          "text": [
            "Mean Absolute Error: 201.5118289857417\n",
            "Mean Squared Error: 74882.2848460571\n",
            "Root Mean Squared Error: 273.64627687227375\n",
            "0.6959867808870647\n"
          ]
        }
      ]
    },
    {
      "cell_type": "code",
      "source": [
        "#To understand which features have affected the model creation, I have plotted the importance of each of the features.\n",
        "#I have stored the coeffficients of the Model in the variable, 'importance'. \n",
        "importance = Linear_Regression_Model.coef_\n",
        "\n",
        "#I am printing the importance of each of the features. \n",
        "for a,b in enumerate(importance):\n",
        "\tprint('Feature: %0d, Score: %.5f' % (a,b))\n",
        " \n",
        "#Plotting the importance of features\n",
        "plt.bar([i for i in range(len(importance))], importance)\n",
        "plt.show()"
      ],
      "metadata": {
        "colab": {
          "base_uri": "https://localhost:8080/",
          "height": 456
        },
        "id": "TEE6w3UJEyny",
        "outputId": "afb10b38-bd56-4a26-e9dc-742e5c8de5a3"
      },
      "execution_count": null,
      "outputs": [
        {
          "output_type": "stream",
          "name": "stdout",
          "text": [
            "Feature: 0, Score: -124.23358\n",
            "Feature: 1, Score: -21.90578\n",
            "Feature: 2, Score: 44.37617\n",
            "Feature: 3, Score: 20.15264\n",
            "Feature: 4, Score: 270.24391\n",
            "Feature: 5, Score: 138.73263\n",
            "Feature: 6, Score: -6.83312\n",
            "Feature: 7, Score: -28.74258\n",
            "Feature: 8, Score: 5.12282\n",
            "Feature: 9, Score: 63.65060\n",
            "Feature: 10, Score: -38.90225\n"
          ]
        },
        {
          "output_type": "display_data",
          "data": {
            "image/png": "[encoded data removed]",
            "text/plain": [
              "<Figure size 432x288 with 1 Axes>"
            ]
          },
          "metadata": {
            "needs_background": "light"
          }
        }
      ]
    },
    {
      "cell_type": "code",
      "source": [
        "#Exploring the data by using seaborn:\n",
        "#Understanding the distribution of the \n",
        "plt.figure(figsize=(15,10))\n",
        "plt.tight_layout()\n",
        "plt.ylabel('Density')\n",
        "plt.title(\"Distribution of the Prices per month of rentals as predicted by Linear Regression\")\n",
        "seabornInstance.distplot(y_pred_LR)"
      ],
      "metadata": {
        "colab": {
          "base_uri": "https://localhost:8080/",
          "height": 679
        },
        "id": "gSXzM9-gGX_7",
        "outputId": "7302bd43-8a04-4806-906d-734add10e727"
      },
      "execution_count": null,
      "outputs": [
        {
          "output_type": "stream",
          "name": "stderr",
          "text": [
            "/usr/local/lib/python3.7/dist-packages/seaborn/distributions.py:2619: FutureWarning: `distplot` is a deprecated function and will be removed in a future version. Please adapt your code to use either `displot` (a figure-level function with similar flexibility) or `histplot` (an axes-level function for histograms).\n",
            "  warnings.warn(msg, FutureWarning)\n"
          ]
        },
        {
          "output_type": "execute_result",
          "data": {
            "text/plain": [
              "<matplotlib.axes._subplots.AxesSubplot at 0x7f1143521b90>"
            ]
          },
          "metadata": {},
          "execution_count": 199
        },
        {
          "output_type": "display_data",
          "data": {
            "image/png": "[encoded data removed]",
            "text/plain": [
              "<Figure size 1080x720 with 1 Axes>"
            ]
          },
          "metadata": {
            "needs_background": "light"
          }
        }
      ]
    },
    {
      "cell_type": "code",
      "source": [
        "#Machine Learning Pipeline (5)\n",
        "#KNN\n",
        "\n",
        "from sklearn.neighbors import KNeighborsRegressor\n",
        "neigh = KNeighborsRegressor(n_neighbors=4)\n",
        "neigh.fit(X_train, y_train)\n",
        "y_pred_knn=neigh.predict(X_test)\n",
        "\n",
        "print('Mean Absolute Error:', metrics.mean_absolute_error(y_test, y_pred_knn))  \n",
        "print('Mean Squared Error:', metrics.mean_squared_error(y_test, y_pred_knn))  \n",
        "print('Root Mean Squared Error:', np.sqrt(metrics.mean_squared_error(y_test, y_pred_knn)))\n",
        "\n",
        "print(r2_score(y_test, y_pred_knn))\n",
        "\n",
        "#Exploring the data by using seaborn:\n",
        "#Understanding the distribution of the \n",
        "plt.figure(figsize=(15,10))\n",
        "plt.tight_layout()\n",
        "plt.ylabel('Density')\n",
        "plt.title(\"Distribution of the Prices per month of rentals as Predicted by KNN Regressor\")\n",
        "seabornInstance.distplot(y_pred_knn)"
      ],
      "metadata": {
        "colab": {
          "base_uri": "https://localhost:8080/",
          "height": 749
        },
        "id": "lcl49wZucv9v",
        "outputId": "fd8683ee-3fc0-4396-c4be-680062e86301"
      },
      "execution_count": null,
      "outputs": [
        {
          "output_type": "stream",
          "name": "stdout",
          "text": [
            "Mean Absolute Error: 236.03481012658227\n",
            "Mean Squared Error: 86845.99129746835\n",
            "Root Mean Squared Error: 294.6964392344576\n",
            "0.6474155478071323\n"
          ]
        },
        {
          "output_type": "stream",
          "name": "stderr",
          "text": [
            "/usr/local/lib/python3.7/dist-packages/seaborn/distributions.py:2619: FutureWarning: `distplot` is a deprecated function and will be removed in a future version. Please adapt your code to use either `displot` (a figure-level function with similar flexibility) or `histplot` (an axes-level function for histograms).\n",
            "  warnings.warn(msg, FutureWarning)\n"
          ]
        },
        {
          "output_type": "execute_result",
          "data": {
            "text/plain": [
              "<matplotlib.axes._subplots.AxesSubplot at 0x7f1143465710>"
            ]
          },
          "metadata": {},
          "execution_count": 214
        },
        {
          "output_type": "display_data",
          "data": {
            "image/png": "[encoded data removed]",
            "text/plain": [
              "<Figure size 1080x720 with 1 Axes>"
            ]
          },
          "metadata": {
            "needs_background": "light"
          }
        }
      ]
    },
    {
      "cell_type": "code",
      "source": [
        "#X=X.to_numpy()\n",
        "X\n",
        "#y=y.to_numpy()\n",
        "y\n",
        "X_train, X_test, y_train, y_test = train_test_split(X, y, test_size=0.2, random_state=40, shuffle=True)\n",
        "from sklearn.preprocessing import PolynomialFeatures\n",
        "poly = PolynomialFeatures(degree=1, include_bias=False)\n",
        "poly_features = poly.fit_transform(X_train)\n",
        "from sklearn.linear_model import LinearRegression\n",
        "poly_reg_model = LinearRegression()\n",
        "poly_reg_model.fit(poly_features, y_train)\n",
        "y_predicted = poly_reg_model.predict(poly_features)\n",
        "y_predicted\n",
        "\n",
        "\n",
        "#print('Mean Absolute Error:', metrics.mean_absolute_error(y_test, y_predicted))  \n",
        "#print('Mean Squared Error:', metrics.mean_squared_error(y_test, y_pred))  \n",
        "#print('Root Mean Squared Error:', np.sqrt(metrics.mean_squared_error(y_test, y_pred)))\n",
        "\n",
        "print(r2_score(y_test, y_predicted.reshape(-1, 1)))"
      ],
      "metadata": {
        "id": "of8Xw4Q9wfA6"
      },
      "execution_count": null,
      "outputs": []
    },
    {
      "cell_type": "code",
      "source": [
        "features = PolynomialFeatures(degree=1)\n",
        "X_train_transformed = features.fit_transform(X_train)\n",
        "model = LinearRegression()\n",
        "model.fit(X_train_transformed, y_train)\n",
        "X_test_transformed = features.fit_transform(X_test)\n",
        "\n",
        "train_pred = model.predict(X_train_transformed)\n",
        "rmse_poly_4_train = metrics.mean_squared_error(y_train, train_pred, squared = False)\n",
        "print(\"Train RMSE for Polynonial Regression of degree 4 is {}.\".format(rmse_poly_4_train))\n",
        "\n",
        "test_pred = model.predict(X_test_transformed)\n",
        "rmse_poly_4 = metrics.mean_squared_error(y_test, test_pred, squared = False)\n",
        "print(\"Test RMSE for Polynonial Regression of degree 4 is {}.\".format(rmse_poly_4))\n",
        "\n",
        "print(r2_score(y_test, test_pred))"
      ],
      "metadata": {
        "colab": {
          "base_uri": "https://localhost:8080/"
        },
        "id": "CyzvqPDTyfXM",
        "outputId": "2eb98c05-7fb0-4140-bb31-fdf012161e9a"
      },
      "execution_count": null,
      "outputs": [
        {
          "output_type": "stream",
          "name": "stdout",
          "text": [
            "Train RMSE for Polynonial Regression of degree 4 is 285.6925871670851.\n",
            "Test RMSE for Polynonial Regression of degree 4 is 273.64627687227375.\n",
            "0.6959867808870646\n"
          ]
        }
      ]
    },
    {
      "cell_type": "code",
      "source": [
        "X=Galway_Rentals.drop(['price_per_month','type','ber','balcony','floor','heating'],axis=1)\n",
        "y=Galway_Rentals['price_per_month']\n",
        "\n",
        "#Now that we have divided the data set into X(Independent variables) and y (target variable), we will split it into train and test data sets. \n",
        "X_train, X_test, y_train, y_test = train_test_split(X, y, test_size=0.2, random_state=0)\n",
        "\n",
        "\n",
        "Linear_Regression_Model = LinearRegression()\n",
        "#I am fitting the training data into the Linear Regression Model \n",
        "Linear_Regression_Model.fit(X_train,y_train)\n",
        "y_pred = Linear_Regression_Model.predict(X_test)\n",
        "\n",
        "print('Mean Absolute Error:', metrics.mean_absolute_error(y_test, y_pred))  \n",
        "print('Mean Squared Error:', metrics.mean_squared_error(y_test, y_pred))  \n",
        "print('Root Mean Squared Error:', np.sqrt(metrics.mean_squared_error(y_test, y_pred)))\n",
        "\n",
        "print(r2_score(y_test, y_pred))\n",
        "\n",
        "\n",
        "#from sklearn.neighbors import KNeighborsRegressor\n",
        "#neigh = KNeighborsRegressor(n_neighbors=4)\n",
        "#neigh.fit(X_train, y_train)\n",
        "#y_pred_knn=neigh.predict(X_test)\n",
        "\n",
        "#print('Mean Absolute Error:', metrics.mean_absolute_error(y_test, y_pred_knn))  \n",
        "#print('Mean Squared Error:', metrics.mean_squared_error(y_test, y_pred_knn))  \n",
        "#print('Root Mean Squared Error:', np.sqrt(metrics.mean_squared_error(y_test, y_pred_knn)))\n",
        "\n",
        "#print(r2_score(y_test, y_pred))\n",
        "\n",
        "\n",
        "\n"
      ],
      "metadata": {
        "colab": {
          "base_uri": "https://localhost:8080/"
        },
        "id": "heRDhGVn0z_g",
        "outputId": "4650533c-da0e-4057-aebb-c84b84235c59"
      },
      "execution_count": null,
      "outputs": [
        {
          "output_type": "stream",
          "name": "stdout",
          "text": [
            "Mean Absolute Error: 241.687209150513\n",
            "Mean Squared Error: 110471.29879804423\n",
            "Root Mean Squared Error: 332.37222928223747\n",
            "0.588742498027594\n"
          ]
        }
      ]
    }
  ]
}