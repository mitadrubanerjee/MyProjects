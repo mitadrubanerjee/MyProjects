{
 "cells": [
  {
   "cell_type": "markdown",
   "id": "a7faee55",
   "metadata": {},
   "source": [
    "## Predicting Stock Market using Sentiment of Financial News with BERT\n",
    "\n",
    "In this notebook, I will be using the sentiment analysis scores of the financial news. I have used the financial news articles from 2014-2017 as collected from Pulse, data bank managed by Zerodha. I will be trying to predict the Stock market movement using the sentiment analysis scores of the financial news. In this note book I will be using the BERT language model to get the sentiment scores of the news articles, which I will b eusing as the feture vectors to predict the directionility of the stock market movement. \n",
    "\n",
    "### Section 1) Importing Data and Library"
   ]
  },
  {
   "cell_type": "code",
   "execution_count": 1,
   "id": "26855c8c",
   "metadata": {},
   "outputs": [
    {
     "name": "stderr",
     "output_type": "stream",
     "text": [
      "[nltk_data] Downloading package vader_lexicon to\n",
      "[nltk_data]     C:\\Users\\mit_b\\AppData\\Roaming\\nltk_data...\n",
      "[nltk_data]   Package vader_lexicon is already up-to-date!\n"
     ]
    }
   ],
   "source": [
    "#Importing pandas and numpy to manipulate datasets\n",
    "import pandas as pd\n",
    "import numpy as np\n",
    "import matplotlib.pyplot as plt\n",
    "import seaborn as sns\n",
    "import warnings\n",
    "\n",
    "#Importing nltk library\n",
    "import nltk\n",
    "nltk.download('vader_lexicon')\n",
    "from nltk.corpus import stopwords\n",
    "from nltk.tokenize import word_tokenize\n",
    "from nltk.stem import WordNetLemmatizer\n",
    "import re\n",
    "from bs4 import BeautifulSoup\n",
    "\n",
    "#Importing the librairies from transformers libarry\n",
    "#!pip install transformers\n",
    "from transformers import AutoTokenizer, AutoModelForSequenceClassification\n",
    "#Importing torch\n",
    "import torch\n",
    "#Importing requests to scrape the website\n",
    "#import requests\n",
    "#Importing beautiful soup to scrape the website\n",
    "#from bs4 import BeautifulSoup\n",
    "#import re\n",
    "\n",
    "#Sklearn packages\n",
    "from sklearn.model_selection import train_test_split\n",
    "from sklearn.metrics import classification_report\n",
    "from sklearn.linear_model import LogisticRegression\n",
    "from sklearn.metrics import classification_report\n",
    "from sklearn.metrics import confusion_matrix\n",
    "from sklearn.metrics import accuracy_score\n",
    "from sklearn.svm import LinearSVC\n",
    "from sklearn.ensemble import RandomForestClassifier\n",
    "from sklearn.datasets import make_classification\n",
    "from sklearn import preprocessing, metrics\n",
    "from sklearn.preprocessing import MinMaxScaler\n",
    "from sklearn.neighbors import KNeighborsClassifier\n",
    "from sklearn.metrics import roc_auc_score\n",
    "from sklearn.metrics import f1_score\n",
    "\n",
    "#BERT\n",
    "\n",
    "#Importing the AutoTokenizer module from the pre-trained BERT model\n",
    "tokenizer = AutoTokenizer.from_pretrained('nlptown/bert-base-multilingual-uncased-sentiment')\n",
    "\n",
    "#Instantiating the model from the AutoModelForSequenceClassificationmodule of the pre-trained BERT Model\n",
    "model = AutoModelForSequenceClassification.from_pretrained('nlptown/bert-base-multilingual-uncased-sentiment')"
   ]
  },
  {
   "cell_type": "code",
   "execution_count": 2,
   "id": "79d9f8c6",
   "metadata": {
    "scrolled": true
   },
   "outputs": [
    {
     "data": {
      "text/html": [
       "<div>\n",
       "<style scoped>\n",
       "    .dataframe tbody tr th:only-of-type {\n",
       "        vertical-align: middle;\n",
       "    }\n",
       "\n",
       "    .dataframe tbody tr th {\n",
       "        vertical-align: top;\n",
       "    }\n",
       "\n",
       "    .dataframe thead th {\n",
       "        text-align: right;\n",
       "    }\n",
       "</style>\n",
       "<table border=\"1\" class=\"dataframe\">\n",
       "  <thead>\n",
       "    <tr style=\"text-align: right;\">\n",
       "      <th></th>\n",
       "      <th>Date</th>\n",
       "      <th>Combined_Headlines</th>\n",
       "      <th>Open</th>\n",
       "      <th>High</th>\n",
       "      <th>Low</th>\n",
       "      <th>Close</th>\n",
       "    </tr>\n",
       "  </thead>\n",
       "  <tbody>\n",
       "    <tr>\n",
       "      <th>0</th>\n",
       "      <td>30-06-2017</td>\n",
       "      <td>Border crisis: Army chief Rawat in Sikkim as C...</td>\n",
       "      <td>30824.97</td>\n",
       "      <td>30965.45</td>\n",
       "      <td>30680.66</td>\n",
       "      <td>30921.61</td>\n",
       "    </tr>\n",
       "    <tr>\n",
       "      <th>1</th>\n",
       "      <td>29-06-2017</td>\n",
       "      <td>Sensex pushes higher, Nifty reclaims 9550, ahe...</td>\n",
       "      <td>30910.97</td>\n",
       "      <td>31097.92</td>\n",
       "      <td>30794.61</td>\n",
       "      <td>30857.52</td>\n",
       "    </tr>\n",
       "    <tr>\n",
       "      <th>2</th>\n",
       "      <td>28-06-2017</td>\n",
       "      <td>Nifty ends below 9,500; Reliance Industries dr...</td>\n",
       "      <td>30988.87</td>\n",
       "      <td>31000.48</td>\n",
       "      <td>30798.70</td>\n",
       "      <td>30834.32</td>\n",
       "    </tr>\n",
       "    <tr>\n",
       "      <th>3</th>\n",
       "      <td>27-06-2017</td>\n",
       "      <td>Sensex tanks 180 points, Nifty50 holds 9,500; ...</td>\n",
       "      <td>31194.68</td>\n",
       "      <td>31294.96</td>\n",
       "      <td>30847.08</td>\n",
       "      <td>30958.25</td>\n",
       "    </tr>\n",
       "    <tr>\n",
       "      <th>4</th>\n",
       "      <td>23-06-2017</td>\n",
       "      <td>Piramal Enterprises board gives nod to raise u...</td>\n",
       "      <td>31352.57</td>\n",
       "      <td>31365.39</td>\n",
       "      <td>31110.39</td>\n",
       "      <td>31138.21</td>\n",
       "    </tr>\n",
       "  </tbody>\n",
       "</table>\n",
       "</div>"
      ],
      "text/plain": [
       "         Date                                 Combined_Headlines      Open  \\\n",
       "0  30-06-2017  Border crisis: Army chief Rawat in Sikkim as C...  30824.97   \n",
       "1  29-06-2017  Sensex pushes higher, Nifty reclaims 9550, ahe...  30910.97   \n",
       "2  28-06-2017  Nifty ends below 9,500; Reliance Industries dr...  30988.87   \n",
       "3  27-06-2017  Sensex tanks 180 points, Nifty50 holds 9,500; ...  31194.68   \n",
       "4  23-06-2017  Piramal Enterprises board gives nod to raise u...  31352.57   \n",
       "\n",
       "       High       Low     Close  \n",
       "0  30965.45  30680.66  30921.61  \n",
       "1  31097.92  30794.61  30857.52  \n",
       "2  31000.48  30798.70  30834.32  \n",
       "3  31294.96  30847.08  30958.25  \n",
       "4  31365.39  31110.39  31138.21  "
      ]
     },
     "execution_count": 2,
     "metadata": {},
     "output_type": "execute_result"
    }
   ],
   "source": [
    "#Final Dataset being used will be named data_frame.csv, for purposes of the project\n",
    "df = pd.read_csv(\"data_frame.csv\")\n",
    "#Cleaning the Data\n",
    "df = df.drop(columns=['Unnamed: 0'])\n",
    "df.head()"
   ]
  },
  {
   "cell_type": "markdown",
   "id": "d39ab157",
   "metadata": {},
   "source": [
    "### Section 2) Data Pre-processing"
   ]
  },
  {
   "cell_type": "code",
   "execution_count": 3,
   "id": "582e45f9",
   "metadata": {},
   "outputs": [
    {
     "data": {
      "text/html": [
       "<div>\n",
       "<style scoped>\n",
       "    .dataframe tbody tr th:only-of-type {\n",
       "        vertical-align: middle;\n",
       "    }\n",
       "\n",
       "    .dataframe tbody tr th {\n",
       "        vertical-align: top;\n",
       "    }\n",
       "\n",
       "    .dataframe thead th {\n",
       "        text-align: right;\n",
       "    }\n",
       "</style>\n",
       "<table border=\"1\" class=\"dataframe\">\n",
       "  <thead>\n",
       "    <tr style=\"text-align: right;\">\n",
       "      <th></th>\n",
       "      <th>Date</th>\n",
       "      <th>Combined_Headlines</th>\n",
       "      <th>Open</th>\n",
       "      <th>High</th>\n",
       "      <th>Low</th>\n",
       "      <th>Close</th>\n",
       "      <th>Processed_Headlines</th>\n",
       "    </tr>\n",
       "  </thead>\n",
       "  <tbody>\n",
       "    <tr>\n",
       "      <th>0</th>\n",
       "      <td>30-06-2017</td>\n",
       "      <td>Border crisis: Army chief Rawat in Sikkim as C...</td>\n",
       "      <td>30824.97</td>\n",
       "      <td>30965.45</td>\n",
       "      <td>30680.66</td>\n",
       "      <td>30921.61</td>\n",
       "      <td>border crisis : army chief rawat sikkim china ...</td>\n",
       "    </tr>\n",
       "    <tr>\n",
       "      <th>1</th>\n",
       "      <td>29-06-2017</td>\n",
       "      <td>Sensex pushes higher, Nifty reclaims 9550, ahe...</td>\n",
       "      <td>30910.97</td>\n",
       "      <td>31097.92</td>\n",
       "      <td>30794.61</td>\n",
       "      <td>30857.52</td>\n",
       "      <td>sensex push higher , nifty reclaims 9550 , ahe...</td>\n",
       "    </tr>\n",
       "    <tr>\n",
       "      <th>2</th>\n",
       "      <td>28-06-2017</td>\n",
       "      <td>Nifty ends below 9,500; Reliance Industries dr...</td>\n",
       "      <td>30988.87</td>\n",
       "      <td>31000.48</td>\n",
       "      <td>30798.70</td>\n",
       "      <td>30834.32</td>\n",
       "      <td>nifty end 9,500 ; reliance industry drag peopl...</td>\n",
       "    </tr>\n",
       "    <tr>\n",
       "      <th>3</th>\n",
       "      <td>27-06-2017</td>\n",
       "      <td>Sensex tanks 180 points, Nifty50 holds 9,500; ...</td>\n",
       "      <td>31194.68</td>\n",
       "      <td>31294.96</td>\n",
       "      <td>30847.08</td>\n",
       "      <td>30958.25</td>\n",
       "      <td>sensex tank 180 point , nifty50 hold 9,500 ; b...</td>\n",
       "    </tr>\n",
       "    <tr>\n",
       "      <th>4</th>\n",
       "      <td>23-06-2017</td>\n",
       "      <td>Piramal Enterprises board gives nod to raise u...</td>\n",
       "      <td>31352.57</td>\n",
       "      <td>31365.39</td>\n",
       "      <td>31110.39</td>\n",
       "      <td>31138.21</td>\n",
       "      <td>piramal enterprise board give nod raise r 125 ...</td>\n",
       "    </tr>\n",
       "  </tbody>\n",
       "</table>\n",
       "</div>"
      ],
      "text/plain": [
       "         Date                                 Combined_Headlines      Open  \\\n",
       "0  30-06-2017  Border crisis: Army chief Rawat in Sikkim as C...  30824.97   \n",
       "1  29-06-2017  Sensex pushes higher, Nifty reclaims 9550, ahe...  30910.97   \n",
       "2  28-06-2017  Nifty ends below 9,500; Reliance Industries dr...  30988.87   \n",
       "3  27-06-2017  Sensex tanks 180 points, Nifty50 holds 9,500; ...  31194.68   \n",
       "4  23-06-2017  Piramal Enterprises board gives nod to raise u...  31352.57   \n",
       "\n",
       "       High       Low     Close  \\\n",
       "0  30965.45  30680.66  30921.61   \n",
       "1  31097.92  30794.61  30857.52   \n",
       "2  31000.48  30798.70  30834.32   \n",
       "3  31294.96  30847.08  30958.25   \n",
       "4  31365.39  31110.39  31138.21   \n",
       "\n",
       "                                 Processed_Headlines  \n",
       "0  border crisis : army chief rawat sikkim china ...  \n",
       "1  sensex push higher , nifty reclaims 9550 , ahe...  \n",
       "2  nifty end 9,500 ; reliance industry drag peopl...  \n",
       "3  sensex tank 180 point , nifty50 hold 9,500 ; b...  \n",
       "4  piramal enterprise board give nod raise r 125 ...  "
      ]
     },
     "execution_count": 3,
     "metadata": {},
     "output_type": "execute_result"
    }
   ],
   "source": [
    "#I am processing the Combined Headlines and cleaning the text. \n",
    "#I will be placing the cleaned text in the column, Processed_Headlines\n",
    "\n",
    "#Ignoring the Warning for this cell. \n",
    "warnings.filterwarnings('ignore')\n",
    "\n",
    "#Defining function to pre-process the text of the News Headlines\n",
    "lemmatizer = WordNetLemmatizer()\n",
    "stop_words = stopwords.words('english')\n",
    "\n",
    "#Removing the HTML tags and URLs from the data\n",
    "df['Combined_Headlines']=df['Combined_Headlines'].apply(lambda x: BeautifulSoup(x).get_text())\n",
    "df['Combined_Headlines']=df['Combined_Headlines'].apply(lambda x: re.sub(r\"http\\S+\", \"\", x))\n",
    "#Removing extra spaces from the text\n",
    "df['Combined_Headlines']=df['Combined_Headlines'].apply(lambda x: re.sub(' +', ' ', x))\n",
    "\n",
    "#Storing the processed text in 'Processed_Headlines' column. \n",
    "df['Processed_Headlines'] = df['Combined_Headlines'].apply(lambda x: \" \".join(x.lower() for x in str(x).split()))\n",
    "\n",
    "df['Processed_Headlines']=df['Processed_Headlines'].apply(lambda x: \" \".join([x for x in x.split() if x not in stop_words]))\n",
    "\n",
    "#Lemmatization of the text\n",
    "df['Processed_Headlines']=df['Processed_Headlines'].apply(lambda x:\" \".join([lemmatizer.lemmatize(w) for w in nltk.word_tokenize(x)]))\n",
    "\n",
    "df.head()"
   ]
  },
  {
   "cell_type": "code",
   "execution_count": 4,
   "id": "f1c9eba2",
   "metadata": {},
   "outputs": [
    {
     "data": {
      "text/html": [
       "<div>\n",
       "<style scoped>\n",
       "    .dataframe tbody tr th:only-of-type {\n",
       "        vertical-align: middle;\n",
       "    }\n",
       "\n",
       "    .dataframe tbody tr th {\n",
       "        vertical-align: top;\n",
       "    }\n",
       "\n",
       "    .dataframe thead th {\n",
       "        text-align: right;\n",
       "    }\n",
       "</style>\n",
       "<table border=\"1\" class=\"dataframe\">\n",
       "  <thead>\n",
       "    <tr style=\"text-align: right;\">\n",
       "      <th></th>\n",
       "      <th>Date</th>\n",
       "      <th>Combined_Headlines</th>\n",
       "      <th>Open</th>\n",
       "      <th>High</th>\n",
       "      <th>Low</th>\n",
       "      <th>Close</th>\n",
       "      <th>Processed_Headlines</th>\n",
       "      <th>Daily_Percentage_Change</th>\n",
       "      <th>Label</th>\n",
       "    </tr>\n",
       "  </thead>\n",
       "  <tbody>\n",
       "    <tr>\n",
       "      <th>0</th>\n",
       "      <td>30-06-2017</td>\n",
       "      <td>Border crisis: Army chief Rawat in Sikkim as C...</td>\n",
       "      <td>30824.97</td>\n",
       "      <td>30965.45</td>\n",
       "      <td>30680.66</td>\n",
       "      <td>30921.61</td>\n",
       "      <td>border crisis : army chief rawat sikkim china ...</td>\n",
       "      <td>NaN</td>\n",
       "      <td>1</td>\n",
       "    </tr>\n",
       "    <tr>\n",
       "      <th>1</th>\n",
       "      <td>29-06-2017</td>\n",
       "      <td>Sensex pushes higher, Nifty reclaims 9550, ahe...</td>\n",
       "      <td>30910.97</td>\n",
       "      <td>31097.92</td>\n",
       "      <td>30794.61</td>\n",
       "      <td>30857.52</td>\n",
       "      <td>sensex push higher , nifty reclaims 9550 , ahe...</td>\n",
       "      <td>-0.207266</td>\n",
       "      <td>0</td>\n",
       "    </tr>\n",
       "    <tr>\n",
       "      <th>2</th>\n",
       "      <td>28-06-2017</td>\n",
       "      <td>Nifty ends below 9,500; Reliance Industries dr...</td>\n",
       "      <td>30988.87</td>\n",
       "      <td>31000.48</td>\n",
       "      <td>30798.70</td>\n",
       "      <td>30834.32</td>\n",
       "      <td>nifty end 9,500 ; reliance industry drag peopl...</td>\n",
       "      <td>-0.075184</td>\n",
       "      <td>0</td>\n",
       "    </tr>\n",
       "    <tr>\n",
       "      <th>3</th>\n",
       "      <td>27-06-2017</td>\n",
       "      <td>Sensex tanks 180 points, Nifty50 holds 9,500; ...</td>\n",
       "      <td>31194.68</td>\n",
       "      <td>31294.96</td>\n",
       "      <td>30847.08</td>\n",
       "      <td>30958.25</td>\n",
       "      <td>sensex tank 180 point , nifty50 hold 9,500 ; b...</td>\n",
       "      <td>0.401922</td>\n",
       "      <td>0</td>\n",
       "    </tr>\n",
       "    <tr>\n",
       "      <th>4</th>\n",
       "      <td>23-06-2017</td>\n",
       "      <td>Piramal Enterprises board gives nod to raise u...</td>\n",
       "      <td>31352.57</td>\n",
       "      <td>31365.39</td>\n",
       "      <td>31110.39</td>\n",
       "      <td>31138.21</td>\n",
       "      <td>piramal enterprise board give nod raise r 125 ...</td>\n",
       "      <td>0.581299</td>\n",
       "      <td>0</td>\n",
       "    </tr>\n",
       "  </tbody>\n",
       "</table>\n",
       "</div>"
      ],
      "text/plain": [
       "         Date                                 Combined_Headlines      Open  \\\n",
       "0  30-06-2017  Border crisis: Army chief Rawat in Sikkim as C...  30824.97   \n",
       "1  29-06-2017  Sensex pushes higher, Nifty reclaims 9550, ahe...  30910.97   \n",
       "2  28-06-2017  Nifty ends below 9,500; Reliance Industries dr...  30988.87   \n",
       "3  27-06-2017  Sensex tanks 180 points, Nifty50 holds 9,500; ...  31194.68   \n",
       "4  23-06-2017  Piramal Enterprises board gives nod to raise u...  31352.57   \n",
       "\n",
       "       High       Low     Close  \\\n",
       "0  30965.45  30680.66  30921.61   \n",
       "1  31097.92  30794.61  30857.52   \n",
       "2  31000.48  30798.70  30834.32   \n",
       "3  31294.96  30847.08  30958.25   \n",
       "4  31365.39  31110.39  31138.21   \n",
       "\n",
       "                                 Processed_Headlines  Daily_Percentage_Change  \\\n",
       "0  border crisis : army chief rawat sikkim china ...                      NaN   \n",
       "1  sensex push higher , nifty reclaims 9550 , ahe...                -0.207266   \n",
       "2  nifty end 9,500 ; reliance industry drag peopl...                -0.075184   \n",
       "3  sensex tank 180 point , nifty50 hold 9,500 ; b...                 0.401922   \n",
       "4  piramal enterprise board give nod raise r 125 ...                 0.581299   \n",
       "\n",
       "   Label  \n",
       "0      1  \n",
       "1      0  \n",
       "2      0  \n",
       "3      0  \n",
       "4      0  "
      ]
     },
     "execution_count": 4,
     "metadata": {},
     "output_type": "execute_result"
    }
   ],
   "source": [
    "#Calculating the Daily Percentage change in the Close price of the Index\n",
    "#I will be creating the label of 1/0 to be predicted later\n",
    "df['Daily_Percentage_Change'] = df['Close'].pct_change()*100\n",
    "df['Label'] = df['Daily_Percentage_Change'].apply(lambda x: 0 if x < 1 else 1)\n",
    "df.head()"
   ]
  },
  {
   "cell_type": "code",
   "execution_count": 5,
   "id": "6d41a2e9",
   "metadata": {},
   "outputs": [
    {
     "data": {
      "text/html": [
       "<div>\n",
       "<style scoped>\n",
       "    .dataframe tbody tr th:only-of-type {\n",
       "        vertical-align: middle;\n",
       "    }\n",
       "\n",
       "    .dataframe tbody tr th {\n",
       "        vertical-align: top;\n",
       "    }\n",
       "\n",
       "    .dataframe thead th {\n",
       "        text-align: right;\n",
       "    }\n",
       "</style>\n",
       "<table border=\"1\" class=\"dataframe\">\n",
       "  <thead>\n",
       "    <tr style=\"text-align: right;\">\n",
       "      <th></th>\n",
       "      <th>Date</th>\n",
       "      <th>Combined_Headlines</th>\n",
       "      <th>Open</th>\n",
       "      <th>High</th>\n",
       "      <th>Low</th>\n",
       "      <th>Close</th>\n",
       "      <th>Processed_Headlines</th>\n",
       "      <th>Daily_Percentage_Change</th>\n",
       "      <th>Label</th>\n",
       "    </tr>\n",
       "  </thead>\n",
       "  <tbody>\n",
       "    <tr>\n",
       "      <th>1</th>\n",
       "      <td>29-06-2017</td>\n",
       "      <td>Sensex pushes higher, Nifty reclaims 9550, ahe...</td>\n",
       "      <td>30910.97</td>\n",
       "      <td>31097.92</td>\n",
       "      <td>30794.61</td>\n",
       "      <td>30857.52</td>\n",
       "      <td>sensex push higher , nifty reclaims 9550 , ahe...</td>\n",
       "      <td>-0.207266</td>\n",
       "      <td>0</td>\n",
       "    </tr>\n",
       "    <tr>\n",
       "      <th>2</th>\n",
       "      <td>28-06-2017</td>\n",
       "      <td>Nifty ends below 9,500; Reliance Industries dr...</td>\n",
       "      <td>30988.87</td>\n",
       "      <td>31000.48</td>\n",
       "      <td>30798.70</td>\n",
       "      <td>30834.32</td>\n",
       "      <td>nifty end 9,500 ; reliance industry drag peopl...</td>\n",
       "      <td>-0.075184</td>\n",
       "      <td>0</td>\n",
       "    </tr>\n",
       "    <tr>\n",
       "      <th>3</th>\n",
       "      <td>27-06-2017</td>\n",
       "      <td>Sensex tanks 180 points, Nifty50 holds 9,500; ...</td>\n",
       "      <td>31194.68</td>\n",
       "      <td>31294.96</td>\n",
       "      <td>30847.08</td>\n",
       "      <td>30958.25</td>\n",
       "      <td>sensex tank 180 point , nifty50 hold 9,500 ; b...</td>\n",
       "      <td>0.401922</td>\n",
       "      <td>0</td>\n",
       "    </tr>\n",
       "    <tr>\n",
       "      <th>4</th>\n",
       "      <td>23-06-2017</td>\n",
       "      <td>Piramal Enterprises board gives nod to raise u...</td>\n",
       "      <td>31352.57</td>\n",
       "      <td>31365.39</td>\n",
       "      <td>31110.39</td>\n",
       "      <td>31138.21</td>\n",
       "      <td>piramal enterprise board give nod raise r 125 ...</td>\n",
       "      <td>0.581299</td>\n",
       "      <td>0</td>\n",
       "    </tr>\n",
       "    <tr>\n",
       "      <th>5</th>\n",
       "      <td>22-06-2017</td>\n",
       "      <td>Exclusive: Fake online stores reveal gamblers'...</td>\n",
       "      <td>31351.53</td>\n",
       "      <td>31522.87</td>\n",
       "      <td>31255.63</td>\n",
       "      <td>31290.74</td>\n",
       "      <td>exclusive : fake online store reveal gambler '...</td>\n",
       "      <td>0.489848</td>\n",
       "      <td>0</td>\n",
       "    </tr>\n",
       "  </tbody>\n",
       "</table>\n",
       "</div>"
      ],
      "text/plain": [
       "         Date                                 Combined_Headlines      Open  \\\n",
       "1  29-06-2017  Sensex pushes higher, Nifty reclaims 9550, ahe...  30910.97   \n",
       "2  28-06-2017  Nifty ends below 9,500; Reliance Industries dr...  30988.87   \n",
       "3  27-06-2017  Sensex tanks 180 points, Nifty50 holds 9,500; ...  31194.68   \n",
       "4  23-06-2017  Piramal Enterprises board gives nod to raise u...  31352.57   \n",
       "5  22-06-2017  Exclusive: Fake online stores reveal gamblers'...  31351.53   \n",
       "\n",
       "       High       Low     Close  \\\n",
       "1  31097.92  30794.61  30857.52   \n",
       "2  31000.48  30798.70  30834.32   \n",
       "3  31294.96  30847.08  30958.25   \n",
       "4  31365.39  31110.39  31138.21   \n",
       "5  31522.87  31255.63  31290.74   \n",
       "\n",
       "                                 Processed_Headlines  Daily_Percentage_Change  \\\n",
       "1  sensex push higher , nifty reclaims 9550 , ahe...                -0.207266   \n",
       "2  nifty end 9,500 ; reliance industry drag peopl...                -0.075184   \n",
       "3  sensex tank 180 point , nifty50 hold 9,500 ; b...                 0.401922   \n",
       "4  piramal enterprise board give nod raise r 125 ...                 0.581299   \n",
       "5  exclusive : fake online store reveal gambler '...                 0.489848   \n",
       "\n",
       "   Label  \n",
       "1      0  \n",
       "2      0  \n",
       "3      0  \n",
       "4      0  \n",
       "5      0  "
      ]
     },
     "execution_count": 5,
     "metadata": {},
     "output_type": "execute_result"
    }
   ],
   "source": [
    "#I will be dropping the na values from the dataframe\n",
    "df = df.dropna()\n",
    "df.head()"
   ]
  },
  {
   "cell_type": "code",
   "execution_count": 6,
   "id": "210bac0e",
   "metadata": {},
   "outputs": [
    {
     "data": {
      "text/html": [
       "<div>\n",
       "<style scoped>\n",
       "    .dataframe tbody tr th:only-of-type {\n",
       "        vertical-align: middle;\n",
       "    }\n",
       "\n",
       "    .dataframe tbody tr th {\n",
       "        vertical-align: top;\n",
       "    }\n",
       "\n",
       "    .dataframe thead th {\n",
       "        text-align: right;\n",
       "    }\n",
       "</style>\n",
       "<table border=\"1\" class=\"dataframe\">\n",
       "  <thead>\n",
       "    <tr style=\"text-align: right;\">\n",
       "      <th></th>\n",
       "      <th>Date</th>\n",
       "      <th>Processed_Headlines</th>\n",
       "      <th>Label</th>\n",
       "    </tr>\n",
       "  </thead>\n",
       "  <tbody>\n",
       "    <tr>\n",
       "      <th>1</th>\n",
       "      <td>29-06-2017</td>\n",
       "      <td>sensex push higher , nifty reclaims 9550 , ahe...</td>\n",
       "      <td>0</td>\n",
       "    </tr>\n",
       "    <tr>\n",
       "      <th>2</th>\n",
       "      <td>28-06-2017</td>\n",
       "      <td>nifty end 9,500 ; reliance industry drag peopl...</td>\n",
       "      <td>0</td>\n",
       "    </tr>\n",
       "    <tr>\n",
       "      <th>3</th>\n",
       "      <td>27-06-2017</td>\n",
       "      <td>sensex tank 180 point , nifty50 hold 9,500 ; b...</td>\n",
       "      <td>0</td>\n",
       "    </tr>\n",
       "    <tr>\n",
       "      <th>4</th>\n",
       "      <td>23-06-2017</td>\n",
       "      <td>piramal enterprise board give nod raise r 125 ...</td>\n",
       "      <td>0</td>\n",
       "    </tr>\n",
       "    <tr>\n",
       "      <th>5</th>\n",
       "      <td>22-06-2017</td>\n",
       "      <td>exclusive : fake online store reveal gambler '...</td>\n",
       "      <td>0</td>\n",
       "    </tr>\n",
       "  </tbody>\n",
       "</table>\n",
       "</div>"
      ],
      "text/plain": [
       "         Date                                Processed_Headlines  Label\n",
       "1  29-06-2017  sensex push higher , nifty reclaims 9550 , ahe...      0\n",
       "2  28-06-2017  nifty end 9,500 ; reliance industry drag peopl...      0\n",
       "3  27-06-2017  sensex tank 180 point , nifty50 hold 9,500 ; b...      0\n",
       "4  23-06-2017  piramal enterprise board give nod raise r 125 ...      0\n",
       "5  22-06-2017  exclusive : fake online store reveal gambler '...      0"
      ]
     },
     "execution_count": 6,
     "metadata": {},
     "output_type": "execute_result"
    }
   ],
   "source": [
    "#I will be dropping the columns not required hereafter\n",
    "df = df.drop(columns=['Combined_Headlines','Open','High','Low','Close','Daily_Percentage_Change'])\n",
    "df.head()"
   ]
  },
  {
   "cell_type": "markdown",
   "id": "eb986f96",
   "metadata": {},
   "source": [
    "### Section 3) Sentiment Analysis"
   ]
  },
  {
   "cell_type": "code",
   "execution_count": 7,
   "id": "9cefadda",
   "metadata": {},
   "outputs": [],
   "source": [
    "def sentiment_score(review):\n",
    "    tokens = tokenizer.encode(review, return_tensors='pt')\n",
    "    result = model(tokens)\n",
    "    return int(torch.argmax(result.logits))+1\n",
    "\n",
    "def sentiment_score_pos(sent):\n",
    "    tokens = tokenizer.encode(sent, return_tensors='pt')\n",
    "    result = model(tokens)\n",
    "    prediction = torch.nn.functional.softmax(result.logits, dim=-1)\n",
    "    pos = prediction[:, 0].tolist()[0]\n",
    "    return pos\n",
    "\n",
    "def sentiment_score_neg(sent):\n",
    "    tokens = tokenizer.encode(sent, return_tensors='pt')\n",
    "    result = model(tokens)\n",
    "    prediction = torch.nn.functional.softmax(result.logits, dim=-1)\n",
    "    neg = prediction[:, 1].tolist()[0]\n",
    "    return neg\n",
    "\n",
    "def sentiment_score_neut(sent):\n",
    "    tokens = tokenizer.encode(sent, return_tensors='pt')\n",
    "    result = model(tokens)\n",
    "    prediction = torch.nn.functional.softmax(result.logits, dim=-1)\n",
    "    neutr = prediction[:, 2].tolist()[0]\n",
    "    return neutr"
   ]
  },
  {
   "cell_type": "code",
   "execution_count": 8,
   "id": "e3e0b6e4",
   "metadata": {},
   "outputs": [
    {
     "data": {
      "text/html": [
       "<div>\n",
       "<style scoped>\n",
       "    .dataframe tbody tr th:only-of-type {\n",
       "        vertical-align: middle;\n",
       "    }\n",
       "\n",
       "    .dataframe tbody tr th {\n",
       "        vertical-align: top;\n",
       "    }\n",
       "\n",
       "    .dataframe thead th {\n",
       "        text-align: right;\n",
       "    }\n",
       "</style>\n",
       "<table border=\"1\" class=\"dataframe\">\n",
       "  <thead>\n",
       "    <tr style=\"text-align: right;\">\n",
       "      <th></th>\n",
       "      <th>Date</th>\n",
       "      <th>Processed_Headlines</th>\n",
       "      <th>Label</th>\n",
       "      <th>BERT_score</th>\n",
       "      <th>BERT_pos</th>\n",
       "      <th>BERT_neg</th>\n",
       "      <th>BERT_neutr</th>\n",
       "    </tr>\n",
       "  </thead>\n",
       "  <tbody>\n",
       "    <tr>\n",
       "      <th>1</th>\n",
       "      <td>29-06-2017</td>\n",
       "      <td>sensex push higher , nifty reclaims 9550 , ahe...</td>\n",
       "      <td>0</td>\n",
       "      <td>1</td>\n",
       "      <td>0.516302</td>\n",
       "      <td>0.254041</td>\n",
       "      <td>0.122045</td>\n",
       "    </tr>\n",
       "    <tr>\n",
       "      <th>2</th>\n",
       "      <td>28-06-2017</td>\n",
       "      <td>nifty end 9,500 ; reliance industry drag peopl...</td>\n",
       "      <td>0</td>\n",
       "      <td>1</td>\n",
       "      <td>0.592651</td>\n",
       "      <td>0.235079</td>\n",
       "      <td>0.099565</td>\n",
       "    </tr>\n",
       "    <tr>\n",
       "      <th>3</th>\n",
       "      <td>27-06-2017</td>\n",
       "      <td>sensex tank 180 point , nifty50 hold 9,500 ; b...</td>\n",
       "      <td>0</td>\n",
       "      <td>1</td>\n",
       "      <td>0.482937</td>\n",
       "      <td>0.310596</td>\n",
       "      <td>0.120765</td>\n",
       "    </tr>\n",
       "    <tr>\n",
       "      <th>4</th>\n",
       "      <td>23-06-2017</td>\n",
       "      <td>piramal enterprise board give nod raise r 125 ...</td>\n",
       "      <td>0</td>\n",
       "      <td>1</td>\n",
       "      <td>0.802986</td>\n",
       "      <td>0.149463</td>\n",
       "      <td>0.035932</td>\n",
       "    </tr>\n",
       "    <tr>\n",
       "      <th>5</th>\n",
       "      <td>22-06-2017</td>\n",
       "      <td>exclusive : fake online store reveal gambler '...</td>\n",
       "      <td>0</td>\n",
       "      <td>1</td>\n",
       "      <td>0.663777</td>\n",
       "      <td>0.204110</td>\n",
       "      <td>0.073955</td>\n",
       "    </tr>\n",
       "  </tbody>\n",
       "</table>\n",
       "</div>"
      ],
      "text/plain": [
       "         Date                                Processed_Headlines  Label  \\\n",
       "1  29-06-2017  sensex push higher , nifty reclaims 9550 , ahe...      0   \n",
       "2  28-06-2017  nifty end 9,500 ; reliance industry drag peopl...      0   \n",
       "3  27-06-2017  sensex tank 180 point , nifty50 hold 9,500 ; b...      0   \n",
       "4  23-06-2017  piramal enterprise board give nod raise r 125 ...      0   \n",
       "5  22-06-2017  exclusive : fake online store reveal gambler '...      0   \n",
       "\n",
       "   BERT_score  BERT_pos  BERT_neg  BERT_neutr  \n",
       "1           1  0.516302  0.254041    0.122045  \n",
       "2           1  0.592651  0.235079    0.099565  \n",
       "3           1  0.482937  0.310596    0.120765  \n",
       "4           1  0.802986  0.149463    0.035932  \n",
       "5           1  0.663777  0.204110    0.073955  "
      ]
     },
     "execution_count": 8,
     "metadata": {},
     "output_type": "execute_result"
    }
   ],
   "source": [
    "df['BERT_score']= df['Processed_Headlines'].apply(lambda x: sentiment_score(x[:512]))\n",
    "df['BERT_pos']= df['Processed_Headlines'].apply(lambda x: sentiment_score_pos(x[:512]))\n",
    "df['BERT_neg']= df['Processed_Headlines'].apply(lambda x: sentiment_score_neg(x[:512]))\n",
    "df['BERT_neutr']= df['Processed_Headlines'].apply(lambda x: sentiment_score_neut(x[:512]))\n",
    "df.head()"
   ]
  },
  {
   "cell_type": "code",
   "execution_count": 9,
   "id": "e40d8ea9",
   "metadata": {},
   "outputs": [
    {
     "data": {
      "text/plain": [
       "1      0\n",
       "2      0\n",
       "3      0\n",
       "4      0\n",
       "5      0\n",
       "      ..\n",
       "777    0\n",
       "778    0\n",
       "779    0\n",
       "780    0\n",
       "781    0\n",
       "Name: Label, Length: 781, dtype: int64"
      ]
     },
     "execution_count": 9,
     "metadata": {},
     "output_type": "execute_result"
    }
   ],
   "source": [
    "y = df['Label']\n",
    "y"
   ]
  },
  {
   "cell_type": "code",
   "execution_count": 10,
   "id": "90b0621f",
   "metadata": {},
   "outputs": [
    {
     "data": {
      "text/html": [
       "<div>\n",
       "<style scoped>\n",
       "    .dataframe tbody tr th:only-of-type {\n",
       "        vertical-align: middle;\n",
       "    }\n",
       "\n",
       "    .dataframe tbody tr th {\n",
       "        vertical-align: top;\n",
       "    }\n",
       "\n",
       "    .dataframe thead th {\n",
       "        text-align: right;\n",
       "    }\n",
       "</style>\n",
       "<table border=\"1\" class=\"dataframe\">\n",
       "  <thead>\n",
       "    <tr style=\"text-align: right;\">\n",
       "      <th></th>\n",
       "      <th>BERT_score</th>\n",
       "      <th>BERT_pos</th>\n",
       "      <th>BERT_neg</th>\n",
       "      <th>BERT_neutr</th>\n",
       "    </tr>\n",
       "  </thead>\n",
       "  <tbody>\n",
       "    <tr>\n",
       "      <th>1</th>\n",
       "      <td>1</td>\n",
       "      <td>0.516302</td>\n",
       "      <td>0.254041</td>\n",
       "      <td>0.122045</td>\n",
       "    </tr>\n",
       "    <tr>\n",
       "      <th>2</th>\n",
       "      <td>1</td>\n",
       "      <td>0.592651</td>\n",
       "      <td>0.235079</td>\n",
       "      <td>0.099565</td>\n",
       "    </tr>\n",
       "    <tr>\n",
       "      <th>3</th>\n",
       "      <td>1</td>\n",
       "      <td>0.482937</td>\n",
       "      <td>0.310596</td>\n",
       "      <td>0.120765</td>\n",
       "    </tr>\n",
       "    <tr>\n",
       "      <th>4</th>\n",
       "      <td>1</td>\n",
       "      <td>0.802986</td>\n",
       "      <td>0.149463</td>\n",
       "      <td>0.035932</td>\n",
       "    </tr>\n",
       "    <tr>\n",
       "      <th>5</th>\n",
       "      <td>1</td>\n",
       "      <td>0.663777</td>\n",
       "      <td>0.204110</td>\n",
       "      <td>0.073955</td>\n",
       "    </tr>\n",
       "    <tr>\n",
       "      <th>...</th>\n",
       "      <td>...</td>\n",
       "      <td>...</td>\n",
       "      <td>...</td>\n",
       "      <td>...</td>\n",
       "    </tr>\n",
       "    <tr>\n",
       "      <th>777</th>\n",
       "      <td>1</td>\n",
       "      <td>0.272352</td>\n",
       "      <td>0.180845</td>\n",
       "      <td>0.195814</td>\n",
       "    </tr>\n",
       "    <tr>\n",
       "      <th>778</th>\n",
       "      <td>1</td>\n",
       "      <td>0.542867</td>\n",
       "      <td>0.218562</td>\n",
       "      <td>0.127617</td>\n",
       "    </tr>\n",
       "    <tr>\n",
       "      <th>779</th>\n",
       "      <td>5</td>\n",
       "      <td>0.015004</td>\n",
       "      <td>0.016946</td>\n",
       "      <td>0.045558</td>\n",
       "    </tr>\n",
       "    <tr>\n",
       "      <th>780</th>\n",
       "      <td>1</td>\n",
       "      <td>0.288835</td>\n",
       "      <td>0.113718</td>\n",
       "      <td>0.124222</td>\n",
       "    </tr>\n",
       "    <tr>\n",
       "      <th>781</th>\n",
       "      <td>2</td>\n",
       "      <td>0.355105</td>\n",
       "      <td>0.433259</td>\n",
       "      <td>0.191705</td>\n",
       "    </tr>\n",
       "  </tbody>\n",
       "</table>\n",
       "<p>781 rows × 4 columns</p>\n",
       "</div>"
      ],
      "text/plain": [
       "     BERT_score  BERT_pos  BERT_neg  BERT_neutr\n",
       "1             1  0.516302  0.254041    0.122045\n",
       "2             1  0.592651  0.235079    0.099565\n",
       "3             1  0.482937  0.310596    0.120765\n",
       "4             1  0.802986  0.149463    0.035932\n",
       "5             1  0.663777  0.204110    0.073955\n",
       "..          ...       ...       ...         ...\n",
       "777           1  0.272352  0.180845    0.195814\n",
       "778           1  0.542867  0.218562    0.127617\n",
       "779           5  0.015004  0.016946    0.045558\n",
       "780           1  0.288835  0.113718    0.124222\n",
       "781           2  0.355105  0.433259    0.191705\n",
       "\n",
       "[781 rows x 4 columns]"
      ]
     },
     "execution_count": 10,
     "metadata": {},
     "output_type": "execute_result"
    }
   ],
   "source": [
    "X = df[['BERT_score','BERT_pos','BERT_neg','BERT_neutr']]\n",
    "X"
   ]
  },
  {
   "cell_type": "markdown",
   "id": "cf6248d7",
   "metadata": {},
   "source": [
    "## Unbalanced Dataset"
   ]
  },
  {
   "cell_type": "code",
   "execution_count": 12,
   "id": "ae6d218b",
   "metadata": {},
   "outputs": [
    {
     "name": "stdout",
     "output_type": "stream",
     "text": [
      "Train:  (624, 4) (624,) Test:  ((157, 4), (157,))\n"
     ]
    }
   ],
   "source": [
    "#Splitting the dataset into train and test sets\n",
    "X_train,X_test,y_train, y_test = train_test_split(X,y, test_size=0.20, random_state=30)\n",
    "print(\"Train: \",X_train.shape,y_train.shape,\"Test: \",(X_test.shape,y_test.shape))"
   ]
  },
  {
   "cell_type": "markdown",
   "id": "e6e9883f",
   "metadata": {},
   "source": [
    "## Decision  Tree"
   ]
  },
  {
   "cell_type": "code",
   "execution_count": 13,
   "id": "4a1ef65a",
   "metadata": {},
   "outputs": [
    {
     "name": "stdout",
     "output_type": "stream",
     "text": [
      "ROCAUC score: 0.52025\n",
      "Accuracy score: 0.643312101910828\n",
      "F1 score: 0.2631578947368421\n"
     ]
    }
   ],
   "source": [
    "#Decision tree \n",
    "\n",
    "from sklearn.tree import DecisionTreeClassifier\n",
    "dt = DecisionTreeClassifier(random_state=0).fit(X_train,y_train)\n",
    "dt_pred = dt.predict(X_test)\n",
    "\n",
    "print('ROCAUC score:',roc_auc_score(y_test, dt_pred))\n",
    "print('Accuracy score:',accuracy_score(y_test, dt_pred))\n",
    "print('F1 score:',f1_score(y_test, dt_pred))"
   ]
  },
  {
   "cell_type": "markdown",
   "id": "44d0619e",
   "metadata": {},
   "source": [
    "## Gradient Boosting"
   ]
  },
  {
   "cell_type": "code",
   "execution_count": 14,
   "id": "f061e4a8",
   "metadata": {},
   "outputs": [
    {
     "name": "stdout",
     "output_type": "stream",
     "text": [
      "ROCAUC score: 0.499625\n",
      "Accuracy score: 0.7770700636942676\n",
      "F1 score: 0.05405405405405406\n"
     ]
    }
   ],
   "source": [
    "from sklearn.datasets import make_hastie_10_2\n",
    "from sklearn.ensemble import GradientBoostingClassifier\n",
    "gb = GradientBoostingClassifier(n_estimators=100, learning_rate=1.0, max_depth=1, random_state=0).fit(X_train, y_train)\n",
    "\n",
    "gb_pred = gb.predict(X_test)\n",
    "\n",
    "print('ROCAUC score:',roc_auc_score(y_test, gb_pred))\n",
    "print('Accuracy score:',accuracy_score(y_test, gb_pred))\n",
    "print('F1 score:',f1_score(y_test, gb_pred))"
   ]
  },
  {
   "cell_type": "markdown",
   "id": "05726886",
   "metadata": {},
   "source": [
    "## SVM"
   ]
  },
  {
   "cell_type": "code",
   "execution_count": 15,
   "id": "b4bcc549",
   "metadata": {},
   "outputs": [
    {
     "name": "stdout",
     "output_type": "stream",
     "text": [
      "ROCAUC score: 0.54225\n",
      "Accuracy score: 0.3821656050955414\n",
      "F1 score: 0.34899328859060397\n"
     ]
    }
   ],
   "source": [
    "# load library\n",
    "from sklearn.svm import SVC\n",
    "\n",
    "# we can add class_weight='balanced' to add panalize mistake\n",
    "svc_model = SVC(class_weight='balanced', probability=True)\n",
    "\n",
    "svc_model.fit(X_train, y_train)\n",
    "\n",
    "svc_predict = svc_model.predict(X_test)# check performance\n",
    "print('ROCAUC score:',roc_auc_score(y_test, svc_predict))\n",
    "print('Accuracy score:',accuracy_score(y_test, svc_predict))\n",
    "print('F1 score:',f1_score(y_test, svc_predict))"
   ]
  },
  {
   "cell_type": "markdown",
   "id": "fcbdf5fc",
   "metadata": {},
   "source": [
    "## Balanced Dataset\n"
   ]
  },
  {
   "cell_type": "code",
   "execution_count": 16,
   "id": "695e38e3",
   "metadata": {},
   "outputs": [
    {
     "name": "stdout",
     "output_type": "stream",
     "text": [
      "Counter({0: 619, 1: 619})\n",
      "Train:  (990, 4) (990,) Test:  ((248, 4), (248,))\n"
     ]
    }
   ],
   "source": [
    "#Balancing the Dataset\n",
    "# example of random oversampling to balance the class distribution\n",
    "from collections import Counter\n",
    "from sklearn.datasets import make_classification\n",
    "from imblearn.over_sampling import RandomOverSampler\n",
    "\n",
    "#X = X.values.reshape(-1)\n",
    "oversample = RandomOverSampler(sampling_strategy='minority')\n",
    "# fit and apply the transform\n",
    "#X_over, y_over = oversample.fit_resample(X, y)\n",
    "X_over, y_over = oversample.fit_resample(X,y)\n",
    "# summarize class distribution\n",
    "print(Counter(y_over))\n",
    "\n",
    "#Splitting the dataset into train and test sets\n",
    "X_train,X_test,y_train, y_test = train_test_split(X_over,y_over, test_size=0.20, random_state=30)\n",
    "print(\"Train: \",X_train.shape,y_train.shape,\"Test: \",(X_test.shape,y_test.shape))"
   ]
  },
  {
   "cell_type": "markdown",
   "id": "efd28d8b",
   "metadata": {},
   "source": [
    "## Decision Tree"
   ]
  },
  {
   "cell_type": "code",
   "execution_count": 17,
   "id": "a955dede",
   "metadata": {},
   "outputs": [
    {
     "name": "stdout",
     "output_type": "stream",
     "text": [
      "ROCAUC score: 0.8698174706649283\n",
      "Accuracy score: 0.875\n",
      "F1 score: 0.8912280701754386\n"
     ]
    }
   ],
   "source": [
    "#Decision tree \n",
    "\n",
    "from sklearn.tree import DecisionTreeClassifier\n",
    "dt = DecisionTreeClassifier(random_state=0).fit(X_train,y_train)\n",
    "dt_pred = dt.predict(X_test)\n",
    "\n",
    "print('ROCAUC score:',roc_auc_score(y_test, dt_pred))\n",
    "print('Accuracy score:',accuracy_score(y_test, dt_pred))\n",
    "print('F1 score:',f1_score(y_test, dt_pred))"
   ]
  },
  {
   "cell_type": "markdown",
   "id": "f889a930",
   "metadata": {},
   "source": [
    "## Gradient Boosting"
   ]
  },
  {
   "cell_type": "code",
   "execution_count": 18,
   "id": "4772fb6f",
   "metadata": {},
   "outputs": [
    {
     "name": "stdout",
     "output_type": "stream",
     "text": [
      "ROCAUC score: 0.6700782268578879\n",
      "Accuracy score: 0.6733870967741935\n",
      "F1 score: 0.7032967032967035\n"
     ]
    }
   ],
   "source": [
    "from sklearn.datasets import make_hastie_10_2\n",
    "from sklearn.ensemble import GradientBoostingClassifier\n",
    "gb = GradientBoostingClassifier(n_estimators=100, learning_rate=1.0, max_depth=1, random_state=0).fit(X_train, y_train)\n",
    "\n",
    "gb_pred = gb.predict(X_test)\n",
    "\n",
    "print('ROCAUC score:',roc_auc_score(y_test, gb_pred))\n",
    "print('Accuracy score:',accuracy_score(y_test, gb_pred))\n",
    "print('F1 score:',f1_score(y_test, gb_pred))"
   ]
  },
  {
   "cell_type": "markdown",
   "id": "6b5fd253",
   "metadata": {},
   "source": [
    "## SVM"
   ]
  },
  {
   "cell_type": "code",
   "execution_count": 19,
   "id": "5d36b7b0",
   "metadata": {
    "scrolled": true
   },
   "outputs": [
    {
     "name": "stdout",
     "output_type": "stream",
     "text": [
      "ROCAUC score: 0.494393741851369\n",
      "Accuracy score: 0.5080645161290323\n",
      "F1 score: 0.6234567901234569\n"
     ]
    }
   ],
   "source": [
    "# load library\n",
    "from sklearn.svm import SVC\n",
    "\n",
    "# we can add class_weight='balanced' to add panalize mistake\n",
    "svc_model = SVC(class_weight='balanced', probability=True)\n",
    "\n",
    "svc_model.fit(X_train, y_train)\n",
    "\n",
    "svc_predict = svc_model.predict(X_test)# check performance\n",
    "print('ROCAUC score:',roc_auc_score(y_test, svc_predict))\n",
    "print('Accuracy score:',accuracy_score(y_test, svc_predict))\n",
    "print('F1 score:',f1_score(y_test, svc_predict))"
   ]
  },
  {
   "cell_type": "markdown",
   "id": "0d517de5",
   "metadata": {},
   "source": [
    "The best performance from all the above cells is clear that is the Decision Tree Classifier on a balanced dataset. Thus, I will be printing the accuracy scores of the same and plotting the confusion matrix of the Decision Tree Classifier performance. "
   ]
  },
  {
   "cell_type": "code",
   "execution_count": 20,
   "id": "b5e29762",
   "metadata": {},
   "outputs": [
    {
     "name": "stdout",
     "output_type": "stream",
     "text": [
      "Accuracy of the Random Forest Classifier approach on NLTK Scores: 0.875\n"
     ]
    },
    {
     "data": {
      "image/png": "[encoded data removed]",
      "text/plain": [
       "<Figure size 648x648 with 2 Axes>"
      ]
     },
     "metadata": {
      "needs_background": "light"
     },
     "output_type": "display_data"
    }
   ],
   "source": [
    "#Calculating the Confucion Matrix and Accuracy Scores\n",
    "cm_DT = confusion_matrix(y_test, dt_pred)\n",
    "Accuracy_Score_DT = accuracy_score(y_test, dt_pred)\n",
    "print('Accuracy of the Random Forest Classifier approach on NLTK Scores:',round(Accuracy_Score_DT,4))\n",
    "\n",
    "#Plotting the Confusion Matrix of the Predictions\n",
    "plt.figure(figsize=(9,9))\n",
    "sns.heatmap(cm_DT, annot=True, fmt=\".3f\", linewidths=.5, square = True, cmap = 'Blues_r');\n",
    "plt.ylabel('Actual label');\n",
    "plt.xlabel('Predicted label');\n",
    "all_sample_title = 'Accuracy of Random Forest Classifier using NLTK: {0}'.format(round((Accuracy_Score_DT*100),4))\n",
    "plt.title(all_sample_title, size = 15);"
   ]
  },
  {
   "cell_type": "code",
   "execution_count": null,
   "id": "7bd044fc",
   "metadata": {},
   "outputs": [],
   "source": []
  }
 ],
 "metadata": {
  "kernelspec": {
   "display_name": "Python 3",
   "language": "python",
   "name": "python3"
  },
  "language_info": {
   "codemirror_mode": {
    "name": "ipython",
    "version": 3
   },
   "file_extension": ".py",
   "mimetype": "text/x-python",
   "name": "python",
   "nbconvert_exporter": "python",
   "pygments_lexer": "ipython3",
   "version": "3.8.8"
  }
 },
 "nbformat": 4,
 "nbformat_minor": 5
}
