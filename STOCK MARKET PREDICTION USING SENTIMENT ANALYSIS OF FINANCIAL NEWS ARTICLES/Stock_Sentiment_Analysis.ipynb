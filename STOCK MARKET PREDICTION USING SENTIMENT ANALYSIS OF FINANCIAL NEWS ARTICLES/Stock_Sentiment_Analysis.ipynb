{
 "cells": [
  {
   "cell_type": "markdown",
   "id": "49fc5c25",
   "metadata": {},
   "source": [
    "# Stock Market Prediction from Sentiment of Financial News\n",
    "\n",
    "In this project, I have primarily tried to predict the movement of the stock market indices based on the sentiments of the daily financial news articles. In this notebook, I have performed each of the tasks in specific sections. \n",
    "\n",
    "The data is primarily from two sources:\n",
    "- The financial news data ranges from 2014-2017, collected from Pulse, managed by Zerodha, stock broker in India. \n",
    "- The raw stock market data (BSE SENSEX, Bombay Stock Exchange index) has been collected from the BSE website. \n",
    "\n",
    "I have performed a classification approach on the data. In the classification approach I have predicted the 'Label' (signifying the movement of the Close price of the stock market based on the previous day's data)I have used the BERT, fin BERT and NLTK Sentiment analyser to calculate the sentiment scores. finBERT is a language model trained on the financial news articles. I have used the transformer library of Hugging Face to implement the BERT Sentiment Analyser. \n",
    "\n",
    "Thus, from a high level prespective I am using the sentiment scores of the news headlines to predict how the stock market index will move. \n",
    "\n",
    "The flow of the code follows the following approach:\n",
    "\n",
    "- Import all the libraries.\n",
    "- Import the news headlines data from csv and stock market data from Wall Street Journal. \n",
    "- Pre-Process the textual data from news headlines dataset and and save in a new column. \n",
    "- Pre-Process the stock market data. \n",
    "- Calculate the sentiment of the news headlines and add them as a column.\n",
    "- I am running both NLTK, BERT and finBERT Sentiment Analyser and saving the scores in seperate columns. \n",
    "- Save the data as a csv file for future use (so we don't have to run the BERT everytime as it can be time consuming). \n",
    "- Run a Min-Max scalar to normalize the numerical data. \n",
    "- Split data into train and test\n",
    "- Run a Classification algorithm to predict the lables\n",
    "- Run a Regression algorithm to predict the Close price\n",
    "\n",
    "I have broken down the Notebook in the following sections:\n",
    "\n",
    "- Import Library and Data\n",
    "- Data Preparation and Pre-Processing\n",
    "- Sentiment Analysis\n",
    "- Classification Approach\n",
    "- Results\n",
    "\n"
   ]
  },
  {
   "cell_type": "markdown",
   "id": "b4cdf562",
   "metadata": {},
   "source": [
    "## Section 1) Importing Libraries and Data"
   ]
  },
  {
   "cell_type": "code",
   "execution_count": 4,
   "id": "da70703c",
   "metadata": {},
   "outputs": [
    {
     "name": "stderr",
     "output_type": "stream",
     "text": [
      "[nltk_data] Downloading package vader_lexicon to\n",
      "[nltk_data]     C:\\Users\\mit_b\\AppData\\Roaming\\nltk_data...\n",
      "[nltk_data]   Package vader_lexicon is already up-to-date!\n"
     ]
    }
   ],
   "source": [
    "#Importing pandas and numpy to manipulate datasets\n",
    "import pandas as pd\n",
    "import numpy as np\n",
    "import matplotlib.pyplot as plt\n",
    "import seaborn as sns\n",
    "import warnings\n",
    "\n",
    "#Importing nltk library\n",
    "import nltk\n",
    "nltk.download('vader_lexicon')\n",
    "from nltk.corpus import stopwords\n",
    "from nltk.tokenize import word_tokenize\n",
    "from nltk.stem import WordNetLemmatizer\n",
    "import re\n",
    "from bs4 import BeautifulSoup\n",
    "from wordcloud import WordCloud\n",
    "\n",
    "#Importing the librairies from transformers libarry\n",
    "#!pip install transformers\n",
    "from transformers import AutoTokenizer, AutoModelForSequenceClassification\n",
    "#Importing torch\n",
    "import torch\n",
    "#Importing requests to scrape the website\n",
    "#import requests\n",
    "#Importing beautiful soup to scrape the website\n",
    "#from bs4 import BeautifulSoup\n",
    "#import re\n",
    "\n",
    "#Sklearn packages\n",
    "from sklearn.model_selection import train_test_split\n",
    "from sklearn.metrics import classification_report\n",
    "from sklearn.linear_model import LogisticRegression\n",
    "from sklearn.metrics import classification_report\n",
    "from sklearn.metrics import confusion_matrix\n",
    "from sklearn.metrics import accuracy_score\n",
    "from sklearn.svm import LinearSVC\n",
    "from sklearn.ensemble import RandomForestClassifier\n",
    "from sklearn.datasets import make_classification\n",
    "from sklearn import preprocessing, metrics\n",
    "from sklearn.preprocessing import MinMaxScaler\n",
    "from sklearn.neighbors import KNeighborsClassifier\n",
    "from sklearn.metrics import roc_auc_score\n",
    "from sklearn.metrics import f1_score\n",
    "from sklearn.ensemble import GradientBoostingClassifier\n",
    "from sklearn.tree import DecisionTreeClassifier\n",
    "from sklearn.datasets import make_hastie_10_2\n",
    "from sklearn.ensemble import HistGradientBoostingClassifier\n",
    "from sklearn import svm\n",
    "from sklearn.svm import SVC\n",
    "from sklearn.pipeline import make_pipeline\n",
    "from sklearn.preprocessing import StandardScaler\n",
    "\n",
    "#BERT\n",
    "\n",
    "#Importing the AutoTokenizer module from the pre-trained BERT model\n",
    "tokenizer = AutoTokenizer.from_pretrained('nlptown/bert-base-multilingual-uncased-sentiment')\n",
    "\n",
    "#Instantiating the model from the AutoModelForSequenceClassificationmodule of the pre-trained BERT Model\n",
    "model = AutoModelForSequenceClassification.from_pretrained('nlptown/bert-base-multilingual-uncased-sentiment')"
   ]
  },
  {
   "cell_type": "code",
   "execution_count": 77,
   "id": "2fa6774a",
   "metadata": {},
   "outputs": [
    {
     "data": {
      "text/html": [
       "<div>\n",
       "<style scoped>\n",
       "    .dataframe tbody tr th:only-of-type {\n",
       "        vertical-align: middle;\n",
       "    }\n",
       "\n",
       "    .dataframe tbody tr th {\n",
       "        vertical-align: top;\n",
       "    }\n",
       "\n",
       "    .dataframe thead th {\n",
       "        text-align: right;\n",
       "    }\n",
       "</style>\n",
       "<table border=\"1\" class=\"dataframe\">\n",
       "  <thead>\n",
       "    <tr style=\"text-align: right;\">\n",
       "      <th></th>\n",
       "      <th>Date</th>\n",
       "      <th>Combined_Headlines</th>\n",
       "      <th>Open</th>\n",
       "      <th>High</th>\n",
       "      <th>Low</th>\n",
       "      <th>Close</th>\n",
       "    </tr>\n",
       "  </thead>\n",
       "  <tbody>\n",
       "    <tr>\n",
       "      <th>0</th>\n",
       "      <td>30-06-2017</td>\n",
       "      <td>Border crisis: Army chief Rawat in Sikkim as C...</td>\n",
       "      <td>30824.97</td>\n",
       "      <td>30965.45</td>\n",
       "      <td>30680.66</td>\n",
       "      <td>30921.61</td>\n",
       "    </tr>\n",
       "    <tr>\n",
       "      <th>1</th>\n",
       "      <td>29-06-2017</td>\n",
       "      <td>Sensex pushes higher, Nifty reclaims 9550, ahe...</td>\n",
       "      <td>30910.97</td>\n",
       "      <td>31097.92</td>\n",
       "      <td>30794.61</td>\n",
       "      <td>30857.52</td>\n",
       "    </tr>\n",
       "    <tr>\n",
       "      <th>2</th>\n",
       "      <td>28-06-2017</td>\n",
       "      <td>Nifty ends below 9,500; Reliance Industries dr...</td>\n",
       "      <td>30988.87</td>\n",
       "      <td>31000.48</td>\n",
       "      <td>30798.70</td>\n",
       "      <td>30834.32</td>\n",
       "    </tr>\n",
       "    <tr>\n",
       "      <th>3</th>\n",
       "      <td>27-06-2017</td>\n",
       "      <td>Sensex tanks 180 points, Nifty50 holds 9,500; ...</td>\n",
       "      <td>31194.68</td>\n",
       "      <td>31294.96</td>\n",
       "      <td>30847.08</td>\n",
       "      <td>30958.25</td>\n",
       "    </tr>\n",
       "    <tr>\n",
       "      <th>4</th>\n",
       "      <td>23-06-2017</td>\n",
       "      <td>Piramal Enterprises board gives nod to raise u...</td>\n",
       "      <td>31352.57</td>\n",
       "      <td>31365.39</td>\n",
       "      <td>31110.39</td>\n",
       "      <td>31138.21</td>\n",
       "    </tr>\n",
       "  </tbody>\n",
       "</table>\n",
       "</div>"
      ],
      "text/plain": [
       "         Date                                 Combined_Headlines      Open  \\\n",
       "0  30-06-2017  Border crisis: Army chief Rawat in Sikkim as C...  30824.97   \n",
       "1  29-06-2017  Sensex pushes higher, Nifty reclaims 9550, ahe...  30910.97   \n",
       "2  28-06-2017  Nifty ends below 9,500; Reliance Industries dr...  30988.87   \n",
       "3  27-06-2017  Sensex tanks 180 points, Nifty50 holds 9,500; ...  31194.68   \n",
       "4  23-06-2017  Piramal Enterprises board gives nod to raise u...  31352.57   \n",
       "\n",
       "       High       Low     Close  \n",
       "0  30965.45  30680.66  30921.61  \n",
       "1  31097.92  30794.61  30857.52  \n",
       "2  31000.48  30798.70  30834.32  \n",
       "3  31294.96  30847.08  30958.25  \n",
       "4  31365.39  31110.39  31138.21  "
      ]
     },
     "execution_count": 77,
     "metadata": {},
     "output_type": "execute_result"
    }
   ],
   "source": [
    "#Final Dataset being used will be named data_frame.csv, for purposes of the project\n",
    "df = pd.read_csv(\"data_frame.csv\")\n",
    "#Cleaning the Data\n",
    "df = df.drop(columns=['Unnamed: 0'])\n",
    "df.head()\n",
    "df_stock = df\n",
    "df_stock.head()"
   ]
  },
  {
   "cell_type": "markdown",
   "id": "38422751",
   "metadata": {},
   "source": [
    "## Section 2) Data Pre-Processing"
   ]
  },
  {
   "cell_type": "code",
   "execution_count": null,
   "id": "34db2086",
   "metadata": {},
   "outputs": [],
   "source": [
    "#I am processing the Combined Headlines and cleaning the text. \n",
    "#I will be placing the cleaned text in the column, Processed_Headlines\n",
    "\n",
    "#Ignoring the Warning for this cell. \n",
    "warnings.filterwarnings('ignore')\n",
    "\n",
    "#Defining function to pre-process the text of the News Headlines\n",
    "lemmatizer = WordNetLemmatizer()\n",
    "stop_words = stopwords.words('english')\n",
    "\n",
    "#Removing the HTML tags and URLs from the data\n",
    "df['Combined_Headlines']=df['Combined_Headlines'].apply(lambda x: BeautifulSoup(x).get_text())\n",
    "df['Combined_Headlines']=df['Combined_Headlines'].apply(lambda x: re.sub(r\"http\\S+\", \"\", x))\n",
    "#Removing extra spaces from the text\n",
    "df['Combined_Headlines']=df['Combined_Headlines'].apply(lambda x: re.sub(' +', ' ', x))\n",
    "#Storing the processed text in 'Processed_Headlines' column. \n",
    "df['Processed_Headlines'] = df['Combined_Headlines'].apply(lambda x: \" \".join(x.lower() for x in str(x).split()))\n",
    "#Removing the stopwords from the text\n",
    "df['Processed_Headlines']=df['Processed_Headlines'].apply(lambda x: \" \".join([x for x in x.split() if x not in stop_words]))\n",
    "#Lemmatization of the text\n",
    "df['Processed_Headlines']=df['Processed_Headlines'].apply(lambda x:\" \".join([lemmatizer.lemmatize(w) for w in nltk.word_tokenize(x)]))\n",
    "df.head()"
   ]
  },
  {
   "cell_type": "code",
   "execution_count": null,
   "id": "00004f74",
   "metadata": {},
   "outputs": [],
   "source": [
    "#Calculating the Daily Percentage change in the Close price of the Index\n",
    "#I will be creating the label of 1/0 to be predicted later\n",
    "df['Daily_Percentage_Change'] = df['Close'].pct_change()*100\n",
    "df['Label'] = df['Daily_Percentage_Change'].apply(lambda x: 0 if x < 1 else 1)\n",
    "df.head()"
   ]
  },
  {
   "cell_type": "code",
   "execution_count": null,
   "id": "b59e49e2",
   "metadata": {},
   "outputs": [],
   "source": [
    "#I will be dropping the na values from the dataframe\n",
    "df = df.dropna()\n",
    "df.head()"
   ]
  },
  {
   "cell_type": "code",
   "execution_count": null,
   "id": "fee3a2c1",
   "metadata": {},
   "outputs": [],
   "source": [
    "#I will be dropping the columns not required hereafter\n",
    "df = df.drop(columns=['Combined_Headlines','Open','High','Low','Close','Daily_Percentage_Change'])\n",
    "df.head()"
   ]
  },
  {
   "cell_type": "markdown",
   "id": "059db07f",
   "metadata": {},
   "source": [
    "## WordCloud of Processed Textual Data"
   ]
  },
  {
   "cell_type": "code",
   "execution_count": null,
   "id": "28608021",
   "metadata": {},
   "outputs": [],
   "source": [
    "df = pd.read_csv(\"Data_Frame_Sentiment_Scores.csv\")\n",
    "text = df['Processed_Headlines'].to_string()\n",
    "word_cloud = WordCloud(collocations = False, background_color = 'white', width=3000, height=2000).generate(text)\n",
    "plt.figure(figsize=(30,15))\n",
    "plt.imshow(word_cloud, interpolation='bilinear')\n",
    "plt.axis(\"off\")\n",
    "plt.show()"
   ]
  },
  {
   "cell_type": "markdown",
   "id": "194cc5f2",
   "metadata": {},
   "source": [
    "As we can see from the above wordcloud the financial news from India is overepresented by words like market, bank, gold, stock, india, deal, price, sensex, rupee, rbi, tata, dollar etc. This wordcloud is very beneficial to us to get a clearer understanding of the distribution of the words in the financial news dataset. \n",
    "\n",
    "## Section 3) Sentiment Analysis \n",
    "\n",
    "In this section, I have passed the Processed_Headlines through the sentiment analysis methods. I have used 3 sentiment analysis techniques in this section. \n",
    "\n",
    "- NLTK\n",
    "- BERT\n",
    "- finBERT\n",
    "\n",
    "I have saved the sentiment analysis scores for each of the algorithms used and have used them further down the line to perform classification tasks on them. \n",
    "\n",
    "### Section 3.1) NLTK"
   ]
  },
  {
   "cell_type": "code",
   "execution_count": null,
   "id": "cb32e7d0",
   "metadata": {},
   "outputs": [],
   "source": [
    "#I will be creating a new dataframe to store the results of the NLTK Sentiment scores:"
   ]
  },
  {
   "cell_type": "code",
   "execution_count": null,
   "id": "9c3e3bd1",
   "metadata": {
    "scrolled": true
   },
   "outputs": [],
   "source": [
    "#NLTK Sentiment Analyser\n",
    "# importing requires libraries to analyze the sentiments\n",
    "from nltk.sentiment.vader import SentimentIntensityAnalyzer\n",
    "import unicodedata\n",
    "\n",
    "# instantiating the Sentiment Analyzer\n",
    "sid = SentimentIntensityAnalyzer()\n",
    "df['NLTK_Negative_Scores'] = df['Processed_Headlines'].apply(lambda x: sid.polarity_scores(x)['neg'])\n",
    "df['NLTK_Positive_Scores'] = df['Processed_Headlines'].apply(lambda x: sid.polarity_scores(x)['pos'])\n",
    "df['NLTK_Neutral_Scores'] = df['Processed_Headlines'].apply(lambda x: sid.polarity_scores(x)['neu'])\n",
    "df['NLTK_compound_Scores'] = df['Processed_Headlines'].apply(lambda x: sid.polarity_scores(x)['compound'])\n",
    "df.head()"
   ]
  },
  {
   "cell_type": "markdown",
   "id": "9bf58785",
   "metadata": {},
   "source": [
    "### Section 3.2) BERT"
   ]
  },
  {
   "cell_type": "code",
   "execution_count": null,
   "id": "4d8e18f9",
   "metadata": {},
   "outputs": [],
   "source": [
    "def sentiment_score(review):\n",
    "    tokens = tokenizer.encode(review, return_tensors='pt')\n",
    "    result = model(tokens)\n",
    "    return int(torch.argmax(result.logits))+1\n",
    "\n",
    "def sentiment_score_pos(sent):\n",
    "    tokens = tokenizer.encode(sent, return_tensors='pt')\n",
    "    result = model(tokens)\n",
    "    prediction = torch.nn.functional.softmax(result.logits, dim=-1)\n",
    "    pos = prediction[:, 0].tolist()[0]\n",
    "    return pos\n",
    "\n",
    "def sentiment_score_neg(sent):\n",
    "    tokens = tokenizer.encode(sent, return_tensors='pt')\n",
    "    result = model(tokens)\n",
    "    prediction = torch.nn.functional.softmax(result.logits, dim=-1)\n",
    "    neg = prediction[:, 1].tolist()[0]\n",
    "    return neg\n",
    "\n",
    "def sentiment_score_neut(sent):\n",
    "    tokens = tokenizer.encode(sent, return_tensors='pt')\n",
    "    result = model(tokens)\n",
    "    prediction = torch.nn.functional.softmax(result.logits, dim=-1)\n",
    "    neutr = prediction[:, 2].tolist()[0]\n",
    "    return neutr"
   ]
  },
  {
   "cell_type": "code",
   "execution_count": null,
   "id": "ccf7d269",
   "metadata": {
    "scrolled": true
   },
   "outputs": [],
   "source": [
    "df['BERT_score']= df['Processed_Headlines'].apply(lambda x: sentiment_score(x[:512]))\n",
    "df['BERT_pos']= df['Processed_Headlines'].apply(lambda x: sentiment_score_pos(x[:512]))\n",
    "df['BERT_neg']= df['Processed_Headlines'].apply(lambda x: sentiment_score_neg(x[:512]))\n",
    "df['BERT_neutr']= df['Processed_Headlines'].apply(lambda x: sentiment_score_neut(x[:512]))\n",
    "df.head()"
   ]
  },
  {
   "cell_type": "markdown",
   "id": "abdcb039",
   "metadata": {},
   "source": [
    "## Section 3.3) finBERT"
   ]
  },
  {
   "cell_type": "code",
   "execution_count": null,
   "id": "0c0c87df",
   "metadata": {},
   "outputs": [],
   "source": [
    "from transformers import AutoTokenizer, AutoModelForSequenceClassification  \n",
    "tokenizer = AutoTokenizer.from_pretrained(\"ProsusAI/finbert\")\n",
    "model = AutoModelForSequenceClassification.from_pretrained(\"ProsusAI/finbert\")"
   ]
  },
  {
   "cell_type": "code",
   "execution_count": null,
   "id": "0788314c",
   "metadata": {},
   "outputs": [],
   "source": [
    "def fin_sentiment_score(review):\n",
    "    tokens = tokenizer.encode(review, return_tensors='pt')\n",
    "    result = model(tokens)\n",
    "    return int(torch.argmax(result.logits))+1\n",
    "\n",
    "def fin_sentiment_score_pos(sent):\n",
    "    tokens = tokenizer.encode(sent, return_tensors='pt')\n",
    "    result = model(tokens)\n",
    "    prediction = torch.nn.functional.softmax(result.logits, dim=-1)\n",
    "    pos = prediction[:, 0].tolist()[0]\n",
    "    return pos\n",
    "\n",
    "def fin_sentiment_score_neg(sent):\n",
    "    tokens = tokenizer.encode(sent, return_tensors='pt')\n",
    "    result = model(tokens)\n",
    "    prediction = torch.nn.functional.softmax(result.logits, dim=-1)\n",
    "    neg = prediction[:, 1].tolist()[0]\n",
    "    return neg\n",
    "\n",
    "def fin_sentiment_score_neut(sent):\n",
    "    tokens = tokenizer.encode(sent, return_tensors='pt')\n",
    "    result = model(tokens)\n",
    "    prediction = torch.nn.functional.softmax(result.logits, dim=-1)\n",
    "    neutr = prediction[:, 2].tolist()[0]\n",
    "    return neutr"
   ]
  },
  {
   "cell_type": "code",
   "execution_count": null,
   "id": "f6459df3",
   "metadata": {
    "scrolled": true
   },
   "outputs": [],
   "source": [
    "df['fin_BERT_score']= df['Processed_Headlines'].apply(lambda x: fin_sentiment_score(x[:1024]))\n",
    "df['fin_BERT_pos']= df['Processed_Headlines'].apply(lambda x: fin_sentiment_score_pos(x[:1024]))\n",
    "df['fin_BERT_neg']= df['Processed_Headlines'].apply(lambda x: fin_sentiment_score_neg(x[:1024]))\n",
    "df['fin_BERT_neutr']= df['Processed_Headlines'].apply(lambda x: fin_sentiment_score_neut(x[:1024]))\n",
    "df.head()"
   ]
  },
  {
   "cell_type": "code",
   "execution_count": 1,
   "id": "bd12eb1d",
   "metadata": {},
   "outputs": [
    {
     "ename": "NameError",
     "evalue": "name 'df' is not defined",
     "output_type": "error",
     "traceback": [
      "\u001b[1;31m---------------------------------------------------------------------------\u001b[0m",
      "\u001b[1;31mNameError\u001b[0m                                 Traceback (most recent call last)",
      "\u001b[1;32m<ipython-input-1-0998015057de>\u001b[0m in \u001b[0;36m<module>\u001b[1;34m\u001b[0m\n\u001b[1;32m----> 1\u001b[1;33m \u001b[0mdf\u001b[0m\u001b[1;33m.\u001b[0m\u001b[0mto_csv\u001b[0m\u001b[1;33m(\u001b[0m\u001b[1;34m\"Data_Frame_Sentiment_Scores.csv\"\u001b[0m\u001b[1;33m)\u001b[0m\u001b[1;33m\u001b[0m\u001b[1;33m\u001b[0m\u001b[0m\n\u001b[0m",
      "\u001b[1;31mNameError\u001b[0m: name 'df' is not defined"
     ]
    }
   ],
   "source": [
    "df.to_csv(\"Data_Frame_Sentiment_Scores.csv\")"
   ]
  },
  {
   "cell_type": "markdown",
   "id": "0bec5388",
   "metadata": {},
   "source": [
    "## Loading the data from the disk to run classification algorithms"
   ]
  },
  {
   "cell_type": "code",
   "execution_count": 5,
   "id": "ed34ec4c",
   "metadata": {
    "scrolled": true
   },
   "outputs": [
    {
     "data": {
      "text/html": [
       "<div>\n",
       "<style scoped>\n",
       "    .dataframe tbody tr th:only-of-type {\n",
       "        vertical-align: middle;\n",
       "    }\n",
       "\n",
       "    .dataframe tbody tr th {\n",
       "        vertical-align: top;\n",
       "    }\n",
       "\n",
       "    .dataframe thead th {\n",
       "        text-align: right;\n",
       "    }\n",
       "</style>\n",
       "<table border=\"1\" class=\"dataframe\">\n",
       "  <thead>\n",
       "    <tr style=\"text-align: right;\">\n",
       "      <th></th>\n",
       "      <th>Date</th>\n",
       "      <th>Processed_Headlines</th>\n",
       "      <th>Label</th>\n",
       "      <th>NLTK_Negative_Scores</th>\n",
       "      <th>NLTK_Positive_Scores</th>\n",
       "      <th>NLTK_Neutral_Scores</th>\n",
       "      <th>NLTK_compound_Scores</th>\n",
       "      <th>BERT_score</th>\n",
       "      <th>BERT_pos</th>\n",
       "      <th>BERT_neg</th>\n",
       "      <th>BERT_neutr</th>\n",
       "      <th>fin_BERT_score</th>\n",
       "      <th>fin_BERT_pos</th>\n",
       "      <th>fin_BERT_neg</th>\n",
       "      <th>fin_BERT_neutr</th>\n",
       "    </tr>\n",
       "  </thead>\n",
       "  <tbody>\n",
       "    <tr>\n",
       "      <th>0</th>\n",
       "      <td>29-06-2017</td>\n",
       "      <td>sensex push higher , nifty reclaims 9550 , ahe...</td>\n",
       "      <td>0</td>\n",
       "      <td>0.077</td>\n",
       "      <td>0.126</td>\n",
       "      <td>0.797</td>\n",
       "      <td>0.9987</td>\n",
       "      <td>1</td>\n",
       "      <td>0.516302</td>\n",
       "      <td>0.254041</td>\n",
       "      <td>0.122045</td>\n",
       "      <td>1</td>\n",
       "      <td>0.872153</td>\n",
       "      <td>0.058974</td>\n",
       "      <td>0.068873</td>\n",
       "    </tr>\n",
       "    <tr>\n",
       "      <th>1</th>\n",
       "      <td>28-06-2017</td>\n",
       "      <td>nifty end 9,500 ; reliance industry drag peopl...</td>\n",
       "      <td>0</td>\n",
       "      <td>0.137</td>\n",
       "      <td>0.130</td>\n",
       "      <td>0.733</td>\n",
       "      <td>-0.9800</td>\n",
       "      <td>1</td>\n",
       "      <td>0.592651</td>\n",
       "      <td>0.235079</td>\n",
       "      <td>0.099565</td>\n",
       "      <td>3</td>\n",
       "      <td>0.074567</td>\n",
       "      <td>0.169100</td>\n",
       "      <td>0.756332</td>\n",
       "    </tr>\n",
       "    <tr>\n",
       "      <th>2</th>\n",
       "      <td>27-06-2017</td>\n",
       "      <td>sensex tank 180 point , nifty50 hold 9,500 ; b...</td>\n",
       "      <td>0</td>\n",
       "      <td>0.092</td>\n",
       "      <td>0.159</td>\n",
       "      <td>0.749</td>\n",
       "      <td>0.9995</td>\n",
       "      <td>1</td>\n",
       "      <td>0.482937</td>\n",
       "      <td>0.310596</td>\n",
       "      <td>0.120765</td>\n",
       "      <td>3</td>\n",
       "      <td>0.082285</td>\n",
       "      <td>0.134255</td>\n",
       "      <td>0.783460</td>\n",
       "    </tr>\n",
       "    <tr>\n",
       "      <th>3</th>\n",
       "      <td>23-06-2017</td>\n",
       "      <td>piramal enterprise board give nod raise r 125 ...</td>\n",
       "      <td>0</td>\n",
       "      <td>0.105</td>\n",
       "      <td>0.138</td>\n",
       "      <td>0.757</td>\n",
       "      <td>0.9966</td>\n",
       "      <td>1</td>\n",
       "      <td>0.802986</td>\n",
       "      <td>0.149463</td>\n",
       "      <td>0.035932</td>\n",
       "      <td>2</td>\n",
       "      <td>0.439414</td>\n",
       "      <td>0.494129</td>\n",
       "      <td>0.066457</td>\n",
       "    </tr>\n",
       "    <tr>\n",
       "      <th>4</th>\n",
       "      <td>22-06-2017</td>\n",
       "      <td>exclusive : fake online store reveal gambler '...</td>\n",
       "      <td>0</td>\n",
       "      <td>0.109</td>\n",
       "      <td>0.146</td>\n",
       "      <td>0.745</td>\n",
       "      <td>0.9975</td>\n",
       "      <td>1</td>\n",
       "      <td>0.663777</td>\n",
       "      <td>0.204110</td>\n",
       "      <td>0.073955</td>\n",
       "      <td>1</td>\n",
       "      <td>0.547651</td>\n",
       "      <td>0.067868</td>\n",
       "      <td>0.384480</td>\n",
       "    </tr>\n",
       "  </tbody>\n",
       "</table>\n",
       "</div>"
      ],
      "text/plain": [
       "         Date                                Processed_Headlines  Label  \\\n",
       "0  29-06-2017  sensex push higher , nifty reclaims 9550 , ahe...      0   \n",
       "1  28-06-2017  nifty end 9,500 ; reliance industry drag peopl...      0   \n",
       "2  27-06-2017  sensex tank 180 point , nifty50 hold 9,500 ; b...      0   \n",
       "3  23-06-2017  piramal enterprise board give nod raise r 125 ...      0   \n",
       "4  22-06-2017  exclusive : fake online store reveal gambler '...      0   \n",
       "\n",
       "   NLTK_Negative_Scores  NLTK_Positive_Scores  NLTK_Neutral_Scores  \\\n",
       "0                 0.077                 0.126                0.797   \n",
       "1                 0.137                 0.130                0.733   \n",
       "2                 0.092                 0.159                0.749   \n",
       "3                 0.105                 0.138                0.757   \n",
       "4                 0.109                 0.146                0.745   \n",
       "\n",
       "   NLTK_compound_Scores  BERT_score  BERT_pos  BERT_neg  BERT_neutr  \\\n",
       "0                0.9987           1  0.516302  0.254041    0.122045   \n",
       "1               -0.9800           1  0.592651  0.235079    0.099565   \n",
       "2                0.9995           1  0.482937  0.310596    0.120765   \n",
       "3                0.9966           1  0.802986  0.149463    0.035932   \n",
       "4                0.9975           1  0.663777  0.204110    0.073955   \n",
       "\n",
       "   fin_BERT_score  fin_BERT_pos  fin_BERT_neg  fin_BERT_neutr  \n",
       "0               1      0.872153      0.058974        0.068873  \n",
       "1               3      0.074567      0.169100        0.756332  \n",
       "2               3      0.082285      0.134255        0.783460  \n",
       "3               2      0.439414      0.494129        0.066457  \n",
       "4               1      0.547651      0.067868        0.384480  "
      ]
     },
     "execution_count": 5,
     "metadata": {},
     "output_type": "execute_result"
    }
   ],
   "source": [
    "#Reloading the data from disk\n",
    "df = pd.read_csv(\"Data_Frame_Sentiment_Scores.csv\")\n",
    "df = df.drop(columns=['Unnamed: 0','Unnamed: 0.1'])\n",
    "df.head()"
   ]
  },
  {
   "cell_type": "markdown",
   "id": "4c9b259d",
   "metadata": {},
   "source": [
    "## Understanding the class imbalance of the Label"
   ]
  },
  {
   "cell_type": "code",
   "execution_count": 6,
   "id": "ad5366d0",
   "metadata": {},
   "outputs": [
    {
     "name": "stdout",
     "output_type": "stream",
     "text": [
      "Count of zeros in Column  Label :  619\n",
      "Count of One in Column  Label :  162\n"
     ]
    }
   ],
   "source": [
    "#Printing the proportion of 0 and 1 in the Label column\n",
    "count_0 = df['Label'].value_counts()[0]\n",
    "print('Count of zeros in Column  Label : ', count_0)\n",
    "\n",
    "count_1 = df['Label'].value_counts()[1]\n",
    "print('Count of One in Column  Label : ', count_1)\n"
   ]
  },
  {
   "cell_type": "markdown",
   "id": "13bc68d4",
   "metadata": {},
   "source": [
    "## Section 4) Classification"
   ]
  },
  {
   "cell_type": "markdown",
   "id": "adb00a03",
   "metadata": {},
   "source": [
    "### Section 4.1) Classification using NLTK"
   ]
  },
  {
   "cell_type": "code",
   "execution_count": 7,
   "id": "bf14d609",
   "metadata": {
    "scrolled": true
   },
   "outputs": [
    {
     "data": {
      "text/plain": [
       "0      0\n",
       "1      0\n",
       "2      0\n",
       "3      0\n",
       "4      0\n",
       "      ..\n",
       "776    0\n",
       "777    0\n",
       "778    0\n",
       "779    0\n",
       "780    0\n",
       "Name: Label, Length: 781, dtype: int64"
      ]
     },
     "execution_count": 7,
     "metadata": {},
     "output_type": "execute_result"
    }
   ],
   "source": [
    "y = df['Label']\n",
    "y"
   ]
  },
  {
   "cell_type": "code",
   "execution_count": 8,
   "id": "024d0922",
   "metadata": {},
   "outputs": [
    {
     "data": {
      "text/plain": [
       "162"
      ]
     },
     "execution_count": 8,
     "metadata": {},
     "output_type": "execute_result"
    }
   ],
   "source": [
    "y.astype(bool).sum(axis=0)"
   ]
  },
  {
   "cell_type": "code",
   "execution_count": 9,
   "id": "62c96f02",
   "metadata": {},
   "outputs": [
    {
     "data": {
      "text/html": [
       "<div>\n",
       "<style scoped>\n",
       "    .dataframe tbody tr th:only-of-type {\n",
       "        vertical-align: middle;\n",
       "    }\n",
       "\n",
       "    .dataframe tbody tr th {\n",
       "        vertical-align: top;\n",
       "    }\n",
       "\n",
       "    .dataframe thead th {\n",
       "        text-align: right;\n",
       "    }\n",
       "</style>\n",
       "<table border=\"1\" class=\"dataframe\">\n",
       "  <thead>\n",
       "    <tr style=\"text-align: right;\">\n",
       "      <th></th>\n",
       "      <th>Label</th>\n",
       "      <th>NLTK_Negative_Scores</th>\n",
       "      <th>NLTK_Positive_Scores</th>\n",
       "      <th>NLTK_Neutral_Scores</th>\n",
       "      <th>NLTK_compound_Scores</th>\n",
       "      <th>BERT_score</th>\n",
       "      <th>BERT_pos</th>\n",
       "      <th>BERT_neg</th>\n",
       "      <th>BERT_neutr</th>\n",
       "      <th>fin_BERT_score</th>\n",
       "      <th>fin_BERT_pos</th>\n",
       "      <th>fin_BERT_neg</th>\n",
       "      <th>fin_BERT_neutr</th>\n",
       "    </tr>\n",
       "  </thead>\n",
       "  <tbody>\n",
       "    <tr>\n",
       "      <th>count</th>\n",
       "      <td>781.000000</td>\n",
       "      <td>781.000000</td>\n",
       "      <td>781.000000</td>\n",
       "      <td>781.000000</td>\n",
       "      <td>781.000000</td>\n",
       "      <td>781.000000</td>\n",
       "      <td>781.000000</td>\n",
       "      <td>781.000000</td>\n",
       "      <td>781.000000</td>\n",
       "      <td>781.000000</td>\n",
       "      <td>781.000000</td>\n",
       "      <td>781.000000</td>\n",
       "      <td>781.000000</td>\n",
       "    </tr>\n",
       "    <tr>\n",
       "      <th>mean</th>\n",
       "      <td>0.207426</td>\n",
       "      <td>0.103328</td>\n",
       "      <td>0.143088</td>\n",
       "      <td>0.753612</td>\n",
       "      <td>0.715933</td>\n",
       "      <td>1.098592</td>\n",
       "      <td>0.568081</td>\n",
       "      <td>0.238368</td>\n",
       "      <td>0.111107</td>\n",
       "      <td>2.166453</td>\n",
       "      <td>0.296828</td>\n",
       "      <td>0.285296</td>\n",
       "      <td>0.417876</td>\n",
       "    </tr>\n",
       "    <tr>\n",
       "      <th>std</th>\n",
       "      <td>0.405723</td>\n",
       "      <td>0.028114</td>\n",
       "      <td>0.031075</td>\n",
       "      <td>0.036994</td>\n",
       "      <td>0.658414</td>\n",
       "      <td>0.527948</td>\n",
       "      <td>0.151870</td>\n",
       "      <td>0.057491</td>\n",
       "      <td>0.053501</td>\n",
       "      <td>0.832328</td>\n",
       "      <td>0.250485</td>\n",
       "      <td>0.283807</td>\n",
       "      <td>0.267553</td>\n",
       "    </tr>\n",
       "    <tr>\n",
       "      <th>min</th>\n",
       "      <td>0.000000</td>\n",
       "      <td>0.000000</td>\n",
       "      <td>0.000000</td>\n",
       "      <td>0.316000</td>\n",
       "      <td>-0.999800</td>\n",
       "      <td>1.000000</td>\n",
       "      <td>0.007161</td>\n",
       "      <td>0.006489</td>\n",
       "      <td>0.017179</td>\n",
       "      <td>1.000000</td>\n",
       "      <td>0.010526</td>\n",
       "      <td>0.010795</td>\n",
       "      <td>0.018834</td>\n",
       "    </tr>\n",
       "    <tr>\n",
       "      <th>25%</th>\n",
       "      <td>0.000000</td>\n",
       "      <td>0.088000</td>\n",
       "      <td>0.129000</td>\n",
       "      <td>0.736000</td>\n",
       "      <td>0.980400</td>\n",
       "      <td>1.000000</td>\n",
       "      <td>0.470774</td>\n",
       "      <td>0.201485</td>\n",
       "      <td>0.074058</td>\n",
       "      <td>1.000000</td>\n",
       "      <td>0.098774</td>\n",
       "      <td>0.051969</td>\n",
       "      <td>0.164677</td>\n",
       "    </tr>\n",
       "    <tr>\n",
       "      <th>50%</th>\n",
       "      <td>0.000000</td>\n",
       "      <td>0.102000</td>\n",
       "      <td>0.143000</td>\n",
       "      <td>0.754000</td>\n",
       "      <td>0.998400</td>\n",
       "      <td>1.000000</td>\n",
       "      <td>0.589361</td>\n",
       "      <td>0.240120</td>\n",
       "      <td>0.103458</td>\n",
       "      <td>2.000000</td>\n",
       "      <td>0.197897</td>\n",
       "      <td>0.152743</td>\n",
       "      <td>0.382840</td>\n",
       "    </tr>\n",
       "    <tr>\n",
       "      <th>75%</th>\n",
       "      <td>0.000000</td>\n",
       "      <td>0.118000</td>\n",
       "      <td>0.156000</td>\n",
       "      <td>0.769000</td>\n",
       "      <td>0.999500</td>\n",
       "      <td>1.000000</td>\n",
       "      <td>0.676348</td>\n",
       "      <td>0.275786</td>\n",
       "      <td>0.139981</td>\n",
       "      <td>3.000000</td>\n",
       "      <td>0.473696</td>\n",
       "      <td>0.465974</td>\n",
       "      <td>0.661398</td>\n",
       "    </tr>\n",
       "    <tr>\n",
       "      <th>max</th>\n",
       "      <td>1.000000</td>\n",
       "      <td>0.247000</td>\n",
       "      <td>0.468000</td>\n",
       "      <td>1.000000</td>\n",
       "      <td>0.999900</td>\n",
       "      <td>5.000000</td>\n",
       "      <td>0.885699</td>\n",
       "      <td>0.433259</td>\n",
       "      <td>0.541517</td>\n",
       "      <td>3.000000</td>\n",
       "      <td>0.921603</td>\n",
       "      <td>0.968390</td>\n",
       "      <td>0.946581</td>\n",
       "    </tr>\n",
       "  </tbody>\n",
       "</table>\n",
       "</div>"
      ],
      "text/plain": [
       "            Label  NLTK_Negative_Scores  NLTK_Positive_Scores  \\\n",
       "count  781.000000            781.000000            781.000000   \n",
       "mean     0.207426              0.103328              0.143088   \n",
       "std      0.405723              0.028114              0.031075   \n",
       "min      0.000000              0.000000              0.000000   \n",
       "25%      0.000000              0.088000              0.129000   \n",
       "50%      0.000000              0.102000              0.143000   \n",
       "75%      0.000000              0.118000              0.156000   \n",
       "max      1.000000              0.247000              0.468000   \n",
       "\n",
       "       NLTK_Neutral_Scores  NLTK_compound_Scores  BERT_score    BERT_pos  \\\n",
       "count           781.000000            781.000000  781.000000  781.000000   \n",
       "mean              0.753612              0.715933    1.098592    0.568081   \n",
       "std               0.036994              0.658414    0.527948    0.151870   \n",
       "min               0.316000             -0.999800    1.000000    0.007161   \n",
       "25%               0.736000              0.980400    1.000000    0.470774   \n",
       "50%               0.754000              0.998400    1.000000    0.589361   \n",
       "75%               0.769000              0.999500    1.000000    0.676348   \n",
       "max               1.000000              0.999900    5.000000    0.885699   \n",
       "\n",
       "         BERT_neg  BERT_neutr  fin_BERT_score  fin_BERT_pos  fin_BERT_neg  \\\n",
       "count  781.000000  781.000000      781.000000    781.000000    781.000000   \n",
       "mean     0.238368    0.111107        2.166453      0.296828      0.285296   \n",
       "std      0.057491    0.053501        0.832328      0.250485      0.283807   \n",
       "min      0.006489    0.017179        1.000000      0.010526      0.010795   \n",
       "25%      0.201485    0.074058        1.000000      0.098774      0.051969   \n",
       "50%      0.240120    0.103458        2.000000      0.197897      0.152743   \n",
       "75%      0.275786    0.139981        3.000000      0.473696      0.465974   \n",
       "max      0.433259    0.541517        3.000000      0.921603      0.968390   \n",
       "\n",
       "       fin_BERT_neutr  \n",
       "count      781.000000  \n",
       "mean         0.417876  \n",
       "std          0.267553  \n",
       "min          0.018834  \n",
       "25%          0.164677  \n",
       "50%          0.382840  \n",
       "75%          0.661398  \n",
       "max          0.946581  "
      ]
     },
     "execution_count": 9,
     "metadata": {},
     "output_type": "execute_result"
    }
   ],
   "source": [
    "df.describe()"
   ]
  },
  {
   "cell_type": "code",
   "execution_count": 10,
   "id": "9c0375f1",
   "metadata": {},
   "outputs": [
    {
     "data": {
      "text/html": [
       "<div>\n",
       "<style scoped>\n",
       "    .dataframe tbody tr th:only-of-type {\n",
       "        vertical-align: middle;\n",
       "    }\n",
       "\n",
       "    .dataframe tbody tr th {\n",
       "        vertical-align: top;\n",
       "    }\n",
       "\n",
       "    .dataframe thead th {\n",
       "        text-align: right;\n",
       "    }\n",
       "</style>\n",
       "<table border=\"1\" class=\"dataframe\">\n",
       "  <thead>\n",
       "    <tr style=\"text-align: right;\">\n",
       "      <th></th>\n",
       "      <th>NLTK_Negative_Scores</th>\n",
       "      <th>NLTK_Positive_Scores</th>\n",
       "      <th>NLTK_Neutral_Scores</th>\n",
       "      <th>NLTK_compound_Scores</th>\n",
       "    </tr>\n",
       "  </thead>\n",
       "  <tbody>\n",
       "    <tr>\n",
       "      <th>0</th>\n",
       "      <td>0.077</td>\n",
       "      <td>0.126</td>\n",
       "      <td>0.797</td>\n",
       "      <td>0.9987</td>\n",
       "    </tr>\n",
       "    <tr>\n",
       "      <th>1</th>\n",
       "      <td>0.137</td>\n",
       "      <td>0.130</td>\n",
       "      <td>0.733</td>\n",
       "      <td>-0.9800</td>\n",
       "    </tr>\n",
       "    <tr>\n",
       "      <th>2</th>\n",
       "      <td>0.092</td>\n",
       "      <td>0.159</td>\n",
       "      <td>0.749</td>\n",
       "      <td>0.9995</td>\n",
       "    </tr>\n",
       "    <tr>\n",
       "      <th>3</th>\n",
       "      <td>0.105</td>\n",
       "      <td>0.138</td>\n",
       "      <td>0.757</td>\n",
       "      <td>0.9966</td>\n",
       "    </tr>\n",
       "    <tr>\n",
       "      <th>4</th>\n",
       "      <td>0.109</td>\n",
       "      <td>0.146</td>\n",
       "      <td>0.745</td>\n",
       "      <td>0.9975</td>\n",
       "    </tr>\n",
       "    <tr>\n",
       "      <th>...</th>\n",
       "      <td>...</td>\n",
       "      <td>...</td>\n",
       "      <td>...</td>\n",
       "      <td>...</td>\n",
       "    </tr>\n",
       "    <tr>\n",
       "      <th>776</th>\n",
       "      <td>0.163</td>\n",
       "      <td>0.215</td>\n",
       "      <td>0.622</td>\n",
       "      <td>0.0258</td>\n",
       "    </tr>\n",
       "    <tr>\n",
       "      <th>777</th>\n",
       "      <td>0.000</td>\n",
       "      <td>0.401</td>\n",
       "      <td>0.599</td>\n",
       "      <td>0.9246</td>\n",
       "    </tr>\n",
       "    <tr>\n",
       "      <th>778</th>\n",
       "      <td>0.000</td>\n",
       "      <td>0.464</td>\n",
       "      <td>0.536</td>\n",
       "      <td>0.7783</td>\n",
       "    </tr>\n",
       "    <tr>\n",
       "      <th>779</th>\n",
       "      <td>0.000</td>\n",
       "      <td>0.239</td>\n",
       "      <td>0.761</td>\n",
       "      <td>0.2960</td>\n",
       "    </tr>\n",
       "    <tr>\n",
       "      <th>780</th>\n",
       "      <td>0.194</td>\n",
       "      <td>0.158</td>\n",
       "      <td>0.647</td>\n",
       "      <td>-0.1280</td>\n",
       "    </tr>\n",
       "  </tbody>\n",
       "</table>\n",
       "<p>781 rows × 4 columns</p>\n",
       "</div>"
      ],
      "text/plain": [
       "     NLTK_Negative_Scores  NLTK_Positive_Scores  NLTK_Neutral_Scores  \\\n",
       "0                   0.077                 0.126                0.797   \n",
       "1                   0.137                 0.130                0.733   \n",
       "2                   0.092                 0.159                0.749   \n",
       "3                   0.105                 0.138                0.757   \n",
       "4                   0.109                 0.146                0.745   \n",
       "..                    ...                   ...                  ...   \n",
       "776                 0.163                 0.215                0.622   \n",
       "777                 0.000                 0.401                0.599   \n",
       "778                 0.000                 0.464                0.536   \n",
       "779                 0.000                 0.239                0.761   \n",
       "780                 0.194                 0.158                0.647   \n",
       "\n",
       "     NLTK_compound_Scores  \n",
       "0                  0.9987  \n",
       "1                 -0.9800  \n",
       "2                  0.9995  \n",
       "3                  0.9966  \n",
       "4                  0.9975  \n",
       "..                    ...  \n",
       "776                0.0258  \n",
       "777                0.9246  \n",
       "778                0.7783  \n",
       "779                0.2960  \n",
       "780               -0.1280  \n",
       "\n",
       "[781 rows x 4 columns]"
      ]
     },
     "execution_count": 10,
     "metadata": {},
     "output_type": "execute_result"
    }
   ],
   "source": [
    "X = df[['NLTK_Negative_Scores','NLTK_Positive_Scores','NLTK_Neutral_Scores','NLTK_compound_Scores']]\n",
    "X"
   ]
  },
  {
   "cell_type": "code",
   "execution_count": 11,
   "id": "5d733ca4",
   "metadata": {},
   "outputs": [
    {
     "name": "stdout",
     "output_type": "stream",
     "text": [
      "Counter({0: 619, 1: 619})\n"
     ]
    }
   ],
   "source": [
    "# example of random oversampling to balance the class distribution\n",
    "from collections import Counter\n",
    "from sklearn.datasets import make_classification\n",
    "from imblearn.over_sampling import RandomOverSampler\n",
    "\n",
    "#X = X.values.reshape(-1)\n",
    "oversample = RandomOverSampler(sampling_strategy='minority')\n",
    "# fit and apply the transform\n",
    "#X_over, y_over = oversample.fit_resample(X, y)\n",
    "X_over, y_over = oversample.fit_resample(X,y)\n",
    "# summarize class distribution\n",
    "print(Counter(y_over))"
   ]
  },
  {
   "cell_type": "code",
   "execution_count": 12,
   "id": "d85a1cf0",
   "metadata": {},
   "outputs": [
    {
     "data": {
      "text/plain": [
       "(array([[-0.37651822, -0.46153846,  0.40643275,  0.99879982],\n",
       "        [ 0.10931174, -0.44444444,  0.21929825, -0.98019703],\n",
       "        [-0.25506073, -0.32051282,  0.26608187,  0.99959994],\n",
       "        ...,\n",
       "        [-0.24696356, -0.26068376,  0.22222222,  0.99119868],\n",
       "        [-0.06882591, -0.40598291,  0.25730994,  0.99639946],\n",
       "        [-0.03643725, -0.38034188,  0.2251462 ,  0.99649947]]),\n",
       " array([[-1.],\n",
       "        [-1.],\n",
       "        [-1.],\n",
       "        ...,\n",
       "        [ 1.],\n",
       "        [ 1.],\n",
       "        [ 1.]]))"
      ]
     },
     "execution_count": 12,
     "metadata": {},
     "output_type": "execute_result"
    }
   ],
   "source": [
    "# scaling the feature dataset\n",
    "cols = ['NLTK_Negative_Scores','NLTK_Positive_Scores','NLTK_Neutral_Scores','NLTK_compound_Scores']\n",
    "scaler_x = preprocessing.MinMaxScaler (feature_range=(-1, 1))\n",
    "X_over = np.array(X_over).reshape((len(X_over) ,len(cols)))\n",
    "X_over = scaler_x.fit_transform(X_over)\n",
    "\n",
    "# scaling the target variable\n",
    "scaler_y = preprocessing.MinMaxScaler (feature_range=(-1, 1))\n",
    "y_over = np.array (y_over).reshape ((len(y_over), 1))\n",
    "y_over = scaler_y.fit_transform (y_over)\n",
    "\n",
    "# displaying the scaled feature dataset and the target variable\n",
    "X_over, y_over"
   ]
  },
  {
   "cell_type": "code",
   "execution_count": 13,
   "id": "430f661c",
   "metadata": {},
   "outputs": [
    {
     "name": "stdout",
     "output_type": "stream",
     "text": [
      "Train:  (990, 4) (990, 1) Test:  ((248, 4), (248, 1))\n"
     ]
    }
   ],
   "source": [
    "#Splitting the dataset into train and test sets\n",
    "X_train,X_test,y_train, y_test = train_test_split(X_over,y_over, test_size=0.20, random_state=30)\n",
    "print(\"Train: \",X_train.shape,y_train.shape,\"Test: \",(X_test.shape,y_test.shape))"
   ]
  },
  {
   "cell_type": "markdown",
   "id": "395e6653",
   "metadata": {},
   "source": [
    "### Section 4.1.1) Random Forest"
   ]
  },
  {
   "cell_type": "code",
   "execution_count": 14,
   "id": "d3bdc972",
   "metadata": {},
   "outputs": [
    {
     "name": "stdout",
     "output_type": "stream",
     "text": [
      "ROCAUC score: 0.5469361147327249\n",
      "Accuracy score: 0.5483870967741935\n",
      "F1 score: 0.5725190839694657\n"
     ]
    }
   ],
   "source": [
    "#Fitting the Random Forest Classifier\n",
    "clf = RandomForestClassifier(max_depth=2, random_state=0).fit(X_train,y_train.ravel())\n",
    "#clf.fit(X_train, y_train)\n",
    "\n",
    "#Predicting using the Model\n",
    "rf_pred = clf.predict(X_test)\n",
    "\n",
    "roc_nltk_rf = roc_auc_score(y_test, rf_pred)\n",
    "accuracy_nltk_rf = accuracy_score(y_test, rf_pred)\n",
    "f1_nltk_rf = f1_score(y_test, rf_pred)\n",
    "\n",
    "print('ROCAUC score:',roc_auc_score(y_test, rf_pred))\n",
    "print('Accuracy score:',accuracy_score(y_test, rf_pred))\n",
    "print('F1 score:',f1_score(y_test, rf_pred))"
   ]
  },
  {
   "cell_type": "markdown",
   "id": "5769f0b2",
   "metadata": {},
   "source": [
    "### Section 4.1.2) KNN Classifier"
   ]
  },
  {
   "cell_type": "code",
   "execution_count": 15,
   "id": "97c517a0",
   "metadata": {},
   "outputs": [
    {
     "name": "stdout",
     "output_type": "stream",
     "text": [
      "ROCAUC score: 0.6992829204693612\n",
      "Accuracy score: 0.7056451612903226\n",
      "F1 score: 0.7474048442906573\n"
     ]
    }
   ],
   "source": [
    "#KNN Model to predit Label\n",
    "neigh = KNeighborsClassifier(n_neighbors=3).fit(X_train,y_train.ravel())\n",
    "knn_pred = neigh.predict(X_test)\n",
    "\n",
    "roc_nltk_knn = roc_auc_score(y_test, knn_pred)\n",
    "accuracy_nltk_knn = accuracy_score(y_test, knn_pred)\n",
    "f1_nltk_knn = f1_score(y_test, knn_pred)\n",
    "\n",
    "print('ROCAUC score:',roc_auc_score(y_test, knn_pred))\n",
    "print('Accuracy score:',accuracy_score(y_test, knn_pred))\n",
    "print('F1 score:',f1_score(y_test, knn_pred))"
   ]
  },
  {
   "cell_type": "markdown",
   "id": "cb4b036c",
   "metadata": {},
   "source": [
    "### Section 4.1.3) Decision Tree"
   ]
  },
  {
   "cell_type": "code",
   "execution_count": 16,
   "id": "3231964f",
   "metadata": {},
   "outputs": [
    {
     "name": "stdout",
     "output_type": "stream",
     "text": [
      "ROCAUC score: 0.8574967405475881\n",
      "Accuracy score: 0.8629032258064516\n",
      "F1 score: 0.8811188811188813\n"
     ]
    }
   ],
   "source": [
    "#Decision tree \n",
    "\n",
    "from sklearn.tree import DecisionTreeClassifier\n",
    "dt_nltk = DecisionTreeClassifier(random_state=0).fit(X_train,y_train)\n",
    "dt_pred_nltk = dt_nltk.predict(X_test)\n",
    "\n",
    "roc_nltk_dt = roc_auc_score(y_test, dt_pred_nltk)\n",
    "accuracy_nltk_dt = accuracy_score(y_test, dt_pred_nltk)\n",
    "f1_nltk_dt = f1_score(y_test, dt_pred_nltk)\n",
    "\n",
    "print('ROCAUC score:',roc_auc_score(y_test, dt_pred_nltk))\n",
    "print('Accuracy score:',accuracy_score(y_test, dt_pred_nltk))\n",
    "print('F1 score:',f1_score(y_test, dt_pred_nltk))"
   ]
  },
  {
   "cell_type": "markdown",
   "id": "d7ad8d13",
   "metadata": {},
   "source": [
    "### Section 4.1.4) Light Gradient Boosting Machine"
   ]
  },
  {
   "cell_type": "code",
   "execution_count": 17,
   "id": "354d9b10",
   "metadata": {},
   "outputs": [
    {
     "name": "stdout",
     "output_type": "stream",
     "text": [
      "ROCAUC score: 0.8336375488917862\n",
      "Accuracy score: 0.8387096774193549\n",
      "F1 score: 0.8591549295774646\n"
     ]
    }
   ],
   "source": [
    "lightgbm_nltk = HistGradientBoostingClassifier(max_bins=255,max_iter=100).fit(X_train, y_train.ravel())\n",
    "lightgbm_nltk.score(X_test, y_test)\n",
    "lightgbm_nltk_pred = lightgbm_nltk.predict(X_test)\n",
    "\n",
    "roc_nltk_lgbm = roc_auc_score(y_test, lightgbm_nltk_pred)\n",
    "accuracy_nltk_lgbm = accuracy_score(y_test, lightgbm_nltk_pred)\n",
    "f1_nltk_lgbm = f1_score(y_test, lightgbm_nltk_pred)\n",
    "\n",
    "print('ROCAUC score:',roc_auc_score(y_test, lightgbm_nltk_pred))\n",
    "print('Accuracy score:',accuracy_score(y_test, lightgbm_nltk_pred))\n",
    "print('F1 score:',f1_score(y_test, lightgbm_nltk_pred))"
   ]
  },
  {
   "cell_type": "markdown",
   "id": "229cac2d",
   "metadata": {},
   "source": [
    "### Section 4.1.5) Support Vector Machines (SVM)"
   ]
  },
  {
   "cell_type": "code",
   "execution_count": 18,
   "id": "a1b3e154",
   "metadata": {},
   "outputs": [
    {
     "name": "stdout",
     "output_type": "stream",
     "text": [
      "ROCAUC score: 0.5519556714471969\n",
      "Accuracy score: 0.5524193548387096\n",
      "F1 score: 0.5680933852140078\n"
     ]
    }
   ],
   "source": [
    "svm_nltk = make_pipeline(StandardScaler(), SVC(gamma='auto'))\n",
    "svm_nltk.fit(X_train, y_train.ravel())\n",
    "svm_nltk_pred = svm_nltk.predict(X_test)\n",
    "\n",
    "roc_nltk_svm = roc_auc_score(y_test, svm_nltk.predict(X_test))\n",
    "accuracy_nltk_svm = accuracy_score(y_test, svm_nltk.predict(X_test))\n",
    "f1_nltk_svm = f1_score(y_test, svm_nltk.predict(X_test))\n",
    "\n",
    "print('ROCAUC score:',roc_auc_score(y_test, svm_nltk.predict(X_test)))\n",
    "print('Accuracy score:',accuracy_score(y_test, svm_nltk.predict(X_test)))\n",
    "print('F1 score:',f1_score(y_test, svm_nltk.predict(X_test)))"
   ]
  },
  {
   "cell_type": "code",
   "execution_count": 19,
   "id": "1aaedd19",
   "metadata": {},
   "outputs": [
    {
     "data": {
      "text/html": [
       "<div>\n",
       "<style scoped>\n",
       "    .dataframe tbody tr th:only-of-type {\n",
       "        vertical-align: middle;\n",
       "    }\n",
       "\n",
       "    .dataframe tbody tr th {\n",
       "        vertical-align: top;\n",
       "    }\n",
       "\n",
       "    .dataframe thead th {\n",
       "        text-align: right;\n",
       "    }\n",
       "</style>\n",
       "<table border=\"1\" class=\"dataframe\">\n",
       "  <thead>\n",
       "    <tr style=\"text-align: right;\">\n",
       "      <th></th>\n",
       "      <th>Sentiment Analyzer</th>\n",
       "      <th>Accuracy</th>\n",
       "      <th>ROC_UC</th>\n",
       "      <th>F1 Score</th>\n",
       "    </tr>\n",
       "  </thead>\n",
       "  <tbody>\n",
       "    <tr>\n",
       "      <th>Random Forest</th>\n",
       "      <td>NLTK</td>\n",
       "      <td>0.548387</td>\n",
       "      <td>0.546936</td>\n",
       "      <td>0.572519</td>\n",
       "    </tr>\n",
       "    <tr>\n",
       "      <th>K Nearest Neighbour</th>\n",
       "      <td>NLTK</td>\n",
       "      <td>0.705645</td>\n",
       "      <td>0.699283</td>\n",
       "      <td>0.747405</td>\n",
       "    </tr>\n",
       "    <tr>\n",
       "      <th>Decision Tree</th>\n",
       "      <td>NLTK</td>\n",
       "      <td>0.862903</td>\n",
       "      <td>0.857497</td>\n",
       "      <td>0.881119</td>\n",
       "    </tr>\n",
       "    <tr>\n",
       "      <th>Light Gradient Boosting</th>\n",
       "      <td>NLTK</td>\n",
       "      <td>0.838710</td>\n",
       "      <td>0.833638</td>\n",
       "      <td>0.859155</td>\n",
       "    </tr>\n",
       "    <tr>\n",
       "      <th>SVM</th>\n",
       "      <td>NLTK</td>\n",
       "      <td>0.552419</td>\n",
       "      <td>0.551956</td>\n",
       "      <td>0.568093</td>\n",
       "    </tr>\n",
       "  </tbody>\n",
       "</table>\n",
       "</div>"
      ],
      "text/plain": [
       "                        Sentiment Analyzer  Accuracy    ROC_UC  F1 Score\n",
       "Random Forest                         NLTK  0.548387  0.546936  0.572519\n",
       "K Nearest Neighbour                   NLTK  0.705645  0.699283  0.747405\n",
       "Decision Tree                         NLTK  0.862903  0.857497  0.881119\n",
       "Light Gradient Boosting               NLTK  0.838710  0.833638  0.859155\n",
       "SVM                                   NLTK  0.552419  0.551956  0.568093"
      ]
     },
     "execution_count": 19,
     "metadata": {},
     "output_type": "execute_result"
    }
   ],
   "source": [
    "NLTK_Result_data={'Sentiment Analyzer':['NLTK','NLTK','NLTK','NLTK','NLTK'],'Accuracy':[accuracy_nltk_rf, accuracy_nltk_knn, accuracy_nltk_dt, accuracy_nltk_lgbm,accuracy_nltk_svm],'ROC_UC':[roc_nltk_rf, roc_nltk_knn, roc_nltk_dt, roc_nltk_lgbm,roc_nltk_svm],'F1 Score':[f1_nltk_rf, f1_nltk_knn, f1_nltk_dt, f1_nltk_lgbm,f1_nltk_svm]}\n",
    "\n",
    "NLTK_Results=pd.DataFrame(NLTK_Result_data,index=['Random Forest', 'K Nearest Neighbour', 'Decision Tree', 'Light Gradient Boosting','SVM'])\n",
    "\n",
    "NLTK_Results"
   ]
  },
  {
   "cell_type": "markdown",
   "id": "061a9ffa",
   "metadata": {},
   "source": [
    "### Section 4.2) Classification using BERT"
   ]
  },
  {
   "cell_type": "code",
   "execution_count": 20,
   "id": "0b4dedc8",
   "metadata": {},
   "outputs": [
    {
     "data": {
      "text/plain": [
       "0      0\n",
       "1      0\n",
       "2      0\n",
       "3      0\n",
       "4      0\n",
       "      ..\n",
       "776    0\n",
       "777    0\n",
       "778    0\n",
       "779    0\n",
       "780    0\n",
       "Name: Label, Length: 781, dtype: int64"
      ]
     },
     "execution_count": 20,
     "metadata": {},
     "output_type": "execute_result"
    }
   ],
   "source": [
    "y = df['Label']\n",
    "y"
   ]
  },
  {
   "cell_type": "code",
   "execution_count": 21,
   "id": "f520d28e",
   "metadata": {},
   "outputs": [
    {
     "data": {
      "text/html": [
       "<div>\n",
       "<style scoped>\n",
       "    .dataframe tbody tr th:only-of-type {\n",
       "        vertical-align: middle;\n",
       "    }\n",
       "\n",
       "    .dataframe tbody tr th {\n",
       "        vertical-align: top;\n",
       "    }\n",
       "\n",
       "    .dataframe thead th {\n",
       "        text-align: right;\n",
       "    }\n",
       "</style>\n",
       "<table border=\"1\" class=\"dataframe\">\n",
       "  <thead>\n",
       "    <tr style=\"text-align: right;\">\n",
       "      <th></th>\n",
       "      <th>BERT_score</th>\n",
       "      <th>BERT_pos</th>\n",
       "      <th>BERT_neg</th>\n",
       "      <th>BERT_neutr</th>\n",
       "    </tr>\n",
       "  </thead>\n",
       "  <tbody>\n",
       "    <tr>\n",
       "      <th>0</th>\n",
       "      <td>1</td>\n",
       "      <td>0.516302</td>\n",
       "      <td>0.254041</td>\n",
       "      <td>0.122045</td>\n",
       "    </tr>\n",
       "    <tr>\n",
       "      <th>1</th>\n",
       "      <td>1</td>\n",
       "      <td>0.592651</td>\n",
       "      <td>0.235079</td>\n",
       "      <td>0.099565</td>\n",
       "    </tr>\n",
       "    <tr>\n",
       "      <th>2</th>\n",
       "      <td>1</td>\n",
       "      <td>0.482937</td>\n",
       "      <td>0.310596</td>\n",
       "      <td>0.120765</td>\n",
       "    </tr>\n",
       "    <tr>\n",
       "      <th>3</th>\n",
       "      <td>1</td>\n",
       "      <td>0.802986</td>\n",
       "      <td>0.149463</td>\n",
       "      <td>0.035932</td>\n",
       "    </tr>\n",
       "    <tr>\n",
       "      <th>4</th>\n",
       "      <td>1</td>\n",
       "      <td>0.663777</td>\n",
       "      <td>0.204110</td>\n",
       "      <td>0.073955</td>\n",
       "    </tr>\n",
       "    <tr>\n",
       "      <th>...</th>\n",
       "      <td>...</td>\n",
       "      <td>...</td>\n",
       "      <td>...</td>\n",
       "      <td>...</td>\n",
       "    </tr>\n",
       "    <tr>\n",
       "      <th>776</th>\n",
       "      <td>1</td>\n",
       "      <td>0.272352</td>\n",
       "      <td>0.180845</td>\n",
       "      <td>0.195814</td>\n",
       "    </tr>\n",
       "    <tr>\n",
       "      <th>777</th>\n",
       "      <td>1</td>\n",
       "      <td>0.542867</td>\n",
       "      <td>0.218562</td>\n",
       "      <td>0.127617</td>\n",
       "    </tr>\n",
       "    <tr>\n",
       "      <th>778</th>\n",
       "      <td>5</td>\n",
       "      <td>0.015004</td>\n",
       "      <td>0.016946</td>\n",
       "      <td>0.045558</td>\n",
       "    </tr>\n",
       "    <tr>\n",
       "      <th>779</th>\n",
       "      <td>1</td>\n",
       "      <td>0.288835</td>\n",
       "      <td>0.113718</td>\n",
       "      <td>0.124222</td>\n",
       "    </tr>\n",
       "    <tr>\n",
       "      <th>780</th>\n",
       "      <td>2</td>\n",
       "      <td>0.355105</td>\n",
       "      <td>0.433259</td>\n",
       "      <td>0.191705</td>\n",
       "    </tr>\n",
       "  </tbody>\n",
       "</table>\n",
       "<p>781 rows × 4 columns</p>\n",
       "</div>"
      ],
      "text/plain": [
       "     BERT_score  BERT_pos  BERT_neg  BERT_neutr\n",
       "0             1  0.516302  0.254041    0.122045\n",
       "1             1  0.592651  0.235079    0.099565\n",
       "2             1  0.482937  0.310596    0.120765\n",
       "3             1  0.802986  0.149463    0.035932\n",
       "4             1  0.663777  0.204110    0.073955\n",
       "..          ...       ...       ...         ...\n",
       "776           1  0.272352  0.180845    0.195814\n",
       "777           1  0.542867  0.218562    0.127617\n",
       "778           5  0.015004  0.016946    0.045558\n",
       "779           1  0.288835  0.113718    0.124222\n",
       "780           2  0.355105  0.433259    0.191705\n",
       "\n",
       "[781 rows x 4 columns]"
      ]
     },
     "execution_count": 21,
     "metadata": {},
     "output_type": "execute_result"
    }
   ],
   "source": [
    "X = df[['BERT_score','BERT_pos','BERT_neg','BERT_neutr']]\n",
    "X"
   ]
  },
  {
   "cell_type": "code",
   "execution_count": 22,
   "id": "d39394fa",
   "metadata": {},
   "outputs": [
    {
     "name": "stdout",
     "output_type": "stream",
     "text": [
      "Counter({0: 619, 1: 619})\n"
     ]
    }
   ],
   "source": [
    "# example of random oversampling to balance the class distribution\n",
    "from collections import Counter\n",
    "from sklearn.datasets import make_classification\n",
    "from imblearn.over_sampling import RandomOverSampler\n",
    "\n",
    "#X = X.values.reshape(-1)\n",
    "oversample = RandomOverSampler(sampling_strategy='minority')\n",
    "# fit and apply the transform\n",
    "#X_over, y_over = oversample.fit_resample(X, y)\n",
    "X_over, y_over = oversample.fit_resample(X,y)\n",
    "# summarize class distribution\n",
    "print(Counter(y_over))"
   ]
  },
  {
   "cell_type": "code",
   "execution_count": 23,
   "id": "27f02125",
   "metadata": {},
   "outputs": [
    {
     "data": {
      "text/plain": [
       "(array([[-1.        ,  0.15906448,  0.16012041, -0.60000555],\n",
       "        [-1.        ,  0.33287237,  0.07125711, -0.68575049],\n",
       "        [-1.        ,  0.08310696,  0.42515878, -0.60488891],\n",
       "        ...,\n",
       "        [-1.        ,  0.24070974,  0.28928799, -0.63188397],\n",
       "        [-1.        ,  0.57587239, -0.02753153, -0.80970906],\n",
       "        [-1.        ,  0.42859281,  0.0500461 , -0.72076244]]),\n",
       " array([[-1.],\n",
       "        [-1.],\n",
       "        [-1.],\n",
       "        ...,\n",
       "        [ 1.],\n",
       "        [ 1.],\n",
       "        [ 1.]]))"
      ]
     },
     "execution_count": 23,
     "metadata": {},
     "output_type": "execute_result"
    }
   ],
   "source": [
    "# scaling the feature dataset\n",
    "cols = ['NLTK_Negative_Scores','NLTK_Positive_Scores','NLTK_Neutral_Scores','NLTK_compound_Scores']\n",
    "scaler_x = preprocessing.MinMaxScaler (feature_range=(-1, 1))\n",
    "X_over = np.array(X_over).reshape((len(X_over) ,len(cols)))\n",
    "X_over = scaler_x.fit_transform(X_over)\n",
    "\n",
    "# scaling the target variable\n",
    "scaler_y = preprocessing.MinMaxScaler (feature_range=(-1, 1))\n",
    "y_over = np.array (y_over).reshape ((len(y_over), 1))\n",
    "y_over = scaler_y.fit_transform (y_over)\n",
    "\n",
    "# displaying the scaled feature dataset and the target variable\n",
    "X_over, y_over"
   ]
  },
  {
   "cell_type": "code",
   "execution_count": 24,
   "id": "9cc5d70f",
   "metadata": {},
   "outputs": [
    {
     "name": "stdout",
     "output_type": "stream",
     "text": [
      "Train:  (990, 4) (990, 1) Test:  ((248, 4), (248, 1))\n"
     ]
    }
   ],
   "source": [
    "#Splitting the dataset into train and test sets\n",
    "X_train,X_test,y_train, y_test = train_test_split(X_over,y_over, test_size=0.20, random_state=30)\n",
    "print(\"Train: \",X_train.shape,y_train.shape,\"Test: \",(X_test.shape,y_test.shape))"
   ]
  },
  {
   "cell_type": "markdown",
   "id": "83a45df8",
   "metadata": {},
   "source": [
    "### Section 4.2.1) Random Forest"
   ]
  },
  {
   "cell_type": "code",
   "execution_count": 25,
   "id": "cb586989",
   "metadata": {},
   "outputs": [
    {
     "name": "stdout",
     "output_type": "stream",
     "text": [
      "ROCAUC score: 0.5469361147327249\n",
      "Accuracy score: 0.5483870967741935\n",
      "F1 score: 0.5725190839694657\n"
     ]
    }
   ],
   "source": [
    "#Fitting the Random Forest Classifier\n",
    "bert_rf = RandomForestClassifier(max_depth=2, random_state=0).fit(X_train,y_train.ravel())\n",
    "#clf.fit(X_train, y_train)\n",
    "#Predicting using the Model\n",
    "bert_rf_pred = bert_rf.predict(X_test)\n",
    "\n",
    "roc_bert_rf = roc_auc_score(y_test, bert_rf_pred)\n",
    "accuracy_bert_rf = accuracy_score(y_test, bert_rf_pred)\n",
    "f1_bert_rf = f1_score(y_test, bert_rf_pred)\n",
    "\n",
    "print('ROCAUC score:',roc_auc_score(y_test, rf_pred))\n",
    "print('Accuracy score:',accuracy_score(y_test, rf_pred))\n",
    "print('F1 score:',f1_score(y_test, rf_pred))"
   ]
  },
  {
   "cell_type": "markdown",
   "id": "d5ebbbc5",
   "metadata": {},
   "source": [
    "### Section 4.2.2) KNN"
   ]
  },
  {
   "cell_type": "code",
   "execution_count": 26,
   "id": "b19d80ec",
   "metadata": {},
   "outputs": [
    {
     "name": "stdout",
     "output_type": "stream",
     "text": [
      "ROCAUC score: 0.721968709256845\n",
      "Accuracy score: 0.7298387096774194\n",
      "F1 score: 0.7744107744107744\n"
     ]
    }
   ],
   "source": [
    "#KNN Model to predit Label\n",
    "neigh = KNeighborsClassifier(n_neighbors=3).fit(X_train,y_train.ravel())\n",
    "knn_pred = neigh.predict(X_test)\n",
    "\n",
    "roc_bert_knn = roc_auc_score(y_test, knn_pred)\n",
    "accuracy_bert_knn = accuracy_score(y_test, knn_pred)\n",
    "f1_bert_knn = f1_score(y_test, knn_pred)\n",
    "\n",
    "print('ROCAUC score:',roc_auc_score(y_test, knn_pred))\n",
    "print('Accuracy score:',accuracy_score(y_test, knn_pred))\n",
    "print('F1 score:',f1_score(y_test, knn_pred))"
   ]
  },
  {
   "cell_type": "markdown",
   "id": "6fb5c70f",
   "metadata": {},
   "source": [
    "### Section 4.2.3) Decision Tree"
   ]
  },
  {
   "cell_type": "code",
   "execution_count": 27,
   "id": "e81d7888",
   "metadata": {
    "scrolled": true
   },
   "outputs": [
    {
     "name": "stdout",
     "output_type": "stream",
     "text": [
      "ROCAUC score: 0.8421121251629726\n",
      "Accuracy score: 0.8467741935483871\n",
      "F1 score: 0.8652482269503547\n"
     ]
    }
   ],
   "source": [
    "#Decision tree \n",
    "\n",
    "dt_bert = DecisionTreeClassifier(random_state=0).fit(X_train,y_train)\n",
    "dt_pred_bert = dt_bert.predict(X_test)\n",
    "\n",
    "roc_bert_dt = roc_auc_score(y_test, dt_pred_bert)\n",
    "accuracy_bert_dt = accuracy_score(y_test, dt_pred_bert)\n",
    "f1_bert_dt = f1_score(y_test, dt_pred_bert)\n",
    "\n",
    "print('ROCAUC score:',roc_auc_score(y_test, dt_pred_bert))\n",
    "print('Accuracy score:',accuracy_score(y_test, dt_pred_bert))\n",
    "print('F1 score:',f1_score(y_test, dt_pred_bert))"
   ]
  },
  {
   "cell_type": "markdown",
   "id": "e7a1450f",
   "metadata": {},
   "source": [
    "### Section 4.2.4) Light Gradient Boosting Machine"
   ]
  },
  {
   "cell_type": "code",
   "execution_count": 28,
   "id": "a45641ae",
   "metadata": {
    "scrolled": true
   },
   "outputs": [
    {
     "name": "stdout",
     "output_type": "stream",
     "text": [
      "ROCAUC score: 0.8109517601043026\n",
      "Accuracy score: 0.8145161290322581\n",
      "F1 score: 0.8333333333333333\n"
     ]
    }
   ],
   "source": [
    "lightgbm_bert = HistGradientBoostingClassifier(max_bins=255,max_iter=100).fit(X_train, y_train.ravel())\n",
    "lightgbm_bert.score(X_test, y_test)\n",
    "lightgbm_bert_pred = lightgbm_bert.predict(X_test)\n",
    "\n",
    "roc_bert_lgbm = roc_auc_score(y_test, lightgbm_bert_pred)\n",
    "accuracy_bert_lgbm = accuracy_score(y_test, lightgbm_bert_pred)\n",
    "f1_bert_lgbm = f1_score(y_test, lightgbm_bert_pred)\n",
    "\n",
    "print('ROCAUC score:',roc_auc_score(y_test, lightgbm_bert_pred))\n",
    "print('Accuracy score:',accuracy_score(y_test, lightgbm_bert_pred))\n",
    "print('F1 score:',f1_score(y_test, lightgbm_bert_pred))"
   ]
  },
  {
   "cell_type": "markdown",
   "id": "c2809e30",
   "metadata": {},
   "source": [
    "### Section 4.2.5) Support Vector Machine"
   ]
  },
  {
   "cell_type": "code",
   "execution_count": 29,
   "id": "517f9bcd",
   "metadata": {},
   "outputs": [
    {
     "name": "stdout",
     "output_type": "stream",
     "text": [
      "ROCAUC score: 0.5503911342894394\n",
      "Accuracy score: 0.5524193548387096\n",
      "F1 score: 0.5811320754716981\n"
     ]
    }
   ],
   "source": [
    "svm_bert = make_pipeline(StandardScaler(), SVC(gamma='auto'))\n",
    "svm_bert.fit(X_train, y_train.ravel())\n",
    "svm_bert_pred = svm_bert.predict(X_test)\n",
    "\n",
    "roc_bert_svm = roc_auc_score(y_test, svm_bert.predict(X_test))\n",
    "accuracy_bert_svm = accuracy_score(y_test, svm_bert.predict(X_test))\n",
    "f1_bert_svm = f1_score(y_test, svm_bert.predict(X_test))\n",
    "\n",
    "print('ROCAUC score:',roc_auc_score(y_test, svm_bert.predict(X_test)))\n",
    "print('Accuracy score:',accuracy_score(y_test, svm_bert.predict(X_test)))\n",
    "print('F1 score:',f1_score(y_test, svm_bert.predict(X_test)))"
   ]
  },
  {
   "cell_type": "code",
   "execution_count": 30,
   "id": "d62b8141",
   "metadata": {},
   "outputs": [
    {
     "data": {
      "text/html": [
       "<div>\n",
       "<style scoped>\n",
       "    .dataframe tbody tr th:only-of-type {\n",
       "        vertical-align: middle;\n",
       "    }\n",
       "\n",
       "    .dataframe tbody tr th {\n",
       "        vertical-align: top;\n",
       "    }\n",
       "\n",
       "    .dataframe thead th {\n",
       "        text-align: right;\n",
       "    }\n",
       "</style>\n",
       "<table border=\"1\" class=\"dataframe\">\n",
       "  <thead>\n",
       "    <tr style=\"text-align: right;\">\n",
       "      <th></th>\n",
       "      <th>Sentiment Analyzer</th>\n",
       "      <th>Accuracy</th>\n",
       "      <th>ROC_UC</th>\n",
       "      <th>F1 Score</th>\n",
       "    </tr>\n",
       "  </thead>\n",
       "  <tbody>\n",
       "    <tr>\n",
       "      <th>Random Forest</th>\n",
       "      <td>BERT</td>\n",
       "      <td>0.548387</td>\n",
       "      <td>0.544980</td>\n",
       "      <td>0.588235</td>\n",
       "    </tr>\n",
       "    <tr>\n",
       "      <th>K Nearest Neighbour</th>\n",
       "      <td>BERT</td>\n",
       "      <td>0.729839</td>\n",
       "      <td>0.721969</td>\n",
       "      <td>0.774411</td>\n",
       "    </tr>\n",
       "    <tr>\n",
       "      <th>Decision Tree</th>\n",
       "      <td>BERT</td>\n",
       "      <td>0.846774</td>\n",
       "      <td>0.842112</td>\n",
       "      <td>0.865248</td>\n",
       "    </tr>\n",
       "    <tr>\n",
       "      <th>Light Gradient Boosting</th>\n",
       "      <td>BERT</td>\n",
       "      <td>0.814516</td>\n",
       "      <td>0.810952</td>\n",
       "      <td>0.833333</td>\n",
       "    </tr>\n",
       "    <tr>\n",
       "      <th>SVM</th>\n",
       "      <td>BERT</td>\n",
       "      <td>0.552419</td>\n",
       "      <td>0.550391</td>\n",
       "      <td>0.581132</td>\n",
       "    </tr>\n",
       "  </tbody>\n",
       "</table>\n",
       "</div>"
      ],
      "text/plain": [
       "                        Sentiment Analyzer  Accuracy    ROC_UC  F1 Score\n",
       "Random Forest                         BERT  0.548387  0.544980  0.588235\n",
       "K Nearest Neighbour                   BERT  0.729839  0.721969  0.774411\n",
       "Decision Tree                         BERT  0.846774  0.842112  0.865248\n",
       "Light Gradient Boosting               BERT  0.814516  0.810952  0.833333\n",
       "SVM                                   BERT  0.552419  0.550391  0.581132"
      ]
     },
     "execution_count": 30,
     "metadata": {},
     "output_type": "execute_result"
    }
   ],
   "source": [
    "BERT_Result_data={'Sentiment Analyzer':['BERT','BERT','BERT','BERT','BERT'],'Accuracy':[accuracy_bert_rf, accuracy_bert_knn, accuracy_bert_dt, accuracy_bert_lgbm, accuracy_bert_svm],'ROC_UC':[roc_bert_rf, roc_bert_knn, roc_bert_dt, roc_bert_lgbm, roc_bert_svm],'F1 Score':[f1_bert_rf, f1_bert_knn, f1_bert_dt, f1_bert_lgbm, f1_bert_svm]}\n",
    "\n",
    "BERT_Results=pd.DataFrame(BERT_Result_data,index=['Random Forest', 'K Nearest Neighbour', 'Decision Tree', 'Light Gradient Boosting', 'SVM'])\n",
    "\n",
    "BERT_Results"
   ]
  },
  {
   "cell_type": "markdown",
   "id": "68011f9f",
   "metadata": {},
   "source": [
    "## Section 4.3) NLTK + BERT"
   ]
  },
  {
   "cell_type": "code",
   "execution_count": 31,
   "id": "ccb0bd3a",
   "metadata": {},
   "outputs": [
    {
     "data": {
      "text/plain": [
       "0      0\n",
       "1      0\n",
       "2      0\n",
       "3      0\n",
       "4      0\n",
       "      ..\n",
       "776    0\n",
       "777    0\n",
       "778    0\n",
       "779    0\n",
       "780    0\n",
       "Name: Label, Length: 781, dtype: int64"
      ]
     },
     "execution_count": 31,
     "metadata": {},
     "output_type": "execute_result"
    }
   ],
   "source": [
    "y = df['Label']\n",
    "y"
   ]
  },
  {
   "cell_type": "code",
   "execution_count": 32,
   "id": "58545a45",
   "metadata": {},
   "outputs": [],
   "source": [
    "X = df[['NLTK_Negative_Scores','NLTK_Positive_Scores','NLTK_Neutral_Scores','NLTK_compound_Scores','BERT_score','BERT_pos','BERT_neg','BERT_neutr']]"
   ]
  },
  {
   "cell_type": "code",
   "execution_count": 33,
   "id": "471a079c",
   "metadata": {},
   "outputs": [
    {
     "name": "stdout",
     "output_type": "stream",
     "text": [
      "Counter({0: 619, 1: 619})\n"
     ]
    }
   ],
   "source": [
    "# example of random oversampling to balance the class distribution\n",
    "from collections import Counter\n",
    "from sklearn.datasets import make_classification\n",
    "from imblearn.over_sampling import RandomOverSampler\n",
    "\n",
    "#X = X.values.reshape(-1)\n",
    "oversample = RandomOverSampler(sampling_strategy='minority')\n",
    "# fit and apply the transform\n",
    "#X_over, y_over = oversample.fit_resample(X, y)\n",
    "X_over, y_over = oversample.fit_resample(X,y)\n",
    "# summarize class distribution\n",
    "print(Counter(y_over))"
   ]
  },
  {
   "cell_type": "code",
   "execution_count": 34,
   "id": "80ea7fcc",
   "metadata": {
    "scrolled": true
   },
   "outputs": [
    {
     "data": {
      "text/plain": [
       "(array([[-0.37651822, -0.46153846,  0.40643275, ...,  0.15906448,\n",
       "          0.16012041, -0.60000555],\n",
       "        [ 0.10931174, -0.44444444,  0.21929825, ...,  0.33287237,\n",
       "          0.07125711, -0.68575049],\n",
       "        [-0.25506073, -0.32051282,  0.26608187, ...,  0.08310696,\n",
       "          0.42515878, -0.60488891],\n",
       "        ...,\n",
       "        [-0.43319838, -0.54273504,  0.48245614, ..., -0.3027507 ,\n",
       "          0.50476344, -0.2454662 ],\n",
       "        [-1.        , -1.        ,  1.        , ..., -0.04518294,\n",
       "         -0.12293875, -0.52911101],\n",
       "        [-0.36842105, -0.33760684,  0.31871345, ...,  0.33155685,\n",
       "          0.21887202, -0.68832326]]),\n",
       " array([[-1.],\n",
       "        [-1.],\n",
       "        [-1.],\n",
       "        ...,\n",
       "        [ 1.],\n",
       "        [ 1.],\n",
       "        [ 1.]]))"
      ]
     },
     "execution_count": 34,
     "metadata": {},
     "output_type": "execute_result"
    }
   ],
   "source": [
    "# scaling the feature dataset\n",
    "cols = ['NLTK_Negative_Scores','NLTK_Positive_Scores','NLTK_Neutral_Scores','NLTK_compound_Scores','BERT_score','BERT_pos','BERT_neg','BERT_neutr']\n",
    "scaler_x = preprocessing.MinMaxScaler (feature_range=(-1, 1))\n",
    "X_over = np.array(X_over).reshape((len(X_over) ,len(cols)))\n",
    "X_over = scaler_x.fit_transform(X_over)\n",
    "\n",
    "# scaling the target variable\n",
    "scaler_y = preprocessing.MinMaxScaler (feature_range=(-1, 1))\n",
    "y_over = np.array (y_over).reshape ((len(y_over), 1))\n",
    "y_over = scaler_y.fit_transform (y_over)\n",
    "\n",
    "# displaying the scaled feature dataset and the target variable\n",
    "X_over, y_over"
   ]
  },
  {
   "cell_type": "code",
   "execution_count": 35,
   "id": "d2e77f31",
   "metadata": {},
   "outputs": [
    {
     "name": "stdout",
     "output_type": "stream",
     "text": [
      "Train:  (990, 8) (990, 1) Test:  ((248, 8), (248, 1))\n"
     ]
    }
   ],
   "source": [
    "#Uing an imbalanced dataset:\n",
    "#Splitting the dataset into train and test sets\n",
    "X_train,X_test,y_train, y_test = train_test_split(X_over,y_over, test_size=0.20, random_state=30)\n",
    "print(\"Train: \",X_train.shape,y_train.shape,\"Test: \",(X_test.shape,y_test.shape))"
   ]
  },
  {
   "cell_type": "markdown",
   "id": "f1fc169d",
   "metadata": {},
   "source": [
    "## Section 4.3.1) Random Forest"
   ]
  },
  {
   "cell_type": "code",
   "execution_count": 36,
   "id": "f582cbee",
   "metadata": {},
   "outputs": [
    {
     "name": "stdout",
     "output_type": "stream",
     "text": [
      "ROCAUC score: 0.5784876140808344\n",
      "Accuracy score: 0.5806451612903226\n",
      "F1 score: 0.6090225563909775\n"
     ]
    }
   ],
   "source": [
    "#Fitting the Random Forest Classifier\n",
    "clf_rf_nltk_bert = RandomForestClassifier(max_depth=2, random_state=0).fit(X_train,y_train.ravel())\n",
    "#clf.fit(X_train, y_train)\n",
    "#Predicting using the Model\n",
    "rf_pred_nltk_bert = clf_rf_nltk_bert.predict(X_test)\n",
    "\n",
    "roc_bert_nltk_rf = roc_auc_score(y_test, rf_pred_nltk_bert)\n",
    "accuracy_bert_nltk_rf = accuracy_score(y_test, rf_pred_nltk_bert)\n",
    "f1_bert_nltk_rf = f1_score(y_test, rf_pred_nltk_bert)\n",
    "\n",
    "print('ROCAUC score:',roc_auc_score(y_test, rf_pred_nltk_bert))\n",
    "print('Accuracy score:',accuracy_score(y_test, rf_pred_nltk_bert))\n",
    "print('F1 score:',f1_score(y_test, rf_pred_nltk_bert))"
   ]
  },
  {
   "cell_type": "markdown",
   "id": "e9eef150",
   "metadata": {},
   "source": [
    "## Section 4.3.2) KNN"
   ]
  },
  {
   "cell_type": "code",
   "execution_count": 37,
   "id": "462b7959",
   "metadata": {},
   "outputs": [
    {
     "name": "stdout",
     "output_type": "stream",
     "text": [
      "ROCAUC score: 0.728161668839635\n",
      "Accuracy score: 0.7338709677419355\n",
      "F1 score: 0.7692307692307693\n"
     ]
    }
   ],
   "source": [
    "#KNN Model to predit Label\n",
    "neigh = KNeighborsClassifier(n_neighbors=3).fit(X_train,y_train.ravel())\n",
    "knn_pred_nltk_bert = neigh.predict(X_test)\n",
    "\n",
    "roc_bert_nltk_knn = roc_auc_score(y_test, knn_pred_nltk_bert)\n",
    "accuracy_bert_nltk_knn = accuracy_score(y_test, knn_pred_nltk_bert)\n",
    "f1_bert_nltk_knn = f1_score(y_test, knn_pred_nltk_bert)\n",
    "\n",
    "print('ROCAUC score:',roc_auc_score(y_test, knn_pred_nltk_bert))\n",
    "print('Accuracy score:',accuracy_score(y_test, knn_pred_nltk_bert))\n",
    "print('F1 score:',f1_score(y_test, knn_pred_nltk_bert))"
   ]
  },
  {
   "cell_type": "markdown",
   "id": "36917a62",
   "metadata": {},
   "source": [
    "## Section 4.3.3) Decision Tree"
   ]
  },
  {
   "cell_type": "code",
   "execution_count": 38,
   "id": "d00134d7",
   "metadata": {},
   "outputs": [
    {
     "name": "stdout",
     "output_type": "stream",
     "text": [
      "ROCAUC score: 0.8698174706649283\n",
      "Accuracy score: 0.875\n",
      "F1 score: 0.8912280701754386\n"
     ]
    }
   ],
   "source": [
    "#Decision tree \n",
    "\n",
    "from sklearn.tree import DecisionTreeClassifier\n",
    "dt_nltk_bert = DecisionTreeClassifier(random_state=0).fit(X_train,y_train)\n",
    "dt_pred_nltk_bert = dt_nltk_bert.predict(X_test)\n",
    "\n",
    "roc_bert_nltk_dt = roc_auc_score(y_test, dt_pred_nltk_bert)\n",
    "accuracy_bert_nltk_dt = accuracy_score(y_test, dt_pred_nltk_bert)\n",
    "f1_bert_nltk_dt = f1_score(y_test, dt_pred_nltk_bert)\n",
    "\n",
    "print('ROCAUC score:',roc_auc_score(y_test, dt_pred_nltk_bert))\n",
    "print('Accuracy score:',accuracy_score(y_test, dt_pred_nltk_bert))\n",
    "print('F1 score:',f1_score(y_test, dt_pred_nltk_bert))"
   ]
  },
  {
   "cell_type": "markdown",
   "id": "5a305d17",
   "metadata": {},
   "source": [
    "### Section 4.3.4) Gradient Boosting"
   ]
  },
  {
   "cell_type": "code",
   "execution_count": 39,
   "id": "059c2d01",
   "metadata": {
    "scrolled": true
   },
   "outputs": [
    {
     "name": "stdout",
     "output_type": "stream",
     "text": [
      "ROCAUC score: 0.8952411994784877\n",
      "Accuracy score: 0.8991935483870968\n",
      "F1 score: 0.9103942652329748\n"
     ]
    }
   ],
   "source": [
    "lightgbm_nltk = HistGradientBoostingClassifier(max_bins=255,max_iter=100).fit(X_train, y_train.ravel())\n",
    "lightgbm_nltk.score(X_test, y_test)\n",
    "lightgbm_nltk_bert_pred = lightgbm_nltk.predict(X_test)\n",
    "\n",
    "roc_bert_nltk_lgbm = roc_auc_score(y_test, lightgbm_nltk_bert_pred)\n",
    "accuracy_bert_nltk_lgbm = accuracy_score(y_test, lightgbm_nltk_bert_pred)\n",
    "f1_bert_nltk_lgbm = f1_score(y_test, lightgbm_nltk_bert_pred)\n",
    "\n",
    "print('ROCAUC score:',roc_auc_score(y_test, lightgbm_nltk_bert_pred))\n",
    "print('Accuracy score:',accuracy_score(y_test, lightgbm_nltk_bert_pred))\n",
    "print('F1 score:',f1_score(y_test, lightgbm_nltk_bert_pred))"
   ]
  },
  {
   "cell_type": "markdown",
   "id": "3bf55361",
   "metadata": {},
   "source": [
    "### Section 4.3.5) Support Vector Machine"
   ]
  },
  {
   "cell_type": "code",
   "execution_count": 40,
   "id": "18ae48ad",
   "metadata": {},
   "outputs": [
    {
     "name": "stdout",
     "output_type": "stream",
     "text": [
      "ROCAUC score: 0.5245762711864407\n",
      "Accuracy score: 0.5282258064516129\n",
      "F1 score: 0.5714285714285713\n"
     ]
    }
   ],
   "source": [
    "svm_bert_nltk = make_pipeline(StandardScaler(), SVC(gamma='auto'))\n",
    "svm_bert_nltk.fit(X_train, y_train.ravel())\n",
    "svm_bert_nltk_pred = svm_bert_nltk.predict(X_test)\n",
    "\n",
    "roc_bert_nltk_svm = roc_auc_score(y_test, svm_bert_nltk.predict(X_test))\n",
    "accuracy_bert_nltk_svm = accuracy_score(y_test, svm_bert_nltk.predict(X_test))\n",
    "f1_bert_nltk_svm = f1_score(y_test, svm_bert_nltk.predict(X_test))\n",
    "\n",
    "print('ROCAUC score:',roc_auc_score(y_test, svm_bert_nltk.predict(X_test)))\n",
    "print('Accuracy score:',accuracy_score(y_test, svm_bert_nltk.predict(X_test)))\n",
    "print('F1 score:',f1_score(y_test, svm_bert_nltk.predict(X_test)))"
   ]
  },
  {
   "cell_type": "code",
   "execution_count": 41,
   "id": "8326cf63",
   "metadata": {},
   "outputs": [
    {
     "data": {
      "text/html": [
       "<div>\n",
       "<style scoped>\n",
       "    .dataframe tbody tr th:only-of-type {\n",
       "        vertical-align: middle;\n",
       "    }\n",
       "\n",
       "    .dataframe tbody tr th {\n",
       "        vertical-align: top;\n",
       "    }\n",
       "\n",
       "    .dataframe thead th {\n",
       "        text-align: right;\n",
       "    }\n",
       "</style>\n",
       "<table border=\"1\" class=\"dataframe\">\n",
       "  <thead>\n",
       "    <tr style=\"text-align: right;\">\n",
       "      <th></th>\n",
       "      <th>Sentiment Analyzer</th>\n",
       "      <th>Accuracy</th>\n",
       "      <th>ROC_UC</th>\n",
       "      <th>F1 Score</th>\n",
       "    </tr>\n",
       "  </thead>\n",
       "  <tbody>\n",
       "    <tr>\n",
       "      <th>Random Forest</th>\n",
       "      <td>NLTK+BERT</td>\n",
       "      <td>0.580645</td>\n",
       "      <td>0.578488</td>\n",
       "      <td>0.609023</td>\n",
       "    </tr>\n",
       "    <tr>\n",
       "      <th>K Nearest Neighbour</th>\n",
       "      <td>NLTK+BERT</td>\n",
       "      <td>0.733871</td>\n",
       "      <td>0.728162</td>\n",
       "      <td>0.769231</td>\n",
       "    </tr>\n",
       "    <tr>\n",
       "      <th>Decision Tree</th>\n",
       "      <td>NLTK+BERT</td>\n",
       "      <td>0.875000</td>\n",
       "      <td>0.869817</td>\n",
       "      <td>0.891228</td>\n",
       "    </tr>\n",
       "    <tr>\n",
       "      <th>Light Gradient Boosting</th>\n",
       "      <td>NLTK+BERT</td>\n",
       "      <td>0.899194</td>\n",
       "      <td>0.895241</td>\n",
       "      <td>0.910394</td>\n",
       "    </tr>\n",
       "    <tr>\n",
       "      <th>SVM</th>\n",
       "      <td>NLTK+BERT</td>\n",
       "      <td>0.528226</td>\n",
       "      <td>0.524576</td>\n",
       "      <td>0.571429</td>\n",
       "    </tr>\n",
       "  </tbody>\n",
       "</table>\n",
       "</div>"
      ],
      "text/plain": [
       "                        Sentiment Analyzer  Accuracy    ROC_UC  F1 Score\n",
       "Random Forest                    NLTK+BERT  0.580645  0.578488  0.609023\n",
       "K Nearest Neighbour              NLTK+BERT  0.733871  0.728162  0.769231\n",
       "Decision Tree                    NLTK+BERT  0.875000  0.869817  0.891228\n",
       "Light Gradient Boosting          NLTK+BERT  0.899194  0.895241  0.910394\n",
       "SVM                              NLTK+BERT  0.528226  0.524576  0.571429"
      ]
     },
     "execution_count": 41,
     "metadata": {},
     "output_type": "execute_result"
    }
   ],
   "source": [
    "BERT_Result_data={'Sentiment Analyzer':['NLTK+BERT','NLTK+BERT','NLTK+BERT','NLTK+BERT','NLTK+BERT'],'Accuracy':[accuracy_bert_nltk_rf, accuracy_bert_nltk_knn, accuracy_bert_nltk_dt, accuracy_bert_nltk_lgbm, accuracy_bert_nltk_svm],'ROC_UC':[roc_bert_nltk_rf, roc_bert_nltk_knn, roc_bert_nltk_dt, roc_bert_nltk_lgbm, roc_bert_nltk_svm],'F1 Score':[f1_bert_nltk_rf, f1_bert_nltk_knn, f1_bert_nltk_dt, f1_bert_nltk_lgbm, f1_bert_nltk_svm]}\n",
    "\n",
    "NLTK_BERT_Results=pd.DataFrame(BERT_Result_data,index=['Random Forest', 'K Nearest Neighbour', 'Decision Tree', 'Light Gradient Boosting', 'SVM'])\n",
    "\n",
    "NLTK_BERT_Results"
   ]
  },
  {
   "cell_type": "markdown",
   "id": "5c5bb117",
   "metadata": {},
   "source": [
    "## Section 4.4) finBERT"
   ]
  },
  {
   "cell_type": "code",
   "execution_count": 42,
   "id": "186d8168",
   "metadata": {},
   "outputs": [
    {
     "data": {
      "text/plain": [
       "0      0\n",
       "1      0\n",
       "2      0\n",
       "3      0\n",
       "4      0\n",
       "      ..\n",
       "776    0\n",
       "777    0\n",
       "778    0\n",
       "779    0\n",
       "780    0\n",
       "Name: Label, Length: 781, dtype: int64"
      ]
     },
     "execution_count": 42,
     "metadata": {},
     "output_type": "execute_result"
    }
   ],
   "source": [
    "y = df['Label']\n",
    "y"
   ]
  },
  {
   "cell_type": "code",
   "execution_count": 43,
   "id": "cf2d30a9",
   "metadata": {},
   "outputs": [
    {
     "data": {
      "text/html": [
       "<div>\n",
       "<style scoped>\n",
       "    .dataframe tbody tr th:only-of-type {\n",
       "        vertical-align: middle;\n",
       "    }\n",
       "\n",
       "    .dataframe tbody tr th {\n",
       "        vertical-align: top;\n",
       "    }\n",
       "\n",
       "    .dataframe thead th {\n",
       "        text-align: right;\n",
       "    }\n",
       "</style>\n",
       "<table border=\"1\" class=\"dataframe\">\n",
       "  <thead>\n",
       "    <tr style=\"text-align: right;\">\n",
       "      <th></th>\n",
       "      <th>fin_BERT_score</th>\n",
       "      <th>fin_BERT_pos</th>\n",
       "      <th>fin_BERT_neg</th>\n",
       "      <th>fin_BERT_neutr</th>\n",
       "    </tr>\n",
       "  </thead>\n",
       "  <tbody>\n",
       "    <tr>\n",
       "      <th>0</th>\n",
       "      <td>1</td>\n",
       "      <td>0.872153</td>\n",
       "      <td>0.058974</td>\n",
       "      <td>0.068873</td>\n",
       "    </tr>\n",
       "    <tr>\n",
       "      <th>1</th>\n",
       "      <td>3</td>\n",
       "      <td>0.074567</td>\n",
       "      <td>0.169100</td>\n",
       "      <td>0.756332</td>\n",
       "    </tr>\n",
       "    <tr>\n",
       "      <th>2</th>\n",
       "      <td>3</td>\n",
       "      <td>0.082285</td>\n",
       "      <td>0.134255</td>\n",
       "      <td>0.783460</td>\n",
       "    </tr>\n",
       "    <tr>\n",
       "      <th>3</th>\n",
       "      <td>2</td>\n",
       "      <td>0.439414</td>\n",
       "      <td>0.494129</td>\n",
       "      <td>0.066457</td>\n",
       "    </tr>\n",
       "    <tr>\n",
       "      <th>4</th>\n",
       "      <td>1</td>\n",
       "      <td>0.547651</td>\n",
       "      <td>0.067868</td>\n",
       "      <td>0.384480</td>\n",
       "    </tr>\n",
       "    <tr>\n",
       "      <th>...</th>\n",
       "      <td>...</td>\n",
       "      <td>...</td>\n",
       "      <td>...</td>\n",
       "      <td>...</td>\n",
       "    </tr>\n",
       "    <tr>\n",
       "      <th>776</th>\n",
       "      <td>1</td>\n",
       "      <td>0.706466</td>\n",
       "      <td>0.232624</td>\n",
       "      <td>0.060911</td>\n",
       "    </tr>\n",
       "    <tr>\n",
       "      <th>777</th>\n",
       "      <td>3</td>\n",
       "      <td>0.119102</td>\n",
       "      <td>0.021686</td>\n",
       "      <td>0.859212</td>\n",
       "    </tr>\n",
       "    <tr>\n",
       "      <th>778</th>\n",
       "      <td>1</td>\n",
       "      <td>0.914551</td>\n",
       "      <td>0.025644</td>\n",
       "      <td>0.059805</td>\n",
       "    </tr>\n",
       "    <tr>\n",
       "      <th>779</th>\n",
       "      <td>3</td>\n",
       "      <td>0.104133</td>\n",
       "      <td>0.010795</td>\n",
       "      <td>0.885073</td>\n",
       "    </tr>\n",
       "    <tr>\n",
       "      <th>780</th>\n",
       "      <td>3</td>\n",
       "      <td>0.063909</td>\n",
       "      <td>0.066104</td>\n",
       "      <td>0.869987</td>\n",
       "    </tr>\n",
       "  </tbody>\n",
       "</table>\n",
       "<p>781 rows × 4 columns</p>\n",
       "</div>"
      ],
      "text/plain": [
       "     fin_BERT_score  fin_BERT_pos  fin_BERT_neg  fin_BERT_neutr\n",
       "0                 1      0.872153      0.058974        0.068873\n",
       "1                 3      0.074567      0.169100        0.756332\n",
       "2                 3      0.082285      0.134255        0.783460\n",
       "3                 2      0.439414      0.494129        0.066457\n",
       "4                 1      0.547651      0.067868        0.384480\n",
       "..              ...           ...           ...             ...\n",
       "776               1      0.706466      0.232624        0.060911\n",
       "777               3      0.119102      0.021686        0.859212\n",
       "778               1      0.914551      0.025644        0.059805\n",
       "779               3      0.104133      0.010795        0.885073\n",
       "780               3      0.063909      0.066104        0.869987\n",
       "\n",
       "[781 rows x 4 columns]"
      ]
     },
     "execution_count": 43,
     "metadata": {},
     "output_type": "execute_result"
    }
   ],
   "source": [
    "X = df[['fin_BERT_score','fin_BERT_pos','fin_BERT_neg','fin_BERT_neutr']]\n",
    "X"
   ]
  },
  {
   "cell_type": "code",
   "execution_count": 44,
   "id": "9fba06a8",
   "metadata": {
    "scrolled": true
   },
   "outputs": [
    {
     "name": "stdout",
     "output_type": "stream",
     "text": [
      "Counter({0: 619, 1: 619})\n"
     ]
    }
   ],
   "source": [
    "# example of random oversampling to balance the class distribution\n",
    "from collections import Counter\n",
    "from sklearn.datasets import make_classification\n",
    "from imblearn.over_sampling import RandomOverSampler\n",
    "\n",
    "#X = X.values.reshape(-1)\n",
    "oversample = RandomOverSampler(sampling_strategy='minority')\n",
    "# fit and apply the transform\n",
    "#X_over, y_over = oversample.fit_resample(X, y)\n",
    "X_over, y_over = oversample.fit_resample(X,y)\n",
    "# summarize class distribution\n",
    "print(Counter(y_over))"
   ]
  },
  {
   "cell_type": "code",
   "execution_count": 45,
   "id": "6401bf85",
   "metadata": {
    "scrolled": true
   },
   "outputs": [
    {
     "data": {
      "text/plain": [
       "(array([[-1.        ,  0.89144813, -0.89937439, -0.8921285 ],\n",
       "        [ 1.        , -0.85941553, -0.66936818,  0.58986832],\n",
       "        [ 1.        , -0.84247329, -0.7421449 ,  0.64834868],\n",
       "        ...,\n",
       "        [ 0.        , -0.84090361, -0.03622106, -0.08182807],\n",
       "        [ 0.        , -0.88255778,  0.46620903, -0.55951665],\n",
       "        [ 0.        , -0.62013906,  0.52937583, -0.88241908]]),\n",
       " array([[-1.],\n",
       "        [-1.],\n",
       "        [-1.],\n",
       "        ...,\n",
       "        [ 1.],\n",
       "        [ 1.],\n",
       "        [ 1.]]))"
      ]
     },
     "execution_count": 45,
     "metadata": {},
     "output_type": "execute_result"
    }
   ],
   "source": [
    "# scaling the feature dataset\n",
    "cols = ['fin_BERT_score', 'fin_BERT_pos', 'fin_BERT_neg', 'fin_BERT_neutr']\n",
    "scaler_x = preprocessing.MinMaxScaler (feature_range=(-1, 1))\n",
    "X_over = np.array(X_over).reshape((len(X_over) ,len(cols)))\n",
    "X_over = scaler_x.fit_transform(X_over)\n",
    "\n",
    "# scaling the target variable\n",
    "scaler_y = preprocessing.MinMaxScaler (feature_range=(-1, 1))\n",
    "y_over = np.array (y_over).reshape ((len(y_over), 1))\n",
    "y_over = scaler_y.fit_transform (y_over)\n",
    "\n",
    "# displaying the scaled feature dataset and the target variable\n",
    "X_over, y_over"
   ]
  },
  {
   "cell_type": "code",
   "execution_count": 46,
   "id": "7fa5c549",
   "metadata": {},
   "outputs": [
    {
     "name": "stdout",
     "output_type": "stream",
     "text": [
      "Train:  (990, 4) (990, 1) Test:  ((248, 4), (248, 1))\n"
     ]
    }
   ],
   "source": [
    "#Splitting the dataset into train and test sets\n",
    "X_train,X_test,y_train, y_test = train_test_split(X_over,y_over, test_size=0.20, random_state=30)\n",
    "print(\"Train: \",X_train.shape,y_train.shape,\"Test: \",(X_test.shape,y_test.shape))"
   ]
  },
  {
   "cell_type": "markdown",
   "id": "c4bebdaf",
   "metadata": {},
   "source": [
    "## Section 4.4.1) Random Forest"
   ]
  },
  {
   "cell_type": "code",
   "execution_count": 47,
   "id": "1ff71afe",
   "metadata": {},
   "outputs": [
    {
     "name": "stdout",
     "output_type": "stream",
     "text": [
      "ROCAUC score: 0.5997392438070404\n",
      "Accuracy score: 0.5967741935483871\n",
      "F1 score: 0.5833333333333334\n"
     ]
    }
   ],
   "source": [
    "#Fitting the Random Forest Classifier\n",
    "clf_fin_rf = RandomForestClassifier(max_depth=2, random_state=0).fit(X_train,y_train.ravel())\n",
    "#clf.fit(X_train, y_train)\n",
    "#Predicting using the Model\n",
    "rf_pred_fin = clf_fin_rf.predict(X_test)\n",
    "\n",
    "roc_finbert_rf = roc_auc_score(y_test, rf_pred_fin)\n",
    "accuracy_finbert_rf = accuracy_score(y_test, rf_pred_fin)\n",
    "f1_finbert_rf = f1_score(y_test, rf_pred_fin)\n",
    "\n",
    "print('ROCAUC score:',roc_auc_score(y_test, rf_pred_fin))\n",
    "print('Accuracy score:',accuracy_score(y_test, rf_pred_fin))\n",
    "print('F1 score:',f1_score(y_test, rf_pred_fin))"
   ]
  },
  {
   "cell_type": "markdown",
   "id": "3ae08ad0",
   "metadata": {},
   "source": [
    "## Section 4.4.2) KNN"
   ]
  },
  {
   "cell_type": "code",
   "execution_count": 48,
   "id": "bcc7547e",
   "metadata": {},
   "outputs": [
    {
     "name": "stdout",
     "output_type": "stream",
     "text": [
      "ROCAUC score: 0.7338983050847457\n",
      "Accuracy score: 0.7419354838709677\n",
      "F1 score: 0.785234899328859\n"
     ]
    }
   ],
   "source": [
    "#KNN Model to predit Label\n",
    "neigh_fin = KNeighborsClassifier(n_neighbors=3).fit(X_train,y_train.ravel())\n",
    "knn_pred_fin = neigh_fin.predict(X_test)\n",
    "\n",
    "roc_finbert_knn = roc_auc_score(y_test, knn_pred_fin)\n",
    "accuracy_finbert_knn = accuracy_score(y_test, knn_pred_fin)\n",
    "f1_finbert_knn = f1_score(y_test, knn_pred_fin)\n",
    "\n",
    "print('ROCAUC score:',roc_auc_score(y_test, knn_pred_fin))\n",
    "print('Accuracy score:',accuracy_score(y_test, knn_pred_fin))\n",
    "print('F1 score:',f1_score(y_test, knn_pred_fin))"
   ]
  },
  {
   "cell_type": "markdown",
   "id": "a1101a80",
   "metadata": {},
   "source": [
    "## Section 4.4.3) Decision Tree"
   ]
  },
  {
   "cell_type": "code",
   "execution_count": 49,
   "id": "da445a40",
   "metadata": {},
   "outputs": [
    {
     "name": "stdout",
     "output_type": "stream",
     "text": [
      "ROCAUC score: 0.8609517601043025\n",
      "Accuracy score: 0.8669354838709677\n",
      "F1 score: 0.8858131487889275\n"
     ]
    }
   ],
   "source": [
    "from sklearn.tree import DecisionTreeClassifier\n",
    "dt_fin = DecisionTreeClassifier(random_state=0).fit(X_train,y_train)\n",
    "dt_pred_fin = dt_fin.predict(X_test)\n",
    "\n",
    "roc_finbert_dt = roc_auc_score(y_test, dt_pred_fin)\n",
    "accuracy_finbert_dt = accuracy_score(y_test, dt_pred_fin)\n",
    "f1_finbert_dt = f1_score(y_test, dt_pred_fin)\n",
    "\n",
    "print('ROCAUC score:',roc_auc_score(y_test, dt_pred_fin))\n",
    "print('Accuracy score:',accuracy_score(y_test, dt_pred_fin))\n",
    "print('F1 score:',f1_score(y_test, dt_pred_fin))"
   ]
  },
  {
   "cell_type": "markdown",
   "id": "a4a8c96c",
   "metadata": {},
   "source": [
    "### Section 4.4.4) Gradient Boosting"
   ]
  },
  {
   "cell_type": "code",
   "execution_count": 50,
   "id": "67772ccb",
   "metadata": {},
   "outputs": [
    {
     "name": "stdout",
     "output_type": "stream",
     "text": [
      "ROCAUC score: 0.8432855280312906\n",
      "Accuracy score: 0.8467741935483871\n",
      "F1 score: 0.8623188405797102\n"
     ]
    }
   ],
   "source": [
    "lightgbm_nltk = HistGradientBoostingClassifier(max_bins=255,max_iter=100).fit(X_train, y_train.ravel())\n",
    "lightgbm_nltk.score(X_test, y_test)\n",
    "lightgbm_nltk_pred = lightgbm_nltk.predict(X_test)\n",
    "\n",
    "roc_finbert_lgbm = roc_auc_score(y_test, lightgbm_nltk_pred)\n",
    "accuracy_finbert_lgbm = accuracy_score(y_test, lightgbm_nltk_pred)\n",
    "f1_finbert_lgbm = f1_score(y_test, lightgbm_nltk_pred)\n",
    "\n",
    "print('ROCAUC score:',roc_auc_score(y_test, lightgbm_nltk_pred))\n",
    "print('Accuracy score:',accuracy_score(y_test, lightgbm_nltk_pred))\n",
    "print('F1 score:',f1_score(y_test, lightgbm_nltk_pred))"
   ]
  },
  {
   "cell_type": "markdown",
   "id": "8ce2fd5b",
   "metadata": {},
   "source": [
    "### Section 4.4.4) Support Vector Machine"
   ]
  },
  {
   "cell_type": "code",
   "execution_count": 51,
   "id": "fd066678",
   "metadata": {},
   "outputs": [
    {
     "name": "stdout",
     "output_type": "stream",
     "text": [
      "ROCAUC score: 0.5466753585397653\n",
      "Accuracy score: 0.5403225806451613\n",
      "F1 score: 0.48648648648648657\n"
     ]
    }
   ],
   "source": [
    "svm_fin = make_pipeline(StandardScaler(), SVC(gamma='auto'))\n",
    "svm_fin.fit(X_train, y_train.ravel())\n",
    "svm_fin_pred = svm_fin.predict(X_test)\n",
    "\n",
    "roc_fin_svm = roc_auc_score(y_test, svm_fin.predict(X_test))\n",
    "accuracy_fin_svm = accuracy_score(y_test, svm_fin.predict(X_test))\n",
    "f1_fin_svm = f1_score(y_test, svm_fin.predict(X_test))\n",
    "\n",
    "print('ROCAUC score:',roc_auc_score(y_test, svm_fin.predict(X_test)))\n",
    "print('Accuracy score:',accuracy_score(y_test, svm_fin.predict(X_test)))\n",
    "print('F1 score:',f1_score(y_test, svm_fin.predict(X_test)))"
   ]
  },
  {
   "cell_type": "code",
   "execution_count": 52,
   "id": "f2a7f354",
   "metadata": {},
   "outputs": [
    {
     "data": {
      "text/html": [
       "<div>\n",
       "<style scoped>\n",
       "    .dataframe tbody tr th:only-of-type {\n",
       "        vertical-align: middle;\n",
       "    }\n",
       "\n",
       "    .dataframe tbody tr th {\n",
       "        vertical-align: top;\n",
       "    }\n",
       "\n",
       "    .dataframe thead th {\n",
       "        text-align: right;\n",
       "    }\n",
       "</style>\n",
       "<table border=\"1\" class=\"dataframe\">\n",
       "  <thead>\n",
       "    <tr style=\"text-align: right;\">\n",
       "      <th></th>\n",
       "      <th>Sentiment Analyzer</th>\n",
       "      <th>Accuracy</th>\n",
       "      <th>ROC_UC</th>\n",
       "      <th>F1 Score</th>\n",
       "    </tr>\n",
       "  </thead>\n",
       "  <tbody>\n",
       "    <tr>\n",
       "      <th>Random Forest</th>\n",
       "      <td>FinBERT</td>\n",
       "      <td>0.596774</td>\n",
       "      <td>0.599739</td>\n",
       "      <td>0.583333</td>\n",
       "    </tr>\n",
       "    <tr>\n",
       "      <th>K Nearest Neighbour</th>\n",
       "      <td>FinBERT</td>\n",
       "      <td>0.741935</td>\n",
       "      <td>0.733898</td>\n",
       "      <td>0.785235</td>\n",
       "    </tr>\n",
       "    <tr>\n",
       "      <th>Decision Tree</th>\n",
       "      <td>FinBERT</td>\n",
       "      <td>0.866935</td>\n",
       "      <td>0.860952</td>\n",
       "      <td>0.885813</td>\n",
       "    </tr>\n",
       "    <tr>\n",
       "      <th>Light Gradient Boosting</th>\n",
       "      <td>FinBERT</td>\n",
       "      <td>0.846774</td>\n",
       "      <td>0.843286</td>\n",
       "      <td>0.862319</td>\n",
       "    </tr>\n",
       "    <tr>\n",
       "      <th>SVM</th>\n",
       "      <td>FinBERT</td>\n",
       "      <td>0.540323</td>\n",
       "      <td>0.546675</td>\n",
       "      <td>0.486486</td>\n",
       "    </tr>\n",
       "  </tbody>\n",
       "</table>\n",
       "</div>"
      ],
      "text/plain": [
       "                        Sentiment Analyzer  Accuracy    ROC_UC  F1 Score\n",
       "Random Forest                      FinBERT  0.596774  0.599739  0.583333\n",
       "K Nearest Neighbour                FinBERT  0.741935  0.733898  0.785235\n",
       "Decision Tree                      FinBERT  0.866935  0.860952  0.885813\n",
       "Light Gradient Boosting            FinBERT  0.846774  0.843286  0.862319\n",
       "SVM                                FinBERT  0.540323  0.546675  0.486486"
      ]
     },
     "execution_count": 52,
     "metadata": {},
     "output_type": "execute_result"
    }
   ],
   "source": [
    "Fin_BERT_data={'Sentiment Analyzer':['FinBERT','FinBERT','FinBERT','FinBERT','FinBERT'],'Accuracy':[accuracy_finbert_rf, accuracy_finbert_knn, accuracy_finbert_dt, accuracy_finbert_lgbm,accuracy_fin_svm],'ROC_UC':[roc_finbert_rf, roc_finbert_knn, roc_finbert_dt, roc_finbert_lgbm,roc_fin_svm],'F1 Score':[f1_finbert_rf, f1_finbert_knn, f1_finbert_dt, f1_finbert_lgbm,f1_fin_svm]}\n",
    "\n",
    "Fin_BERT_Results = pd.DataFrame(Fin_BERT_data,index=['Random Forest', 'K Nearest Neighbour', 'Decision Tree', 'Light Gradient Boosting', 'SVM'])\n",
    "\n",
    "Fin_BERT_Results"
   ]
  },
  {
   "cell_type": "markdown",
   "id": "eca26c93",
   "metadata": {},
   "source": [
    "## Section 4.5) NLTK+BERT+finBERT"
   ]
  },
  {
   "cell_type": "code",
   "execution_count": 53,
   "id": "ca2aeecf",
   "metadata": {},
   "outputs": [
    {
     "data": {
      "text/plain": [
       "0      0\n",
       "1      0\n",
       "2      0\n",
       "3      0\n",
       "4      0\n",
       "      ..\n",
       "776    0\n",
       "777    0\n",
       "778    0\n",
       "779    0\n",
       "780    0\n",
       "Name: Label, Length: 781, dtype: int64"
      ]
     },
     "execution_count": 53,
     "metadata": {},
     "output_type": "execute_result"
    }
   ],
   "source": [
    "y = df['Label']\n",
    "y"
   ]
  },
  {
   "cell_type": "code",
   "execution_count": 54,
   "id": "2f695a32",
   "metadata": {},
   "outputs": [
    {
     "data": {
      "text/html": [
       "<div>\n",
       "<style scoped>\n",
       "    .dataframe tbody tr th:only-of-type {\n",
       "        vertical-align: middle;\n",
       "    }\n",
       "\n",
       "    .dataframe tbody tr th {\n",
       "        vertical-align: top;\n",
       "    }\n",
       "\n",
       "    .dataframe thead th {\n",
       "        text-align: right;\n",
       "    }\n",
       "</style>\n",
       "<table border=\"1\" class=\"dataframe\">\n",
       "  <thead>\n",
       "    <tr style=\"text-align: right;\">\n",
       "      <th></th>\n",
       "      <th>NLTK_Negative_Scores</th>\n",
       "      <th>NLTK_Positive_Scores</th>\n",
       "      <th>NLTK_Neutral_Scores</th>\n",
       "      <th>NLTK_compound_Scores</th>\n",
       "      <th>BERT_score</th>\n",
       "      <th>BERT_pos</th>\n",
       "      <th>BERT_neg</th>\n",
       "      <th>BERT_neutr</th>\n",
       "      <th>fin_BERT_score</th>\n",
       "      <th>fin_BERT_pos</th>\n",
       "      <th>fin_BERT_neg</th>\n",
       "      <th>fin_BERT_neutr</th>\n",
       "    </tr>\n",
       "  </thead>\n",
       "  <tbody>\n",
       "    <tr>\n",
       "      <th>0</th>\n",
       "      <td>0.077</td>\n",
       "      <td>0.126</td>\n",
       "      <td>0.797</td>\n",
       "      <td>0.9987</td>\n",
       "      <td>1</td>\n",
       "      <td>0.516302</td>\n",
       "      <td>0.254041</td>\n",
       "      <td>0.122045</td>\n",
       "      <td>1</td>\n",
       "      <td>0.872153</td>\n",
       "      <td>0.058974</td>\n",
       "      <td>0.068873</td>\n",
       "    </tr>\n",
       "    <tr>\n",
       "      <th>1</th>\n",
       "      <td>0.137</td>\n",
       "      <td>0.130</td>\n",
       "      <td>0.733</td>\n",
       "      <td>-0.9800</td>\n",
       "      <td>1</td>\n",
       "      <td>0.592651</td>\n",
       "      <td>0.235079</td>\n",
       "      <td>0.099565</td>\n",
       "      <td>3</td>\n",
       "      <td>0.074567</td>\n",
       "      <td>0.169100</td>\n",
       "      <td>0.756332</td>\n",
       "    </tr>\n",
       "    <tr>\n",
       "      <th>2</th>\n",
       "      <td>0.092</td>\n",
       "      <td>0.159</td>\n",
       "      <td>0.749</td>\n",
       "      <td>0.9995</td>\n",
       "      <td>1</td>\n",
       "      <td>0.482937</td>\n",
       "      <td>0.310596</td>\n",
       "      <td>0.120765</td>\n",
       "      <td>3</td>\n",
       "      <td>0.082285</td>\n",
       "      <td>0.134255</td>\n",
       "      <td>0.783460</td>\n",
       "    </tr>\n",
       "    <tr>\n",
       "      <th>3</th>\n",
       "      <td>0.105</td>\n",
       "      <td>0.138</td>\n",
       "      <td>0.757</td>\n",
       "      <td>0.9966</td>\n",
       "      <td>1</td>\n",
       "      <td>0.802986</td>\n",
       "      <td>0.149463</td>\n",
       "      <td>0.035932</td>\n",
       "      <td>2</td>\n",
       "      <td>0.439414</td>\n",
       "      <td>0.494129</td>\n",
       "      <td>0.066457</td>\n",
       "    </tr>\n",
       "    <tr>\n",
       "      <th>4</th>\n",
       "      <td>0.109</td>\n",
       "      <td>0.146</td>\n",
       "      <td>0.745</td>\n",
       "      <td>0.9975</td>\n",
       "      <td>1</td>\n",
       "      <td>0.663777</td>\n",
       "      <td>0.204110</td>\n",
       "      <td>0.073955</td>\n",
       "      <td>1</td>\n",
       "      <td>0.547651</td>\n",
       "      <td>0.067868</td>\n",
       "      <td>0.384480</td>\n",
       "    </tr>\n",
       "    <tr>\n",
       "      <th>...</th>\n",
       "      <td>...</td>\n",
       "      <td>...</td>\n",
       "      <td>...</td>\n",
       "      <td>...</td>\n",
       "      <td>...</td>\n",
       "      <td>...</td>\n",
       "      <td>...</td>\n",
       "      <td>...</td>\n",
       "      <td>...</td>\n",
       "      <td>...</td>\n",
       "      <td>...</td>\n",
       "      <td>...</td>\n",
       "    </tr>\n",
       "    <tr>\n",
       "      <th>776</th>\n",
       "      <td>0.163</td>\n",
       "      <td>0.215</td>\n",
       "      <td>0.622</td>\n",
       "      <td>0.0258</td>\n",
       "      <td>1</td>\n",
       "      <td>0.272352</td>\n",
       "      <td>0.180845</td>\n",
       "      <td>0.195814</td>\n",
       "      <td>1</td>\n",
       "      <td>0.706466</td>\n",
       "      <td>0.232624</td>\n",
       "      <td>0.060911</td>\n",
       "    </tr>\n",
       "    <tr>\n",
       "      <th>777</th>\n",
       "      <td>0.000</td>\n",
       "      <td>0.401</td>\n",
       "      <td>0.599</td>\n",
       "      <td>0.9246</td>\n",
       "      <td>1</td>\n",
       "      <td>0.542867</td>\n",
       "      <td>0.218562</td>\n",
       "      <td>0.127617</td>\n",
       "      <td>3</td>\n",
       "      <td>0.119102</td>\n",
       "      <td>0.021686</td>\n",
       "      <td>0.859212</td>\n",
       "    </tr>\n",
       "    <tr>\n",
       "      <th>778</th>\n",
       "      <td>0.000</td>\n",
       "      <td>0.464</td>\n",
       "      <td>0.536</td>\n",
       "      <td>0.7783</td>\n",
       "      <td>5</td>\n",
       "      <td>0.015004</td>\n",
       "      <td>0.016946</td>\n",
       "      <td>0.045558</td>\n",
       "      <td>1</td>\n",
       "      <td>0.914551</td>\n",
       "      <td>0.025644</td>\n",
       "      <td>0.059805</td>\n",
       "    </tr>\n",
       "    <tr>\n",
       "      <th>779</th>\n",
       "      <td>0.000</td>\n",
       "      <td>0.239</td>\n",
       "      <td>0.761</td>\n",
       "      <td>0.2960</td>\n",
       "      <td>1</td>\n",
       "      <td>0.288835</td>\n",
       "      <td>0.113718</td>\n",
       "      <td>0.124222</td>\n",
       "      <td>3</td>\n",
       "      <td>0.104133</td>\n",
       "      <td>0.010795</td>\n",
       "      <td>0.885073</td>\n",
       "    </tr>\n",
       "    <tr>\n",
       "      <th>780</th>\n",
       "      <td>0.194</td>\n",
       "      <td>0.158</td>\n",
       "      <td>0.647</td>\n",
       "      <td>-0.1280</td>\n",
       "      <td>2</td>\n",
       "      <td>0.355105</td>\n",
       "      <td>0.433259</td>\n",
       "      <td>0.191705</td>\n",
       "      <td>3</td>\n",
       "      <td>0.063909</td>\n",
       "      <td>0.066104</td>\n",
       "      <td>0.869987</td>\n",
       "    </tr>\n",
       "  </tbody>\n",
       "</table>\n",
       "<p>781 rows × 12 columns</p>\n",
       "</div>"
      ],
      "text/plain": [
       "     NLTK_Negative_Scores  NLTK_Positive_Scores  NLTK_Neutral_Scores  \\\n",
       "0                   0.077                 0.126                0.797   \n",
       "1                   0.137                 0.130                0.733   \n",
       "2                   0.092                 0.159                0.749   \n",
       "3                   0.105                 0.138                0.757   \n",
       "4                   0.109                 0.146                0.745   \n",
       "..                    ...                   ...                  ...   \n",
       "776                 0.163                 0.215                0.622   \n",
       "777                 0.000                 0.401                0.599   \n",
       "778                 0.000                 0.464                0.536   \n",
       "779                 0.000                 0.239                0.761   \n",
       "780                 0.194                 0.158                0.647   \n",
       "\n",
       "     NLTK_compound_Scores  BERT_score  BERT_pos  BERT_neg  BERT_neutr  \\\n",
       "0                  0.9987           1  0.516302  0.254041    0.122045   \n",
       "1                 -0.9800           1  0.592651  0.235079    0.099565   \n",
       "2                  0.9995           1  0.482937  0.310596    0.120765   \n",
       "3                  0.9966           1  0.802986  0.149463    0.035932   \n",
       "4                  0.9975           1  0.663777  0.204110    0.073955   \n",
       "..                    ...         ...       ...       ...         ...   \n",
       "776                0.0258           1  0.272352  0.180845    0.195814   \n",
       "777                0.9246           1  0.542867  0.218562    0.127617   \n",
       "778                0.7783           5  0.015004  0.016946    0.045558   \n",
       "779                0.2960           1  0.288835  0.113718    0.124222   \n",
       "780               -0.1280           2  0.355105  0.433259    0.191705   \n",
       "\n",
       "     fin_BERT_score  fin_BERT_pos  fin_BERT_neg  fin_BERT_neutr  \n",
       "0                 1      0.872153      0.058974        0.068873  \n",
       "1                 3      0.074567      0.169100        0.756332  \n",
       "2                 3      0.082285      0.134255        0.783460  \n",
       "3                 2      0.439414      0.494129        0.066457  \n",
       "4                 1      0.547651      0.067868        0.384480  \n",
       "..              ...           ...           ...             ...  \n",
       "776               1      0.706466      0.232624        0.060911  \n",
       "777               3      0.119102      0.021686        0.859212  \n",
       "778               1      0.914551      0.025644        0.059805  \n",
       "779               3      0.104133      0.010795        0.885073  \n",
       "780               3      0.063909      0.066104        0.869987  \n",
       "\n",
       "[781 rows x 12 columns]"
      ]
     },
     "execution_count": 54,
     "metadata": {},
     "output_type": "execute_result"
    }
   ],
   "source": [
    "X = df.drop(columns=['Date','Label','Processed_Headlines'])\n",
    "X"
   ]
  },
  {
   "cell_type": "code",
   "execution_count": 55,
   "id": "b8273ba6",
   "metadata": {},
   "outputs": [
    {
     "name": "stdout",
     "output_type": "stream",
     "text": [
      "Counter({0: 619, 1: 619})\n"
     ]
    }
   ],
   "source": [
    "\n",
    "# example of random oversampling to balance the class distribution\n",
    "from collections import Counter\n",
    "from sklearn.datasets import make_classification\n",
    "from imblearn.over_sampling import RandomOverSampler\n",
    "\n",
    "#X = X.values.reshape(-1)\n",
    "oversample = RandomOverSampler(sampling_strategy='minority')\n",
    "# fit and apply the transform\n",
    "#X_over, y_over = oversample.fit_resample(X, y)\n",
    "X_over, y_over = oversample.fit_resample(X,y)\n",
    "# summarize class distribution\n",
    "print(Counter(y_over))\n"
   ]
  },
  {
   "cell_type": "code",
   "execution_count": 56,
   "id": "cfbb7095",
   "metadata": {},
   "outputs": [
    {
     "data": {
      "text/plain": [
       "(array([[-0.37651822, -0.46153846,  0.40643275, ...,  0.89144813,\n",
       "         -0.89937439, -0.8921285 ],\n",
       "        [ 0.10931174, -0.44444444,  0.21929825, ..., -0.85941553,\n",
       "         -0.66936818,  0.58986832],\n",
       "        [-0.25506073, -0.32051282,  0.26608187, ..., -0.84247329,\n",
       "         -0.7421449 ,  0.64834868],\n",
       "        ...,\n",
       "        [-0.15789474, -0.34188034,  0.24561404, ..., -0.62076204,\n",
       "          0.39313049, -0.74117866],\n",
       "        [ 0.14979757, -0.42735043,  0.19298246, ..., -0.75360011,\n",
       "         -0.10085812, -0.10084616],\n",
       "        [ 0.08502024, -0.34615385,  0.16081871, ..., -0.95270092,\n",
       "          0.91972853, -0.95874409]]),\n",
       " array([[-1.],\n",
       "        [-1.],\n",
       "        [-1.],\n",
       "        ...,\n",
       "        [ 1.],\n",
       "        [ 1.],\n",
       "        [ 1.]]))"
      ]
     },
     "execution_count": 56,
     "metadata": {},
     "output_type": "execute_result"
    }
   ],
   "source": [
    "# scaling the feature dataset\n",
    "cols=['NLTK_Negative_Scores', 'NLTK_Positive_Scores', 'NLTK_Neutral_Scores', 'NLTK_compound_Scores', 'BERT_score', 'BERT_pos', 'BERT_neg', 'BERT_neutr', 'fin_BERT_score', 'fin_BERT_pos', 'fin_BERT_neg', 'fin_BERT_neutr']\n",
    "scaler_x = preprocessing.MinMaxScaler (feature_range=(-1, 1))\n",
    "X_over = np.array(X_over).reshape((len(X_over) ,len(cols)))\n",
    "X_over = scaler_x.fit_transform(X_over)\n",
    "\n",
    "# scaling the target variable\n",
    "scaler_y = preprocessing.MinMaxScaler (feature_range=(-1, 1))\n",
    "y_over = np.array (y_over).reshape ((len(y_over), 1))\n",
    "y_over = scaler_y.fit_transform (y_over)\n",
    "\n",
    "# displaying the scaled feature dataset and the target variable\n",
    "X_over, y_over\n"
   ]
  },
  {
   "cell_type": "code",
   "execution_count": 57,
   "id": "7e87ab7d",
   "metadata": {},
   "outputs": [
    {
     "name": "stdout",
     "output_type": "stream",
     "text": [
      "Train:  (990, 12) (990, 1) Test:  ((248, 12), (248, 1))\n"
     ]
    }
   ],
   "source": [
    "\n",
    "#Splitting the dataset into train and test sets\n",
    "X_train,X_test,y_train, y_test = train_test_split(X_over,y_over, test_size=0.20, random_state=30)\n",
    "print(\"Train: \",X_train.shape,y_train.shape,\"Test: \",(X_test.shape,y_test.shape))\n"
   ]
  },
  {
   "cell_type": "markdown",
   "id": "d255b8a4",
   "metadata": {},
   "source": [
    "## Section 4.5.1) Random Forest"
   ]
  },
  {
   "cell_type": "code",
   "execution_count": 58,
   "id": "053153c3",
   "metadata": {},
   "outputs": [
    {
     "name": "stdout",
     "output_type": "stream",
     "text": [
      "ROCAUC score: 0.5742503259452412\n",
      "Accuracy score: 0.5766129032258065\n",
      "F1 score: 0.6067415730337079\n"
     ]
    }
   ],
   "source": [
    "#Fitting the Random Forest Classifier\n",
    "clf = RandomForestClassifier(max_depth=2, random_state=0).fit(X_train,y_train.ravel())\n",
    "#clf.fit(X_train, y_train)\n",
    "#Predicting using the Model\n",
    "NLTK_BERT_FIN_rf_pred = clf.predict(X_test)\n",
    "\n",
    "roc_NLTK_BERT_FIN_rf = roc_auc_score(y_test, NLTK_BERT_FIN_rf_pred)\n",
    "accuracy_NLTK_BERT_FIN_rf = accuracy_score(y_test, NLTK_BERT_FIN_rf_pred)\n",
    "f1_NLTK_BERT_FIN_rf = f1_score(y_test, NLTK_BERT_FIN_rf_pred)\n",
    "\n",
    "print('ROCAUC score:',roc_auc_score(y_test, NLTK_BERT_FIN_rf_pred))\n",
    "print('Accuracy score:',accuracy_score(y_test, NLTK_BERT_FIN_rf_pred))\n",
    "print('F1 score:',f1_score(y_test, NLTK_BERT_FIN_rf_pred))"
   ]
  },
  {
   "cell_type": "markdown",
   "id": "245d7fc1",
   "metadata": {},
   "source": [
    "## Section 4.5.2) KNN"
   ]
  },
  {
   "cell_type": "code",
   "execution_count": 59,
   "id": "579d8493",
   "metadata": {},
   "outputs": [
    {
     "name": "stdout",
     "output_type": "stream",
     "text": [
      "ROCAUC score: 0.7073663624511083\n",
      "Accuracy score: 0.7137096774193549\n",
      "F1 score: 0.754325259515571\n"
     ]
    }
   ],
   "source": [
    "#KNN Model to predit Label\n",
    "neigh = KNeighborsClassifier(n_neighbors=3).fit(X_train,y_train.ravel())\n",
    "NLTK_BERT_FIN_knn_pred = neigh.predict(X_test)\n",
    "\n",
    "roc_NLTK_BERT_FIN_knn = roc_auc_score(y_test, NLTK_BERT_FIN_knn_pred)\n",
    "accuracy_NLTK_BERT_FIN_knn = accuracy_score(y_test, NLTK_BERT_FIN_knn_pred)\n",
    "f1_NLTK_BERT_FIN_knn = f1_score(y_test, NLTK_BERT_FIN_knn_pred)\n",
    "\n",
    "print('ROCAUC score:',roc_auc_score(y_test, NLTK_BERT_FIN_knn_pred))\n",
    "print('Accuracy score:',accuracy_score(y_test, NLTK_BERT_FIN_knn_pred))\n",
    "print('F1 score:',f1_score(y_test, NLTK_BERT_FIN_knn_pred))"
   ]
  },
  {
   "cell_type": "markdown",
   "id": "fa4d62f4",
   "metadata": {},
   "source": [
    "## Section 4.5.3) Decision Tree"
   ]
  },
  {
   "cell_type": "code",
   "execution_count": 60,
   "id": "36743b84",
   "metadata": {},
   "outputs": [
    {
     "name": "stdout",
     "output_type": "stream",
     "text": [
      "ROCAUC score: 0.774380704041721\n",
      "Accuracy score: 0.7782258064516129\n",
      "F1 score: 0.8014440433212996\n"
     ]
    }
   ],
   "source": [
    "from sklearn.tree import DecisionTreeClassifier\n",
    "dt_nltk_bert_fin = DecisionTreeClassifier(random_state=0).fit(X_train,y_train)\n",
    "dt_pred_NLTK_BERT_FIN = dt_nltk_bert_fin.predict(X_test)\n",
    "\n",
    "roc_NLTK_BERT_FIN_dt = roc_auc_score(y_test, dt_pred_NLTK_BERT_FIN)\n",
    "accuracy_NLTK_BERT_FIN_dt = accuracy_score(y_test, dt_pred_NLTK_BERT_FIN)\n",
    "f1_NLTK_BERT_FIN_dt = f1_score(y_test, dt_pred_NLTK_BERT_FIN)\n",
    "\n",
    "print('ROCAUC score:',roc_auc_score(y_test, dt_pred_NLTK_BERT_FIN))\n",
    "print('Accuracy score:',accuracy_score(y_test, dt_pred_NLTK_BERT_FIN))\n",
    "print('F1 score:',f1_score(y_test, dt_pred_NLTK_BERT_FIN))"
   ]
  },
  {
   "cell_type": "markdown",
   "id": "1f017396",
   "metadata": {},
   "source": [
    "### Section 4.5.4) Gradient Boosting"
   ]
  },
  {
   "cell_type": "code",
   "execution_count": 61,
   "id": "15420e20",
   "metadata": {
    "scrolled": true
   },
   "outputs": [
    {
     "name": "stdout",
     "output_type": "stream",
     "text": [
      "ROCAUC score: 0.8795306388526728\n",
      "Accuracy score: 0.8790322580645161\n",
      "F1 score: 0.8828125\n"
     ]
    }
   ],
   "source": [
    "lightgbm_nltk_bert_fin = HistGradientBoostingClassifier(max_bins=255,max_iter=100).fit(X_train, y_train.ravel())\n",
    "lightgbm_nltk_bert_fin.score(X_test, y_test)\n",
    "lightgbm_nltk_bert_fin_pred = lightgbm_nltk_bert_fin.predict(X_test)\n",
    "\n",
    "roc_NLTK_BERT_FIN_lgbm = roc_auc_score(y_test, lightgbm_nltk_bert_fin_pred)\n",
    "accuracy_NLTK_BERT_FIN_lgbm = accuracy_score(y_test, lightgbm_nltk_bert_fin_pred)\n",
    "f1_NLTK_BERT_FIN_lgbm = f1_score(y_test, lightgbm_nltk_bert_fin_pred)\n",
    "\n",
    "print('ROCAUC score:',roc_auc_score(y_test, lightgbm_nltk_bert_fin_pred))\n",
    "print('Accuracy score:',accuracy_score(y_test, lightgbm_nltk_bert_fin_pred))\n",
    "print('F1 score:',f1_score(y_test, lightgbm_nltk_bert_fin_pred))"
   ]
  },
  {
   "cell_type": "markdown",
   "id": "1bd1d463",
   "metadata": {},
   "source": [
    "### Section 4.5.5) Support Vector Machine"
   ]
  },
  {
   "cell_type": "code",
   "execution_count": 62,
   "id": "820aa586",
   "metadata": {},
   "outputs": [
    {
     "name": "stdout",
     "output_type": "stream",
     "text": [
      "ROCAUC score: 0.6154498044328552\n",
      "Accuracy score: 0.6169354838709677\n",
      "F1 score: 0.6387832699619771\n"
     ]
    }
   ],
   "source": [
    "svm_nltk_bert_fin = make_pipeline(StandardScaler(), SVC(gamma='auto'))\n",
    "svm_nltk_bert_fin.fit(X_train, y_train.ravel())\n",
    "svm_nltk_bert_fin_pred = svm_nltk_bert_fin.predict(X_test)\n",
    "\n",
    "roc_nltk_bert_fin_svm = roc_auc_score(y_test, svm_nltk_bert_fin.predict(X_test))\n",
    "accuracy_nltk_bert_fin_svm = accuracy_score(y_test, svm_nltk_bert_fin.predict(X_test))\n",
    "f1_nltk_bert_fin_svm = f1_score(y_test, svm_nltk_bert_fin.predict(X_test))\n",
    "\n",
    "print('ROCAUC score:',roc_auc_score(y_test, svm_nltk_bert_fin.predict(X_test)))\n",
    "print('Accuracy score:',accuracy_score(y_test, svm_nltk_bert_fin.predict(X_test)))\n",
    "print('F1 score:',f1_score(y_test, svm_nltk_bert_fin.predict(X_test)))"
   ]
  },
  {
   "cell_type": "code",
   "execution_count": 63,
   "id": "9bbe425f",
   "metadata": {},
   "outputs": [
    {
     "data": {
      "text/html": [
       "<div>\n",
       "<style scoped>\n",
       "    .dataframe tbody tr th:only-of-type {\n",
       "        vertical-align: middle;\n",
       "    }\n",
       "\n",
       "    .dataframe tbody tr th {\n",
       "        vertical-align: top;\n",
       "    }\n",
       "\n",
       "    .dataframe thead th {\n",
       "        text-align: right;\n",
       "    }\n",
       "</style>\n",
       "<table border=\"1\" class=\"dataframe\">\n",
       "  <thead>\n",
       "    <tr style=\"text-align: right;\">\n",
       "      <th></th>\n",
       "      <th>Sentiment Analyzer</th>\n",
       "      <th>Accuracy</th>\n",
       "      <th>ROC_UC</th>\n",
       "      <th>F1 Score</th>\n",
       "    </tr>\n",
       "  </thead>\n",
       "  <tbody>\n",
       "    <tr>\n",
       "      <th>Random Forest</th>\n",
       "      <td>NLTK+BERT+FinBERT</td>\n",
       "      <td>0.576613</td>\n",
       "      <td>0.574250</td>\n",
       "      <td>0.606742</td>\n",
       "    </tr>\n",
       "    <tr>\n",
       "      <th>K Nearest Neighbour</th>\n",
       "      <td>NLTK+BERT+FinBERT</td>\n",
       "      <td>0.713710</td>\n",
       "      <td>0.707366</td>\n",
       "      <td>0.754325</td>\n",
       "    </tr>\n",
       "    <tr>\n",
       "      <th>Decision Tree</th>\n",
       "      <td>NLTK+BERT+FinBERT</td>\n",
       "      <td>0.778226</td>\n",
       "      <td>0.774381</td>\n",
       "      <td>0.801444</td>\n",
       "    </tr>\n",
       "    <tr>\n",
       "      <th>Light Gradient Boosting</th>\n",
       "      <td>NLTK+BERT+FinBERT</td>\n",
       "      <td>0.879032</td>\n",
       "      <td>0.879531</td>\n",
       "      <td>0.882812</td>\n",
       "    </tr>\n",
       "    <tr>\n",
       "      <th>SVM</th>\n",
       "      <td>NLTK+BERT+FinBERT</td>\n",
       "      <td>0.616935</td>\n",
       "      <td>0.615450</td>\n",
       "      <td>0.638783</td>\n",
       "    </tr>\n",
       "  </tbody>\n",
       "</table>\n",
       "</div>"
      ],
      "text/plain": [
       "                        Sentiment Analyzer  Accuracy    ROC_UC  F1 Score\n",
       "Random Forest            NLTK+BERT+FinBERT  0.576613  0.574250  0.606742\n",
       "K Nearest Neighbour      NLTK+BERT+FinBERT  0.713710  0.707366  0.754325\n",
       "Decision Tree            NLTK+BERT+FinBERT  0.778226  0.774381  0.801444\n",
       "Light Gradient Boosting  NLTK+BERT+FinBERT  0.879032  0.879531  0.882812\n",
       "SVM                      NLTK+BERT+FinBERT  0.616935  0.615450  0.638783"
      ]
     },
     "execution_count": 63,
     "metadata": {},
     "output_type": "execute_result"
    }
   ],
   "source": [
    "NLTK_BERT_FinBERT_data={'Sentiment Analyzer':['NLTK+BERT+FinBERT','NLTK+BERT+FinBERT','NLTK+BERT+FinBERT','NLTK+BERT+FinBERT','NLTK+BERT+FinBERT'],'Accuracy':[accuracy_NLTK_BERT_FIN_rf, accuracy_NLTK_BERT_FIN_knn, accuracy_NLTK_BERT_FIN_dt, accuracy_NLTK_BERT_FIN_lgbm,accuracy_nltk_bert_fin_svm],'ROC_UC':[roc_NLTK_BERT_FIN_rf, roc_NLTK_BERT_FIN_knn, roc_NLTK_BERT_FIN_dt, roc_NLTK_BERT_FIN_lgbm,roc_nltk_bert_fin_svm],'F1 Score':[f1_NLTK_BERT_FIN_rf, f1_NLTK_BERT_FIN_knn, f1_NLTK_BERT_FIN_dt, f1_NLTK_BERT_FIN_lgbm,f1_nltk_bert_fin_svm]}\n",
    "\n",
    "NLTK_BERT_FinBERT_Results = pd.DataFrame(NLTK_BERT_FinBERT_data,index=['Random Forest', 'K Nearest Neighbour', 'Decision Tree', 'Light Gradient Boosting', 'SVM'])\n",
    "\n",
    "NLTK_BERT_FinBERT_Results"
   ]
  },
  {
   "cell_type": "code",
   "execution_count": 64,
   "id": "4510bae4",
   "metadata": {
    "scrolled": true
   },
   "outputs": [
    {
     "data": {
      "text/plain": [
       "[<matplotlib.lines.Line2D at 0x18801a9cfa0>]"
      ]
     },
     "execution_count": 64,
     "metadata": {},
     "output_type": "execute_result"
    },
    {
     "data": {
      "image/png": "[encoded data removed]",
      "text/plain": [
       "<Figure size 360x360 with 1 Axes>"
      ]
     },
     "metadata": {},
     "output_type": "display_data"
    }
   ],
   "source": [
    "from plot_metric.functions import BinaryClassification\n",
    "# Visualisation with plot_metric\n",
    "bc = BinaryClassification(y_test, lightgbm_nltk_pred, labels=[\"Class 1\", \"Class 2\"])\n",
    "# Figures\n",
    "plt.figure(figsize=(5,5))\n",
    "bc.plot_roc_curve()\n",
    "plt.plot(\"Light GBM\")"
   ]
  },
  {
   "cell_type": "code",
   "execution_count": 65,
   "id": "c8a0c8ad",
   "metadata": {},
   "outputs": [
    {
     "data": {
      "text/html": [
       "<style type=\"text/css\">\n",
       "</style>\n",
       "<table id=\"T_711fb\" style=\"font-size: 18px\">\n",
       "  <thead>\n",
       "    <tr>\n",
       "      <th class=\"blank level0\" >&nbsp;</th>\n",
       "      <th id=\"T_711fb_level0_col0\" class=\"col_heading level0 col0\" >Sentiment Analyzer</th>\n",
       "      <th id=\"T_711fb_level0_col1\" class=\"col_heading level0 col1\" >Accuracy</th>\n",
       "      <th id=\"T_711fb_level0_col2\" class=\"col_heading level0 col2\" >ROC_UC</th>\n",
       "      <th id=\"T_711fb_level0_col3\" class=\"col_heading level0 col3\" >F1 Score</th>\n",
       "    </tr>\n",
       "  </thead>\n",
       "  <tbody>\n",
       "    <tr>\n",
       "      <th id=\"T_711fb_level0_row0\" class=\"row_heading level0 row0\" >Random Forest</th>\n",
       "      <td id=\"T_711fb_row0_col0\" class=\"data row0 col0\" >NLTK</td>\n",
       "      <td id=\"T_711fb_row0_col1\" class=\"data row0 col1\" >0.548387</td>\n",
       "      <td id=\"T_711fb_row0_col2\" class=\"data row0 col2\" >0.546936</td>\n",
       "      <td id=\"T_711fb_row0_col3\" class=\"data row0 col3\" >0.572519</td>\n",
       "    </tr>\n",
       "    <tr>\n",
       "      <th id=\"T_711fb_level0_row1\" class=\"row_heading level0 row1\" >K Nearest Neighbour</th>\n",
       "      <td id=\"T_711fb_row1_col0\" class=\"data row1 col0\" >NLTK</td>\n",
       "      <td id=\"T_711fb_row1_col1\" class=\"data row1 col1\" >0.705645</td>\n",
       "      <td id=\"T_711fb_row1_col2\" class=\"data row1 col2\" >0.699283</td>\n",
       "      <td id=\"T_711fb_row1_col3\" class=\"data row1 col3\" >0.747405</td>\n",
       "    </tr>\n",
       "    <tr>\n",
       "      <th id=\"T_711fb_level0_row2\" class=\"row_heading level0 row2\" >Decision Tree</th>\n",
       "      <td id=\"T_711fb_row2_col0\" class=\"data row2 col0\" >NLTK</td>\n",
       "      <td id=\"T_711fb_row2_col1\" class=\"data row2 col1\" >0.862903</td>\n",
       "      <td id=\"T_711fb_row2_col2\" class=\"data row2 col2\" >0.857497</td>\n",
       "      <td id=\"T_711fb_row2_col3\" class=\"data row2 col3\" >0.881119</td>\n",
       "    </tr>\n",
       "    <tr>\n",
       "      <th id=\"T_711fb_level0_row3\" class=\"row_heading level0 row3\" >Light Gradient Boosting</th>\n",
       "      <td id=\"T_711fb_row3_col0\" class=\"data row3 col0\" >NLTK</td>\n",
       "      <td id=\"T_711fb_row3_col1\" class=\"data row3 col1\" >0.838710</td>\n",
       "      <td id=\"T_711fb_row3_col2\" class=\"data row3 col2\" >0.833638</td>\n",
       "      <td id=\"T_711fb_row3_col3\" class=\"data row3 col3\" >0.859155</td>\n",
       "    </tr>\n",
       "    <tr>\n",
       "      <th id=\"T_711fb_level0_row4\" class=\"row_heading level0 row4\" >SVM</th>\n",
       "      <td id=\"T_711fb_row4_col0\" class=\"data row4 col0\" >NLTK</td>\n",
       "      <td id=\"T_711fb_row4_col1\" class=\"data row4 col1\" >0.552419</td>\n",
       "      <td id=\"T_711fb_row4_col2\" class=\"data row4 col2\" >0.551956</td>\n",
       "      <td id=\"T_711fb_row4_col3\" class=\"data row4 col3\" >0.568093</td>\n",
       "    </tr>\n",
       "  </tbody>\n",
       "</table>\n"
      ],
      "text/plain": [
       "<pandas.io.formats.style.Styler at 0x188001b5a90>"
      ]
     },
     "execution_count": 65,
     "metadata": {},
     "output_type": "execute_result"
    }
   ],
   "source": [
    "NLTK_Results\n",
    "NLTK_Results.style.set_table_attributes('style=\"font-size: 18px\"')"
   ]
  },
  {
   "cell_type": "code",
   "execution_count": 66,
   "id": "220dba70",
   "metadata": {},
   "outputs": [
    {
     "data": {
      "text/html": [
       "<style type=\"text/css\">\n",
       "</style>\n",
       "<table id=\"T_f5f2d\" style=\"font-size: 18px\">\n",
       "  <thead>\n",
       "    <tr>\n",
       "      <th class=\"blank level0\" >&nbsp;</th>\n",
       "      <th id=\"T_f5f2d_level0_col0\" class=\"col_heading level0 col0\" >Sentiment Analyzer</th>\n",
       "      <th id=\"T_f5f2d_level0_col1\" class=\"col_heading level0 col1\" >Accuracy</th>\n",
       "      <th id=\"T_f5f2d_level0_col2\" class=\"col_heading level0 col2\" >ROC_UC</th>\n",
       "      <th id=\"T_f5f2d_level0_col3\" class=\"col_heading level0 col3\" >F1 Score</th>\n",
       "    </tr>\n",
       "  </thead>\n",
       "  <tbody>\n",
       "    <tr>\n",
       "      <th id=\"T_f5f2d_level0_row0\" class=\"row_heading level0 row0\" >Random Forest</th>\n",
       "      <td id=\"T_f5f2d_row0_col0\" class=\"data row0 col0\" >BERT</td>\n",
       "      <td id=\"T_f5f2d_row0_col1\" class=\"data row0 col1\" >0.548387</td>\n",
       "      <td id=\"T_f5f2d_row0_col2\" class=\"data row0 col2\" >0.544980</td>\n",
       "      <td id=\"T_f5f2d_row0_col3\" class=\"data row0 col3\" >0.588235</td>\n",
       "    </tr>\n",
       "    <tr>\n",
       "      <th id=\"T_f5f2d_level0_row1\" class=\"row_heading level0 row1\" >K Nearest Neighbour</th>\n",
       "      <td id=\"T_f5f2d_row1_col0\" class=\"data row1 col0\" >BERT</td>\n",
       "      <td id=\"T_f5f2d_row1_col1\" class=\"data row1 col1\" >0.729839</td>\n",
       "      <td id=\"T_f5f2d_row1_col2\" class=\"data row1 col2\" >0.721969</td>\n",
       "      <td id=\"T_f5f2d_row1_col3\" class=\"data row1 col3\" >0.774411</td>\n",
       "    </tr>\n",
       "    <tr>\n",
       "      <th id=\"T_f5f2d_level0_row2\" class=\"row_heading level0 row2\" >Decision Tree</th>\n",
       "      <td id=\"T_f5f2d_row2_col0\" class=\"data row2 col0\" >BERT</td>\n",
       "      <td id=\"T_f5f2d_row2_col1\" class=\"data row2 col1\" >0.846774</td>\n",
       "      <td id=\"T_f5f2d_row2_col2\" class=\"data row2 col2\" >0.842112</td>\n",
       "      <td id=\"T_f5f2d_row2_col3\" class=\"data row2 col3\" >0.865248</td>\n",
       "    </tr>\n",
       "    <tr>\n",
       "      <th id=\"T_f5f2d_level0_row3\" class=\"row_heading level0 row3\" >Light Gradient Boosting</th>\n",
       "      <td id=\"T_f5f2d_row3_col0\" class=\"data row3 col0\" >BERT</td>\n",
       "      <td id=\"T_f5f2d_row3_col1\" class=\"data row3 col1\" >0.814516</td>\n",
       "      <td id=\"T_f5f2d_row3_col2\" class=\"data row3 col2\" >0.810952</td>\n",
       "      <td id=\"T_f5f2d_row3_col3\" class=\"data row3 col3\" >0.833333</td>\n",
       "    </tr>\n",
       "    <tr>\n",
       "      <th id=\"T_f5f2d_level0_row4\" class=\"row_heading level0 row4\" >SVM</th>\n",
       "      <td id=\"T_f5f2d_row4_col0\" class=\"data row4 col0\" >BERT</td>\n",
       "      <td id=\"T_f5f2d_row4_col1\" class=\"data row4 col1\" >0.552419</td>\n",
       "      <td id=\"T_f5f2d_row4_col2\" class=\"data row4 col2\" >0.550391</td>\n",
       "      <td id=\"T_f5f2d_row4_col3\" class=\"data row4 col3\" >0.581132</td>\n",
       "    </tr>\n",
       "  </tbody>\n",
       "</table>\n"
      ],
      "text/plain": [
       "<pandas.io.formats.style.Styler at 0x18801e39c40>"
      ]
     },
     "execution_count": 66,
     "metadata": {},
     "output_type": "execute_result"
    }
   ],
   "source": [
    "BERT_Results\n",
    "BERT_Results.style.set_table_attributes('style=\"font-size: 18px\"')"
   ]
  },
  {
   "cell_type": "code",
   "execution_count": 67,
   "id": "f1a11c61",
   "metadata": {},
   "outputs": [
    {
     "data": {
      "text/html": [
       "<style type=\"text/css\">\n",
       "</style>\n",
       "<table id=\"T_a7f97\" style=\"font-size: 18px\">\n",
       "  <thead>\n",
       "    <tr>\n",
       "      <th class=\"blank level0\" >&nbsp;</th>\n",
       "      <th id=\"T_a7f97_level0_col0\" class=\"col_heading level0 col0\" >Sentiment Analyzer</th>\n",
       "      <th id=\"T_a7f97_level0_col1\" class=\"col_heading level0 col1\" >Accuracy</th>\n",
       "      <th id=\"T_a7f97_level0_col2\" class=\"col_heading level0 col2\" >ROC_UC</th>\n",
       "      <th id=\"T_a7f97_level0_col3\" class=\"col_heading level0 col3\" >F1 Score</th>\n",
       "    </tr>\n",
       "  </thead>\n",
       "  <tbody>\n",
       "    <tr>\n",
       "      <th id=\"T_a7f97_level0_row0\" class=\"row_heading level0 row0\" >Random Forest</th>\n",
       "      <td id=\"T_a7f97_row0_col0\" class=\"data row0 col0\" >NLTK+BERT</td>\n",
       "      <td id=\"T_a7f97_row0_col1\" class=\"data row0 col1\" >0.580645</td>\n",
       "      <td id=\"T_a7f97_row0_col2\" class=\"data row0 col2\" >0.578488</td>\n",
       "      <td id=\"T_a7f97_row0_col3\" class=\"data row0 col3\" >0.609023</td>\n",
       "    </tr>\n",
       "    <tr>\n",
       "      <th id=\"T_a7f97_level0_row1\" class=\"row_heading level0 row1\" >K Nearest Neighbour</th>\n",
       "      <td id=\"T_a7f97_row1_col0\" class=\"data row1 col0\" >NLTK+BERT</td>\n",
       "      <td id=\"T_a7f97_row1_col1\" class=\"data row1 col1\" >0.733871</td>\n",
       "      <td id=\"T_a7f97_row1_col2\" class=\"data row1 col2\" >0.728162</td>\n",
       "      <td id=\"T_a7f97_row1_col3\" class=\"data row1 col3\" >0.769231</td>\n",
       "    </tr>\n",
       "    <tr>\n",
       "      <th id=\"T_a7f97_level0_row2\" class=\"row_heading level0 row2\" >Decision Tree</th>\n",
       "      <td id=\"T_a7f97_row2_col0\" class=\"data row2 col0\" >NLTK+BERT</td>\n",
       "      <td id=\"T_a7f97_row2_col1\" class=\"data row2 col1\" >0.875000</td>\n",
       "      <td id=\"T_a7f97_row2_col2\" class=\"data row2 col2\" >0.869817</td>\n",
       "      <td id=\"T_a7f97_row2_col3\" class=\"data row2 col3\" >0.891228</td>\n",
       "    </tr>\n",
       "    <tr>\n",
       "      <th id=\"T_a7f97_level0_row3\" class=\"row_heading level0 row3\" >Light Gradient Boosting</th>\n",
       "      <td id=\"T_a7f97_row3_col0\" class=\"data row3 col0\" >NLTK+BERT</td>\n",
       "      <td id=\"T_a7f97_row3_col1\" class=\"data row3 col1\" >0.899194</td>\n",
       "      <td id=\"T_a7f97_row3_col2\" class=\"data row3 col2\" >0.895241</td>\n",
       "      <td id=\"T_a7f97_row3_col3\" class=\"data row3 col3\" >0.910394</td>\n",
       "    </tr>\n",
       "    <tr>\n",
       "      <th id=\"T_a7f97_level0_row4\" class=\"row_heading level0 row4\" >SVM</th>\n",
       "      <td id=\"T_a7f97_row4_col0\" class=\"data row4 col0\" >NLTK+BERT</td>\n",
       "      <td id=\"T_a7f97_row4_col1\" class=\"data row4 col1\" >0.528226</td>\n",
       "      <td id=\"T_a7f97_row4_col2\" class=\"data row4 col2\" >0.524576</td>\n",
       "      <td id=\"T_a7f97_row4_col3\" class=\"data row4 col3\" >0.571429</td>\n",
       "    </tr>\n",
       "  </tbody>\n",
       "</table>\n"
      ],
      "text/plain": [
       "<pandas.io.formats.style.Styler at 0x18801e39580>"
      ]
     },
     "execution_count": 67,
     "metadata": {},
     "output_type": "execute_result"
    }
   ],
   "source": [
    "NLTK_BERT_Results\n",
    "NLTK_BERT_Results.style.set_table_attributes('style=\"font-size: 18px\"')"
   ]
  },
  {
   "cell_type": "code",
   "execution_count": 68,
   "id": "59de7c23",
   "metadata": {},
   "outputs": [
    {
     "data": {
      "text/html": [
       "<style type=\"text/css\">\n",
       "</style>\n",
       "<table id=\"T_01e83\" style=\"font-size: 18px\">\n",
       "  <thead>\n",
       "    <tr>\n",
       "      <th class=\"blank level0\" >&nbsp;</th>\n",
       "      <th id=\"T_01e83_level0_col0\" class=\"col_heading level0 col0\" >Sentiment Analyzer</th>\n",
       "      <th id=\"T_01e83_level0_col1\" class=\"col_heading level0 col1\" >Accuracy</th>\n",
       "      <th id=\"T_01e83_level0_col2\" class=\"col_heading level0 col2\" >ROC_UC</th>\n",
       "      <th id=\"T_01e83_level0_col3\" class=\"col_heading level0 col3\" >F1 Score</th>\n",
       "    </tr>\n",
       "  </thead>\n",
       "  <tbody>\n",
       "    <tr>\n",
       "      <th id=\"T_01e83_level0_row0\" class=\"row_heading level0 row0\" >Random Forest</th>\n",
       "      <td id=\"T_01e83_row0_col0\" class=\"data row0 col0\" >FinBERT</td>\n",
       "      <td id=\"T_01e83_row0_col1\" class=\"data row0 col1\" >0.596774</td>\n",
       "      <td id=\"T_01e83_row0_col2\" class=\"data row0 col2\" >0.599739</td>\n",
       "      <td id=\"T_01e83_row0_col3\" class=\"data row0 col3\" >0.583333</td>\n",
       "    </tr>\n",
       "    <tr>\n",
       "      <th id=\"T_01e83_level0_row1\" class=\"row_heading level0 row1\" >K Nearest Neighbour</th>\n",
       "      <td id=\"T_01e83_row1_col0\" class=\"data row1 col0\" >FinBERT</td>\n",
       "      <td id=\"T_01e83_row1_col1\" class=\"data row1 col1\" >0.741935</td>\n",
       "      <td id=\"T_01e83_row1_col2\" class=\"data row1 col2\" >0.733898</td>\n",
       "      <td id=\"T_01e83_row1_col3\" class=\"data row1 col3\" >0.785235</td>\n",
       "    </tr>\n",
       "    <tr>\n",
       "      <th id=\"T_01e83_level0_row2\" class=\"row_heading level0 row2\" >Decision Tree</th>\n",
       "      <td id=\"T_01e83_row2_col0\" class=\"data row2 col0\" >FinBERT</td>\n",
       "      <td id=\"T_01e83_row2_col1\" class=\"data row2 col1\" >0.866935</td>\n",
       "      <td id=\"T_01e83_row2_col2\" class=\"data row2 col2\" >0.860952</td>\n",
       "      <td id=\"T_01e83_row2_col3\" class=\"data row2 col3\" >0.885813</td>\n",
       "    </tr>\n",
       "    <tr>\n",
       "      <th id=\"T_01e83_level0_row3\" class=\"row_heading level0 row3\" >Light Gradient Boosting</th>\n",
       "      <td id=\"T_01e83_row3_col0\" class=\"data row3 col0\" >FinBERT</td>\n",
       "      <td id=\"T_01e83_row3_col1\" class=\"data row3 col1\" >0.846774</td>\n",
       "      <td id=\"T_01e83_row3_col2\" class=\"data row3 col2\" >0.843286</td>\n",
       "      <td id=\"T_01e83_row3_col3\" class=\"data row3 col3\" >0.862319</td>\n",
       "    </tr>\n",
       "    <tr>\n",
       "      <th id=\"T_01e83_level0_row4\" class=\"row_heading level0 row4\" >SVM</th>\n",
       "      <td id=\"T_01e83_row4_col0\" class=\"data row4 col0\" >FinBERT</td>\n",
       "      <td id=\"T_01e83_row4_col1\" class=\"data row4 col1\" >0.540323</td>\n",
       "      <td id=\"T_01e83_row4_col2\" class=\"data row4 col2\" >0.546675</td>\n",
       "      <td id=\"T_01e83_row4_col3\" class=\"data row4 col3\" >0.486486</td>\n",
       "    </tr>\n",
       "  </tbody>\n",
       "</table>\n"
      ],
      "text/plain": [
       "<pandas.io.formats.style.Styler at 0x188020114f0>"
      ]
     },
     "execution_count": 68,
     "metadata": {},
     "output_type": "execute_result"
    }
   ],
   "source": [
    "Fin_BERT_Results\n",
    "Fin_BERT_Results.style.set_table_attributes('style=\"font-size: 18px\"')"
   ]
  },
  {
   "cell_type": "code",
   "execution_count": 69,
   "id": "87400639",
   "metadata": {
    "scrolled": true
   },
   "outputs": [
    {
     "data": {
      "text/html": [
       "<style type=\"text/css\">\n",
       "</style>\n",
       "<table id=\"T_a197d\" style=\"font-size: 18px\">\n",
       "  <thead>\n",
       "    <tr>\n",
       "      <th class=\"blank level0\" >&nbsp;</th>\n",
       "      <th id=\"T_a197d_level0_col0\" class=\"col_heading level0 col0\" >Sentiment Analyzer</th>\n",
       "      <th id=\"T_a197d_level0_col1\" class=\"col_heading level0 col1\" >Accuracy</th>\n",
       "      <th id=\"T_a197d_level0_col2\" class=\"col_heading level0 col2\" >ROC_UC</th>\n",
       "      <th id=\"T_a197d_level0_col3\" class=\"col_heading level0 col3\" >F1 Score</th>\n",
       "    </tr>\n",
       "  </thead>\n",
       "  <tbody>\n",
       "    <tr>\n",
       "      <th id=\"T_a197d_level0_row0\" class=\"row_heading level0 row0\" >Random Forest</th>\n",
       "      <td id=\"T_a197d_row0_col0\" class=\"data row0 col0\" >NLTK+BERT+FinBERT</td>\n",
       "      <td id=\"T_a197d_row0_col1\" class=\"data row0 col1\" >0.576613</td>\n",
       "      <td id=\"T_a197d_row0_col2\" class=\"data row0 col2\" >0.574250</td>\n",
       "      <td id=\"T_a197d_row0_col3\" class=\"data row0 col3\" >0.606742</td>\n",
       "    </tr>\n",
       "    <tr>\n",
       "      <th id=\"T_a197d_level0_row1\" class=\"row_heading level0 row1\" >K Nearest Neighbour</th>\n",
       "      <td id=\"T_a197d_row1_col0\" class=\"data row1 col0\" >NLTK+BERT+FinBERT</td>\n",
       "      <td id=\"T_a197d_row1_col1\" class=\"data row1 col1\" >0.713710</td>\n",
       "      <td id=\"T_a197d_row1_col2\" class=\"data row1 col2\" >0.707366</td>\n",
       "      <td id=\"T_a197d_row1_col3\" class=\"data row1 col3\" >0.754325</td>\n",
       "    </tr>\n",
       "    <tr>\n",
       "      <th id=\"T_a197d_level0_row2\" class=\"row_heading level0 row2\" >Decision Tree</th>\n",
       "      <td id=\"T_a197d_row2_col0\" class=\"data row2 col0\" >NLTK+BERT+FinBERT</td>\n",
       "      <td id=\"T_a197d_row2_col1\" class=\"data row2 col1\" >0.778226</td>\n",
       "      <td id=\"T_a197d_row2_col2\" class=\"data row2 col2\" >0.774381</td>\n",
       "      <td id=\"T_a197d_row2_col3\" class=\"data row2 col3\" >0.801444</td>\n",
       "    </tr>\n",
       "    <tr>\n",
       "      <th id=\"T_a197d_level0_row3\" class=\"row_heading level0 row3\" >Light Gradient Boosting</th>\n",
       "      <td id=\"T_a197d_row3_col0\" class=\"data row3 col0\" >NLTK+BERT+FinBERT</td>\n",
       "      <td id=\"T_a197d_row3_col1\" class=\"data row3 col1\" >0.879032</td>\n",
       "      <td id=\"T_a197d_row3_col2\" class=\"data row3 col2\" >0.879531</td>\n",
       "      <td id=\"T_a197d_row3_col3\" class=\"data row3 col3\" >0.882812</td>\n",
       "    </tr>\n",
       "    <tr>\n",
       "      <th id=\"T_a197d_level0_row4\" class=\"row_heading level0 row4\" >SVM</th>\n",
       "      <td id=\"T_a197d_row4_col0\" class=\"data row4 col0\" >NLTK+BERT+FinBERT</td>\n",
       "      <td id=\"T_a197d_row4_col1\" class=\"data row4 col1\" >0.616935</td>\n",
       "      <td id=\"T_a197d_row4_col2\" class=\"data row4 col2\" >0.615450</td>\n",
       "      <td id=\"T_a197d_row4_col3\" class=\"data row4 col3\" >0.638783</td>\n",
       "    </tr>\n",
       "  </tbody>\n",
       "</table>\n"
      ],
      "text/plain": [
       "<pandas.io.formats.style.Styler at 0x18802011af0>"
      ]
     },
     "execution_count": 69,
     "metadata": {},
     "output_type": "execute_result"
    }
   ],
   "source": [
    "NLTK_BERT_FinBERT_Results\n",
    "NLTK_BERT_FinBERT_Results.style.set_table_attributes('style=\"font-size: 18px\"')"
   ]
  },
  {
   "cell_type": "code",
   "execution_count": 70,
   "id": "1618fe43",
   "metadata": {
    "scrolled": false
   },
   "outputs": [
    {
     "data": {
      "text/html": [
       "<div>\n",
       "<style scoped>\n",
       "    .dataframe tbody tr th:only-of-type {\n",
       "        vertical-align: middle;\n",
       "    }\n",
       "\n",
       "    .dataframe tbody tr th {\n",
       "        vertical-align: top;\n",
       "    }\n",
       "\n",
       "    .dataframe thead th {\n",
       "        text-align: right;\n",
       "    }\n",
       "</style>\n",
       "<table border=\"1\" class=\"dataframe\">\n",
       "  <thead>\n",
       "    <tr style=\"text-align: right;\">\n",
       "      <th></th>\n",
       "      <th>Sentiment Analyzer</th>\n",
       "      <th>Accuracy</th>\n",
       "      <th>ROC_UC</th>\n",
       "      <th>F1 Score</th>\n",
       "    </tr>\n",
       "    <tr>\n",
       "      <th>Classification Approach</th>\n",
       "      <th></th>\n",
       "      <th></th>\n",
       "      <th></th>\n",
       "      <th></th>\n",
       "    </tr>\n",
       "  </thead>\n",
       "  <tbody>\n",
       "    <tr>\n",
       "      <th>Random Forest</th>\n",
       "      <td>NLTK</td>\n",
       "      <td>0.548387</td>\n",
       "      <td>0.546936</td>\n",
       "      <td>0.572519</td>\n",
       "    </tr>\n",
       "    <tr>\n",
       "      <th>K Nearest Neighbour</th>\n",
       "      <td>NLTK</td>\n",
       "      <td>0.705645</td>\n",
       "      <td>0.699283</td>\n",
       "      <td>0.747405</td>\n",
       "    </tr>\n",
       "    <tr>\n",
       "      <th>Decision Tree</th>\n",
       "      <td>NLTK</td>\n",
       "      <td>0.862903</td>\n",
       "      <td>0.857497</td>\n",
       "      <td>0.881119</td>\n",
       "    </tr>\n",
       "    <tr>\n",
       "      <th>Light Gradient Boosting</th>\n",
       "      <td>NLTK</td>\n",
       "      <td>0.838710</td>\n",
       "      <td>0.833638</td>\n",
       "      <td>0.859155</td>\n",
       "    </tr>\n",
       "    <tr>\n",
       "      <th>SVM</th>\n",
       "      <td>NLTK</td>\n",
       "      <td>0.552419</td>\n",
       "      <td>0.551956</td>\n",
       "      <td>0.568093</td>\n",
       "    </tr>\n",
       "    <tr>\n",
       "      <th>Random Forest</th>\n",
       "      <td>BERT</td>\n",
       "      <td>0.548387</td>\n",
       "      <td>0.544980</td>\n",
       "      <td>0.588235</td>\n",
       "    </tr>\n",
       "    <tr>\n",
       "      <th>K Nearest Neighbour</th>\n",
       "      <td>BERT</td>\n",
       "      <td>0.729839</td>\n",
       "      <td>0.721969</td>\n",
       "      <td>0.774411</td>\n",
       "    </tr>\n",
       "    <tr>\n",
       "      <th>Decision Tree</th>\n",
       "      <td>BERT</td>\n",
       "      <td>0.846774</td>\n",
       "      <td>0.842112</td>\n",
       "      <td>0.865248</td>\n",
       "    </tr>\n",
       "    <tr>\n",
       "      <th>Light Gradient Boosting</th>\n",
       "      <td>BERT</td>\n",
       "      <td>0.814516</td>\n",
       "      <td>0.810952</td>\n",
       "      <td>0.833333</td>\n",
       "    </tr>\n",
       "    <tr>\n",
       "      <th>SVM</th>\n",
       "      <td>BERT</td>\n",
       "      <td>0.552419</td>\n",
       "      <td>0.550391</td>\n",
       "      <td>0.581132</td>\n",
       "    </tr>\n",
       "    <tr>\n",
       "      <th>Random Forest</th>\n",
       "      <td>NLTK+BERT</td>\n",
       "      <td>0.580645</td>\n",
       "      <td>0.578488</td>\n",
       "      <td>0.609023</td>\n",
       "    </tr>\n",
       "    <tr>\n",
       "      <th>K Nearest Neighbour</th>\n",
       "      <td>NLTK+BERT</td>\n",
       "      <td>0.733871</td>\n",
       "      <td>0.728162</td>\n",
       "      <td>0.769231</td>\n",
       "    </tr>\n",
       "    <tr>\n",
       "      <th>Decision Tree</th>\n",
       "      <td>NLTK+BERT</td>\n",
       "      <td>0.875000</td>\n",
       "      <td>0.869817</td>\n",
       "      <td>0.891228</td>\n",
       "    </tr>\n",
       "    <tr>\n",
       "      <th>Light Gradient Boosting</th>\n",
       "      <td>NLTK+BERT</td>\n",
       "      <td>0.899194</td>\n",
       "      <td>0.895241</td>\n",
       "      <td>0.910394</td>\n",
       "    </tr>\n",
       "    <tr>\n",
       "      <th>SVM</th>\n",
       "      <td>NLTK+BERT</td>\n",
       "      <td>0.528226</td>\n",
       "      <td>0.524576</td>\n",
       "      <td>0.571429</td>\n",
       "    </tr>\n",
       "    <tr>\n",
       "      <th>Random Forest</th>\n",
       "      <td>FinBERT</td>\n",
       "      <td>0.596774</td>\n",
       "      <td>0.599739</td>\n",
       "      <td>0.583333</td>\n",
       "    </tr>\n",
       "    <tr>\n",
       "      <th>K Nearest Neighbour</th>\n",
       "      <td>FinBERT</td>\n",
       "      <td>0.741935</td>\n",
       "      <td>0.733898</td>\n",
       "      <td>0.785235</td>\n",
       "    </tr>\n",
       "    <tr>\n",
       "      <th>Decision Tree</th>\n",
       "      <td>FinBERT</td>\n",
       "      <td>0.866935</td>\n",
       "      <td>0.860952</td>\n",
       "      <td>0.885813</td>\n",
       "    </tr>\n",
       "    <tr>\n",
       "      <th>Light Gradient Boosting</th>\n",
       "      <td>FinBERT</td>\n",
       "      <td>0.846774</td>\n",
       "      <td>0.843286</td>\n",
       "      <td>0.862319</td>\n",
       "    </tr>\n",
       "    <tr>\n",
       "      <th>SVM</th>\n",
       "      <td>FinBERT</td>\n",
       "      <td>0.540323</td>\n",
       "      <td>0.546675</td>\n",
       "      <td>0.486486</td>\n",
       "    </tr>\n",
       "    <tr>\n",
       "      <th>Random Forest</th>\n",
       "      <td>NLTK+BERT+FinBERT</td>\n",
       "      <td>0.576613</td>\n",
       "      <td>0.574250</td>\n",
       "      <td>0.606742</td>\n",
       "    </tr>\n",
       "    <tr>\n",
       "      <th>K Nearest Neighbour</th>\n",
       "      <td>NLTK+BERT+FinBERT</td>\n",
       "      <td>0.713710</td>\n",
       "      <td>0.707366</td>\n",
       "      <td>0.754325</td>\n",
       "    </tr>\n",
       "    <tr>\n",
       "      <th>Decision Tree</th>\n",
       "      <td>NLTK+BERT+FinBERT</td>\n",
       "      <td>0.778226</td>\n",
       "      <td>0.774381</td>\n",
       "      <td>0.801444</td>\n",
       "    </tr>\n",
       "    <tr>\n",
       "      <th>Light Gradient Boosting</th>\n",
       "      <td>NLTK+BERT+FinBERT</td>\n",
       "      <td>0.879032</td>\n",
       "      <td>0.879531</td>\n",
       "      <td>0.882812</td>\n",
       "    </tr>\n",
       "    <tr>\n",
       "      <th>SVM</th>\n",
       "      <td>NLTK+BERT+FinBERT</td>\n",
       "      <td>0.616935</td>\n",
       "      <td>0.615450</td>\n",
       "      <td>0.638783</td>\n",
       "    </tr>\n",
       "  </tbody>\n",
       "</table>\n",
       "</div>"
      ],
      "text/plain": [
       "                        Sentiment Analyzer  Accuracy    ROC_UC  F1 Score\n",
       "Classification Approach                                                 \n",
       "Random Forest                         NLTK  0.548387  0.546936  0.572519\n",
       "K Nearest Neighbour                   NLTK  0.705645  0.699283  0.747405\n",
       "Decision Tree                         NLTK  0.862903  0.857497  0.881119\n",
       "Light Gradient Boosting               NLTK  0.838710  0.833638  0.859155\n",
       "SVM                                   NLTK  0.552419  0.551956  0.568093\n",
       "Random Forest                         BERT  0.548387  0.544980  0.588235\n",
       "K Nearest Neighbour                   BERT  0.729839  0.721969  0.774411\n",
       "Decision Tree                         BERT  0.846774  0.842112  0.865248\n",
       "Light Gradient Boosting               BERT  0.814516  0.810952  0.833333\n",
       "SVM                                   BERT  0.552419  0.550391  0.581132\n",
       "Random Forest                    NLTK+BERT  0.580645  0.578488  0.609023\n",
       "K Nearest Neighbour              NLTK+BERT  0.733871  0.728162  0.769231\n",
       "Decision Tree                    NLTK+BERT  0.875000  0.869817  0.891228\n",
       "Light Gradient Boosting          NLTK+BERT  0.899194  0.895241  0.910394\n",
       "SVM                              NLTK+BERT  0.528226  0.524576  0.571429\n",
       "Random Forest                      FinBERT  0.596774  0.599739  0.583333\n",
       "K Nearest Neighbour                FinBERT  0.741935  0.733898  0.785235\n",
       "Decision Tree                      FinBERT  0.866935  0.860952  0.885813\n",
       "Light Gradient Boosting            FinBERT  0.846774  0.843286  0.862319\n",
       "SVM                                FinBERT  0.540323  0.546675  0.486486\n",
       "Random Forest            NLTK+BERT+FinBERT  0.576613  0.574250  0.606742\n",
       "K Nearest Neighbour      NLTK+BERT+FinBERT  0.713710  0.707366  0.754325\n",
       "Decision Tree            NLTK+BERT+FinBERT  0.778226  0.774381  0.801444\n",
       "Light Gradient Boosting  NLTK+BERT+FinBERT  0.879032  0.879531  0.882812\n",
       "SVM                      NLTK+BERT+FinBERT  0.616935  0.615450  0.638783"
      ]
     },
     "execution_count": 70,
     "metadata": {},
     "output_type": "execute_result"
    }
   ],
   "source": [
    "Result_DataFrame = pd.concat([NLTK_Results, BERT_Results, NLTK_BERT_Results, Fin_BERT_Results, NLTK_BERT_FinBERT_Results])\n",
    "Result_DataFrame.index.names = ['Classification Approach']\n",
    "Result_DataFrame"
   ]
  },
  {
   "cell_type": "code",
   "execution_count": 71,
   "id": "46e295d9",
   "metadata": {},
   "outputs": [],
   "source": [
    "Result_DataFrame.to_csv('Result_Data.csv')"
   ]
  },
  {
   "cell_type": "code",
   "execution_count": null,
   "id": "b2769f25",
   "metadata": {},
   "outputs": [],
   "source": []
  },
  {
   "cell_type": "code",
   "execution_count": 72,
   "id": "fbf4d963",
   "metadata": {
    "scrolled": true
   },
   "outputs": [
    {
     "data": {
      "text/html": [
       "<div>\n",
       "<style scoped>\n",
       "    .dataframe tbody tr th:only-of-type {\n",
       "        vertical-align: middle;\n",
       "    }\n",
       "\n",
       "    .dataframe tbody tr th {\n",
       "        vertical-align: top;\n",
       "    }\n",
       "\n",
       "    .dataframe thead th {\n",
       "        text-align: right;\n",
       "    }\n",
       "</style>\n",
       "<table border=\"1\" class=\"dataframe\">\n",
       "  <thead>\n",
       "    <tr style=\"text-align: right;\">\n",
       "      <th></th>\n",
       "      <th>Classification Approach</th>\n",
       "      <th>Sentiment Analyzer</th>\n",
       "      <th>Approach</th>\n",
       "      <th>Accuracy</th>\n",
       "      <th>ROC_UC</th>\n",
       "      <th>F1 Score</th>\n",
       "    </tr>\n",
       "  </thead>\n",
       "  <tbody>\n",
       "    <tr>\n",
       "      <th>0</th>\n",
       "      <td>Random Forest</td>\n",
       "      <td>NLTK</td>\n",
       "      <td>Random ForestNLTK</td>\n",
       "      <td>0.548387</td>\n",
       "      <td>0.546936</td>\n",
       "      <td>0.572519</td>\n",
       "    </tr>\n",
       "    <tr>\n",
       "      <th>1</th>\n",
       "      <td>K Nearest Neighbour</td>\n",
       "      <td>NLTK</td>\n",
       "      <td>K Nearest NeighbourNLTK</td>\n",
       "      <td>0.705645</td>\n",
       "      <td>0.699283</td>\n",
       "      <td>0.747405</td>\n",
       "    </tr>\n",
       "    <tr>\n",
       "      <th>2</th>\n",
       "      <td>Decision Tree</td>\n",
       "      <td>NLTK</td>\n",
       "      <td>Decision TreeNLTK</td>\n",
       "      <td>0.862903</td>\n",
       "      <td>0.857497</td>\n",
       "      <td>0.881119</td>\n",
       "    </tr>\n",
       "    <tr>\n",
       "      <th>3</th>\n",
       "      <td>Light Gradient Boosting</td>\n",
       "      <td>NLTK</td>\n",
       "      <td>Light Gradient BoostingNLTK</td>\n",
       "      <td>0.838710</td>\n",
       "      <td>0.833638</td>\n",
       "      <td>0.859155</td>\n",
       "    </tr>\n",
       "    <tr>\n",
       "      <th>4</th>\n",
       "      <td>SVM</td>\n",
       "      <td>NLTK</td>\n",
       "      <td>SVMNLTK</td>\n",
       "      <td>0.552419</td>\n",
       "      <td>0.551956</td>\n",
       "      <td>0.568093</td>\n",
       "    </tr>\n",
       "    <tr>\n",
       "      <th>5</th>\n",
       "      <td>Random Forest</td>\n",
       "      <td>BERT</td>\n",
       "      <td>Random ForestBERT</td>\n",
       "      <td>0.548387</td>\n",
       "      <td>0.544980</td>\n",
       "      <td>0.588235</td>\n",
       "    </tr>\n",
       "    <tr>\n",
       "      <th>6</th>\n",
       "      <td>K Nearest Neighbour</td>\n",
       "      <td>BERT</td>\n",
       "      <td>K Nearest NeighbourBERT</td>\n",
       "      <td>0.729839</td>\n",
       "      <td>0.721969</td>\n",
       "      <td>0.774411</td>\n",
       "    </tr>\n",
       "    <tr>\n",
       "      <th>7</th>\n",
       "      <td>Decision Tree</td>\n",
       "      <td>BERT</td>\n",
       "      <td>Decision TreeBERT</td>\n",
       "      <td>0.846774</td>\n",
       "      <td>0.842112</td>\n",
       "      <td>0.865248</td>\n",
       "    </tr>\n",
       "    <tr>\n",
       "      <th>8</th>\n",
       "      <td>Light Gradient Boosting</td>\n",
       "      <td>BERT</td>\n",
       "      <td>Light Gradient BoostingBERT</td>\n",
       "      <td>0.814516</td>\n",
       "      <td>0.810952</td>\n",
       "      <td>0.833333</td>\n",
       "    </tr>\n",
       "    <tr>\n",
       "      <th>9</th>\n",
       "      <td>SVM</td>\n",
       "      <td>BERT</td>\n",
       "      <td>SVMBERT</td>\n",
       "      <td>0.552419</td>\n",
       "      <td>0.550391</td>\n",
       "      <td>0.581132</td>\n",
       "    </tr>\n",
       "    <tr>\n",
       "      <th>10</th>\n",
       "      <td>Random Forest</td>\n",
       "      <td>NLTK+BERT</td>\n",
       "      <td>Random ForestNLTK+BERT</td>\n",
       "      <td>0.580645</td>\n",
       "      <td>0.578488</td>\n",
       "      <td>0.609023</td>\n",
       "    </tr>\n",
       "    <tr>\n",
       "      <th>11</th>\n",
       "      <td>K Nearest Neighbour</td>\n",
       "      <td>NLTK+BERT</td>\n",
       "      <td>K Nearest NeighbourNLTK+BERT</td>\n",
       "      <td>0.733871</td>\n",
       "      <td>0.728162</td>\n",
       "      <td>0.769231</td>\n",
       "    </tr>\n",
       "    <tr>\n",
       "      <th>12</th>\n",
       "      <td>Decision Tree</td>\n",
       "      <td>NLTK+BERT</td>\n",
       "      <td>Decision TreeNLTK+BERT</td>\n",
       "      <td>0.875000</td>\n",
       "      <td>0.869817</td>\n",
       "      <td>0.891228</td>\n",
       "    </tr>\n",
       "    <tr>\n",
       "      <th>13</th>\n",
       "      <td>Light Gradient Boosting</td>\n",
       "      <td>NLTK+BERT</td>\n",
       "      <td>Light Gradient BoostingNLTK+BERT</td>\n",
       "      <td>0.899194</td>\n",
       "      <td>0.895241</td>\n",
       "      <td>0.910394</td>\n",
       "    </tr>\n",
       "    <tr>\n",
       "      <th>14</th>\n",
       "      <td>SVM</td>\n",
       "      <td>NLTK+BERT</td>\n",
       "      <td>SVMNLTK+BERT</td>\n",
       "      <td>0.528226</td>\n",
       "      <td>0.524576</td>\n",
       "      <td>0.571429</td>\n",
       "    </tr>\n",
       "    <tr>\n",
       "      <th>15</th>\n",
       "      <td>Random Forest</td>\n",
       "      <td>FinBERT</td>\n",
       "      <td>Random ForestFinBERT</td>\n",
       "      <td>0.596774</td>\n",
       "      <td>0.599739</td>\n",
       "      <td>0.583333</td>\n",
       "    </tr>\n",
       "    <tr>\n",
       "      <th>16</th>\n",
       "      <td>K Nearest Neighbour</td>\n",
       "      <td>FinBERT</td>\n",
       "      <td>K Nearest NeighbourFinBERT</td>\n",
       "      <td>0.741935</td>\n",
       "      <td>0.733898</td>\n",
       "      <td>0.785235</td>\n",
       "    </tr>\n",
       "    <tr>\n",
       "      <th>17</th>\n",
       "      <td>Decision Tree</td>\n",
       "      <td>FinBERT</td>\n",
       "      <td>Decision TreeFinBERT</td>\n",
       "      <td>0.866935</td>\n",
       "      <td>0.860952</td>\n",
       "      <td>0.885813</td>\n",
       "    </tr>\n",
       "    <tr>\n",
       "      <th>18</th>\n",
       "      <td>Light Gradient Boosting</td>\n",
       "      <td>FinBERT</td>\n",
       "      <td>Light Gradient BoostingFinBERT</td>\n",
       "      <td>0.846774</td>\n",
       "      <td>0.843286</td>\n",
       "      <td>0.862319</td>\n",
       "    </tr>\n",
       "    <tr>\n",
       "      <th>19</th>\n",
       "      <td>SVM</td>\n",
       "      <td>FinBERT</td>\n",
       "      <td>SVMFinBERT</td>\n",
       "      <td>0.540323</td>\n",
       "      <td>0.546675</td>\n",
       "      <td>0.486486</td>\n",
       "    </tr>\n",
       "    <tr>\n",
       "      <th>20</th>\n",
       "      <td>Random Forest</td>\n",
       "      <td>NLTK+BERT+FinBERT</td>\n",
       "      <td>Random ForestNLTK+BERT+FinBERT</td>\n",
       "      <td>0.576613</td>\n",
       "      <td>0.574250</td>\n",
       "      <td>0.606742</td>\n",
       "    </tr>\n",
       "    <tr>\n",
       "      <th>21</th>\n",
       "      <td>K Nearest Neighbour</td>\n",
       "      <td>NLTK+BERT+FinBERT</td>\n",
       "      <td>K Nearest NeighbourNLTK+BERT+FinBERT</td>\n",
       "      <td>0.713710</td>\n",
       "      <td>0.707366</td>\n",
       "      <td>0.754325</td>\n",
       "    </tr>\n",
       "    <tr>\n",
       "      <th>22</th>\n",
       "      <td>Decision Tree</td>\n",
       "      <td>NLTK+BERT+FinBERT</td>\n",
       "      <td>Decision TreeNLTK+BERT+FinBERT</td>\n",
       "      <td>0.778226</td>\n",
       "      <td>0.774381</td>\n",
       "      <td>0.801444</td>\n",
       "    </tr>\n",
       "    <tr>\n",
       "      <th>23</th>\n",
       "      <td>Light Gradient Boosting</td>\n",
       "      <td>NLTK+BERT+FinBERT</td>\n",
       "      <td>Light Gradient BoostingNLTK+BERT+FinBERT</td>\n",
       "      <td>0.879032</td>\n",
       "      <td>0.879531</td>\n",
       "      <td>0.882812</td>\n",
       "    </tr>\n",
       "    <tr>\n",
       "      <th>24</th>\n",
       "      <td>SVM</td>\n",
       "      <td>NLTK+BERT+FinBERT</td>\n",
       "      <td>SVMNLTK+BERT+FinBERT</td>\n",
       "      <td>0.616935</td>\n",
       "      <td>0.615450</td>\n",
       "      <td>0.638783</td>\n",
       "    </tr>\n",
       "  </tbody>\n",
       "</table>\n",
       "</div>"
      ],
      "text/plain": [
       "    Classification Approach Sentiment Analyzer  \\\n",
       "0             Random Forest               NLTK   \n",
       "1       K Nearest Neighbour               NLTK   \n",
       "2             Decision Tree               NLTK   \n",
       "3   Light Gradient Boosting               NLTK   \n",
       "4                       SVM               NLTK   \n",
       "5             Random Forest               BERT   \n",
       "6       K Nearest Neighbour               BERT   \n",
       "7             Decision Tree               BERT   \n",
       "8   Light Gradient Boosting               BERT   \n",
       "9                       SVM               BERT   \n",
       "10            Random Forest          NLTK+BERT   \n",
       "11      K Nearest Neighbour          NLTK+BERT   \n",
       "12            Decision Tree          NLTK+BERT   \n",
       "13  Light Gradient Boosting          NLTK+BERT   \n",
       "14                      SVM          NLTK+BERT   \n",
       "15            Random Forest            FinBERT   \n",
       "16      K Nearest Neighbour            FinBERT   \n",
       "17            Decision Tree            FinBERT   \n",
       "18  Light Gradient Boosting            FinBERT   \n",
       "19                      SVM            FinBERT   \n",
       "20            Random Forest  NLTK+BERT+FinBERT   \n",
       "21      K Nearest Neighbour  NLTK+BERT+FinBERT   \n",
       "22            Decision Tree  NLTK+BERT+FinBERT   \n",
       "23  Light Gradient Boosting  NLTK+BERT+FinBERT   \n",
       "24                      SVM  NLTK+BERT+FinBERT   \n",
       "\n",
       "                                    Approach  Accuracy    ROC_UC  F1 Score  \n",
       "0                          Random ForestNLTK  0.548387  0.546936  0.572519  \n",
       "1                    K Nearest NeighbourNLTK  0.705645  0.699283  0.747405  \n",
       "2                          Decision TreeNLTK  0.862903  0.857497  0.881119  \n",
       "3                Light Gradient BoostingNLTK  0.838710  0.833638  0.859155  \n",
       "4                                    SVMNLTK  0.552419  0.551956  0.568093  \n",
       "5                          Random ForestBERT  0.548387  0.544980  0.588235  \n",
       "6                    K Nearest NeighbourBERT  0.729839  0.721969  0.774411  \n",
       "7                          Decision TreeBERT  0.846774  0.842112  0.865248  \n",
       "8                Light Gradient BoostingBERT  0.814516  0.810952  0.833333  \n",
       "9                                    SVMBERT  0.552419  0.550391  0.581132  \n",
       "10                    Random ForestNLTK+BERT  0.580645  0.578488  0.609023  \n",
       "11              K Nearest NeighbourNLTK+BERT  0.733871  0.728162  0.769231  \n",
       "12                    Decision TreeNLTK+BERT  0.875000  0.869817  0.891228  \n",
       "13          Light Gradient BoostingNLTK+BERT  0.899194  0.895241  0.910394  \n",
       "14                              SVMNLTK+BERT  0.528226  0.524576  0.571429  \n",
       "15                      Random ForestFinBERT  0.596774  0.599739  0.583333  \n",
       "16                K Nearest NeighbourFinBERT  0.741935  0.733898  0.785235  \n",
       "17                      Decision TreeFinBERT  0.866935  0.860952  0.885813  \n",
       "18            Light Gradient BoostingFinBERT  0.846774  0.843286  0.862319  \n",
       "19                                SVMFinBERT  0.540323  0.546675  0.486486  \n",
       "20            Random ForestNLTK+BERT+FinBERT  0.576613  0.574250  0.606742  \n",
       "21      K Nearest NeighbourNLTK+BERT+FinBERT  0.713710  0.707366  0.754325  \n",
       "22            Decision TreeNLTK+BERT+FinBERT  0.778226  0.774381  0.801444  \n",
       "23  Light Gradient BoostingNLTK+BERT+FinBERT  0.879032  0.879531  0.882812  \n",
       "24                      SVMNLTK+BERT+FinBERT  0.616935  0.615450  0.638783  "
      ]
     },
     "execution_count": 72,
     "metadata": {},
     "output_type": "execute_result"
    }
   ],
   "source": [
    "Result_DataFrame_1 = Result_DataFrame.reset_index()\n",
    "Result_DataFrame_1['Approach'] = Result_DataFrame_1['Classification Approach']+Result_DataFrame_1['Sentiment Analyzer']\n",
    "Result_DataFrame_1 = Result_DataFrame_1[['Classification Approach', 'Sentiment Analyzer', 'Approach', 'Accuracy', 'ROC_UC','F1 Score']]\n",
    "Result_DataFrame_1"
   ]
  },
  {
   "cell_type": "code",
   "execution_count": 73,
   "id": "0eedbbd4",
   "metadata": {},
   "outputs": [
    {
     "data": {
      "text/plain": [
       "Classification Approach        Decision Tree\n",
       "Sentiment Analyzer                      NLTK\n",
       "Approach                   Decision TreeNLTK\n",
       "Accuracy                            0.862903\n",
       "ROC_UC                              0.857497\n",
       "F1 Score                            0.881119\n",
       "Name: 2, dtype: object"
      ]
     },
     "execution_count": 73,
     "metadata": {},
     "output_type": "execute_result"
    }
   ],
   "source": [
    "B = Result_DataFrame_1.iloc[2,:]\n",
    "B"
   ]
  },
  {
   "cell_type": "code",
   "execution_count": 74,
   "id": "36db6865",
   "metadata": {
    "scrolled": true
   },
   "outputs": [
    {
     "data": {
      "text/html": [
       "<style type=\"text/css\">\n",
       "#T_55ef9_row0_col3, #T_55ef9_row5_col3 {\n",
       "  background-color: #dfeddf;\n",
       "  color: #000000;\n",
       "}\n",
       "#T_55ef9_row0_col4, #T_55ef9_row19_col4 {\n",
       "  background-color: #ddecdd;\n",
       "  color: #000000;\n",
       "}\n",
       "#T_55ef9_row0_col5, #T_55ef9_row14_col5, #T_55ef9_row15_col4 {\n",
       "  background-color: #bcdcbc;\n",
       "  color: #000000;\n",
       "}\n",
       "#T_55ef9_row1_col3 {\n",
       "  background-color: #7abc7a;\n",
       "  color: #000000;\n",
       "}\n",
       "#T_55ef9_row1_col4 {\n",
       "  background-color: #7cbd7c;\n",
       "  color: #000000;\n",
       "}\n",
       "#T_55ef9_row1_col5 {\n",
       "  background-color: #5aac5a;\n",
       "  color: #f1f1f1;\n",
       "}\n",
       "#T_55ef9_row2_col3 {\n",
       "  background-color: #178b17;\n",
       "  color: #f1f1f1;\n",
       "}\n",
       "#T_55ef9_row2_col4 {\n",
       "  background-color: #188c18;\n",
       "  color: #f1f1f1;\n",
       "}\n",
       "#T_55ef9_row2_col5, #T_55ef9_row12_col4 {\n",
       "  background-color: #108810;\n",
       "  color: #f1f1f1;\n",
       "}\n",
       "#T_55ef9_row3_col3 {\n",
       "  background-color: #269226;\n",
       "  color: #f1f1f1;\n",
       "}\n",
       "#T_55ef9_row3_col4 {\n",
       "  background-color: #279327;\n",
       "  color: #f1f1f1;\n",
       "}\n",
       "#T_55ef9_row3_col5 {\n",
       "  background-color: #1c8e1c;\n",
       "  color: #f1f1f1;\n",
       "}\n",
       "#T_55ef9_row4_col3, #T_55ef9_row9_col3 {\n",
       "  background-color: #dcecdc;\n",
       "  color: #000000;\n",
       "}\n",
       "#T_55ef9_row4_col4 {\n",
       "  background-color: #daebda;\n",
       "  color: #000000;\n",
       "}\n",
       "#T_55ef9_row4_col5 {\n",
       "  background-color: #bdddbd;\n",
       "  color: #000000;\n",
       "}\n",
       "#T_55ef9_row5_col4 {\n",
       "  background-color: #deedde;\n",
       "  color: #000000;\n",
       "}\n",
       "#T_55ef9_row5_col5, #T_55ef9_row24_col3 {\n",
       "  background-color: #b2d7b2;\n",
       "  color: #000000;\n",
       "}\n",
       "#T_55ef9_row6_col3 {\n",
       "  background-color: #6bb46b;\n",
       "  color: #f1f1f1;\n",
       "}\n",
       "#T_55ef9_row6_col4 {\n",
       "  background-color: #6db66d;\n",
       "  color: #f1f1f1;\n",
       "}\n",
       "#T_55ef9_row6_col5 {\n",
       "  background-color: #4ba54b;\n",
       "  color: #f1f1f1;\n",
       "}\n",
       "#T_55ef9_row7_col3, #T_55ef9_row7_col4, #T_55ef9_row18_col3 {\n",
       "  background-color: #219021;\n",
       "  color: #f1f1f1;\n",
       "}\n",
       "#T_55ef9_row7_col5 {\n",
       "  background-color: #198c19;\n",
       "  color: #f1f1f1;\n",
       "}\n",
       "#T_55ef9_row8_col3, #T_55ef9_row8_col4 {\n",
       "  background-color: #359a35;\n",
       "  color: #f1f1f1;\n",
       "}\n",
       "#T_55ef9_row8_col5 {\n",
       "  background-color: #2a952a;\n",
       "  color: #f1f1f1;\n",
       "}\n",
       "#T_55ef9_row9_col4 {\n",
       "  background-color: #dbebdb;\n",
       "  color: #000000;\n",
       "}\n",
       "#T_55ef9_row9_col5 {\n",
       "  background-color: #b6d9b6;\n",
       "  color: #000000;\n",
       "}\n",
       "#T_55ef9_row10_col3 {\n",
       "  background-color: #c9e3c9;\n",
       "  color: #000000;\n",
       "}\n",
       "#T_55ef9_row10_col4 {\n",
       "  background-color: #c9e2c8;\n",
       "  color: #000000;\n",
       "}\n",
       "#T_55ef9_row10_col5 {\n",
       "  background-color: #a6d2a6;\n",
       "  color: #000000;\n",
       "}\n",
       "#T_55ef9_row11_col3 {\n",
       "  background-color: #69b369;\n",
       "  color: #f1f1f1;\n",
       "}\n",
       "#T_55ef9_row11_col4 {\n",
       "  background-color: #6ab46a;\n",
       "  color: #f1f1f1;\n",
       "}\n",
       "#T_55ef9_row11_col5 {\n",
       "  background-color: #4ea64e;\n",
       "  color: #f1f1f1;\n",
       "}\n",
       "#T_55ef9_row12_col3, #T_55ef9_row23_col5 {\n",
       "  background-color: #0f870f;\n",
       "  color: #f1f1f1;\n",
       "}\n",
       "#T_55ef9_row12_col5 {\n",
       "  background-color: #0a850a;\n",
       "  color: #f1f1f1;\n",
       "}\n",
       "#T_55ef9_row13_col3, #T_55ef9_row13_col4, #T_55ef9_row13_col5 {\n",
       "  background-color: #008000;\n",
       "  color: #f1f1f1;\n",
       "}\n",
       "#T_55ef9_row14_col3, #T_55ef9_row14_col4, #T_55ef9_row19_col5 {\n",
       "  background-color: #ebf3eb;\n",
       "  color: #000000;\n",
       "}\n",
       "#T_55ef9_row15_col3 {\n",
       "  background-color: #bfdebf;\n",
       "  color: #000000;\n",
       "}\n",
       "#T_55ef9_row15_col5 {\n",
       "  background-color: #b5d9b5;\n",
       "  color: #000000;\n",
       "}\n",
       "#T_55ef9_row16_col3 {\n",
       "  background-color: #63b163;\n",
       "  color: #f1f1f1;\n",
       "}\n",
       "#T_55ef9_row16_col4 {\n",
       "  background-color: #66b266;\n",
       "  color: #f1f1f1;\n",
       "}\n",
       "#T_55ef9_row16_col5 {\n",
       "  background-color: #45a245;\n",
       "  color: #f1f1f1;\n",
       "}\n",
       "#T_55ef9_row17_col3 {\n",
       "  background-color: #148a14;\n",
       "  color: #f1f1f1;\n",
       "}\n",
       "#T_55ef9_row17_col4 {\n",
       "  background-color: #158a15;\n",
       "  color: #f1f1f1;\n",
       "}\n",
       "#T_55ef9_row17_col5 {\n",
       "  background-color: #0d860d;\n",
       "  color: #f1f1f1;\n",
       "}\n",
       "#T_55ef9_row18_col4 {\n",
       "  background-color: #209020;\n",
       "  color: #f1f1f1;\n",
       "}\n",
       "#T_55ef9_row18_col5 {\n",
       "  background-color: #1b8d1b;\n",
       "  color: #f1f1f1;\n",
       "}\n",
       "#T_55ef9_row19_col3 {\n",
       "  background-color: #e3efe3;\n",
       "  color: #000000;\n",
       "}\n",
       "#T_55ef9_row20_col3 {\n",
       "  background-color: #cce4cc;\n",
       "  color: #000000;\n",
       "}\n",
       "#T_55ef9_row20_col4 {\n",
       "  background-color: #cbe4cb;\n",
       "  color: #000000;\n",
       "}\n",
       "#T_55ef9_row20_col5 {\n",
       "  background-color: #a8d2a8;\n",
       "  color: #000000;\n",
       "}\n",
       "#T_55ef9_row21_col3 {\n",
       "  background-color: #75b975;\n",
       "  color: #f1f1f1;\n",
       "}\n",
       "#T_55ef9_row21_col4 {\n",
       "  background-color: #77ba77;\n",
       "  color: #f1f1f1;\n",
       "}\n",
       "#T_55ef9_row21_col5 {\n",
       "  background-color: #56aa56;\n",
       "  color: #f1f1f1;\n",
       "}\n",
       "#T_55ef9_row22_col3, #T_55ef9_row22_col4 {\n",
       "  background-color: #4ca54c;\n",
       "  color: #f1f1f1;\n",
       "}\n",
       "#T_55ef9_row22_col5 {\n",
       "  background-color: #3c9d3c;\n",
       "  color: #f1f1f1;\n",
       "}\n",
       "#T_55ef9_row23_col3 {\n",
       "  background-color: #0c860c;\n",
       "  color: #f1f1f1;\n",
       "}\n",
       "#T_55ef9_row23_col4 {\n",
       "  background-color: #098509;\n",
       "  color: #f1f1f1;\n",
       "}\n",
       "#T_55ef9_row24_col4 {\n",
       "  background-color: #b2d7b1;\n",
       "  color: #000000;\n",
       "}\n",
       "#T_55ef9_row24_col5 {\n",
       "  background-color: #97ca97;\n",
       "  color: #000000;\n",
       "}\n",
       "</style>\n",
       "<table id=\"T_55ef9\">\n",
       "  <thead>\n",
       "    <tr>\n",
       "      <th class=\"blank level0\" >&nbsp;</th>\n",
       "      <th id=\"T_55ef9_level0_col0\" class=\"col_heading level0 col0\" >Classification Approach</th>\n",
       "      <th id=\"T_55ef9_level0_col1\" class=\"col_heading level0 col1\" >Sentiment Analyzer</th>\n",
       "      <th id=\"T_55ef9_level0_col2\" class=\"col_heading level0 col2\" >Approach</th>\n",
       "      <th id=\"T_55ef9_level0_col3\" class=\"col_heading level0 col3\" >Accuracy</th>\n",
       "      <th id=\"T_55ef9_level0_col4\" class=\"col_heading level0 col4\" >ROC_UC</th>\n",
       "      <th id=\"T_55ef9_level0_col5\" class=\"col_heading level0 col5\" >F1 Score</th>\n",
       "    </tr>\n",
       "  </thead>\n",
       "  <tbody>\n",
       "    <tr>\n",
       "      <th id=\"T_55ef9_level0_row0\" class=\"row_heading level0 row0\" >0</th>\n",
       "      <td id=\"T_55ef9_row0_col0\" class=\"data row0 col0\" >Random Forest</td>\n",
       "      <td id=\"T_55ef9_row0_col1\" class=\"data row0 col1\" >NLTK</td>\n",
       "      <td id=\"T_55ef9_row0_col2\" class=\"data row0 col2\" >Random ForestNLTK</td>\n",
       "      <td id=\"T_55ef9_row0_col3\" class=\"data row0 col3\" >0.548387</td>\n",
       "      <td id=\"T_55ef9_row0_col4\" class=\"data row0 col4\" >0.546936</td>\n",
       "      <td id=\"T_55ef9_row0_col5\" class=\"data row0 col5\" >0.572519</td>\n",
       "    </tr>\n",
       "    <tr>\n",
       "      <th id=\"T_55ef9_level0_row1\" class=\"row_heading level0 row1\" >1</th>\n",
       "      <td id=\"T_55ef9_row1_col0\" class=\"data row1 col0\" >K Nearest Neighbour</td>\n",
       "      <td id=\"T_55ef9_row1_col1\" class=\"data row1 col1\" >NLTK</td>\n",
       "      <td id=\"T_55ef9_row1_col2\" class=\"data row1 col2\" >K Nearest NeighbourNLTK</td>\n",
       "      <td id=\"T_55ef9_row1_col3\" class=\"data row1 col3\" >0.705645</td>\n",
       "      <td id=\"T_55ef9_row1_col4\" class=\"data row1 col4\" >0.699283</td>\n",
       "      <td id=\"T_55ef9_row1_col5\" class=\"data row1 col5\" >0.747405</td>\n",
       "    </tr>\n",
       "    <tr>\n",
       "      <th id=\"T_55ef9_level0_row2\" class=\"row_heading level0 row2\" >2</th>\n",
       "      <td id=\"T_55ef9_row2_col0\" class=\"data row2 col0\" >Decision Tree</td>\n",
       "      <td id=\"T_55ef9_row2_col1\" class=\"data row2 col1\" >NLTK</td>\n",
       "      <td id=\"T_55ef9_row2_col2\" class=\"data row2 col2\" >Decision TreeNLTK</td>\n",
       "      <td id=\"T_55ef9_row2_col3\" class=\"data row2 col3\" >0.862903</td>\n",
       "      <td id=\"T_55ef9_row2_col4\" class=\"data row2 col4\" >0.857497</td>\n",
       "      <td id=\"T_55ef9_row2_col5\" class=\"data row2 col5\" >0.881119</td>\n",
       "    </tr>\n",
       "    <tr>\n",
       "      <th id=\"T_55ef9_level0_row3\" class=\"row_heading level0 row3\" >3</th>\n",
       "      <td id=\"T_55ef9_row3_col0\" class=\"data row3 col0\" >Light Gradient Boosting</td>\n",
       "      <td id=\"T_55ef9_row3_col1\" class=\"data row3 col1\" >NLTK</td>\n",
       "      <td id=\"T_55ef9_row3_col2\" class=\"data row3 col2\" >Light Gradient BoostingNLTK</td>\n",
       "      <td id=\"T_55ef9_row3_col3\" class=\"data row3 col3\" >0.838710</td>\n",
       "      <td id=\"T_55ef9_row3_col4\" class=\"data row3 col4\" >0.833638</td>\n",
       "      <td id=\"T_55ef9_row3_col5\" class=\"data row3 col5\" >0.859155</td>\n",
       "    </tr>\n",
       "    <tr>\n",
       "      <th id=\"T_55ef9_level0_row4\" class=\"row_heading level0 row4\" >4</th>\n",
       "      <td id=\"T_55ef9_row4_col0\" class=\"data row4 col0\" >SVM</td>\n",
       "      <td id=\"T_55ef9_row4_col1\" class=\"data row4 col1\" >NLTK</td>\n",
       "      <td id=\"T_55ef9_row4_col2\" class=\"data row4 col2\" >SVMNLTK</td>\n",
       "      <td id=\"T_55ef9_row4_col3\" class=\"data row4 col3\" >0.552419</td>\n",
       "      <td id=\"T_55ef9_row4_col4\" class=\"data row4 col4\" >0.551956</td>\n",
       "      <td id=\"T_55ef9_row4_col5\" class=\"data row4 col5\" >0.568093</td>\n",
       "    </tr>\n",
       "    <tr>\n",
       "      <th id=\"T_55ef9_level0_row5\" class=\"row_heading level0 row5\" >5</th>\n",
       "      <td id=\"T_55ef9_row5_col0\" class=\"data row5 col0\" >Random Forest</td>\n",
       "      <td id=\"T_55ef9_row5_col1\" class=\"data row5 col1\" >BERT</td>\n",
       "      <td id=\"T_55ef9_row5_col2\" class=\"data row5 col2\" >Random ForestBERT</td>\n",
       "      <td id=\"T_55ef9_row5_col3\" class=\"data row5 col3\" >0.548387</td>\n",
       "      <td id=\"T_55ef9_row5_col4\" class=\"data row5 col4\" >0.544980</td>\n",
       "      <td id=\"T_55ef9_row5_col5\" class=\"data row5 col5\" >0.588235</td>\n",
       "    </tr>\n",
       "    <tr>\n",
       "      <th id=\"T_55ef9_level0_row6\" class=\"row_heading level0 row6\" >6</th>\n",
       "      <td id=\"T_55ef9_row6_col0\" class=\"data row6 col0\" >K Nearest Neighbour</td>\n",
       "      <td id=\"T_55ef9_row6_col1\" class=\"data row6 col1\" >BERT</td>\n",
       "      <td id=\"T_55ef9_row6_col2\" class=\"data row6 col2\" >K Nearest NeighbourBERT</td>\n",
       "      <td id=\"T_55ef9_row6_col3\" class=\"data row6 col3\" >0.729839</td>\n",
       "      <td id=\"T_55ef9_row6_col4\" class=\"data row6 col4\" >0.721969</td>\n",
       "      <td id=\"T_55ef9_row6_col5\" class=\"data row6 col5\" >0.774411</td>\n",
       "    </tr>\n",
       "    <tr>\n",
       "      <th id=\"T_55ef9_level0_row7\" class=\"row_heading level0 row7\" >7</th>\n",
       "      <td id=\"T_55ef9_row7_col0\" class=\"data row7 col0\" >Decision Tree</td>\n",
       "      <td id=\"T_55ef9_row7_col1\" class=\"data row7 col1\" >BERT</td>\n",
       "      <td id=\"T_55ef9_row7_col2\" class=\"data row7 col2\" >Decision TreeBERT</td>\n",
       "      <td id=\"T_55ef9_row7_col3\" class=\"data row7 col3\" >0.846774</td>\n",
       "      <td id=\"T_55ef9_row7_col4\" class=\"data row7 col4\" >0.842112</td>\n",
       "      <td id=\"T_55ef9_row7_col5\" class=\"data row7 col5\" >0.865248</td>\n",
       "    </tr>\n",
       "    <tr>\n",
       "      <th id=\"T_55ef9_level0_row8\" class=\"row_heading level0 row8\" >8</th>\n",
       "      <td id=\"T_55ef9_row8_col0\" class=\"data row8 col0\" >Light Gradient Boosting</td>\n",
       "      <td id=\"T_55ef9_row8_col1\" class=\"data row8 col1\" >BERT</td>\n",
       "      <td id=\"T_55ef9_row8_col2\" class=\"data row8 col2\" >Light Gradient BoostingBERT</td>\n",
       "      <td id=\"T_55ef9_row8_col3\" class=\"data row8 col3\" >0.814516</td>\n",
       "      <td id=\"T_55ef9_row8_col4\" class=\"data row8 col4\" >0.810952</td>\n",
       "      <td id=\"T_55ef9_row8_col5\" class=\"data row8 col5\" >0.833333</td>\n",
       "    </tr>\n",
       "    <tr>\n",
       "      <th id=\"T_55ef9_level0_row9\" class=\"row_heading level0 row9\" >9</th>\n",
       "      <td id=\"T_55ef9_row9_col0\" class=\"data row9 col0\" >SVM</td>\n",
       "      <td id=\"T_55ef9_row9_col1\" class=\"data row9 col1\" >BERT</td>\n",
       "      <td id=\"T_55ef9_row9_col2\" class=\"data row9 col2\" >SVMBERT</td>\n",
       "      <td id=\"T_55ef9_row9_col3\" class=\"data row9 col3\" >0.552419</td>\n",
       "      <td id=\"T_55ef9_row9_col4\" class=\"data row9 col4\" >0.550391</td>\n",
       "      <td id=\"T_55ef9_row9_col5\" class=\"data row9 col5\" >0.581132</td>\n",
       "    </tr>\n",
       "    <tr>\n",
       "      <th id=\"T_55ef9_level0_row10\" class=\"row_heading level0 row10\" >10</th>\n",
       "      <td id=\"T_55ef9_row10_col0\" class=\"data row10 col0\" >Random Forest</td>\n",
       "      <td id=\"T_55ef9_row10_col1\" class=\"data row10 col1\" >NLTK+BERT</td>\n",
       "      <td id=\"T_55ef9_row10_col2\" class=\"data row10 col2\" >Random ForestNLTK+BERT</td>\n",
       "      <td id=\"T_55ef9_row10_col3\" class=\"data row10 col3\" >0.580645</td>\n",
       "      <td id=\"T_55ef9_row10_col4\" class=\"data row10 col4\" >0.578488</td>\n",
       "      <td id=\"T_55ef9_row10_col5\" class=\"data row10 col5\" >0.609023</td>\n",
       "    </tr>\n",
       "    <tr>\n",
       "      <th id=\"T_55ef9_level0_row11\" class=\"row_heading level0 row11\" >11</th>\n",
       "      <td id=\"T_55ef9_row11_col0\" class=\"data row11 col0\" >K Nearest Neighbour</td>\n",
       "      <td id=\"T_55ef9_row11_col1\" class=\"data row11 col1\" >NLTK+BERT</td>\n",
       "      <td id=\"T_55ef9_row11_col2\" class=\"data row11 col2\" >K Nearest NeighbourNLTK+BERT</td>\n",
       "      <td id=\"T_55ef9_row11_col3\" class=\"data row11 col3\" >0.733871</td>\n",
       "      <td id=\"T_55ef9_row11_col4\" class=\"data row11 col4\" >0.728162</td>\n",
       "      <td id=\"T_55ef9_row11_col5\" class=\"data row11 col5\" >0.769231</td>\n",
       "    </tr>\n",
       "    <tr>\n",
       "      <th id=\"T_55ef9_level0_row12\" class=\"row_heading level0 row12\" >12</th>\n",
       "      <td id=\"T_55ef9_row12_col0\" class=\"data row12 col0\" >Decision Tree</td>\n",
       "      <td id=\"T_55ef9_row12_col1\" class=\"data row12 col1\" >NLTK+BERT</td>\n",
       "      <td id=\"T_55ef9_row12_col2\" class=\"data row12 col2\" >Decision TreeNLTK+BERT</td>\n",
       "      <td id=\"T_55ef9_row12_col3\" class=\"data row12 col3\" >0.875000</td>\n",
       "      <td id=\"T_55ef9_row12_col4\" class=\"data row12 col4\" >0.869817</td>\n",
       "      <td id=\"T_55ef9_row12_col5\" class=\"data row12 col5\" >0.891228</td>\n",
       "    </tr>\n",
       "    <tr>\n",
       "      <th id=\"T_55ef9_level0_row13\" class=\"row_heading level0 row13\" >13</th>\n",
       "      <td id=\"T_55ef9_row13_col0\" class=\"data row13 col0\" >Light Gradient Boosting</td>\n",
       "      <td id=\"T_55ef9_row13_col1\" class=\"data row13 col1\" >NLTK+BERT</td>\n",
       "      <td id=\"T_55ef9_row13_col2\" class=\"data row13 col2\" >Light Gradient BoostingNLTK+BERT</td>\n",
       "      <td id=\"T_55ef9_row13_col3\" class=\"data row13 col3\" >0.899194</td>\n",
       "      <td id=\"T_55ef9_row13_col4\" class=\"data row13 col4\" >0.895241</td>\n",
       "      <td id=\"T_55ef9_row13_col5\" class=\"data row13 col5\" >0.910394</td>\n",
       "    </tr>\n",
       "    <tr>\n",
       "      <th id=\"T_55ef9_level0_row14\" class=\"row_heading level0 row14\" >14</th>\n",
       "      <td id=\"T_55ef9_row14_col0\" class=\"data row14 col0\" >SVM</td>\n",
       "      <td id=\"T_55ef9_row14_col1\" class=\"data row14 col1\" >NLTK+BERT</td>\n",
       "      <td id=\"T_55ef9_row14_col2\" class=\"data row14 col2\" >SVMNLTK+BERT</td>\n",
       "      <td id=\"T_55ef9_row14_col3\" class=\"data row14 col3\" >0.528226</td>\n",
       "      <td id=\"T_55ef9_row14_col4\" class=\"data row14 col4\" >0.524576</td>\n",
       "      <td id=\"T_55ef9_row14_col5\" class=\"data row14 col5\" >0.571429</td>\n",
       "    </tr>\n",
       "    <tr>\n",
       "      <th id=\"T_55ef9_level0_row15\" class=\"row_heading level0 row15\" >15</th>\n",
       "      <td id=\"T_55ef9_row15_col0\" class=\"data row15 col0\" >Random Forest</td>\n",
       "      <td id=\"T_55ef9_row15_col1\" class=\"data row15 col1\" >FinBERT</td>\n",
       "      <td id=\"T_55ef9_row15_col2\" class=\"data row15 col2\" >Random ForestFinBERT</td>\n",
       "      <td id=\"T_55ef9_row15_col3\" class=\"data row15 col3\" >0.596774</td>\n",
       "      <td id=\"T_55ef9_row15_col4\" class=\"data row15 col4\" >0.599739</td>\n",
       "      <td id=\"T_55ef9_row15_col5\" class=\"data row15 col5\" >0.583333</td>\n",
       "    </tr>\n",
       "    <tr>\n",
       "      <th id=\"T_55ef9_level0_row16\" class=\"row_heading level0 row16\" >16</th>\n",
       "      <td id=\"T_55ef9_row16_col0\" class=\"data row16 col0\" >K Nearest Neighbour</td>\n",
       "      <td id=\"T_55ef9_row16_col1\" class=\"data row16 col1\" >FinBERT</td>\n",
       "      <td id=\"T_55ef9_row16_col2\" class=\"data row16 col2\" >K Nearest NeighbourFinBERT</td>\n",
       "      <td id=\"T_55ef9_row16_col3\" class=\"data row16 col3\" >0.741935</td>\n",
       "      <td id=\"T_55ef9_row16_col4\" class=\"data row16 col4\" >0.733898</td>\n",
       "      <td id=\"T_55ef9_row16_col5\" class=\"data row16 col5\" >0.785235</td>\n",
       "    </tr>\n",
       "    <tr>\n",
       "      <th id=\"T_55ef9_level0_row17\" class=\"row_heading level0 row17\" >17</th>\n",
       "      <td id=\"T_55ef9_row17_col0\" class=\"data row17 col0\" >Decision Tree</td>\n",
       "      <td id=\"T_55ef9_row17_col1\" class=\"data row17 col1\" >FinBERT</td>\n",
       "      <td id=\"T_55ef9_row17_col2\" class=\"data row17 col2\" >Decision TreeFinBERT</td>\n",
       "      <td id=\"T_55ef9_row17_col3\" class=\"data row17 col3\" >0.866935</td>\n",
       "      <td id=\"T_55ef9_row17_col4\" class=\"data row17 col4\" >0.860952</td>\n",
       "      <td id=\"T_55ef9_row17_col5\" class=\"data row17 col5\" >0.885813</td>\n",
       "    </tr>\n",
       "    <tr>\n",
       "      <th id=\"T_55ef9_level0_row18\" class=\"row_heading level0 row18\" >18</th>\n",
       "      <td id=\"T_55ef9_row18_col0\" class=\"data row18 col0\" >Light Gradient Boosting</td>\n",
       "      <td id=\"T_55ef9_row18_col1\" class=\"data row18 col1\" >FinBERT</td>\n",
       "      <td id=\"T_55ef9_row18_col2\" class=\"data row18 col2\" >Light Gradient BoostingFinBERT</td>\n",
       "      <td id=\"T_55ef9_row18_col3\" class=\"data row18 col3\" >0.846774</td>\n",
       "      <td id=\"T_55ef9_row18_col4\" class=\"data row18 col4\" >0.843286</td>\n",
       "      <td id=\"T_55ef9_row18_col5\" class=\"data row18 col5\" >0.862319</td>\n",
       "    </tr>\n",
       "    <tr>\n",
       "      <th id=\"T_55ef9_level0_row19\" class=\"row_heading level0 row19\" >19</th>\n",
       "      <td id=\"T_55ef9_row19_col0\" class=\"data row19 col0\" >SVM</td>\n",
       "      <td id=\"T_55ef9_row19_col1\" class=\"data row19 col1\" >FinBERT</td>\n",
       "      <td id=\"T_55ef9_row19_col2\" class=\"data row19 col2\" >SVMFinBERT</td>\n",
       "      <td id=\"T_55ef9_row19_col3\" class=\"data row19 col3\" >0.540323</td>\n",
       "      <td id=\"T_55ef9_row19_col4\" class=\"data row19 col4\" >0.546675</td>\n",
       "      <td id=\"T_55ef9_row19_col5\" class=\"data row19 col5\" >0.486486</td>\n",
       "    </tr>\n",
       "    <tr>\n",
       "      <th id=\"T_55ef9_level0_row20\" class=\"row_heading level0 row20\" >20</th>\n",
       "      <td id=\"T_55ef9_row20_col0\" class=\"data row20 col0\" >Random Forest</td>\n",
       "      <td id=\"T_55ef9_row20_col1\" class=\"data row20 col1\" >NLTK+BERT+FinBERT</td>\n",
       "      <td id=\"T_55ef9_row20_col2\" class=\"data row20 col2\" >Random ForestNLTK+BERT+FinBERT</td>\n",
       "      <td id=\"T_55ef9_row20_col3\" class=\"data row20 col3\" >0.576613</td>\n",
       "      <td id=\"T_55ef9_row20_col4\" class=\"data row20 col4\" >0.574250</td>\n",
       "      <td id=\"T_55ef9_row20_col5\" class=\"data row20 col5\" >0.606742</td>\n",
       "    </tr>\n",
       "    <tr>\n",
       "      <th id=\"T_55ef9_level0_row21\" class=\"row_heading level0 row21\" >21</th>\n",
       "      <td id=\"T_55ef9_row21_col0\" class=\"data row21 col0\" >K Nearest Neighbour</td>\n",
       "      <td id=\"T_55ef9_row21_col1\" class=\"data row21 col1\" >NLTK+BERT+FinBERT</td>\n",
       "      <td id=\"T_55ef9_row21_col2\" class=\"data row21 col2\" >K Nearest NeighbourNLTK+BERT+FinBERT</td>\n",
       "      <td id=\"T_55ef9_row21_col3\" class=\"data row21 col3\" >0.713710</td>\n",
       "      <td id=\"T_55ef9_row21_col4\" class=\"data row21 col4\" >0.707366</td>\n",
       "      <td id=\"T_55ef9_row21_col5\" class=\"data row21 col5\" >0.754325</td>\n",
       "    </tr>\n",
       "    <tr>\n",
       "      <th id=\"T_55ef9_level0_row22\" class=\"row_heading level0 row22\" >22</th>\n",
       "      <td id=\"T_55ef9_row22_col0\" class=\"data row22 col0\" >Decision Tree</td>\n",
       "      <td id=\"T_55ef9_row22_col1\" class=\"data row22 col1\" >NLTK+BERT+FinBERT</td>\n",
       "      <td id=\"T_55ef9_row22_col2\" class=\"data row22 col2\" >Decision TreeNLTK+BERT+FinBERT</td>\n",
       "      <td id=\"T_55ef9_row22_col3\" class=\"data row22 col3\" >0.778226</td>\n",
       "      <td id=\"T_55ef9_row22_col4\" class=\"data row22 col4\" >0.774381</td>\n",
       "      <td id=\"T_55ef9_row22_col5\" class=\"data row22 col5\" >0.801444</td>\n",
       "    </tr>\n",
       "    <tr>\n",
       "      <th id=\"T_55ef9_level0_row23\" class=\"row_heading level0 row23\" >23</th>\n",
       "      <td id=\"T_55ef9_row23_col0\" class=\"data row23 col0\" >Light Gradient Boosting</td>\n",
       "      <td id=\"T_55ef9_row23_col1\" class=\"data row23 col1\" >NLTK+BERT+FinBERT</td>\n",
       "      <td id=\"T_55ef9_row23_col2\" class=\"data row23 col2\" >Light Gradient BoostingNLTK+BERT+FinBERT</td>\n",
       "      <td id=\"T_55ef9_row23_col3\" class=\"data row23 col3\" >0.879032</td>\n",
       "      <td id=\"T_55ef9_row23_col4\" class=\"data row23 col4\" >0.879531</td>\n",
       "      <td id=\"T_55ef9_row23_col5\" class=\"data row23 col5\" >0.882812</td>\n",
       "    </tr>\n",
       "    <tr>\n",
       "      <th id=\"T_55ef9_level0_row24\" class=\"row_heading level0 row24\" >24</th>\n",
       "      <td id=\"T_55ef9_row24_col0\" class=\"data row24 col0\" >SVM</td>\n",
       "      <td id=\"T_55ef9_row24_col1\" class=\"data row24 col1\" >NLTK+BERT+FinBERT</td>\n",
       "      <td id=\"T_55ef9_row24_col2\" class=\"data row24 col2\" >SVMNLTK+BERT+FinBERT</td>\n",
       "      <td id=\"T_55ef9_row24_col3\" class=\"data row24 col3\" >0.616935</td>\n",
       "      <td id=\"T_55ef9_row24_col4\" class=\"data row24 col4\" >0.615450</td>\n",
       "      <td id=\"T_55ef9_row24_col5\" class=\"data row24 col5\" >0.638783</td>\n",
       "    </tr>\n",
       "  </tbody>\n",
       "</table>\n"
      ],
      "text/plain": [
       "<pandas.io.formats.style.Styler at 0x1880038bee0>"
      ]
     },
     "execution_count": 74,
     "metadata": {},
     "output_type": "execute_result"
    }
   ],
   "source": [
    "cm = sns.light_palette(\"green\", as_cmap=True)\n",
    "s = Result_DataFrame_1.style.background_gradient(cmap=cm)\n",
    "s"
   ]
  },
  {
   "cell_type": "code",
   "execution_count": 75,
   "id": "1514dad0",
   "metadata": {
    "scrolled": true
   },
   "outputs": [
    {
     "data": {
      "text/plain": [
       "<matplotlib.lines.Line2D at 0x188001b5070>"
      ]
     },
     "execution_count": 75,
     "metadata": {},
     "output_type": "execute_result"
    },
    {
     "data": {
      "image/png": "[encoded data removed]",
      "text/plain": [
       "<Figure size 1440x720 with 1 Axes>"
      ]
     },
     "metadata": {},
     "output_type": "display_data"
    }
   ],
   "source": [
    "#I am plotting the relative performance accuracies of the classification algorithms. \n",
    "#I am setting a vertical line at 0.75, setting that as the cut off point for classification performances. \n",
    "\n",
    "A = Result_DataFrame.reset_index()\n",
    "sns.set(style = \"whitegrid\")\n",
    "sns.set(rc = {'figure.figsize':(20,10)})\n",
    "ax = sns.barplot(y = \"Sentiment Analyzer\", x = \"Accuracy\", hue = \"Classification Approach\", data = A)\n",
    "ax.axvline(0.75)"
   ]
  },
  {
   "cell_type": "markdown",
   "id": "b1dea794",
   "metadata": {},
   "source": [
    "The best results for all of the classification algorithms seems to be the Decision Tree and Light Gradient Boosting ALgorithm. The best performancce is being given by the Decision Tree and Light Gradient Boosting ALgorithm for the NLTK+BERT, FinBert and NLTK+BERT+FinBERT. I will be running a statistical test of each of them to understand if the differences are statistically significant or not. As the performances of the Random forest and KNN seem to be not as effcteive as the other two , I will not be including them in the test. \n",
    "\n",
    "I am isolating the best accuracy algorithms and approaches below. I will isolate the Decision Tree and Light Gradient Boosting Results below and conduct statistical tests on them. "
   ]
  }
 ],
 "metadata": {
  "kernelspec": {
   "display_name": "Python 3",
   "language": "python",
   "name": "python3"
  },
  "language_info": {
   "codemirror_mode": {
    "name": "ipython",
    "version": 3
   },
   "file_extension": ".py",
   "mimetype": "text/x-python",
   "name": "python",
   "nbconvert_exporter": "python",
   "pygments_lexer": "ipython3",
   "version": "3.8.8"
  }
 },
 "nbformat": 4,
 "nbformat_minor": 5
}
